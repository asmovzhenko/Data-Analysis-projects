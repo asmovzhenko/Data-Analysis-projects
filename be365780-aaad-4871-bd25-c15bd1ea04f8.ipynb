{
 "cells": [
  {
   "cell_type": "markdown",
   "metadata": {},
   "source": [
    "<div class=\"alert alert-block alert-info\"> REV4: Hello! Okay, I found the sources in the presentation but actually they must be placed at the end of the notebook. I will not return your work just by this reason, but keep it in mind next time. Also it's better to add the table of context in any your project to easy navigation through your notebook. Anyway, congratulations! You completed the final project and finished the course. Good luck with a new job searching! </div> "
   ]
  },
  {
   "cell_type": "markdown",
   "metadata": {},
   "source": [
    "<div class=\"alert alert-block alert-info\"> REV3: Hello, there! You almost completed the project:) The only two things are left. First thing: you ignored the task “Make a list of 5-10 sources (documentation, articles) that you used while working on the project. Provide brief explanations about the questions each source helped you answer.“ I explained the task at the beggining of the channel yandex100_finalproject_telecom-operators_02-3d. Second thing: I can't go though your link to see the presenstation. I don't have access to do it. It seems your link is a private one and not a public. Please, fix it. After these two fixes I will be able to accept your project:)\n",
    "</div> "
   ]
  },
  {
   "cell_type": "markdown",
   "metadata": {},
   "source": [
    "<div class=\"alert alert-block alert-info\"> REV2. Hello, again:) I left several red comments using REV2 keyword. The work is better now but you should make several more fixes. Also, I think, you can add the presentation with the next submit. And don't forget to add a link to dashboard (I checked it already but the link should be in your project) and don't forget to add the block with articles you used. </div> "
   ]
  },
  {
   "cell_type": "markdown",
   "metadata": {},
   "source": [
    "<div class=\"alert alert-block alert-info\"> REV: Hello! I checked your project and left several red comments. I think we need several iterations to fix all mistakes because I can find new mistakes after fixing these ones. But don't worry that the deadline is over. We can get necessary amount of iterations. </div> "
   ]
  },
  {
   "cell_type": "markdown",
   "metadata": {},
   "source": [
    "# **Identifying Ineffective Operators.** \n",
    "\n",
    "## Project description.\n",
    "\n",
    "In this project I will look at the data from the virtual telephony company and work on finding the least profitable operators with the help of that data. I will also try developping a new function that will give supervisors information on the least effective operators. According to the instructions from the company,  an operator is considered ineffective if the following is true.\n",
    "### First: many missed calls.\n",
    "If the operator has a large number of missed incoming calls (internal and external) it is considered a bad sign.\n",
    "\n",
    "### Second: long waiting time.\n",
    "If there is a long waiting time for incoming calls, it is also a problem.\n",
    "\n",
    "### Third: too few outgoing calls.\n",
    "It is concerning if an operator is supposed to make outgoing calls but there is a relatively small number of them recorded."
   ]
  },
  {
   "cell_type": "code",
   "execution_count": 1,
   "metadata": {},
   "outputs": [],
   "source": [
    "import pandas as pd\n",
    "import numpy as np\n",
    "import math as mth\n",
    "from functools import reduce\n",
    "from scipy import stats as st\n",
    "from numpy import random\n",
    "import matplotlib.pyplot as plt\n",
    "import seaborn as sns\n",
    "import plotly.express as px\n",
    "import plotly.graph_objects as go\n",
    "import datetime as dt\n",
    "from pandas.plotting import register_matplotlib_converters\n",
    "register_matplotlib_converters()\n",
    "from statsmodels.stats import weightstats as stests"
   ]
  },
  {
   "cell_type": "markdown",
   "metadata": {},
   "source": [
    "## Preprocessing.\n",
    "###   First look.\n",
    "I will open the data and looking at it (shape, describe, info, value_counts etc.)."
   ]
  },
  {
   "cell_type": "code",
   "execution_count": 2,
   "metadata": {},
   "outputs": [
    {
     "data": {
      "text/html": [
       "<div>\n",
       "<style scoped>\n",
       "    .dataframe tbody tr th:only-of-type {\n",
       "        vertical-align: middle;\n",
       "    }\n",
       "\n",
       "    .dataframe tbody tr th {\n",
       "        vertical-align: top;\n",
       "    }\n",
       "\n",
       "    .dataframe thead th {\n",
       "        text-align: right;\n",
       "    }\n",
       "</style>\n",
       "<table border=\"1\" class=\"dataframe\">\n",
       "  <thead>\n",
       "    <tr style=\"text-align: right;\">\n",
       "      <th></th>\n",
       "      <th>user_id</th>\n",
       "      <th>date</th>\n",
       "      <th>direction</th>\n",
       "      <th>internal</th>\n",
       "      <th>operator_id</th>\n",
       "      <th>is_missed_call</th>\n",
       "      <th>calls_count</th>\n",
       "      <th>call_duration</th>\n",
       "      <th>total_call_duration</th>\n",
       "    </tr>\n",
       "  </thead>\n",
       "  <tbody>\n",
       "    <tr>\n",
       "      <td>0</td>\n",
       "      <td>166377</td>\n",
       "      <td>2019-08-04 00:00:00+03:00</td>\n",
       "      <td>in</td>\n",
       "      <td>False</td>\n",
       "      <td>NaN</td>\n",
       "      <td>True</td>\n",
       "      <td>2</td>\n",
       "      <td>0</td>\n",
       "      <td>4</td>\n",
       "    </tr>\n",
       "    <tr>\n",
       "      <td>1</td>\n",
       "      <td>166377</td>\n",
       "      <td>2019-08-05 00:00:00+03:00</td>\n",
       "      <td>out</td>\n",
       "      <td>True</td>\n",
       "      <td>880022.0</td>\n",
       "      <td>True</td>\n",
       "      <td>3</td>\n",
       "      <td>0</td>\n",
       "      <td>5</td>\n",
       "    </tr>\n",
       "    <tr>\n",
       "      <td>2</td>\n",
       "      <td>166377</td>\n",
       "      <td>2019-08-05 00:00:00+03:00</td>\n",
       "      <td>out</td>\n",
       "      <td>True</td>\n",
       "      <td>880020.0</td>\n",
       "      <td>True</td>\n",
       "      <td>1</td>\n",
       "      <td>0</td>\n",
       "      <td>1</td>\n",
       "    </tr>\n",
       "    <tr>\n",
       "      <td>3</td>\n",
       "      <td>166377</td>\n",
       "      <td>2019-08-05 00:00:00+03:00</td>\n",
       "      <td>out</td>\n",
       "      <td>True</td>\n",
       "      <td>880020.0</td>\n",
       "      <td>False</td>\n",
       "      <td>1</td>\n",
       "      <td>10</td>\n",
       "      <td>18</td>\n",
       "    </tr>\n",
       "    <tr>\n",
       "      <td>4</td>\n",
       "      <td>166377</td>\n",
       "      <td>2019-08-05 00:00:00+03:00</td>\n",
       "      <td>out</td>\n",
       "      <td>False</td>\n",
       "      <td>880022.0</td>\n",
       "      <td>True</td>\n",
       "      <td>3</td>\n",
       "      <td>0</td>\n",
       "      <td>25</td>\n",
       "    </tr>\n",
       "  </tbody>\n",
       "</table>\n",
       "</div>"
      ],
      "text/plain": [
       "   user_id                       date direction internal  operator_id  \\\n",
       "0   166377  2019-08-04 00:00:00+03:00        in    False          NaN   \n",
       "1   166377  2019-08-05 00:00:00+03:00       out     True     880022.0   \n",
       "2   166377  2019-08-05 00:00:00+03:00       out     True     880020.0   \n",
       "3   166377  2019-08-05 00:00:00+03:00       out     True     880020.0   \n",
       "4   166377  2019-08-05 00:00:00+03:00       out    False     880022.0   \n",
       "\n",
       "   is_missed_call  calls_count  call_duration  total_call_duration  \n",
       "0            True            2              0                    4  \n",
       "1            True            3              0                    5  \n",
       "2            True            1              0                    1  \n",
       "3           False            1             10                   18  \n",
       "4            True            3              0                   25  "
      ]
     },
     "execution_count": 2,
     "metadata": {},
     "output_type": "execute_result"
    }
   ],
   "source": [
    "telecom_dataset = pd.read_csv('/datasets/telecom_dataset_us.csv')\n",
    "telecom_dataset.head(5)"
   ]
  },
  {
   "cell_type": "code",
   "execution_count": 99,
   "metadata": {},
   "outputs": [
    {
     "name": "stdout",
     "output_type": "stream",
     "text": [
      "<class 'pandas.core.frame.DataFrame'>\n",
      "Int64Index: 21945 entries, 5 to 53900\n",
      "Data columns (total 11 columns):\n",
      "user_id                21945 non-null int64\n",
      "date                   21945 non-null datetime64[ns, pytz.FixedOffset(180)]\n",
      "direction              21945 non-null object\n",
      "internal               21945 non-null object\n",
      "operator_id            21945 non-null float64\n",
      "is_missed_call         21945 non-null bool\n",
      "calls_count            21945 non-null int64\n",
      "call_duration          21945 non-null int64\n",
      "total_call_duration    21945 non-null int64\n",
      "waiting_time           21945 non-null int64\n",
      "month                  21945 non-null int64\n",
      "dtypes: bool(1), datetime64[ns, pytz.FixedOffset(180)](1), float64(1), int64(6), object(2)\n",
      "memory usage: 1.9+ MB\n"
     ]
    }
   ],
   "source": [
    "telecom_dataset.info()"
   ]
  },
  {
   "cell_type": "code",
   "execution_count": 100,
   "metadata": {},
   "outputs": [
    {
     "data": {
      "text/html": [
       "<div>\n",
       "<style scoped>\n",
       "    .dataframe tbody tr th:only-of-type {\n",
       "        vertical-align: middle;\n",
       "    }\n",
       "\n",
       "    .dataframe tbody tr th {\n",
       "        vertical-align: top;\n",
       "    }\n",
       "\n",
       "    .dataframe thead th {\n",
       "        text-align: right;\n",
       "    }\n",
       "</style>\n",
       "<table border=\"1\" class=\"dataframe\">\n",
       "  <thead>\n",
       "    <tr style=\"text-align: right;\">\n",
       "      <th></th>\n",
       "      <th>user_id</th>\n",
       "      <th>operator_id</th>\n",
       "      <th>is_missed_call</th>\n",
       "      <th>calls_count</th>\n",
       "      <th>call_duration</th>\n",
       "      <th>total_call_duration</th>\n",
       "      <th>waiting_time</th>\n",
       "      <th>month</th>\n",
       "    </tr>\n",
       "  </thead>\n",
       "  <tbody>\n",
       "    <tr>\n",
       "      <td>user_id</td>\n",
       "      <td>1.000000</td>\n",
       "      <td>0.852565</td>\n",
       "      <td>0.026760</td>\n",
       "      <td>0.114695</td>\n",
       "      <td>0.013096</td>\n",
       "      <td>0.032990</td>\n",
       "      <td>0.136560</td>\n",
       "      <td>0.426662</td>\n",
       "    </tr>\n",
       "    <tr>\n",
       "      <td>operator_id</td>\n",
       "      <td>0.852565</td>\n",
       "      <td>1.000000</td>\n",
       "      <td>0.024245</td>\n",
       "      <td>0.085958</td>\n",
       "      <td>-0.024901</td>\n",
       "      <td>-0.005096</td>\n",
       "      <td>0.109543</td>\n",
       "      <td>0.518141</td>\n",
       "    </tr>\n",
       "    <tr>\n",
       "      <td>is_missed_call</td>\n",
       "      <td>0.026760</td>\n",
       "      <td>0.024245</td>\n",
       "      <td>1.000000</td>\n",
       "      <td>-0.042632</td>\n",
       "      <td>-0.050535</td>\n",
       "      <td>-0.050915</td>\n",
       "      <td>-0.037609</td>\n",
       "      <td>0.011604</td>\n",
       "    </tr>\n",
       "    <tr>\n",
       "      <td>calls_count</td>\n",
       "      <td>0.114695</td>\n",
       "      <td>0.085958</td>\n",
       "      <td>-0.042632</td>\n",
       "      <td>1.000000</td>\n",
       "      <td>0.728462</td>\n",
       "      <td>0.787481</td>\n",
       "      <td>0.885132</td>\n",
       "      <td>0.020814</td>\n",
       "    </tr>\n",
       "    <tr>\n",
       "      <td>call_duration</td>\n",
       "      <td>0.013096</td>\n",
       "      <td>-0.024901</td>\n",
       "      <td>-0.050535</td>\n",
       "      <td>0.728462</td>\n",
       "      <td>1.000000</td>\n",
       "      <td>0.992954</td>\n",
       "      <td>0.650910</td>\n",
       "      <td>-0.053798</td>\n",
       "    </tr>\n",
       "    <tr>\n",
       "      <td>total_call_duration</td>\n",
       "      <td>0.032990</td>\n",
       "      <td>-0.005096</td>\n",
       "      <td>-0.050915</td>\n",
       "      <td>0.787481</td>\n",
       "      <td>0.992954</td>\n",
       "      <td>1.000000</td>\n",
       "      <td>0.736286</td>\n",
       "      <td>-0.043487</td>\n",
       "    </tr>\n",
       "    <tr>\n",
       "      <td>waiting_time</td>\n",
       "      <td>0.136560</td>\n",
       "      <td>0.109543</td>\n",
       "      <td>-0.037609</td>\n",
       "      <td>0.885132</td>\n",
       "      <td>0.650910</td>\n",
       "      <td>0.736286</td>\n",
       "      <td>1.000000</td>\n",
       "      <td>0.028608</td>\n",
       "    </tr>\n",
       "    <tr>\n",
       "      <td>month</td>\n",
       "      <td>0.426662</td>\n",
       "      <td>0.518141</td>\n",
       "      <td>0.011604</td>\n",
       "      <td>0.020814</td>\n",
       "      <td>-0.053798</td>\n",
       "      <td>-0.043487</td>\n",
       "      <td>0.028608</td>\n",
       "      <td>1.000000</td>\n",
       "    </tr>\n",
       "  </tbody>\n",
       "</table>\n",
       "</div>"
      ],
      "text/plain": [
       "                      user_id  operator_id  is_missed_call  calls_count  \\\n",
       "user_id              1.000000     0.852565        0.026760     0.114695   \n",
       "operator_id          0.852565     1.000000        0.024245     0.085958   \n",
       "is_missed_call       0.026760     0.024245        1.000000    -0.042632   \n",
       "calls_count          0.114695     0.085958       -0.042632     1.000000   \n",
       "call_duration        0.013096    -0.024901       -0.050535     0.728462   \n",
       "total_call_duration  0.032990    -0.005096       -0.050915     0.787481   \n",
       "waiting_time         0.136560     0.109543       -0.037609     0.885132   \n",
       "month                0.426662     0.518141        0.011604     0.020814   \n",
       "\n",
       "                     call_duration  total_call_duration  waiting_time  \\\n",
       "user_id                   0.013096             0.032990      0.136560   \n",
       "operator_id              -0.024901            -0.005096      0.109543   \n",
       "is_missed_call           -0.050535            -0.050915     -0.037609   \n",
       "calls_count               0.728462             0.787481      0.885132   \n",
       "call_duration             1.000000             0.992954      0.650910   \n",
       "total_call_duration       0.992954             1.000000      0.736286   \n",
       "waiting_time              0.650910             0.736286      1.000000   \n",
       "month                    -0.053798            -0.043487      0.028608   \n",
       "\n",
       "                        month  \n",
       "user_id              0.426662  \n",
       "operator_id          0.518141  \n",
       "is_missed_call       0.011604  \n",
       "calls_count          0.020814  \n",
       "call_duration       -0.053798  \n",
       "total_call_duration -0.043487  \n",
       "waiting_time         0.028608  \n",
       "month                1.000000  "
      ]
     },
     "execution_count": 100,
     "metadata": {},
     "output_type": "execute_result"
    }
   ],
   "source": [
    "telecom_dataset.corr()"
   ]
  },
  {
   "cell_type": "markdown",
   "metadata": {},
   "source": [
    "I am interested in correlation between calls count, waiting_time, call duration and total_call_duration, because for others it wouldn't make sense.\n",
    "We can see there is a very high correlation between columns as follows: 0.7 for calls count and call duration, the same for calls count and total call duration. This is a very significant level of correlation. Correlation between waiting time and calls count is 0.885132, almost 9 which is really close to 100% correlation!\n",
    "For call duration and total call duration it is almost 100%, but that is obviously to be expected. Correlation for the both call duration columns and waiting time is lower but still significant.  \n",
    "Now, the columns waiting_time, call duration and total_call_duration are related, so the high correlation is to be expected. But the correlation with calls count column for all three of those is surprisingly high. This is very interesting. "
   ]
  },
  {
   "cell_type": "code",
   "execution_count": 3,
   "metadata": {},
   "outputs": [
    {
     "data": {
      "text/html": [
       "<div>\n",
       "<style scoped>\n",
       "    .dataframe tbody tr th:only-of-type {\n",
       "        vertical-align: middle;\n",
       "    }\n",
       "\n",
       "    .dataframe tbody tr th {\n",
       "        vertical-align: top;\n",
       "    }\n",
       "\n",
       "    .dataframe thead th {\n",
       "        text-align: right;\n",
       "    }\n",
       "</style>\n",
       "<table border=\"1\" class=\"dataframe\">\n",
       "  <thead>\n",
       "    <tr style=\"text-align: right;\">\n",
       "      <th></th>\n",
       "      <th>user_id</th>\n",
       "      <th>tariff_plan</th>\n",
       "      <th>date_start</th>\n",
       "    </tr>\n",
       "  </thead>\n",
       "  <tbody>\n",
       "    <tr>\n",
       "      <td>0</td>\n",
       "      <td>166713</td>\n",
       "      <td>A</td>\n",
       "      <td>2019-08-15</td>\n",
       "    </tr>\n",
       "    <tr>\n",
       "      <td>1</td>\n",
       "      <td>166901</td>\n",
       "      <td>A</td>\n",
       "      <td>2019-08-23</td>\n",
       "    </tr>\n",
       "    <tr>\n",
       "      <td>2</td>\n",
       "      <td>168527</td>\n",
       "      <td>A</td>\n",
       "      <td>2019-10-29</td>\n",
       "    </tr>\n",
       "    <tr>\n",
       "      <td>3</td>\n",
       "      <td>167097</td>\n",
       "      <td>A</td>\n",
       "      <td>2019-09-01</td>\n",
       "    </tr>\n",
       "    <tr>\n",
       "      <td>4</td>\n",
       "      <td>168193</td>\n",
       "      <td>A</td>\n",
       "      <td>2019-10-16</td>\n",
       "    </tr>\n",
       "  </tbody>\n",
       "</table>\n",
       "</div>"
      ],
      "text/plain": [
       "   user_id tariff_plan  date_start\n",
       "0   166713           A  2019-08-15\n",
       "1   166901           A  2019-08-23\n",
       "2   168527           A  2019-10-29\n",
       "3   167097           A  2019-09-01\n",
       "4   168193           A  2019-10-16"
      ]
     },
     "execution_count": 3,
     "metadata": {},
     "output_type": "execute_result"
    }
   ],
   "source": [
    "telecom_clients = pd.read_csv('/datasets/telecom_clients_us.csv')\n",
    "telecom_clients.head(5)"
   ]
  },
  {
   "cell_type": "markdown",
   "metadata": {},
   "source": [
    "###   Checking missing values. \n",
    "I will take a look at the percentage of missing values and remove them in case the percentage is low enough.  If there are too many missing values to remove I will replace them with median for numerical colunms (I consider it most effective method since it doesn't get skewed as easily as mean) and something like 'none' for others. "
   ]
  },
  {
   "cell_type": "code",
   "execution_count": 4,
   "metadata": {},
   "outputs": [
    {
     "data": {
      "text/plain": [
       "user_id                False\n",
       "date                   False\n",
       "direction              False\n",
       "internal                True\n",
       "operator_id             True\n",
       "is_missed_call         False\n",
       "calls_count            False\n",
       "call_duration          False\n",
       "total_call_duration    False\n",
       "dtype: bool"
      ]
     },
     "execution_count": 4,
     "metadata": {},
     "output_type": "execute_result"
    }
   ],
   "source": [
    "telecom_dataset.isna().any()"
   ]
  },
  {
   "cell_type": "code",
   "execution_count": 5,
   "metadata": {},
   "outputs": [
    {
     "data": {
      "text/plain": [
       "user_id        False\n",
       "tariff_plan    False\n",
       "date_start     False\n",
       "dtype: bool"
      ]
     },
     "execution_count": 5,
     "metadata": {},
     "output_type": "execute_result"
    }
   ],
   "source": [
    "telecom_clients.isna().any()"
   ]
  },
  {
   "cell_type": "code",
   "execution_count": 6,
   "metadata": {},
   "outputs": [
    {
     "data": {
      "text/html": [
       "<div>\n",
       "<style scoped>\n",
       "    .dataframe tbody tr th:only-of-type {\n",
       "        vertical-align: middle;\n",
       "    }\n",
       "\n",
       "    .dataframe tbody tr th {\n",
       "        vertical-align: top;\n",
       "    }\n",
       "\n",
       "    .dataframe thead th {\n",
       "        text-align: right;\n",
       "    }\n",
       "</style>\n",
       "<table border=\"1\" class=\"dataframe\">\n",
       "  <thead>\n",
       "    <tr style=\"text-align: right;\">\n",
       "      <th></th>\n",
       "      <th>user_id</th>\n",
       "      <th>date</th>\n",
       "      <th>direction</th>\n",
       "      <th>internal</th>\n",
       "      <th>operator_id</th>\n",
       "      <th>is_missed_call</th>\n",
       "      <th>calls_count</th>\n",
       "      <th>call_duration</th>\n",
       "      <th>total_call_duration</th>\n",
       "    </tr>\n",
       "  </thead>\n",
       "  <tbody>\n",
       "    <tr>\n",
       "      <td>0</td>\n",
       "      <td>False</td>\n",
       "      <td>False</td>\n",
       "      <td>False</td>\n",
       "      <td>False</td>\n",
       "      <td>True</td>\n",
       "      <td>False</td>\n",
       "      <td>False</td>\n",
       "      <td>False</td>\n",
       "      <td>False</td>\n",
       "    </tr>\n",
       "    <tr>\n",
       "      <td>1</td>\n",
       "      <td>False</td>\n",
       "      <td>False</td>\n",
       "      <td>False</td>\n",
       "      <td>False</td>\n",
       "      <td>False</td>\n",
       "      <td>False</td>\n",
       "      <td>False</td>\n",
       "      <td>False</td>\n",
       "      <td>False</td>\n",
       "    </tr>\n",
       "    <tr>\n",
       "      <td>2</td>\n",
       "      <td>False</td>\n",
       "      <td>False</td>\n",
       "      <td>False</td>\n",
       "      <td>False</td>\n",
       "      <td>False</td>\n",
       "      <td>False</td>\n",
       "      <td>False</td>\n",
       "      <td>False</td>\n",
       "      <td>False</td>\n",
       "    </tr>\n",
       "    <tr>\n",
       "      <td>3</td>\n",
       "      <td>False</td>\n",
       "      <td>False</td>\n",
       "      <td>False</td>\n",
       "      <td>False</td>\n",
       "      <td>False</td>\n",
       "      <td>False</td>\n",
       "      <td>False</td>\n",
       "      <td>False</td>\n",
       "      <td>False</td>\n",
       "    </tr>\n",
       "    <tr>\n",
       "      <td>4</td>\n",
       "      <td>False</td>\n",
       "      <td>False</td>\n",
       "      <td>False</td>\n",
       "      <td>False</td>\n",
       "      <td>False</td>\n",
       "      <td>False</td>\n",
       "      <td>False</td>\n",
       "      <td>False</td>\n",
       "      <td>False</td>\n",
       "    </tr>\n",
       "  </tbody>\n",
       "</table>\n",
       "</div>"
      ],
      "text/plain": [
       "   user_id   date  direction  internal  operator_id  is_missed_call  \\\n",
       "0    False  False      False     False         True           False   \n",
       "1    False  False      False     False        False           False   \n",
       "2    False  False      False     False        False           False   \n",
       "3    False  False      False     False        False           False   \n",
       "4    False  False      False     False        False           False   \n",
       "\n",
       "   calls_count  call_duration  total_call_duration  \n",
       "0        False          False                False  \n",
       "1        False          False                False  \n",
       "2        False          False                False  \n",
       "3        False          False                False  \n",
       "4        False          False                False  "
      ]
     },
     "execution_count": 6,
     "metadata": {},
     "output_type": "execute_result"
    }
   ],
   "source": [
    "telecom_dataset_missing = telecom_dataset.isna()\n",
    "telecom_dataset_missing.head(5)"
   ]
  },
  {
   "cell_type": "code",
   "execution_count": 7,
   "metadata": {},
   "outputs": [
    {
     "data": {
      "text/plain": [
       "user_id                   0\n",
       "date                      0\n",
       "direction                 0\n",
       "internal                117\n",
       "operator_id            8172\n",
       "is_missed_call            0\n",
       "calls_count               0\n",
       "call_duration             0\n",
       "total_call_duration       0\n",
       "dtype: int64"
      ]
     },
     "execution_count": 7,
     "metadata": {},
     "output_type": "execute_result"
    }
   ],
   "source": [
    "telecom_dataset_missing.sum() "
   ]
  },
  {
   "cell_type": "code",
   "execution_count": 8,
   "metadata": {},
   "outputs": [
    {
     "name": "stdout",
     "output_type": "stream",
     "text": [
      "<class 'pandas.core.frame.DataFrame'>\n",
      "RangeIndex: 53902 entries, 0 to 53901\n",
      "Data columns (total 9 columns):\n",
      "user_id                53902 non-null int64\n",
      "date                   53902 non-null object\n",
      "direction              53902 non-null object\n",
      "internal               53785 non-null object\n",
      "operator_id            45730 non-null float64\n",
      "is_missed_call         53902 non-null bool\n",
      "calls_count            53902 non-null int64\n",
      "call_duration          53902 non-null int64\n",
      "total_call_duration    53902 non-null int64\n",
      "dtypes: bool(1), float64(1), int64(4), object(3)\n",
      "memory usage: 3.3+ MB\n"
     ]
    }
   ],
   "source": [
    "telecom_dataset.info()\n",
    "#As we can see, the percentage of missing values is like this: 117 out of 53902 for internal and 8172 out of 53902 for operator_id\n",
    "#Now, 8172 is around 15%. It's quite a lot. However, this column will be very important for the analysis, so I would risk removing them."
   ]
  },
  {
   "cell_type": "code",
   "execution_count": 9,
   "metadata": {},
   "outputs": [],
   "source": [
    "#telecom_dataset = telecom_dataset.drop(telecom_dataset[telecom_dataset['operator_id'] == 'NaN'].index, inplace=True)"
   ]
  },
  {
   "cell_type": "code",
   "execution_count": 10,
   "metadata": {},
   "outputs": [],
   "source": [
    "telecom_dataset = telecom_dataset[telecom_dataset['operator_id'].notna()]"
   ]
  },
  {
   "cell_type": "code",
   "execution_count": 11,
   "metadata": {},
   "outputs": [],
   "source": [
    "telecom_dataset = telecom_dataset[telecom_dataset['internal'].notna()]"
   ]
  },
  {
   "cell_type": "code",
   "execution_count": 12,
   "metadata": {},
   "outputs": [
    {
     "data": {
      "text/plain": [
       "user_id                0\n",
       "date                   0\n",
       "direction              0\n",
       "internal               0\n",
       "operator_id            0\n",
       "is_missed_call         0\n",
       "calls_count            0\n",
       "call_duration          0\n",
       "total_call_duration    0\n",
       "dtype: int64"
      ]
     },
     "execution_count": 12,
     "metadata": {},
     "output_type": "execute_result"
    }
   ],
   "source": [
    "telecom_dataset_missing2 = telecom_dataset.isna()\n",
    "telecom_dataset_missing2.sum()"
   ]
  },
  {
   "cell_type": "markdown",
   "metadata": {},
   "source": [
    "### Outliers\n",
    "I will remove the outliers ( I want to do it in advance because I intend to split the data several times later)."
   ]
  },
  {
   "cell_type": "markdown",
   "metadata": {},
   "source": [
    "I decided to remove outliers based on IQR, but I believe that z-score would have yielded the same results."
   ]
  },
  {
   "cell_type": "code",
   "execution_count": 13,
   "metadata": {},
   "outputs": [
    {
     "data": {
      "image/png": "[encoded data removed]",
      "text/plain": [
       "<Figure size 432x288 with 1 Axes>"
      ]
     },
     "metadata": {
      "needs_background": "light"
     },
     "output_type": "display_data"
    }
   ],
   "source": [
    "plt.hist(telecom_dataset['calls_count'], bins=25) \n",
    "plt.xticks(rotation=90)\n",
    "plt.xlabel('Call count values')\n",
    "plt.ylabel('Frequency')\n",
    "plt.title('Distribution for call_count column')\n",
    "plt.show()"
   ]
  },
  {
   "cell_type": "code",
   "execution_count": 14,
   "metadata": {},
   "outputs": [
    {
     "data": {
      "image/png": "[encoded data removed]",
      "text/plain": [
       "<Figure size 432x288 with 1 Axes>"
      ]
     },
     "metadata": {
      "needs_background": "light"
     },
     "output_type": "display_data"
    }
   ],
   "source": [
    "plt.hist(telecom_dataset['call_duration'], bins=25) \n",
    "plt.xticks(rotation=90)\n",
    "plt.xlabel('Call duration values')\n",
    "plt.ylabel('Frequency')\n",
    "plt.title('Distribution for call_duration column')\n",
    "plt.show()"
   ]
  },
  {
   "cell_type": "code",
   "execution_count": 15,
   "metadata": {},
   "outputs": [
    {
     "data": {
      "image/png": "[encoded data removed]",
      "text/plain": [
       "<Figure size 432x288 with 1 Axes>"
      ]
     },
     "metadata": {
      "needs_background": "light"
     },
     "output_type": "display_data"
    }
   ],
   "source": [
    "plt.hist(telecom_dataset['total_call_duration'], bins=25) \n",
    "plt.xticks(rotation=90)\n",
    "plt.xlabel('Total call duration values')\n",
    "plt.ylabel('Frequency')\n",
    "plt.title('Distribution for total_call_duration column')\n",
    "plt.show()"
   ]
  },
  {
   "cell_type": "markdown",
   "metadata": {},
   "source": [
    "We can see on histograms above that there are clear outliers in every column with continuous variables. Thus I will remove them from these columns"
   ]
  },
  {
   "cell_type": "code",
   "execution_count": 16,
   "metadata": {},
   "outputs": [],
   "source": [
    "q_low = telecom_dataset['total_call_duration'].quantile(0.01)\n",
    "q_hi  = telecom_dataset['total_call_duration'].quantile(0.99)\n",
    "\n",
    "telecom_dataset = telecom_dataset[(telecom_dataset['total_call_duration'] < q_hi) & (telecom_dataset['total_call_duration'] > q_low)]"
   ]
  },
  {
   "cell_type": "code",
   "execution_count": 17,
   "metadata": {},
   "outputs": [],
   "source": [
    "q_low = telecom_dataset['call_duration'].quantile(0.01)\n",
    "q_hi  = telecom_dataset['call_duration'].quantile(0.99)\n",
    "\n",
    "telecom_dataset = telecom_dataset[(telecom_dataset['call_duration'] < q_hi) & (telecom_dataset['call_duration'] > q_low)]"
   ]
  },
  {
   "cell_type": "code",
   "execution_count": 18,
   "metadata": {},
   "outputs": [],
   "source": [
    "q_low = telecom_dataset['calls_count'].quantile(0.01)\n",
    "q_hi  = telecom_dataset['calls_count'].quantile(0.99)\n",
    "\n",
    "telecom_dataset = telecom_dataset[(telecom_dataset['calls_count'] < q_hi) & (telecom_dataset['calls_count'] > q_low)]"
   ]
  },
  {
   "cell_type": "markdown",
   "metadata": {},
   "source": [
    "<div class=\"alert alert-block alert-danger\"> REV: How can you remove outliers using IQR from user_id/operator_id? It can be outliers becasue it's just ids. How can you remove outliers using IQR from direction/internal/is_missed_call? They have only 2 unique values. You can only use IQR to remove ontliers from  calls_count/call_duration/total_call_duration. But to do it without analysing the distribution is also a bad idea. You should work with outliers much more carefully than you did.</div> "
   ]
  },
  {
   "cell_type": "markdown",
   "metadata": {},
   "source": [
    "<div class=\"alert alert-block alert-info\"> Hope it is better now. </div> "
   ]
  },
  {
   "cell_type": "markdown",
   "metadata": {},
   "source": [
    "### Checking the datatypes.\n",
    "Looking at the datatypes for all the columns, changing them if necessary. "
   ]
  },
  {
   "cell_type": "code",
   "execution_count": 19,
   "metadata": {},
   "outputs": [],
   "source": [
    "telecom_dataset['date'] = pd.to_datetime(telecom_dataset['date'], format=\"%Y-%m-%d %H:%M\")"
   ]
  },
  {
   "cell_type": "markdown",
   "metadata": {},
   "source": [
    "## Exploratory data analysis. \n",
    "\n",
    "### Splitting the dataframe.\n",
    "First I will divide dataset by missed calls (missed or not) and look at them separately.\n"
   ]
  },
  {
   "cell_type": "code",
   "execution_count": 20,
   "metadata": {},
   "outputs": [
    {
     "data": {
      "text/plain": [
       "False    21849\n",
       "True        96\n",
       "Name: is_missed_call, dtype: int64"
      ]
     },
     "execution_count": 20,
     "metadata": {},
     "output_type": "execute_result"
    }
   ],
   "source": [
    "telecom_dataset['is_missed_call'].value_counts()"
   ]
  },
  {
   "cell_type": "code",
   "execution_count": 21,
   "metadata": {},
   "outputs": [],
   "source": [
    "telecom_dataset_missed = telecom_dataset.query('is_missed_call == True').reset_index()\n",
    "telecom_dataset_taken = telecom_dataset.query('is_missed_call == False').reset_index()  #Dividing dataset by missed calls."
   ]
  },
  {
   "cell_type": "code",
   "execution_count": 22,
   "metadata": {},
   "outputs": [
    {
     "data": {
      "text/plain": [
       "901884.0    201\n",
       "901880.0    192\n",
       "893804.0    181\n",
       "887276.0    178\n",
       "889410.0    167\n",
       "           ... \n",
       "954378.0      1\n",
       "954086.0      1\n",
       "930264.0      1\n",
       "888540.0      1\n",
       "917446.0      1\n",
       "Name: operator_id, Length: 923, dtype: int64"
      ]
     },
     "execution_count": 22,
     "metadata": {},
     "output_type": "execute_result"
    }
   ],
   "source": [
    "telecom_dataset['operator_id'].value_counts()"
   ]
  },
  {
   "cell_type": "markdown",
   "metadata": {},
   "source": [
    "### Looking at missing calls percentage for each operator.\n",
    "I will look at the both df's and see which operators have the worst missed/not missed calls ratio. I want to use this identify the least profitable operator. I will group calls by operator in both dfs."
   ]
  },
  {
   "cell_type": "code",
   "execution_count": 23,
   "metadata": {},
   "outputs": [
    {
     "data": {
      "text/plain": [
       "operator_id\n",
       "879896.0    48\n",
       "879898.0    91\n",
       "880020.0     4\n",
       "880022.0    23\n",
       "880026.0    88\n",
       "Name: is_missed_call, dtype: int64"
      ]
     },
     "execution_count": 23,
     "metadata": {},
     "output_type": "execute_result"
    }
   ],
   "source": [
    "all = telecom_dataset.groupby('operator_id')['is_missed_call'].count()\n",
    "all.head()"
   ]
  },
  {
   "cell_type": "code",
   "execution_count": 24,
   "metadata": {},
   "outputs": [
    {
     "data": {
      "text/plain": [
       "operator_id\n",
       "884408.0    1\n",
       "885876.0    1\n",
       "893804.0    1\n",
       "895574.0    1\n",
       "900352.0    1\n",
       "Name: is_missed_call, dtype: int64"
      ]
     },
     "execution_count": 24,
     "metadata": {},
     "output_type": "execute_result"
    }
   ],
   "source": [
    "missed = telecom_dataset_missed.groupby('operator_id')['is_missed_call'].count()\n",
    "missed.head()"
   ]
  },
  {
   "cell_type": "code",
   "execution_count": 25,
   "metadata": {},
   "outputs": [
    {
     "data": {
      "image/png": "[encoded data removed]",
      "text/plain": [
       "<Figure size 432x288 with 1 Axes>"
      ]
     },
     "metadata": {
      "needs_background": "light"
     },
     "output_type": "display_data"
    }
   ],
   "source": [
    "plt.hist(missed, bins=50) \n",
    "plt.xticks(rotation=90)\n",
    "plt.xlabel('missed calls')\n",
    "plt.ylabel('operators')\n",
    "plt.title('Average number of missed calls per operator')\n",
    "plt.show()"
   ]
  },
  {
   "cell_type": "markdown",
   "metadata": {},
   "source": [
    "We can see that on average the situation with missing calls is not terrible. Only a few operators have more than 6 of them."
   ]
  },
  {
   "cell_type": "code",
   "execution_count": 26,
   "metadata": {},
   "outputs": [
    {
     "data": {
      "text/plain": [
       "operator_id\n",
       "879896.0    48\n",
       "879898.0    91\n",
       "880020.0     4\n",
       "880022.0    23\n",
       "880026.0    88\n",
       "Name: is_missed_call, dtype: int64"
      ]
     },
     "execution_count": 26,
     "metadata": {},
     "output_type": "execute_result"
    }
   ],
   "source": [
    "taken = telecom_dataset_taken.groupby('operator_id')['is_missed_call'].count()\n",
    "taken.head()"
   ]
  },
  {
   "cell_type": "code",
   "execution_count": 88,
   "metadata": {},
   "outputs": [
    {
     "data": {
      "text/plain": [
       "operator_id\n",
       "879896.0   NaN\n",
       "879898.0   NaN\n",
       "880020.0   NaN\n",
       "880022.0   NaN\n",
       "880026.0   NaN\n",
       "            ..\n",
       "972408.0   NaN\n",
       "972410.0   NaN\n",
       "972412.0   NaN\n",
       "972460.0   NaN\n",
       "973286.0   NaN\n",
       "Name: is_missed_call, Length: 923, dtype: float64"
      ]
     },
     "execution_count": 88,
     "metadata": {},
     "output_type": "execute_result"
    }
   ],
   "source": [
    "perc_missed = missed/all*100\n",
    "perc_missed"
   ]
  },
  {
   "cell_type": "markdown",
   "metadata": {},
   "source": [
    "<div class=\"alert alert-block alert-danger\"> REV: This is wrong. Your function didn't consider indexes and divided wrong rows. Actually, you don't need this function at all. You can just divide one Series into another one: missed / all * 100 </div> "
   ]
  },
  {
   "cell_type": "markdown",
   "metadata": {},
   "source": [
    "<div class=\"alert alert-block alert-info\"> I changed it accordingly, hopefully it's correct. </div> "
   ]
  },
  {
   "cell_type": "code",
   "execution_count": 28,
   "metadata": {},
   "outputs": [
    {
     "data": {
      "text/plain": [
       "count     43.000000\n",
       "mean      10.233816\n",
       "std       16.976128\n",
       "min        0.552486\n",
       "25%        1.948359\n",
       "50%        5.000000\n",
       "75%       11.555556\n",
       "max      100.000000\n",
       "Name: is_missed_call, dtype: float64"
      ]
     },
     "execution_count": 28,
     "metadata": {},
     "output_type": "execute_result"
    }
   ],
   "source": [
    "perc_missed = perc_missed.dropna()\n",
    "perc_missed.describe()"
   ]
  },
  {
   "cell_type": "markdown",
   "metadata": {},
   "source": [
    "<div class=\"alert alert-block alert-danger\"> REV: You didn't save the result of dropna method. </div> "
   ]
  },
  {
   "cell_type": "markdown",
   "metadata": {},
   "source": [
    "<div class=\"alert alert-block alert-info\"> Fixed </div> "
   ]
  },
  {
   "cell_type": "code",
   "execution_count": 29,
   "metadata": {},
   "outputs": [
    {
     "data": {
      "text/plain": [
       "10.000000     2\n",
       "2.380952      2\n",
       "16.666667     2\n",
       "6.000000      2\n",
       "1.785714      2\n",
       "2.857143      2\n",
       "12.500000     1\n",
       "7.142857      1\n",
       "4.615385      1\n",
       "1.219512      1\n",
       "20.000000     1\n",
       "13.793103     1\n",
       "2.061856      1\n",
       "33.333333     1\n",
       "0.735294      1\n",
       "5.000000      1\n",
       "50.000000     1\n",
       "100.000000    1\n",
       "12.000000     1\n",
       "1.041667      1\n",
       "14.457831     1\n",
       "5.882353      1\n",
       "1.111111      1\n",
       "0.552486      1\n",
       "3.846154      1\n",
       "3.225806      1\n",
       "1.834862      1\n",
       "23.404255     1\n",
       "0.952381      1\n",
       "7.692308      1\n",
       "1.694915      1\n",
       "9.090909      1\n",
       "3.030303      1\n",
       "11.111111     1\n",
       "0.970874      1\n",
       "2.816901      1\n",
       "5.555556      1\n",
       "Name: is_missed_call, dtype: int64"
      ]
     },
     "execution_count": 29,
     "metadata": {},
     "output_type": "execute_result"
    }
   ],
   "source": [
    "perc_missed.value_counts()"
   ]
  },
  {
   "cell_type": "code",
   "execution_count": 30,
   "metadata": {},
   "outputs": [
    {
     "data": {
      "text/plain": [
       "operator_id\n",
       "879896.0    100.0\n",
       "879898.0    100.0\n",
       "880020.0    100.0\n",
       "880022.0    100.0\n",
       "880026.0    100.0\n",
       "            ...  \n",
       "972408.0    100.0\n",
       "972410.0    100.0\n",
       "972412.0    100.0\n",
       "972460.0    100.0\n",
       "973286.0    100.0\n",
       "Name: is_missed_call, Length: 922, dtype: float64"
      ]
     },
     "execution_count": 30,
     "metadata": {},
     "output_type": "execute_result"
    }
   ],
   "source": [
    "perc_taken = taken/all*100\n",
    "perc_taken = perc_taken.dropna() #Here we can see the percentage of taken calls by operator id.\n",
    "perc_taken"
   ]
  },
  {
   "cell_type": "code",
   "execution_count": 89,
   "metadata": {},
   "outputs": [
    {
     "data": {
      "text/plain": [
       "100.000000    880\n",
       "83.333333       2\n",
       "90.000000       2\n",
       "94.000000       2\n",
       "98.214286       2\n",
       "97.142857       2\n",
       "97.619048       2\n",
       "85.542169       1\n",
       "76.595745       1\n",
       "99.447514       1\n",
       "50.000000       1\n",
       "95.000000       1\n",
       "97.938144       1\n",
       "80.000000       1\n",
       "88.000000       1\n",
       "88.888889       1\n",
       "94.117647       1\n",
       "96.153846       1\n",
       "99.264706       1\n",
       "97.183099       1\n",
       "98.780488       1\n",
       "92.307692       1\n",
       "96.969697       1\n",
       "86.206897       1\n",
       "99.029126       1\n",
       "90.909091       1\n",
       "98.958333       1\n",
       "99.047619       1\n",
       "95.384615       1\n",
       "98.165138       1\n",
       "94.444444       1\n",
       "87.500000       1\n",
       "66.666667       1\n",
       "98.305085       1\n",
       "96.774194       1\n",
       "92.857143       1\n",
       "98.888889       1\n",
       "Name: is_missed_call, dtype: int64"
      ]
     },
     "execution_count": 89,
     "metadata": {},
     "output_type": "execute_result"
    }
   ],
   "source": [
    "perc_taken.value_counts()"
   ]
  },
  {
   "cell_type": "markdown",
   "metadata": {},
   "source": [
    "<div class=\"alert alert-block alert-danger\"> REV: This is wrong. Your function didn't consider indexes and divided wrong rows. Actually, you don't need this function at all. You can just divide one Series into another one: missed / all * 100 </div> "
   ]
  },
  {
   "cell_type": "markdown",
   "metadata": {},
   "source": [
    "<div class=\"alert alert-block alert-info\"> Fixed it again, thank you!. </div> "
   ]
  },
  {
   "cell_type": "markdown",
   "metadata": {},
   "source": [
    "### Visualization.\n",
    "I will plot average waiting time by operator, that is also to look for the least profitable ones. Waiting time is a new column, total call duration minus call duration."
   ]
  },
  {
   "cell_type": "code",
   "execution_count": 31,
   "metadata": {},
   "outputs": [
    {
     "data": {
      "text/plain": [
       "28943    10029\n",
       "53035     9548\n",
       "53019     9548\n",
       "52700     9516\n",
       "36499     9496\n",
       "Name: total_call_duration, dtype: int64"
      ]
     },
     "execution_count": 31,
     "metadata": {},
     "output_type": "execute_result"
    }
   ],
   "source": [
    "telecom_dataset['total_call_duration'].sort_values(ascending=False).head()"
   ]
  },
  {
   "cell_type": "code",
   "execution_count": 32,
   "metadata": {},
   "outputs": [
    {
     "data": {
      "text/plain": [
       "36548    8042\n",
       "25283    8018\n",
       "28961    8013\n",
       "36921    8012\n",
       "36499    8010\n",
       "Name: call_duration, dtype: int64"
      ]
     },
     "execution_count": 32,
     "metadata": {},
     "output_type": "execute_result"
    }
   ],
   "source": [
    "telecom_dataset['call_duration'].sort_values(ascending=False).head()"
   ]
  },
  {
   "cell_type": "code",
   "execution_count": 33,
   "metadata": {},
   "outputs": [],
   "source": [
    "telecom_dataset['waiting_time'] = telecom_dataset['total_call_duration'] - telecom_dataset['call_duration']"
   ]
  },
  {
   "cell_type": "code",
   "execution_count": 34,
   "metadata": {},
   "outputs": [
    {
     "data": {
      "text/plain": [
       "28943    3495\n",
       "35004    2217\n",
       "34878    2112\n",
       "52775    2007\n",
       "35147    1994\n",
       "Name: waiting_time, dtype: int64"
      ]
     },
     "execution_count": 34,
     "metadata": {},
     "output_type": "execute_result"
    }
   ],
   "source": [
    "telecom_dataset['waiting_time'].sort_values(ascending=False).head()"
   ]
  },
  {
   "cell_type": "code",
   "execution_count": 35,
   "metadata": {},
   "outputs": [
    {
     "data": {
      "text/plain": [
       "26      217\n",
       "24      202\n",
       "22      201\n",
       "16      199\n",
       "25      195\n",
       "       ... \n",
       "1426      1\n",
       "1522      1\n",
       "1538      1\n",
       "1570      1\n",
       "1463      1\n",
       "Name: waiting_time, Length: 1253, dtype: int64"
      ]
     },
     "execution_count": 35,
     "metadata": {},
     "output_type": "execute_result"
    }
   ],
   "source": [
    "telecom_dataset['waiting_time'].value_counts()"
   ]
  },
  {
   "cell_type": "code",
   "execution_count": 36,
   "metadata": {},
   "outputs": [],
   "source": [
    "waiting = telecom_dataset.groupby('operator_id')['waiting_time'].mean()"
   ]
  },
  {
   "cell_type": "code",
   "execution_count": 37,
   "metadata": {},
   "outputs": [
    {
     "data": {
      "text/plain": [
       "operator_id\n",
       "879896.0     88.916667\n",
       "879898.0    369.120879\n",
       "880020.0     19.500000\n",
       "880022.0     22.695652\n",
       "880026.0    123.534091\n",
       "               ...    \n",
       "972408.0     15.000000\n",
       "972410.0    228.000000\n",
       "972412.0    221.500000\n",
       "972460.0    140.666667\n",
       "973286.0     88.000000\n",
       "Name: waiting_time, Length: 923, dtype: float64"
      ]
     },
     "execution_count": 37,
     "metadata": {},
     "output_type": "execute_result"
    }
   ],
   "source": [
    "waiting "
   ]
  },
  {
   "cell_type": "markdown",
   "metadata": {},
   "source": [
    "<div class=\"alert alert-block alert-danger\"> REV: This code has nothing related to watining_time in fact. You just calculated the number of rows for each operator_id. If you would use another column instead 'waiting_time' you will get absolutely the same result.  </div> "
   ]
  },
  {
   "cell_type": "markdown",
   "metadata": {},
   "source": [
    "<div class=\"alert alert-block alert-info\"> I changed it, hopefully correctly. Now I am trying to group the operators by average waiting time.</div> "
   ]
  },
  {
   "cell_type": "markdown",
   "metadata": {},
   "source": [
    "<div class=\"alert alert-block alert-danger\"> REV2: operator_id is just an id. You can't calculate mean of all ids cuz it's absolutely meaningless. Id is like a name. It's strange to calculate mean between names, isn't so? But you can group by operator_id and then calculate mean waiting_time for each operator. It makes sense. </div> \n"
   ]
  },
  {
   "cell_type": "code",
   "execution_count": 38,
   "metadata": {},
   "outputs": [
    {
     "data": {
      "image/png": "[encoded data removed]",
      "text/plain": [
       "<Figure size 432x288 with 1 Axes>"
      ]
     },
     "metadata": {
      "needs_background": "light"
     },
     "output_type": "display_data"
    }
   ],
   "source": [
    "plt.hist(waiting, bins=100) \n",
    "plt.xticks(rotation=90)\n",
    "plt.xlabel('Waiting_time')\n",
    "plt.ylabel('operators')\n",
    "plt.title('Average number of waiting time per operator')\n",
    "plt.show()#plotting waiting_time by operator."
   ]
  },
  {
   "cell_type": "markdown",
   "metadata": {},
   "source": [
    "We can see that on average waiting time is not very long excluding a few cases."
   ]
  },
  {
   "cell_type": "markdown",
   "metadata": {},
   "source": [
    "<div class=\"alert alert-block alert-danger\"> REV: Wrong table caused wrong graph  </div> "
   ]
  },
  {
   "cell_type": "markdown",
   "metadata": {},
   "source": [
    "<div class=\"alert alert-block alert-info\">Hopefully better. </div> "
   ]
  },
  {
   "cell_type": "markdown",
   "metadata": {},
   "source": [
    "### Looking at missed calls by month. \n",
    "Then I will look at the original df and plot missed calls by date, this may help me determine the most and least profitable months, this is useful information."
   ]
  },
  {
   "cell_type": "code",
   "execution_count": 39,
   "metadata": {},
   "outputs": [
    {
     "data": {
      "text/plain": [
       "11    10183\n",
       "10     7535\n",
       "9      3526\n",
       "8       701\n",
       "Name: month, dtype: int64"
      ]
     },
     "execution_count": 39,
     "metadata": {},
     "output_type": "execute_result"
    }
   ],
   "source": [
    "telecom_dataset['month'] = telecom_dataset['date'].dt.month\n",
    "telecom_dataset['month'].value_counts()"
   ]
  },
  {
   "cell_type": "markdown",
   "metadata": {},
   "source": [
    "<div class=\"alert alert-block alert-danger\"> REV: Again, how can you count wating_time? It's a continuous feature. By this code you again just calculated the number of rows for each month. The same problem as was above. So the graph and conclusion are wrong.  </div> "
   ]
  },
  {
   "cell_type": "markdown",
   "metadata": {},
   "source": [
    "<div class=\"alert alert-block alert-info\"> I decided to remove this alltogether since it doesn't make sense. This code wouldn't take operators into account, only waiting time by date, it is useless. </div> "
   ]
  },
  {
   "cell_type": "markdown",
   "metadata": {},
   "source": [
    "<div class=\"alert alert-block alert-danger\"> REV: Again, it's not a waiting_time. These are just a number of rows for each date.  </div> "
   ]
  },
  {
   "cell_type": "markdown",
   "metadata": {},
   "source": [
    "### Looking at internal/external calls percentage for each operator.\n",
    "I will also group calls both missed and not missed dfs by internal/external, see the percentage of missed calls for each operator for internal and external calls."
   ]
  },
  {
   "cell_type": "code",
   "execution_count": 40,
   "metadata": {},
   "outputs": [],
   "source": [
    "telecom_dataset_missed_internal = telecom_dataset_missed.query('internal == True').reset_index()"
   ]
  },
  {
   "cell_type": "code",
   "execution_count": 41,
   "metadata": {},
   "outputs": [],
   "source": [
    "telecom_dataset_missed_external = telecom_dataset_missed.query('internal == False').reset_index()"
   ]
  },
  {
   "cell_type": "code",
   "execution_count": 42,
   "metadata": {},
   "outputs": [],
   "source": [
    "telecom_dataset_taken_internal = telecom_dataset_taken.query('internal == True').reset_index()"
   ]
  },
  {
   "cell_type": "code",
   "execution_count": 43,
   "metadata": {},
   "outputs": [],
   "source": [
    "telecom_dataset_taken_external = telecom_dataset_taken.query('internal == False').reset_index()"
   ]
  },
  {
   "cell_type": "code",
   "execution_count": 44,
   "metadata": {},
   "outputs": [],
   "source": [
    "telecom_dataset_all_internal = telecom_dataset.query('internal == True').reset_index()"
   ]
  },
  {
   "cell_type": "code",
   "execution_count": 45,
   "metadata": {},
   "outputs": [],
   "source": [
    "telecom_dataset_all_external = telecom_dataset.query('internal == False').reset_index() #The titles are pretty self-explanatory."
   ]
  },
  {
   "cell_type": "code",
   "execution_count": 46,
   "metadata": {},
   "outputs": [
    {
     "data": {
      "text/plain": [
       "operator_id\n",
       "879896.0    4\n",
       "879898.0    1\n",
       "882478.0    1\n",
       "884402.0    1\n",
       "884408.0    1\n",
       "           ..\n",
       "966686.0    1\n",
       "967310.0    1\n",
       "969268.0    1\n",
       "969272.0    2\n",
       "970254.0    1\n",
       "Name: internal, Length: 245, dtype: int64"
      ]
     },
     "execution_count": 46,
     "metadata": {},
     "output_type": "execute_result"
    }
   ],
   "source": [
    "all_internal = telecom_dataset_all_internal.groupby('operator_id')['internal'].count()\n",
    "all_internal"
   ]
  },
  {
   "cell_type": "code",
   "execution_count": 47,
   "metadata": {},
   "outputs": [
    {
     "data": {
      "text/plain": [
       "operator_id\n",
       "879896.0    44\n",
       "879898.0    90\n",
       "880020.0     4\n",
       "880022.0    23\n",
       "880026.0    88\n",
       "            ..\n",
       "972408.0     1\n",
       "972410.0     2\n",
       "972412.0     2\n",
       "972460.0     3\n",
       "973286.0     1\n",
       "Name: internal, Length: 887, dtype: int64"
      ]
     },
     "execution_count": 47,
     "metadata": {},
     "output_type": "execute_result"
    }
   ],
   "source": [
    "all_external = telecom_dataset_all_external.groupby('operator_id')['internal'].count()\n",
    "all_external"
   ]
  },
  {
   "cell_type": "code",
   "execution_count": 48,
   "metadata": {},
   "outputs": [
    {
     "data": {
      "text/plain": [
       "operator_id  internal\n",
       "906412.0     True        9\n",
       "907986.0     True        3\n",
       "906408.0     True        2\n",
       "906400.0     True        2\n",
       "906394.0     True        2\n",
       "940630.0     True        1\n",
       "940624.0     True        1\n",
       "906416.0     True        1\n",
       "906406.0     True        1\n",
       "Name: internal, dtype: int64"
      ]
     },
     "execution_count": 48,
     "metadata": {},
     "output_type": "execute_result"
    }
   ],
   "source": [
    "missed_internal = telecom_dataset_missed_internal.groupby('operator_id')['internal'].value_counts().sort_values(ascending=False)\n",
    "missed_internal #missed internal calls"
   ]
  },
  {
   "cell_type": "code",
   "execution_count": 49,
   "metadata": {},
   "outputs": [
    {
     "data": {
      "text/plain": [
       "operator_id  internal\n",
       "913942.0     False       12\n",
       "951508.0     False        6\n",
       "940588.0     False        6\n",
       "940622.0     False        4\n",
       "919206.0     False        3\n",
       "944216.0     False        3\n",
       "940630.0     False        3\n",
       "937860.0     False        2\n",
       "906412.0     False        2\n",
       "906392.0     False        2\n",
       "940624.0     False        2\n",
       "940652.0     False        2\n",
       "905104.0     False        2\n",
       "904344.0     False        2\n",
       "900354.0     False        1\n",
       "900352.0     False        1\n",
       "895574.0     False        1\n",
       "906410.0     False        1\n",
       "893804.0     False        1\n",
       "908960.0     False        1\n",
       "885876.0     False        1\n",
       "919166.0     False        1\n",
       "964666.0     False        1\n",
       "920706.0     False        1\n",
       "929424.0     False        1\n",
       "937368.0     False        1\n",
       "964510.0     False        1\n",
       "937898.0     False        1\n",
       "940616.0     False        1\n",
       "940658.0     False        1\n",
       "944222.0     False        1\n",
       "944226.0     False        1\n",
       "945046.0     False        1\n",
       "945052.0     False        1\n",
       "948286.0     False        1\n",
       "954650.0     False        1\n",
       "884408.0     False        1\n",
       "Name: internal, dtype: int64"
      ]
     },
     "execution_count": 49,
     "metadata": {},
     "output_type": "execute_result"
    }
   ],
   "source": [
    "missed_external = telecom_dataset_missed_external.groupby('operator_id')['internal'].value_counts().sort_values(ascending=False)\n",
    "missed_external #missed external calls"
   ]
  },
  {
   "cell_type": "code",
   "execution_count": 50,
   "metadata": {},
   "outputs": [
    {
     "data": {
      "text/plain": [
       "operator_id  internal\n",
       "907182.0     True        50\n",
       "907986.0     True        47\n",
       "887278.0     True        43\n",
       "896008.0     True        43\n",
       "906406.0     True        43\n",
       "                         ..\n",
       "922428.0     True         1\n",
       "940622.0     True         1\n",
       "940568.0     True         1\n",
       "940486.0     True         1\n",
       "970254.0     True         1\n",
       "Name: internal, Length: 245, dtype: int64"
      ]
     },
     "execution_count": 50,
     "metadata": {},
     "output_type": "execute_result"
    }
   ],
   "source": [
    "taken_internal = telecom_dataset_taken_internal.groupby('operator_id')['internal'].value_counts().sort_values(ascending=False)\n",
    "taken_internal #taken internal calls"
   ]
  },
  {
   "cell_type": "code",
   "execution_count": 51,
   "metadata": {},
   "outputs": [
    {
     "data": {
      "text/plain": [
       "operator_id  internal\n",
       "901880.0     False       190\n",
       "893804.0     False       179\n",
       "901884.0     False       178\n",
       "889410.0     False       167\n",
       "890404.0     False       156\n",
       "                        ... \n",
       "913780.0     False         1\n",
       "952466.0     False         1\n",
       "911152.0     False         1\n",
       "910594.0     False         1\n",
       "973286.0     False         1\n",
       "Name: internal, Length: 886, dtype: int64"
      ]
     },
     "execution_count": 51,
     "metadata": {},
     "output_type": "execute_result"
    }
   ],
   "source": [
    "taken_external = telecom_dataset_taken_external.groupby('operator_id')['internal'].value_counts().sort_values(ascending=False)\n",
    "taken_external #taken external calls"
   ]
  },
  {
   "cell_type": "code",
   "execution_count": 52,
   "metadata": {},
   "outputs": [
    {
     "data": {
      "text/plain": [
       "operator_id  internal\n",
       "940624.0     True        50.000000\n",
       "906412.0     True        30.000000\n",
       "906408.0     True        15.384615\n",
       "940630.0     True        12.500000\n",
       "906416.0     True         6.666667\n",
       "907986.0     True         6.000000\n",
       "906394.0     True         5.128205\n",
       "906400.0     True         4.651163\n",
       "906406.0     True         2.272727\n",
       "Name: internal, dtype: float64"
      ]
     },
     "execution_count": 52,
     "metadata": {},
     "output_type": "execute_result"
    }
   ],
   "source": [
    "perc_missed_internal = missed_internal/all_internal*100\n",
    "perc_missed_internal.sort_values(ascending=False)  #finding the percentage of missed internal calls for each operator."
   ]
  },
  {
   "cell_type": "markdown",
   "metadata": {},
   "source": [
    "<div class=\"alert alert-block alert-danger\"> REV: This is wrong. Your function didn't consider indexes and divided wrong rows. Actually, you don't need this function at all. You can just divide one Series into another one: missed / all * 100 </div> "
   ]
  },
  {
   "cell_type": "code",
   "execution_count": 53,
   "metadata": {},
   "outputs": [
    {
     "data": {
      "text/plain": [
       "operator_id  internal\n",
       "904344.0     False       100.000000\n",
       "906392.0     False        50.000000\n",
       "919206.0     False        33.333333\n",
       "937898.0     False        25.000000\n",
       "951508.0     False        20.000000\n",
       "940588.0     False        18.181818\n",
       "937368.0     False        16.666667\n",
       "913942.0     False        14.457831\n",
       "940630.0     False        14.285714\n",
       "940622.0     False        12.903226\n",
       "906412.0     False        11.764706\n",
       "884408.0     False        11.111111\n",
       "945052.0     False        11.111111\n",
       "964666.0     False        10.000000\n",
       "919166.0     False         9.090909\n",
       "964510.0     False         7.692308\n",
       "945046.0     False         7.142857\n",
       "940652.0     False         5.714286\n",
       "944216.0     False         4.615385\n",
       "940624.0     False         4.166667\n",
       "895574.0     False         3.846154\n",
       "937860.0     False         3.333333\n",
       "948286.0     False         3.125000\n",
       "906410.0     False         2.857143\n",
       "920706.0     False         2.857143\n",
       "940616.0     False         2.631579\n",
       "954650.0     False         2.439024\n",
       "905104.0     False         2.247191\n",
       "940658.0     False         1.923077\n",
       "944226.0     False         1.785714\n",
       "944222.0     False         1.694915\n",
       "929424.0     False         1.219512\n",
       "900352.0     False         1.111111\n",
       "900354.0     False         1.041667\n",
       "908960.0     False         1.010101\n",
       "885876.0     False         0.970874\n",
       "893804.0     False         0.555556\n",
       "Name: internal, dtype: float64"
      ]
     },
     "execution_count": 53,
     "metadata": {},
     "output_type": "execute_result"
    }
   ],
   "source": [
    " #finding the percentage of missed external calls for each operator.\n",
    "\n",
    "perc_missed_external = missed_external/all_external*100\n",
    "perc_missed_external.sort_values(ascending=False)"
   ]
  },
  {
   "cell_type": "markdown",
   "metadata": {},
   "source": [
    "<div class=\"alert alert-block alert-danger\"> REV: This is wrong. Your function didn't consider indexes and divided wrong rows. Actually, you don't need this function at all. You can just divide one Series into another one: missed / all * 100 </div> "
   ]
  },
  {
   "cell_type": "code",
   "execution_count": 54,
   "metadata": {},
   "outputs": [],
   "source": [
    "perc_missed_internal = perc_missed_internal.dropna()\n",
    "perc_missed_external = perc_missed_external.dropna() #removing NaN"
   ]
  },
  {
   "cell_type": "markdown",
   "metadata": {},
   "source": [
    "<div class=\"alert alert-block alert-danger\"> REV: You didn't save the result of dropna method. </div> "
   ]
  },
  {
   "cell_type": "markdown",
   "metadata": {},
   "source": [
    "## Formulating and testing statistical hypotheses.\n",
    "\n",
    "Since we don't have the revenue I would look at which operators and which plans attract more users. Below are all the hypotheses I'd like to test.\n",
    "\n",
    "###  The average number of users between operators is diferent.\n",
    "I will see if there is a statistically significant difference and then check if there is a correlation: if the more popular tarif plans are more often chosen by users of the more mopular operators.\n",
    "\n",
    "###  The average number of missed incoming calls is different between operators.\n",
    "I will check for statistically significant difference again.\n",
    "\n",
    "###  The average waiting time is different between operators.\n",
    "I will also look if there is statistically significant difference between operators.\n",
    "\n",
    "\n",
    "For all of these I will see if the means of the following columns are significantly different between all operators. I will create the columns if they don't exist yet. I will use st.ttes on random samples and the standard alpha = .05. "
   ]
  },
  {
   "cell_type": "code",
   "execution_count": 55,
   "metadata": {},
   "outputs": [
    {
     "data": {
      "text/plain": [
       "C    395\n",
       "B    261\n",
       "A     76\n",
       "Name: tariff_plan, dtype: int64"
      ]
     },
     "execution_count": 55,
     "metadata": {},
     "output_type": "execute_result"
    }
   ],
   "source": [
    "telecom_clients['tariff_plan'].value_counts()"
   ]
  },
  {
   "cell_type": "markdown",
   "metadata": {},
   "source": [
    "During the hypotheses testing I will formulate all the hypotheses like this: \n",
    "H0 is that there is a significant difference between proportions for the waiting time/number of missed calls and in/outgoing calls between different tarifs."
   ]
  },
  {
   "cell_type": "code",
   "execution_count": 56,
   "metadata": {},
   "outputs": [
    {
     "data": {
      "text/html": [
       "<div>\n",
       "<style scoped>\n",
       "    .dataframe tbody tr th:only-of-type {\n",
       "        vertical-align: middle;\n",
       "    }\n",
       "\n",
       "    .dataframe tbody tr th {\n",
       "        vertical-align: top;\n",
       "    }\n",
       "\n",
       "    .dataframe thead th {\n",
       "        text-align: right;\n",
       "    }\n",
       "</style>\n",
       "<table border=\"1\" class=\"dataframe\">\n",
       "  <thead>\n",
       "    <tr style=\"text-align: right;\">\n",
       "      <th></th>\n",
       "      <th>user_id</th>\n",
       "      <th>tariff_plan</th>\n",
       "      <th>date_start</th>\n",
       "      <th>date</th>\n",
       "      <th>direction</th>\n",
       "      <th>internal</th>\n",
       "      <th>operator_id</th>\n",
       "      <th>is_missed_call</th>\n",
       "      <th>calls_count</th>\n",
       "      <th>call_duration</th>\n",
       "      <th>total_call_duration</th>\n",
       "      <th>waiting_time</th>\n",
       "      <th>month</th>\n",
       "    </tr>\n",
       "  </thead>\n",
       "  <tbody>\n",
       "    <tr>\n",
       "      <td>0</td>\n",
       "      <td>166713</td>\n",
       "      <td>A</td>\n",
       "      <td>2019-08-15</td>\n",
       "      <td>2019-08-22 00:00:00+03:00</td>\n",
       "      <td>in</td>\n",
       "      <td>False</td>\n",
       "      <td>891908.0</td>\n",
       "      <td>False</td>\n",
       "      <td>4.0</td>\n",
       "      <td>538.0</td>\n",
       "      <td>568.0</td>\n",
       "      <td>30.0</td>\n",
       "      <td>8.0</td>\n",
       "    </tr>\n",
       "    <tr>\n",
       "      <td>1</td>\n",
       "      <td>166713</td>\n",
       "      <td>A</td>\n",
       "      <td>2019-08-15</td>\n",
       "      <td>2019-09-04 00:00:00+03:00</td>\n",
       "      <td>in</td>\n",
       "      <td>False</td>\n",
       "      <td>891908.0</td>\n",
       "      <td>False</td>\n",
       "      <td>2.0</td>\n",
       "      <td>29.0</td>\n",
       "      <td>51.0</td>\n",
       "      <td>22.0</td>\n",
       "      <td>9.0</td>\n",
       "    </tr>\n",
       "    <tr>\n",
       "      <td>2</td>\n",
       "      <td>166713</td>\n",
       "      <td>A</td>\n",
       "      <td>2019-08-15</td>\n",
       "      <td>2019-09-19 00:00:00+03:00</td>\n",
       "      <td>in</td>\n",
       "      <td>False</td>\n",
       "      <td>891908.0</td>\n",
       "      <td>False</td>\n",
       "      <td>3.0</td>\n",
       "      <td>321.0</td>\n",
       "      <td>362.0</td>\n",
       "      <td>41.0</td>\n",
       "      <td>9.0</td>\n",
       "    </tr>\n",
       "    <tr>\n",
       "      <td>3</td>\n",
       "      <td>166713</td>\n",
       "      <td>A</td>\n",
       "      <td>2019-08-15</td>\n",
       "      <td>2019-10-09 00:00:00+03:00</td>\n",
       "      <td>in</td>\n",
       "      <td>False</td>\n",
       "      <td>891908.0</td>\n",
       "      <td>False</td>\n",
       "      <td>2.0</td>\n",
       "      <td>57.0</td>\n",
       "      <td>78.0</td>\n",
       "      <td>21.0</td>\n",
       "      <td>10.0</td>\n",
       "    </tr>\n",
       "    <tr>\n",
       "      <td>4</td>\n",
       "      <td>166713</td>\n",
       "      <td>A</td>\n",
       "      <td>2019-08-15</td>\n",
       "      <td>2019-11-06 00:00:00+03:00</td>\n",
       "      <td>in</td>\n",
       "      <td>False</td>\n",
       "      <td>891908.0</td>\n",
       "      <td>False</td>\n",
       "      <td>4.0</td>\n",
       "      <td>225.0</td>\n",
       "      <td>254.0</td>\n",
       "      <td>29.0</td>\n",
       "      <td>11.0</td>\n",
       "    </tr>\n",
       "    <tr>\n",
       "      <td>...</td>\n",
       "      <td>...</td>\n",
       "      <td>...</td>\n",
       "      <td>...</td>\n",
       "      <td>...</td>\n",
       "      <td>...</td>\n",
       "      <td>...</td>\n",
       "      <td>...</td>\n",
       "      <td>...</td>\n",
       "      <td>...</td>\n",
       "      <td>...</td>\n",
       "      <td>...</td>\n",
       "      <td>...</td>\n",
       "      <td>...</td>\n",
       "    </tr>\n",
       "    <tr>\n",
       "      <td>22403</td>\n",
       "      <td>166554</td>\n",
       "      <td>B</td>\n",
       "      <td>2019-08-08</td>\n",
       "      <td>NaT</td>\n",
       "      <td>NaN</td>\n",
       "      <td>NaN</td>\n",
       "      <td>NaN</td>\n",
       "      <td>NaN</td>\n",
       "      <td>NaN</td>\n",
       "      <td>NaN</td>\n",
       "      <td>NaN</td>\n",
       "      <td>NaN</td>\n",
       "      <td>NaN</td>\n",
       "    </tr>\n",
       "    <tr>\n",
       "      <td>22404</td>\n",
       "      <td>166911</td>\n",
       "      <td>B</td>\n",
       "      <td>2019-08-23</td>\n",
       "      <td>NaT</td>\n",
       "      <td>NaN</td>\n",
       "      <td>NaN</td>\n",
       "      <td>NaN</td>\n",
       "      <td>NaN</td>\n",
       "      <td>NaN</td>\n",
       "      <td>NaN</td>\n",
       "      <td>NaN</td>\n",
       "      <td>NaN</td>\n",
       "      <td>NaN</td>\n",
       "    </tr>\n",
       "    <tr>\n",
       "      <td>22405</td>\n",
       "      <td>167012</td>\n",
       "      <td>B</td>\n",
       "      <td>2019-08-28</td>\n",
       "      <td>NaT</td>\n",
       "      <td>NaN</td>\n",
       "      <td>NaN</td>\n",
       "      <td>NaN</td>\n",
       "      <td>NaN</td>\n",
       "      <td>NaN</td>\n",
       "      <td>NaN</td>\n",
       "      <td>NaN</td>\n",
       "      <td>NaN</td>\n",
       "      <td>NaN</td>\n",
       "    </tr>\n",
       "    <tr>\n",
       "      <td>22406</td>\n",
       "      <td>166867</td>\n",
       "      <td>B</td>\n",
       "      <td>2019-08-22</td>\n",
       "      <td>NaT</td>\n",
       "      <td>NaN</td>\n",
       "      <td>NaN</td>\n",
       "      <td>NaN</td>\n",
       "      <td>NaN</td>\n",
       "      <td>NaN</td>\n",
       "      <td>NaN</td>\n",
       "      <td>NaN</td>\n",
       "      <td>NaN</td>\n",
       "      <td>NaN</td>\n",
       "    </tr>\n",
       "    <tr>\n",
       "      <td>22407</td>\n",
       "      <td>166565</td>\n",
       "      <td>B</td>\n",
       "      <td>2019-08-08</td>\n",
       "      <td>NaT</td>\n",
       "      <td>NaN</td>\n",
       "      <td>NaN</td>\n",
       "      <td>NaN</td>\n",
       "      <td>NaN</td>\n",
       "      <td>NaN</td>\n",
       "      <td>NaN</td>\n",
       "      <td>NaN</td>\n",
       "      <td>NaN</td>\n",
       "      <td>NaN</td>\n",
       "    </tr>\n",
       "  </tbody>\n",
       "</table>\n",
       "<p>22408 rows × 13 columns</p>\n",
       "</div>"
      ],
      "text/plain": [
       "       user_id tariff_plan  date_start                      date direction  \\\n",
       "0       166713           A  2019-08-15 2019-08-22 00:00:00+03:00        in   \n",
       "1       166713           A  2019-08-15 2019-09-04 00:00:00+03:00        in   \n",
       "2       166713           A  2019-08-15 2019-09-19 00:00:00+03:00        in   \n",
       "3       166713           A  2019-08-15 2019-10-09 00:00:00+03:00        in   \n",
       "4       166713           A  2019-08-15 2019-11-06 00:00:00+03:00        in   \n",
       "...        ...         ...         ...                       ...       ...   \n",
       "22403   166554           B  2019-08-08                       NaT       NaN   \n",
       "22404   166911           B  2019-08-23                       NaT       NaN   \n",
       "22405   167012           B  2019-08-28                       NaT       NaN   \n",
       "22406   166867           B  2019-08-22                       NaT       NaN   \n",
       "22407   166565           B  2019-08-08                       NaT       NaN   \n",
       "\n",
       "      internal  operator_id is_missed_call  calls_count  call_duration  \\\n",
       "0        False     891908.0          False          4.0          538.0   \n",
       "1        False     891908.0          False          2.0           29.0   \n",
       "2        False     891908.0          False          3.0          321.0   \n",
       "3        False     891908.0          False          2.0           57.0   \n",
       "4        False     891908.0          False          4.0          225.0   \n",
       "...        ...          ...            ...          ...            ...   \n",
       "22403      NaN          NaN            NaN          NaN            NaN   \n",
       "22404      NaN          NaN            NaN          NaN            NaN   \n",
       "22405      NaN          NaN            NaN          NaN            NaN   \n",
       "22406      NaN          NaN            NaN          NaN            NaN   \n",
       "22407      NaN          NaN            NaN          NaN            NaN   \n",
       "\n",
       "       total_call_duration  waiting_time  month  \n",
       "0                    568.0          30.0    8.0  \n",
       "1                     51.0          22.0    9.0  \n",
       "2                    362.0          41.0    9.0  \n",
       "3                     78.0          21.0   10.0  \n",
       "4                    254.0          29.0   11.0  \n",
       "...                    ...           ...    ...  \n",
       "22403                  NaN           NaN    NaN  \n",
       "22404                  NaN           NaN    NaN  \n",
       "22405                  NaN           NaN    NaN  \n",
       "22406                  NaN           NaN    NaN  \n",
       "22407                  NaN           NaN    NaN  \n",
       "\n",
       "[22408 rows x 13 columns]"
      ]
     },
     "execution_count": 56,
     "metadata": {},
     "output_type": "execute_result"
    }
   ],
   "source": [
    "telecom_all = pd.merge(telecom_clients, telecom_dataset, how='outer', on ='user_id') \n",
    "telecom_all"
   ]
  },
  {
   "cell_type": "code",
   "execution_count": 57,
   "metadata": {},
   "outputs": [],
   "source": [
    "telecom_all = telecom_all.dropna()"
   ]
  },
  {
   "cell_type": "markdown",
   "metadata": {},
   "source": [
    "<div class=\"alert alert-block alert-danger\"> REV: You didn't save the result of dropna method. </div> "
   ]
  },
  {
   "cell_type": "markdown",
   "metadata": {},
   "source": [
    "average waiting time , ttest_ind \n",
    "\n",
    "NYArr = dataNY['profit'].sample(n=364, random_state=1)\n",
    "ELSEArr = dataElse['profit'].sample(n=364, random_state=1)\n",
    "alpha = .05\n",
    "results = st.ttest_ind(\n",
    "        NYArr, \n",
    "        ELSEArr,\n",
    "equal_var = False)\n",
    "print('p-value:', results.pvalue)"
   ]
  },
  {
   "cell_type": "code",
   "execution_count": 58,
   "metadata": {},
   "outputs": [],
   "source": [
    "telecom_A = telecom_all.query('tariff_plan == \"A\"').reset_index()\n",
    "telecom_B = telecom_all.query('tariff_plan == \"B\"').reset_index()\n",
    "telecom_C = telecom_all.query('tariff_plan == \"C\"').reset_index()"
   ]
  },
  {
   "cell_type": "code",
   "execution_count": 59,
   "metadata": {},
   "outputs": [
    {
     "data": {
      "text/plain": [
       "C    8181\n",
       "B    7709\n",
       "A    6055\n",
       "Name: tariff_plan, dtype: int64"
      ]
     },
     "execution_count": 59,
     "metadata": {},
     "output_type": "execute_result"
    }
   ],
   "source": [
    "telecom_all['tariff_plan'].value_counts()"
   ]
  },
  {
   "cell_type": "code",
   "execution_count": 60,
   "metadata": {},
   "outputs": [
    {
     "data": {
      "text/plain": [
       "222.93559042113955"
      ]
     },
     "metadata": {},
     "output_type": "display_data"
    },
    {
     "data": {
      "text/plain": [
       "165.5346997016474"
      ]
     },
     "metadata": {},
     "output_type": "display_data"
    },
    {
     "data": {
      "text/plain": [
       "166.09289817870675"
      ]
     },
     "metadata": {},
     "output_type": "display_data"
    }
   ],
   "source": [
    "display(telecom_A['waiting_time'].mean())\n",
    "display(telecom_B['waiting_time'].mean())\n",
    "display(telecom_C['waiting_time'].mean())"
   ]
  },
  {
   "cell_type": "code",
   "execution_count": 61,
   "metadata": {},
   "outputs": [
    {
     "data": {
      "text/plain": [
       "101034.51815002714"
      ]
     },
     "metadata": {},
     "output_type": "display_data"
    },
    {
     "data": {
      "text/plain": [
       "49032.01374777242"
      ]
     },
     "metadata": {},
     "output_type": "display_data"
    },
    {
     "data": {
      "text/plain": [
       "46020.06642999807"
      ]
     },
     "metadata": {},
     "output_type": "display_data"
    }
   ],
   "source": [
    "display(telecom_A['waiting_time'].var())\n",
    "display(telecom_B['waiting_time'].var())\n",
    "display(telecom_C['waiting_time'].var())"
   ]
  },
  {
   "cell_type": "markdown",
   "metadata": {},
   "source": [
    "The zero hypothesis(H0) is that the means for the waiting time column between three tarifs are the same. Alternative hypothesis H1 is that the the means are not equal. "
   ]
  },
  {
   "cell_type": "markdown",
   "metadata": {},
   "source": [
    "I chose equal_var = False because there is no reason to assume equal population variances."
   ]
  },
  {
   "cell_type": "code",
   "execution_count": 62,
   "metadata": {},
   "outputs": [
    {
     "data": {
      "text/plain": [
       "'p-value:'"
      ]
     },
     "metadata": {},
     "output_type": "display_data"
    },
    {
     "data": {
      "text/plain": [
       "1.3526371789080575e-31"
      ]
     },
     "metadata": {},
     "output_type": "display_data"
    }
   ],
   "source": [
    "A_Arr = telecom_A['waiting_time'].sample(n=6055, random_state=1)\n",
    "B_Arr = telecom_B['waiting_time'].sample(n=6055, random_state=1)\n",
    "C_Arr = telecom_C['waiting_time'].sample(n=6055, random_state=1)\n",
    "alpha = .05\n",
    "results1 = st.ttest_ind(\n",
    "        A_Arr, \n",
    "        B_Arr,\n",
    "equal_var = False)\n",
    "display('p-value:', results1.pvalue)"
   ]
  },
  {
   "cell_type": "code",
   "execution_count": 63,
   "metadata": {},
   "outputs": [
    {
     "data": {
      "text/plain": [
       "'p-value:'"
      ]
     },
     "metadata": {},
     "output_type": "display_data"
    },
    {
     "data": {
      "text/plain": [
       "1.1851778144554812e-28"
      ]
     },
     "metadata": {},
     "output_type": "display_data"
    }
   ],
   "source": [
    "results2 = st.ttest_ind(\n",
    "        A_Arr, \n",
    "        C_Arr,\n",
    "equal_var = False)\n",
    "display('p-value:', results2.pvalue)"
   ]
  },
  {
   "cell_type": "code",
   "execution_count": 64,
   "metadata": {},
   "outputs": [
    {
     "data": {
      "text/plain": [
       "'p-value:'"
      ]
     },
     "metadata": {},
     "output_type": "display_data"
    },
    {
     "data": {
      "text/plain": [
       "0.4196359892367836"
      ]
     },
     "metadata": {},
     "output_type": "display_data"
    }
   ],
   "source": [
    "results3 = st.ttest_ind(\n",
    "        B_Arr, \n",
    "        C_Arr,\n",
    "equal_var = False)\n",
    "display('p-value:', results3.pvalue)"
   ]
  },
  {
   "cell_type": "markdown",
   "metadata": {},
   "source": [
    "In the first two cases we can see that the p-value is lower than alpha value, so we have to reject the zero hypothesis. We have reject the zero hypothesis. That means, we can be sure that the means between these columns are different. However, if we look at the p-value for the B and C columns, we can see that the p-value is higher alpha. This means that for the last two tarifs we can't regect the zero hypothesis. We can't be sure that the means between these columns are different."
   ]
  },
  {
   "cell_type": "markdown",
   "metadata": {},
   "source": [
    "<div class=\"alert alert-block alert-danger\"> REV: This is super weird table. How can you use 'waiting_time' as indexes? I don't understand for what purposes you need this table. You wrote what you're going to test 'The average waiting time is different between operators.' But in this case you should group the data by operator_ids. But, as I remember, I lot of operators have a few number of rows, so for them you can't carry any tests. Also, maybe, some operators works only with one tariffs and so you can't compare them with operators from another tariff. You should ckeck it before. Actually, I believe you chose not good hypotheses for test. Maybe it's better to choose something simpler? For instance, average waiting time for different tariffs and so on? There are lot of differnt hypotheses which you can choose. So, please, do it:) If you will choose suggested hypothesis you need to use another statisitcal test, for instance, ttest_ind. Or you can just remove the block with this hypothesis. To complete the project it's okay to test at least one hypothesis. </div> "
   ]
  },
  {
   "cell_type": "markdown",
   "metadata": {},
   "source": [
    "<div class=\"alert alert-block alert-info\"> I have tried to change the hypothesis and the testing the way you suggested, hope it's correct. </div> "
   ]
  },
  {
   "cell_type": "code",
   "execution_count": 65,
   "metadata": {},
   "outputs": [
    {
     "data": {
      "text/html": [
       "<div>\n",
       "<style scoped>\n",
       "    .dataframe tbody tr th:only-of-type {\n",
       "        vertical-align: middle;\n",
       "    }\n",
       "\n",
       "    .dataframe tbody tr th {\n",
       "        vertical-align: top;\n",
       "    }\n",
       "\n",
       "    .dataframe thead th {\n",
       "        text-align: right;\n",
       "    }\n",
       "</style>\n",
       "<table border=\"1\" class=\"dataframe\">\n",
       "  <thead>\n",
       "    <tr style=\"text-align: right;\">\n",
       "      <th>tariff_plan</th>\n",
       "      <th>is_missed_call</th>\n",
       "      <th>A</th>\n",
       "      <th>B</th>\n",
       "      <th>C</th>\n",
       "    </tr>\n",
       "  </thead>\n",
       "  <tbody>\n",
       "    <tr>\n",
       "      <td>0</td>\n",
       "      <td>False</td>\n",
       "      <td>31</td>\n",
       "      <td>91</td>\n",
       "      <td>147</td>\n",
       "    </tr>\n",
       "    <tr>\n",
       "      <td>1</td>\n",
       "      <td>True</td>\n",
       "      <td>8</td>\n",
       "      <td>7</td>\n",
       "      <td>5</td>\n",
       "    </tr>\n",
       "  </tbody>\n",
       "</table>\n",
       "</div>"
      ],
      "text/plain": [
       "tariff_plan  is_missed_call   A   B    C\n",
       "0                     False  31  91  147\n",
       "1                      True   8   7    5"
      ]
     },
     "execution_count": 65,
     "metadata": {},
     "output_type": "execute_result"
    }
   ],
   "source": [
    "pivot2 = telecom_all.pivot_table(index='is_missed_call', columns = 'tariff_plan', values='user_id', aggfunc=lambda x: x.nunique()).reset_index()\n",
    "pivot2"
   ]
  },
  {
   "cell_type": "code",
   "execution_count": 66,
   "metadata": {},
   "outputs": [
    {
     "data": {
      "text/html": [
       "<div>\n",
       "<style scoped>\n",
       "    .dataframe tbody tr th:only-of-type {\n",
       "        vertical-align: middle;\n",
       "    }\n",
       "\n",
       "    .dataframe tbody tr th {\n",
       "        vertical-align: top;\n",
       "    }\n",
       "\n",
       "    .dataframe thead th {\n",
       "        text-align: right;\n",
       "    }\n",
       "</style>\n",
       "<table border=\"1\" class=\"dataframe\">\n",
       "  <thead>\n",
       "    <tr style=\"text-align: right;\">\n",
       "      <th>tariff_plan</th>\n",
       "      <th>is_missed_call</th>\n",
       "      <th>A</th>\n",
       "      <th>B</th>\n",
       "      <th>C</th>\n",
       "    </tr>\n",
       "  </thead>\n",
       "  <tbody>\n",
       "    <tr>\n",
       "      <td>0</td>\n",
       "      <td>False</td>\n",
       "      <td>31</td>\n",
       "      <td>91</td>\n",
       "      <td>147</td>\n",
       "    </tr>\n",
       "    <tr>\n",
       "      <td>1</td>\n",
       "      <td>True</td>\n",
       "      <td>8</td>\n",
       "      <td>7</td>\n",
       "      <td>5</td>\n",
       "    </tr>\n",
       "  </tbody>\n",
       "</table>\n",
       "</div>"
      ],
      "text/plain": [
       "tariff_plan  is_missed_call   A   B    C\n",
       "0                     False  31  91  147\n",
       "1                      True   8   7    5"
      ]
     },
     "execution_count": 66,
     "metadata": {},
     "output_type": "execute_result"
    }
   ],
   "source": [
    "pivot2 = pivot2.dropna()\n",
    "pivot2"
   ]
  },
  {
   "cell_type": "code",
   "execution_count": 67,
   "metadata": {},
   "outputs": [],
   "source": [
    "def check_hypothesis2(group1, group2, event, alpha=0.5):\n",
    "    success1 = pivot2[pivot2.is_missed_call==event][group1].iloc[0]\n",
    "    success2 = pivot2[pivot2.is_missed_call==event][group2].iloc[0]\n",
    "    \n",
    "    trials1 = telecom_all[telecom_all.tariff_plan==group1]['user_id'].nunique()\n",
    "    trials2 = telecom_all[telecom_all.tariff_plan==group2]['user_id'].nunique()\n",
    "    \n",
    "    p1 = success1/trials1\n",
    "\n",
    "    p2 = success2/trials2\n",
    "\n",
    "    p_combined = (success1 +  success2) / (trials1 + trials2)\n",
    "\n",
    "    difference = p1 - p2 \n",
    "\n",
    "    z_value = difference / mth.sqrt(p_combined + (1 - p_combined) * (1/trials1 + 1/trials2))\n",
    "\n",
    "    distr = st.norm(0, 1)\n",
    "\n",
    "    p_value = ( 1 - distr.cdf(abs(z_value))) * 2\n",
    "    \n",
    "    print('p_value:' , p_value)\n",
    "    \n",
    "    if (p_value < alpha):\n",
    "        print(\"Rejecting the null hypothesis: there IS a significant difference between proportions for the  two control groups for\", event, \"between groups\", group1, group2)\n",
    "    else:\n",
    "        print(\"Failed to reject the null hypothesis: there is no reason to consider the difference between proportions for the\", event, \"between groups\", group1, group2, \"significant\")"
   ]
  },
  {
   "cell_type": "code",
   "execution_count": 68,
   "metadata": {},
   "outputs": [
    {
     "name": "stdout",
     "output_type": "stream",
     "text": [
      "False\n",
      "p_value: 1.0\n",
      "Failed to reject the null hypothesis: there is no reason to consider the difference between proportions for the False between groups A B significant\n",
      "True\n",
      "p_value: 0.6515481795929139\n",
      "Failed to reject the null hypothesis: there is no reason to consider the difference between proportions for the True between groups A B significant\n"
     ]
    }
   ],
   "source": [
    "for i in pivot2.is_missed_call.unique():\n",
    "    print(i)\n",
    "    check_hypothesis2('A' ,'B' ,i, alpha=0.05)"
   ]
  },
  {
   "cell_type": "code",
   "execution_count": 69,
   "metadata": {},
   "outputs": [
    {
     "name": "stdout",
     "output_type": "stream",
     "text": [
      "False\n",
      "p_value: 1.0\n",
      "Failed to reject the null hypothesis: there is no reason to consider the difference between proportions for the False between groups A C significant\n",
      "True\n",
      "p_value: 0.4978481883463295\n",
      "Failed to reject the null hypothesis: there is no reason to consider the difference between proportions for the True between groups A C significant\n"
     ]
    }
   ],
   "source": [
    "for i in pivot2.is_missed_call.unique():\n",
    "    print(i)\n",
    "    check_hypothesis2('A' ,'C' ,i, alpha=0.05)"
   ]
  },
  {
   "cell_type": "code",
   "execution_count": 70,
   "metadata": {},
   "outputs": [
    {
     "name": "stdout",
     "output_type": "stream",
     "text": [
      "False\n",
      "p_value: 1.0\n",
      "Failed to reject the null hypothesis: there is no reason to consider the difference between proportions for the False between groups B C significant\n",
      "True\n",
      "p_value: 0.8686404662729392\n",
      "Failed to reject the null hypothesis: there is no reason to consider the difference between proportions for the True between groups B C significant\n"
     ]
    }
   ],
   "source": [
    "for i in pivot2.is_missed_call.unique():\n",
    "    print(i)\n",
    "    check_hypothesis2('B' ,'C' ,i, alpha=0.05)"
   ]
  },
  {
   "cell_type": "code",
   "execution_count": 71,
   "metadata": {},
   "outputs": [
    {
     "data": {
      "text/html": [
       "<div>\n",
       "<style scoped>\n",
       "    .dataframe tbody tr th:only-of-type {\n",
       "        vertical-align: middle;\n",
       "    }\n",
       "\n",
       "    .dataframe tbody tr th {\n",
       "        vertical-align: top;\n",
       "    }\n",
       "\n",
       "    .dataframe thead th {\n",
       "        text-align: right;\n",
       "    }\n",
       "</style>\n",
       "<table border=\"1\" class=\"dataframe\">\n",
       "  <thead>\n",
       "    <tr style=\"text-align: right;\">\n",
       "      <th>tariff_plan</th>\n",
       "      <th>direction</th>\n",
       "      <th>A</th>\n",
       "      <th>B</th>\n",
       "      <th>C</th>\n",
       "    </tr>\n",
       "  </thead>\n",
       "  <tbody>\n",
       "    <tr>\n",
       "      <td>0</td>\n",
       "      <td>in</td>\n",
       "      <td>27</td>\n",
       "      <td>83</td>\n",
       "      <td>136</td>\n",
       "    </tr>\n",
       "    <tr>\n",
       "      <td>1</td>\n",
       "      <td>out</td>\n",
       "      <td>26</td>\n",
       "      <td>78</td>\n",
       "      <td>86</td>\n",
       "    </tr>\n",
       "  </tbody>\n",
       "</table>\n",
       "</div>"
      ],
      "text/plain": [
       "tariff_plan direction   A   B    C\n",
       "0                  in  27  83  136\n",
       "1                 out  26  78   86"
      ]
     },
     "execution_count": 71,
     "metadata": {},
     "output_type": "execute_result"
    }
   ],
   "source": [
    "pivot3 = telecom_all.pivot_table(index='direction', columns = 'tariff_plan', values='user_id', aggfunc=lambda x: x.nunique()).reset_index()\n",
    "pivot3"
   ]
  },
  {
   "cell_type": "code",
   "execution_count": 72,
   "metadata": {},
   "outputs": [
    {
     "data": {
      "text/html": [
       "<div>\n",
       "<style scoped>\n",
       "    .dataframe tbody tr th:only-of-type {\n",
       "        vertical-align: middle;\n",
       "    }\n",
       "\n",
       "    .dataframe tbody tr th {\n",
       "        vertical-align: top;\n",
       "    }\n",
       "\n",
       "    .dataframe thead th {\n",
       "        text-align: right;\n",
       "    }\n",
       "</style>\n",
       "<table border=\"1\" class=\"dataframe\">\n",
       "  <thead>\n",
       "    <tr style=\"text-align: right;\">\n",
       "      <th>tariff_plan</th>\n",
       "      <th>direction</th>\n",
       "      <th>A</th>\n",
       "      <th>B</th>\n",
       "      <th>C</th>\n",
       "    </tr>\n",
       "  </thead>\n",
       "  <tbody>\n",
       "    <tr>\n",
       "      <td>0</td>\n",
       "      <td>in</td>\n",
       "      <td>27</td>\n",
       "      <td>83</td>\n",
       "      <td>136</td>\n",
       "    </tr>\n",
       "    <tr>\n",
       "      <td>1</td>\n",
       "      <td>out</td>\n",
       "      <td>26</td>\n",
       "      <td>78</td>\n",
       "      <td>86</td>\n",
       "    </tr>\n",
       "  </tbody>\n",
       "</table>\n",
       "</div>"
      ],
      "text/plain": [
       "tariff_plan direction   A   B    C\n",
       "0                  in  27  83  136\n",
       "1                 out  26  78   86"
      ]
     },
     "execution_count": 72,
     "metadata": {},
     "output_type": "execute_result"
    }
   ],
   "source": [
    "pivot3 = pivot3.dropna()\n",
    "pivot3"
   ]
  },
  {
   "cell_type": "code",
   "execution_count": 73,
   "metadata": {},
   "outputs": [],
   "source": [
    "def check_hypothesis3(group1, group2, event, alpha=0.5):\n",
    "    success1 = pivot3[pivot3.direction==event][group1].iloc[0]\n",
    "    success2 = pivot3[pivot3.direction==event][group2].iloc[0]\n",
    "    \n",
    "    trials1 = telecom_all[telecom_all.tariff_plan==group1]['user_id'].nunique()\n",
    "    trials2 = telecom_all[telecom_all.tariff_plan==group2]['user_id'].nunique()\n",
    "    \n",
    "    p1 = success1/trials1\n",
    "\n",
    "    p2 = success2/trials2\n",
    "\n",
    "    p_combined = (success1 +  success2) / (trials1 + trials2)\n",
    "\n",
    "    difference = p1 - p2 \n",
    "\n",
    "    z_value = difference / mth.sqrt(p_combined + (1 - p_combined) * (1/trials1 + 1/trials2))\n",
    "\n",
    "    distr = st.norm(0, 1)\n",
    "\n",
    "    p_value = ( 1 - distr.cdf(abs(z_value))) * 2\n",
    "    \n",
    "    print('p_value:' , p_value)\n",
    "    \n",
    "    if (p_value < alpha):\n",
    "        print(\"Rejecting the null hypothesis: there IS a significant difference between proportions for the  two control groups for\", event, \"between groups\", group1, group2)\n",
    "    else:\n",
    "        print(\"Failed to reject the null hypothesis: there is no reason to consider the difference between proportions for the\", event, \"between groups\", group1, group2, \"significant\")"
   ]
  },
  {
   "cell_type": "code",
   "execution_count": 74,
   "metadata": {},
   "outputs": [
    {
     "name": "stdout",
     "output_type": "stream",
     "text": [
      "in\n",
      "p_value: 0.9655395147153465\n",
      "Failed to reject the null hypothesis: there is no reason to consider the difference between proportions for the in between groups A B significant\n",
      "out\n",
      "p_value: 0.9841307786044644\n",
      "Failed to reject the null hypothesis: there is no reason to consider the difference between proportions for the out between groups A B significant\n"
     ]
    }
   ],
   "source": [
    "for i in pivot3.direction.unique():\n",
    "    print(i)\n",
    "    check_hypothesis3('A' ,'B' ,i, alpha=0.05)"
   ]
  },
  {
   "cell_type": "code",
   "execution_count": 75,
   "metadata": {},
   "outputs": [
    {
     "name": "stdout",
     "output_type": "stream",
     "text": [
      "in\n",
      "p_value: 0.9549117169323189\n",
      "Failed to reject the null hypothesis: there is no reason to consider the difference between proportions for the in between groups A C significant\n",
      "out\n",
      "p_value: 0.7518638039224608\n",
      "Failed to reject the null hypothesis: there is no reason to consider the difference between proportions for the out between groups A C significant\n"
     ]
    }
   ],
   "source": [
    "for i in pivot3.direction.unique():\n",
    "    print(i)\n",
    "    check_hypothesis3('A' ,'C' ,i, alpha=0.05)"
   ]
  },
  {
   "cell_type": "code",
   "execution_count": 76,
   "metadata": {},
   "outputs": [
    {
     "name": "stdout",
     "output_type": "stream",
     "text": [
      "in\n",
      "p_value: 0.9891272991757656\n",
      "Failed to reject the null hypothesis: there is no reason to consider the difference between proportions for the in between groups B C significant\n",
      "out\n",
      "p_value: 0.7440519283706695\n",
      "Failed to reject the null hypothesis: there is no reason to consider the difference between proportions for the out between groups B C significant\n"
     ]
    }
   ],
   "source": [
    "for i in pivot3.direction.unique():\n",
    "    print(i)\n",
    "    check_hypothesis3('B' ,'C' ,i, alpha=0.05)"
   ]
  },
  {
   "cell_type": "code",
   "execution_count": 77,
   "metadata": {},
   "outputs": [
    {
     "data": {
      "text/plain": [
       "tariff_plan\n",
       "A    278\n",
       "B    319\n",
       "C    326\n",
       "Name: operator_id, dtype: int64"
      ]
     },
     "execution_count": 77,
     "metadata": {},
     "output_type": "execute_result"
    }
   ],
   "source": [
    "telecom_all.groupby('tariff_plan')['operator_id'].nunique()"
   ]
  },
  {
   "cell_type": "markdown",
   "metadata": {},
   "source": [
    "I checked statistical difference between tariffs for the columns call direction and missed call. The H0 is that there is no significant difference between proportions for groups for the given column; H1 is that there is. For all groups we failed to reject the null hypothesis: there is no reason to consider the difference between proportions for the out between groups significant."
   ]
  },
  {
   "cell_type": "markdown",
   "metadata": {},
   "source": [
    "<div class=\"alert alert-block alert-danger\"> REV: You didn't test differences in any statistics between different operators. You just tested some statistics between different tariffs. So you can't make such conclusion. </div> "
   ]
  },
  {
   "cell_type": "code",
   "execution_count": 78,
   "metadata": {},
   "outputs": [],
   "source": [
    "telecom_dataset_out = telecom_dataset.query('direction == \"out\"').reset_index()"
   ]
  },
  {
   "cell_type": "code",
   "execution_count": 79,
   "metadata": {},
   "outputs": [
    {
     "data": {
      "text/plain": [
       "operator_id\n",
       "941736.0    1\n",
       "924544.0    1\n",
       "925134.0    1\n",
       "892534.0    1\n",
       "892536.0    1\n",
       "940788.0    1\n",
       "892798.0    1\n",
       "892800.0    1\n",
       "901034.0    1\n",
       "896386.0    1\n",
       "Name: direction, dtype: int64"
      ]
     },
     "execution_count": 79,
     "metadata": {},
     "output_type": "execute_result"
    }
   ],
   "source": [
    "least_outgoing = telecom_dataset_out.groupby('operator_id')['direction'].count().sort_values(ascending=False)\n",
    "least_outgoing.tail(10)"
   ]
  },
  {
   "cell_type": "code",
   "execution_count": 92,
   "metadata": {},
   "outputs": [
    {
     "data": {
      "text/plain": [
       "1      82\n",
       "2      68\n",
       "3      40\n",
       "5      34\n",
       "4      33\n",
       "       ..\n",
       "108     1\n",
       "47      1\n",
       "48      1\n",
       "49      1\n",
       "109     1\n",
       "Name: direction, Length: 85, dtype: int64"
      ]
     },
     "execution_count": 92,
     "metadata": {},
     "output_type": "execute_result"
    }
   ],
   "source": [
    "least_outgoing.value_counts()"
   ]
  },
  {
   "cell_type": "code",
   "execution_count": 80,
   "metadata": {},
   "outputs": [
    {
     "data": {
      "image/png": "[encoded data removed]",
      "text/plain": [
       "<Figure size 432x288 with 1 Axes>"
      ]
     },
     "metadata": {
      "needs_background": "light"
     },
     "output_type": "display_data"
    }
   ],
   "source": [
    "plt.hist(least_outgoing, bins=50) \n",
    "plt.xticks(rotation=90)\n",
    "plt.xlabel('Number of outgoing calls')\n",
    "plt.ylabel('operators')\n",
    "plt.title('Average number of outgoing calls per operator')\n",
    "plt.show()"
   ]
  },
  {
   "cell_type": "markdown",
   "metadata": {},
   "source": [
    "We can see that the majority of operators actually don't have many outgoing calls."
   ]
  },
  {
   "cell_type": "markdown",
   "metadata": {},
   "source": [
    "Below we can see slices of data that would help us analyze all three necessary metrics: missed calls, number of outgoing calls and waiting time."
   ]
  },
  {
   "cell_type": "code",
   "execution_count": 81,
   "metadata": {},
   "outputs": [
    {
     "data": {
      "text/plain": [
       "39.0    7\n",
       "26.0    6\n",
       "40.0    5\n",
       "21.0    5\n",
       "2.0     5\n",
       "37.0    5\n",
       "30.0    4\n",
       "28.0    4\n",
       "27.0    4\n",
       "25.0    4\n",
       "46.0    4\n",
       "47.0    4\n",
       "11.0    4\n",
       "18.0    3\n",
       "24.0    3\n",
       "32.5    3\n",
       "81.0    3\n",
       "8.0     3\n",
       "51.0    3\n",
       "10.0    3\n",
       "Name: waiting_time, dtype: int64"
      ]
     },
     "execution_count": 81,
     "metadata": {},
     "output_type": "execute_result"
    }
   ],
   "source": [
    "waiting.value_counts().head(20)"
   ]
  },
  {
   "cell_type": "code",
   "execution_count": 82,
   "metadata": {},
   "outputs": [
    {
     "data": {
      "text/plain": [
       "66     2\n",
       "64     2\n",
       "56     2\n",
       "46     2\n",
       "84     2\n",
       "35     2\n",
       "51     2\n",
       "91     1\n",
       "88     1\n",
       "92     1\n",
       "78     1\n",
       "83     1\n",
       "82     1\n",
       "87     1\n",
       "103    1\n",
       "90     1\n",
       "63     1\n",
       "74     1\n",
       "73     1\n",
       "72     1\n",
       "70     1\n",
       "69     1\n",
       "59     1\n",
       "57     1\n",
       "42     1\n",
       "108    1\n",
       "47     1\n",
       "48     1\n",
       "49     1\n",
       "109    1\n",
       "Name: direction, dtype: int64"
      ]
     },
     "execution_count": 82,
     "metadata": {},
     "output_type": "execute_result"
    }
   ],
   "source": [
    "least_outgoing.value_counts().tail(30)"
   ]
  },
  {
   "cell_type": "code",
   "execution_count": 83,
   "metadata": {},
   "outputs": [
    {
     "data": {
      "text/plain": [
       "1     25\n",
       "2      8\n",
       "3      4\n",
       "4      2\n",
       "6      2\n",
       "11     1\n",
       "12     1\n",
       "Name: is_missed_call, dtype: int64"
      ]
     },
     "execution_count": 83,
     "metadata": {},
     "output_type": "execute_result"
    }
   ],
   "source": [
    "missed.value_counts().sort_values(ascending=False)"
   ]
  },
  {
   "cell_type": "code",
   "execution_count": 98,
   "metadata": {},
   "outputs": [
    {
     "data": {
      "text/plain": [
       "39.000000     7\n",
       "26.000000     6\n",
       "40.000000     5\n",
       "21.000000     5\n",
       "2.000000      5\n",
       "             ..\n",
       "71.670886     1\n",
       "43.363636     1\n",
       "80.333333     1\n",
       "57.200000     1\n",
       "193.950000    1\n",
       "Name: waiting_time, Length: 794, dtype: int64"
      ]
     },
     "execution_count": 98,
     "metadata": {},
     "output_type": "execute_result"
    }
   ],
   "source": [
    "waiting.value_counts().sort_values(ascending=False)"
   ]
  },
  {
   "cell_type": "code",
   "execution_count": 84,
   "metadata": {},
   "outputs": [
    {
     "data": {
      "text/plain": [
       "count    43.000000\n",
       "mean      2.232558\n",
       "std       2.428376\n",
       "min       1.000000\n",
       "25%       1.000000\n",
       "50%       1.000000\n",
       "75%       2.000000\n",
       "max      12.000000\n",
       "Name: is_missed_call, dtype: float64"
      ]
     },
     "metadata": {},
     "output_type": "display_data"
    },
    {
     "data": {
      "text/plain": [
       "count    719.000000\n",
       "mean      17.906815\n",
       "std       20.115639\n",
       "min        1.000000\n",
       "25%        3.000000\n",
       "50%       10.000000\n",
       "75%       25.000000\n",
       "max      109.000000\n",
       "Name: direction, dtype: float64"
      ]
     },
     "metadata": {},
     "output_type": "display_data"
    },
    {
     "data": {
      "text/plain": [
       "count     923.000000\n",
       "mean      189.063830\n",
       "std       263.325125\n",
       "min         1.500000\n",
       "25%        39.633333\n",
       "50%        77.043478\n",
       "75%       210.045455\n",
       "max      1544.000000\n",
       "Name: waiting_time, dtype: float64"
      ]
     },
     "metadata": {},
     "output_type": "display_data"
    }
   ],
   "source": [
    "display(missed.describe())\n",
    "display(least_outgoing.describe())\n",
    "display(waiting.describe())"
   ]
  },
  {
   "cell_type": "markdown",
   "metadata": {},
   "source": [
    "For missed calls we can see a clear threshold that was also visible on the histogram. I would say that more than 4 missed calls is an outlier. For the others it is way harder. So, I've also looked at mean, median and standard deviation for this data.\n",
    "After that I stil couldn't decide on a threshold, so I decided to look at 90, 95 and 99 percentiles for the waiting time and 5, 10, 15 for the outgoing calls since we are actually searching for the opposite, the smallest number of calls. "
   ]
  },
  {
   "cell_type": "code",
   "execution_count": 85,
   "metadata": {},
   "outputs": [
    {
     "name": "stdout",
     "output_type": "stream",
     "text": [
      "[1. 1. 1.]\n"
     ]
    }
   ],
   "source": [
    "print(np.percentile(least_outgoing, [1, 5, 10])) "
   ]
  },
  {
   "cell_type": "code",
   "execution_count": 86,
   "metadata": {},
   "outputs": [
    {
     "name": "stdout",
     "output_type": "stream",
     "text": [
      "[ 549.62222222  841.2375     1152.988     ]\n"
     ]
    }
   ],
   "source": [
    "print(np.percentile(waiting, [90, 95, 99])) "
   ]
  },
  {
   "cell_type": "code",
   "execution_count": 87,
   "metadata": {},
   "outputs": [
    {
     "name": "stdout",
     "output_type": "stream",
     "text": [
      "[ 4.    6.   11.58]\n"
     ]
    }
   ],
   "source": [
    "print(np.percentile(missed, [90, 95, 99])) "
   ]
  },
  {
   "cell_type": "markdown",
   "metadata": {},
   "source": [
    "After looking at this I decided that it would be reasonable to put the threshold at 90% (549 for waiting time and 1 call for least outgoing calls) since that is what I did with the missed calls and you can also see that threshold on the histogram."
   ]
  },
  {
   "cell_type": "markdown",
   "metadata": {},
   "source": [
    "<div class=\"alert alert-block alert-danger\"> REV: The hypotheses shouldn't help you to separate opeartors into effective and ineffective ones. You should analyse number of missed incoming calls, long waiting time for incoming calls and number of outgoing calls and suggest a threshold for each mentioned creteria. After it you should suggest a method of aggregating these 3 creterias into one to decicede which operator is ineffective and which one is not. You can't just write a list of operator_ids and call them ineffective ones without any explained reason. </div> "
   ]
  },
  {
   "cell_type": "markdown",
   "metadata": {},
   "source": [
    "<div class=\"alert alert-block alert-danger\"> REV: Doesn't work. There is no variable tail.  </div> "
   ]
  },
  {
   "cell_type": "markdown",
   "metadata": {},
   "source": [
    "<div class=\"alert alert-block alert-danger\"> REV2: The situation is better now, but you ignored one of my requests in the previous message: 'After it you should suggest a method of aggregating these 3 creterias into one to decicede which operator is ineffective and which one is not.' You wrote 3 thresholds now, but you didn't write which operators should be considered as ineffective one. Maybe all 3 conditions must be met, or maybe only 2 or even 1 condition is enough. So you should write it explicitly.  </div> \n"
   ]
  },
  {
   "cell_type": "markdown",
   "metadata": {},
   "source": [
    "<div class=\"alert alert-block alert-info\"> Sorry, I forgot to save that cell last time! </div> "
   ]
  },
  {
   "cell_type": "markdown",
   "metadata": {},
   "source": [
    "I think we should consider the operators that meet all the conditions ineffective. If they only meet one condition, the situation might not be too bad. If there are few outgoing calls, this probably means that it is not very profitable for the customers to make them, but the operator may conpensate for it in other fields. If there is a long waiting time but there still is a decent number of outgoing calls and not many missed calls it is reasonable to assume that the operator is still making profit despite the long waiting time. As for missed calls, I suspect that the situation with them is highly individual. The number of them may depend on the behavior of specific users. Out of all three metrics this is the one the operator has least control over, in my opinion. "
   ]
  },
  {
   "cell_type": "code",
   "execution_count": null,
   "metadata": {},
   "outputs": [],
   "source": []
  },
  {
   "cell_type": "markdown",
   "metadata": {},
   "source": [
    "## General conclusion. \n",
    "\n",
    "Above I found the operators that have, in my opinion longest waiting time, most missing calls and least outgoing calls. \n",
    "Also, the the hypothesis test lead me to determine that there is a significant statistical difference in waiting time between tariff A and the others. There may be a connection: the operators for this tarif appear to have significantly different waiting time. \n",
    "\n",
    "### Introduction \n",
    "I think we should consider the operators ineffective if they go over all the afor mentioned threshold for the three important metrics mentioned above, meaning that the values for this metrics fall in 90 percentile for missed calls and waiting time and 10 percentile for outgoing calls. \n",
    "\n",
    "### Missing calls \n",
    "Overall the situation with missing calls is surprisingly good. The vast majority of operators (880) actually take 100% of calls. On the other hand, there are overall very few outgoing calls. The majority of users only make one or two. Because of this I decided to only remove the operators only if they fail in all three categories. \n",
    "\n",
    "###  Waiting time\n",
    "When it comes to waiting time I find it interesting that 50% of operators have average waiting time below 77, 75% is below 210, 90% below 550, but the maximum mean waiting time is 1500+. This means to me that everything above 90% is probably unprofitable.\n",
    "\n",
    "### Tariffs\n",
    "There was an interesting finding related to tariffs. It seems that tariff A is unique; there is a statistical difference between this one an the others for the waiting time column. I would suggest to research it further. A has significantly shorter or longer waiting time and we should fond out which; this way we may also find correlation between tariff and profitability.  \n",
    "\n",
    "### Correlation\n",
    "There was also an interesting situation with correlation. The columns waiting_time, call duration and total_call_duration have very high correlation with calls count; this means they must have influence on the number of calls. This is something that varrants further research. In my opinion the correlation is that people who have longer calls also have them more often. This means that the length of the call can help determine the profitability of the operator. Because of this, I was very careful when defining unprofitable operators based on waiting time. I only blacklisted the 10% of operators with longest average waiting time, because the length of it is likely related to the total number of calls, and if there are many calls the operator is not losing money.\n",
    "\n",
    "### General principle\n",
    "Overall I was very cautious when deciding the improfitable operators. I explained the situation with waiting time above. When it comes to other metrics, I was also cautious for the following reasons.With missing time I decided not to remove too much because there are very few of them overall. As you can see, 90% of the time there are only 4 of them or less. With such low numbers the difference may be due to the behavior of individual users.\n",
    "\n",
    "### Outgoing calls\n",
    "When it comes to outgoing calls the situation is the opposite. There are overal very few of them across all operators. We can see that in 50% cases there are 10 of them or less and one fourth of operators have 3 or less. I decided to only deem the bottom 10% unprofitable with only one outgoing call because otherwise I'd have to remove too much. \n",
    "\n",
    "### Operators underperforming in one category\n",
    "In my opinion the operator underperforming in just one category does not necessairily condemn it. It could still perform well in others. That is especially true for waiting time since the long waiting time may be related to the overall number of calls and in this case it would not be unprofitable. \n",
    "\n",
    "### Operators underperforming in two categories\n",
    "Even two metrics are not enough in my opinion. For example, one operator could have 6 missed calls and long missing time; however, the call count may be high and the missed calls may be related to the behavior of specific users. Similarly, the operator may have few outgoing calls and many missed calls, but many calls overall and low waiting time. While few outgoing calls is concerning and needs to be researched, the operator may still be profitable.\n",
    "\n",
    "### Final conclusions\n",
    "These are all the conclusions for now. I would suggest that the operators that go beyond the threshold for all three metrics are most likely to be unprofitable; however, I would also recommend to research call count. I think it influences the profitability as well, we should concidet the overall number of calls. Also, the more calls we have the easier it is to analyse customer behavior. The data from users with a significant number of calls is more reliable in my opinion, the more the better."
   ]
  },
  {
   "cell_type": "markdown",
   "metadata": {},
   "source": [
    "<div class=\"alert alert-block alert-danger\"> REV2: The final conclusion should be more detail. You should write about all your important findings which you detect during the project. The idea is that your boss or someone else can read just you final conclusion and understand all your conducted work. The final conclusion should show your project in the most valuable way. You should impress everyone by it. Also, maybe adding some important numbers would be a good idea. </div> "
   ]
  },
  {
   "cell_type": "markdown",
   "metadata": {},
   "source": [
    "Tableau link: https://public.tableau.com/views/Dashboard_16193914866470/Dashboard1?:language=en&:display_count=y&:origin=viz_share_link"
   ]
  },
  {
   "cell_type": "markdown",
   "metadata": {},
   "source": [
    "Presentation: https://docs.google.com/presentation/d/1KcUA32RkxC6J0u1TUYREkaCpENqzc_D2KHdqaEdc9v4/edit?usp=sharing"
   ]
  },
  {
   "cell_type": "code",
   "execution_count": null,
   "metadata": {},
   "outputs": [],
   "source": []
  }
 ],
 "metadata": {
  "kernelspec": {
   "display_name": "Python 3",
   "language": "python",
   "name": "python3"
  },
  "language_info": {
   "codemirror_mode": {
    "name": "ipython",
    "version": 3
   },
   "file_extension": ".py",
   "mimetype": "text/x-python",
   "name": "python",
   "nbconvert_exporter": "python",
   "pygments_lexer": "ipython3",
   "version": "3.7.8"
  },
  "toc": {
   "base_numbering": 1,
   "nav_menu": {},
   "number_sections": true,
   "sideBar": true,
   "skip_h1_title": true,
   "title_cell": "Table of Contents",
   "title_sidebar": "Contents",
   "toc_cell": false,
   "toc_position": {},
   "toc_section_display": true,
   "toc_window_display": false
  }
 },
 "nbformat": 4,
 "nbformat_minor": 2
}
