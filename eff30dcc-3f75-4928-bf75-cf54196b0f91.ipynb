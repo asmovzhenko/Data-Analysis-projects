{
 "cells": [
  {
   "cell_type": "markdown",
   "metadata": {},
   "source": [
    "# Analyzing borrowers’ risk of defaulting\n",
    "\n",
    "The goal of this project is to prepare a report for a bank’s loan division. We need to find out if a customer’s marital status and number of children has an impact on whether they will default on a loan. The bank already has some data on customers’ credit worthiness.\n",
    "\n",
    "This report will be considered when building a **credit scoring** of a potential customer. A ** credit scoring ** is used to evaluate the ability of a potential borrower to repay their loan."
   ]
  },
  {
   "cell_type": "markdown",
   "metadata": {},
   "source": [
    "## Description of the data\n",
    "\n",
    "/datasets/credit_scoring_eng.csv\n",
    "\n",
    "children: the number of children in the family\n",
    "\n",
    "days_employed: how long the customer has been working\n",
    "\n",
    "dob_years: the customer’s age\n",
    "\n",
    "education: the customer’s education level\n",
    "\n",
    "education_id: identifier for the customer’s education\n",
    "\n",
    "family_status: the customer’s marital status\n",
    "\n",
    "family_status_id: identifier for the customer’s marital status\n",
    "\n",
    "gender: the customer’s gender\n",
    "\n",
    "income_type: the customer’s income type\n",
    "\n",
    "debt: whether the customer has ever defaulted on a loan\n",
    "\n",
    "total_income: monthly income\n",
    "\n",
    "purpose: reason for taking out a loan"
   ]
  },
  {
   "cell_type": "code",
   "execution_count": 3,
   "metadata": {},
   "outputs": [],
   "source": [
    "import pandas as pd\n",
    "import matplotlib.pyplot as plt\n",
    "import numpy as np \n",
    "import matplotlib.pyplot as plt\n",
    "import seaborn as sns\n"
   ]
  },
  {
   "cell_type": "code",
   "execution_count": 4,
   "metadata": {},
   "outputs": [
    {
     "name": "stdout",
     "output_type": "stream",
     "text": [
      "<class 'pandas.core.frame.DataFrame'>\n",
      "RangeIndex: 21525 entries, 0 to 21524\n",
      "Data columns (total 12 columns):\n",
      "children            21525 non-null int64\n",
      "days_employed       19351 non-null float64\n",
      "age                 21525 non-null int64\n",
      "education           21525 non-null object\n",
      "education_id        21525 non-null int64\n",
      "family_status       21525 non-null object\n",
      "family_status_id    21525 non-null int64\n",
      "gender              21525 non-null object\n",
      "income_type         21525 non-null object\n",
      "debt                21525 non-null int64\n",
      "total_income        19351 non-null float64\n",
      "purpose             21525 non-null object\n",
      "dtypes: float64(2), int64(5), object(5)\n",
      "memory usage: 2.0+ MB\n"
     ]
    },
    {
     "data": {
      "text/plain": [
       "(21525, 12)"
      ]
     },
     "execution_count": 4,
     "metadata": {},
     "output_type": "execute_result"
    }
   ],
   "source": [
    "data = pd.read_csv('/datasets/credit_scoring_eng.csv')\n",
    "\n",
    "\n",
    "data.columns = ['children', 'days_employed','age', 'education','education_id','family_status','family_status_id','gender','income_type','debt','total_income','purpose']\n",
    "data.info()\n",
    "data.head()\n",
    "data.tail()\n",
    "data.describe()\n",
    "data.shape"
   ]
  },
  {
   "cell_type": "code",
   "execution_count": 5,
   "metadata": {},
   "outputs": [],
   "source": [
    "data['days_employed'] = data['days_employed'].abs()"
   ]
  },
  {
   "cell_type": "code",
   "execution_count": 3,
   "metadata": {},
   "outputs": [
    {
     "name": "stdout",
     "output_type": "stream",
     "text": [
      "<class 'pandas.core.frame.DataFrame'>\n",
      "RangeIndex: 21525 entries, 0 to 21524\n",
      "Data columns (total 12 columns):\n",
      "children            21525 non-null int64\n",
      "days_employed       19351 non-null float64\n",
      "age                 21525 non-null int64\n",
      "education           21525 non-null object\n",
      "education_id        21525 non-null int64\n",
      "family_status       21525 non-null object\n",
      "family_status_id    21525 non-null int64\n",
      "gender              21525 non-null object\n",
      "income_type         21525 non-null object\n",
      "debt                21525 non-null int64\n",
      "total_income        19351 non-null float64\n",
      "purpose             21525 non-null object\n",
      "dtypes: float64(2), int64(5), object(5)\n",
      "memory usage: 2.0+ MB\n",
      "21525\n",
      "19351\n",
      "21525\n",
      "21525\n",
      "21525\n",
      "21525\n",
      "21525\n",
      "21525\n",
      "21525\n",
      "21525\n",
      "19351\n",
      "21525\n"
     ]
    }
   ],
   "source": [
    "\n",
    "print(data['children'].value_counts().sum())\n",
    "print(data['days_employed'].value_counts().sum())\n",
    "print(data['age'].value_counts().sum())\n",
    "print(data['education'].str.lower().value_counts().sum())\n",
    "print(data['education_id'].value_counts().sum())\n",
    "print(data['family_status'].value_counts().sum())\n",
    "print(data['family_status_id'].value_counts().sum())\n",
    "print(data['gender'].value_counts().sum())\n",
    "print(data['income_type'].value_counts().sum())\n",
    "print(data['debt'].value_counts().sum())\n",
    "print(data['total_income'].value_counts().sum())\n",
    "print(data['purpose'].value_counts().sum())\n",
    "\n"
   ]
  },
  {
   "cell_type": "markdown",
   "metadata": {},
   "source": []
  },
  {
   "cell_type": "markdown",
   "metadata": {},
   "source": [
    "### Step 2. Data preprocessing"
   ]
  },
  {
   "cell_type": "markdown",
   "metadata": {},
   "source": [
    "### Processing missing values"
   ]
  },
  {
   "cell_type": "code",
   "execution_count": null,
   "metadata": {},
   "outputs": [],
   "source": [
    "\n",
    "data['days_employed'] = data['days_employed'].fillna(value=data['days_employed'].median())\n",
    "print(data['days_employed'].isnull().any())\n",
    "\n",
    "#max age = 75 years, so days employed can't be bigger than 27375\n",
    "data.loc[data['days_employed'] >= 27375, 'days_employed'] = data['days_employed'].median()\n",
    "data.drop(data[ data['children'] == 20 ].index , inplace=True)\n",
    "data.loc[data['children'] == -1, 'children'] = 1\n",
    "\n",
    "\n",
    "data['purpose'] = data['purpose'].fillna(value='undefined')\n",
    "data['age'] = data['age'].fillna(value=data['age'].median())\n",
    "data['education'] = data['education'].fillna(value='undefined')\n",
    "data['family_status'] = data['family_status'].fillna(value='undefined')\n",
    "data['family_status_id'] = data['family_status_id'].fillna(value=data['family_status_id'].median())\n",
    "data['gender'] = data['gender'].fillna(value='undefined')\n",
    "data['income_type'] = data['income_type'].fillna(value='undefined')\n",
    "data['debt'] = data['debt'].fillna(value='undefined')\n",
    "data['total_income'] = data['total_income'].fillna(value=data['total_income'].median())\n",
    "\n",
    "\n",
    "print(data['children'].value_counts().sum())\n",
    "print(data['days_employed'].value_counts().sum())\n",
    "print(data['age'].value_counts().sum())\n",
    "print(data['education'].str.lower().value_counts().sum())\n",
    "print(data['education_id'].value_counts().sum())\n",
    "print(data['family_status'].value_counts().sum())\n",
    "print(data['family_status_id'].value_counts().sum())\n",
    "print(data['gender'].value_counts().sum())\n",
    "print(data['income_type'].value_counts().sum())\n",
    "print(data['debt'].value_counts().sum())\n",
    "print(data['total_income'].value_counts().sum())\n",
    "print(data['purpose'].value_counts().sum())\n",
    "\n"
   ]
  },
  {
   "cell_type": "markdown",
   "metadata": {},
   "source": [
    "I make an assumption (in real life I would obviously contact the source of information) that the -1 child is actually 1, and it's a typo. The 20 is probably a typo as well. It's probably 2, not 0,but we can't be sure, so I chose to delete the rows. It can't be accurate, 76 people with 20 is too much of a coincidence\n",
    "#there's 21525 NaN values in all rows. We need to replace NaN first, then look for other missing values manually\n"
   ]
  },
  {
   "cell_type": "markdown",
   "metadata": {},
   "source": [
    "### Conclusion I have replaced the missing values with undefined for str and median for numbers since it is better suited for situation with a huge range of numbers than mean."
   ]
  },
  {
   "cell_type": "markdown",
   "metadata": {},
   "source": []
  },
  {
   "cell_type": "markdown",
   "metadata": {},
   "source": [
    "### Data type replacement"
   ]
  },
  {
   "cell_type": "code",
   "execution_count": null,
   "metadata": {},
   "outputs": [],
   "source": [
    "import nltk\n",
    "data = data.drop_duplicates().reset_index(drop=True)\n",
    "from nltk.stem import WordNetLemmatizer \n",
    "lemmatizer = WordNetLemmatizer()\n",
    "\n",
    "\n",
    "data['education'] = data['education'].str.lower() #to lower case \n",
    "\n",
    "\n",
    "purposes = data['purpose'].unique()\n",
    "\n",
    "lemmas = pd.Series()\n",
    "\n",
    "new_purposes = []\n",
    "for purpose in purposes:\n",
    "    new_purposes.append(nltk.word_tokenize(purpose))\n",
    "    \n",
    "purpose_house = []\n",
    "purpose_education = []\n",
    "purpose_estate = []\n",
    "purpose_car = []\n",
    "purpose_property = []\n",
    "purpose_wedding = []\n",
    "\n",
    "for purpose in new_purposes: \n",
    "    if 'house' in purpose:\n",
    "        purpose_house.append(purpose)\n",
    "        \n",
    "    if 'education' in purpose:\n",
    "        purpose_education.append(purpose)\n",
    "        \n",
    "    if 'estate' in purpose:\n",
    "        purpose_estate.append(purpose)\n",
    "        \n",
    "    if 'car' in purpose:\n",
    "        purpose_car.append(purpose)\n",
    "        \n",
    "    if 'property' in purpose:\n",
    "        purpose_property.append(purpose)\n",
    "        \n",
    "    if 'wedding' in purpose:\n",
    "        purpose_wedding.append(purpose)\n",
    "        \n",
    "\n",
    "data['purpose'].value_counts()\n",
    "\n",
    "def purpose_group(purpose):\n",
    "    \n",
    "\n",
    "    if 'house' in purpose:\n",
    "                return 'house'\n",
    "        \n",
    "    if 'education'  in purpose:\n",
    "                return 'education'\n",
    "        \n",
    "    if 'educated' in purpose:\n",
    "                return 'education'\n",
    "        \n",
    "    if 'estate' in purpose:\n",
    "                return 'estate'\n",
    "        \n",
    "    if 'car' in purpose:\n",
    "                return 'car'\n",
    "        \n",
    "    if 'property' in purpose:\n",
    "                return 'property'\n",
    "        \n",
    "    if 'wedding' in purpose:\n",
    "                return 'wedding'\n",
    "\n",
    "    return 'other'\n",
    "#data['purpose_grouped'] = data['purpose'].apply(purpose_group)\n",
    "#print(data['purpose_grouped'].value_counts().sum())\n",
    "#print(data['purpose'].value_counts())\n",
    "data['purpose'] = data['purpose'].apply(purpose_group)\n",
    "print(data['purpose'].unique())\n",
    "print(data['children'].value_counts().sum())\n",
    "print(data['days_employed'].value_counts().sum())\n",
    "print(data['age'].value_counts().sum())\n",
    "print(data['education'].str.lower().value_counts().sum())\n",
    "print(data['education_id'].value_counts().sum())\n",
    "print(data['family_status'].value_counts().sum())\n",
    "print(data['family_status_id'].value_counts().sum())\n",
    "print(data['gender'].value_counts().sum())\n",
    "print(data['income_type'].value_counts().sum())\n",
    "print(data['debt'].value_counts().sum())\n",
    "print(data['total_income'].value_counts().sum())\n",
    "print(data['purpose'].value_counts().sum())"
   ]
  },
  {
   "cell_type": "markdown",
   "metadata": {},
   "source": [
    "- Is there a relation between marital status and repaying a loan on time?"
   ]
  },
  {
   "cell_type": "code",
   "execution_count": null,
   "metadata": {},
   "outputs": [],
   "source": [
    "column_1 = data['family_status_id']\n",
    "column_2 = data['debt']\n",
    "correlation = column_1.corr(column_2)\n",
    "print(correlation)\n",
    "\n",
    "by_marital_status = data.groupby(\"family_status_id\")[\"debt\"].sum()\n",
    "marital_status_all = data[\"family_status_id\"].value_counts()\n",
    "\n",
    "\n",
    "percentage_marital_status = by_marital_status / (marital_status_all / 100)\n",
    "print('percentage of people with debt for each marital status:', percentage_marital_status)\n",
    "\n",
    "\n"
   ]
  },
  {
   "cell_type": "markdown",
   "metadata": {},
   "source": [
    "Since 1 means there's debt and 0 means there's no debt,we can find the percentage of people of all 5 family status categories with debt, meaning, the percentage of by_marital_status values take from data[\"family_status_id\"].value_counts() values.\n",
    "Clearly, this is the correlation. This means, people from 1-st and 4-th category have most debt, but, as corr function and percentagesth showed, the difference is relatively small."
   ]
  },
  {
   "cell_type": "markdown",
   "metadata": {},
   "source": [
    "Conclusion: the percentage of people with debt is very low and the difference between different groups is very insignificant which is consistent with the correlation."
   ]
  },
  {
   "cell_type": "markdown",
   "metadata": {},
   "source": []
  },
  {
   "cell_type": "markdown",
   "metadata": {},
   "source": [
    "- Is there a relation between income level and repaying a loan on time?"
   ]
  },
  {
   "cell_type": "code",
   "execution_count": null,
   "metadata": {},
   "outputs": [],
   "source": [
    "column_3 = data['total_income']\n",
    "column_4 = data['debt']\n",
    "correlation1 = column_3.corr(column_4)\n",
    "print(correlation1)\n",
    "\n",
    "\n",
    "def total_income_group(income):\n",
    "    if income <= 50000:\n",
    "        return 'low'\n",
    "    if income <= 100000:\n",
    "        return 'medium'\n",
    "    if income <= 150000:\n",
    "        return 'high'\n",
    "    return 'very_high'\n",
    "\n",
    "data['total_income'] = data['total_income'].apply(total_income_group)\n",
    "print(data['total_income'].value_counts())\n",
    "data['total_income'] = data['total_income'].to_string()\n",
    "print(data['total_income'].value_counts())\n",
    "by_total_income = data.groupby('debt')['total_income']\n",
    "total_income_all = data['total_income'].value_counts()\n",
    "\n",
    "percentage_total_income = by_total_income / (total_income_all / 100)\n",
    "print('percentage of people with debt for total_income:', percentage_total_income)\n"
   ]
  },
  {
   "cell_type": "markdown",
   "metadata": {},
   "source": [
    "Negative correlation means that variables move in different directions,inverse correlation, it means, the lower the income, the higher the debt and vice versa. At the same time, correlation is not vert significant. "
   ]
  },
  {
   "cell_type": "markdown",
   "metadata": {},
   "source": [
    "### Conclusion"
   ]
  },
  {
   "cell_type": "markdown",
   "metadata": {},
   "source": []
  },
  {
   "cell_type": "markdown",
   "metadata": {},
   "source": [
    "- How do different loan purposes affect on-time repayment of the loan?"
   ]
  },
  {
   "cell_type": "code",
   "execution_count": null,
   "metadata": {},
   "outputs": [],
   "source": [
    "by_purpose = data.groupby(\"purpose\")[\"debt\"].sum()\n",
    "purpose_all = data[\"purpose\"].value_counts()\n",
    "percentage_purpose = by_purpose / (purpose_all / 100)\n",
    "print('percentage of people with debt for purpose:', percentage_purpose)\n",
    "\n",
    "    \n"
   ]
  },
  {
   "cell_type": "markdown",
   "metadata": {},
   "source": [
    "### Conclusion"
   ]
  },
  {
   "cell_type": "markdown",
   "metadata": {},
   "source": []
  },
  {
   "cell_type": "markdown",
   "metadata": {},
   "source": [
    "### Step 4. General conclusion"
   ]
  },
  {
   "cell_type": "markdown",
   "metadata": {},
   "source": [
    "The overall conclusion, according to the analysis of the correlation between the column 'debt' and other relevant columns, is that\n",
    "there's very little correlation between debt and other variables; there is a small percentage of people with debt in all cases\n",
    "and the difference between categories is marginal."
   ]
  }
 ],
 "metadata": {
  "kernelspec": {
   "display_name": "Python 3",
   "language": "python",
   "name": "python3"
  },
  "language_info": {
   "codemirror_mode": {
    "name": "ipython",
    "version": 3
   },
   "file_extension": ".py",
   "mimetype": "text/x-python",
   "name": "python",
   "nbconvert_exporter": "python",
   "pygments_lexer": "ipython3",
   "version": "3.7.8"
  },
  "toc": {
   "base_numbering": 1,
   "nav_menu": {},
   "number_sections": true,
   "sideBar": true,
   "skip_h1_title": false,
   "title_cell": "Table of Contents",
   "title_sidebar": "Contents",
   "toc_cell": false,
   "toc_position": {},
   "toc_section_display": true,
   "toc_window_display": false
  }
 },
 "nbformat": 4,
 "nbformat_minor": 2
}
