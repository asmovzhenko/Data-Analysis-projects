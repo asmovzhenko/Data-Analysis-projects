{
 "cells": [
  {
   "cell_type": "markdown",
   "metadata": {},
   "source": [
    "# Short summary of the project:\n",
    "We work at a startup that sells food products. I will investigate user behavior for the app for startup that sells food products and perform A/A and A/B testing. The test will decide if we should change the fonts for the entire app, if it would help bring more customers. I will also point out all other observations that may help increase profit. "
   ]
  },
  {
   "cell_type": "markdown",
   "metadata": {},
   "source": [
    "First we study the sales funnel. Find out how users reach the purchase stage and how many users actually make it to this stage, how many get stuck at previous stages, which stages in particular.\n",
    "Then we look at the results of an A/A/B test.The designers would like to change the fonts for the entire app, but the managers are afraid the users might find the new design intimidating. They decide to make a decision based on the results of an A/A/B test.\n",
    "The users are split into three groups: two control groups get the old fonts and one test group gets the new ones. Find out which set of fonts produces better results.\n",
    "Creating two A groups has certain advantages. We can make it a principle that we will only be confident in the accuracy of our testing when the two control groups are similar. If there are significant differences between the A groups, this can help us uncover factors that may be distorting the results. Comparing control groups also tells us how much time and data we'll need when running further tests."
   ]
  },
  {
   "cell_type": "markdown",
   "metadata": {},
   "source": [
    "## Description of the data:\n",
    "\n",
    "\n",
    "/datasets/logs_exp_us.csv\n",
    "\n",
    "Each log entry is a user action or an event.\n",
    "\n",
    "EventName — event name\n",
    "\n",
    "DeviceIDHash — unique user identifier\n",
    "\n",
    "EventTimestamp — event time\n",
    "\n",
    "ExpId — experiment number: 246 and 247 are the control groups, 248 is the test group"
   ]
  },
  {
   "cell_type": "code",
   "execution_count": 5,
   "metadata": {},
   "outputs": [
    {
     "name": "stdout",
     "output_type": "stream",
     "text": [
      "Defaulting to user installation because normal site-packages is not writeable\n",
      "Requirement already satisfied: missingno in /home/jovyan/.local/lib/python3.7/site-packages (0.4.2)\n",
      "Requirement already satisfied: matplotlib in /opt/conda/lib/python3.7/site-packages (from missingno) (3.1.0)\n",
      "Requirement already satisfied: seaborn in /opt/conda/lib/python3.7/site-packages (from missingno) (0.9.0)\n",
      "Requirement already satisfied: numpy in /opt/conda/lib/python3.7/site-packages (from missingno) (1.19.5)\n",
      "Requirement already satisfied: scipy in /opt/conda/lib/python3.7/site-packages (from missingno) (1.4.1)\n",
      "Requirement already satisfied: pyparsing!=2.0.4,!=2.1.2,!=2.1.6,>=2.0.1 in /opt/conda/lib/python3.7/site-packages (from matplotlib->missingno) (2.4.7)\n",
      "Requirement already satisfied: kiwisolver>=1.0.1 in /opt/conda/lib/python3.7/site-packages (from matplotlib->missingno) (1.3.1)\n",
      "Requirement already satisfied: python-dateutil>=2.1 in /opt/conda/lib/python3.7/site-packages (from matplotlib->missingno) (2.8.1)\n",
      "Requirement already satisfied: cycler>=0.10 in /opt/conda/lib/python3.7/site-packages (from matplotlib->missingno) (0.10.0)\n",
      "Requirement already satisfied: pandas>=0.15.2 in /opt/conda/lib/python3.7/site-packages (from seaborn->missingno) (0.25.1)\n",
      "Requirement already satisfied: six>=1.5 in /opt/conda/lib/python3.7/site-packages (from python-dateutil>=2.1->matplotlib->missingno) (1.15.0)\n",
      "Requirement already satisfied: pytz>=2017.2 in /opt/conda/lib/python3.7/site-packages (from pandas>=0.15.2->seaborn->missingno) (2021.1)\n",
      "Note: you may need to restart the kernel to use updated packages.\n"
     ]
    }
   ],
   "source": [
    "pip install missingno"
   ]
  },
  {
   "cell_type": "code",
   "execution_count": 6,
   "metadata": {},
   "outputs": [],
   "source": [
    "import pandas as pd\n",
    "import numpy as np\n",
    "from functools import reduce\n",
    "from scipy import stats as st\n",
    "from numpy import random\n",
    "import matplotlib.pyplot as plt\n",
    "import seaborn as sns\n",
    "import plotly.express as px\n",
    "import plotly.graph_objects as go\n",
    "import datetime as dt\n",
    "from pandas.plotting import register_matplotlib_converters\n",
    "register_matplotlib_converters()\n",
    "import math as mth\n",
    "from datetime import datetime \n",
    "import missingno as msno"
   ]
  },
  {
   "cell_type": "code",
   "execution_count": 7,
   "metadata": {},
   "outputs": [
    {
     "name": "stdout",
     "output_type": "stream",
     "text": [
      "<class 'pandas.core.frame.DataFrame'>\n",
      "RangeIndex: 244126 entries, 0 to 244125\n",
      "Data columns (total 4 columns):\n",
      "event_name           244126 non-null object\n",
      "user_id              244126 non-null int64\n",
      "timestamp            244126 non-null int64\n",
      "experiment_number    244126 non-null int64\n",
      "dtypes: int64(3), object(1)\n",
      "memory usage: 7.5+ MB\n"
     ]
    }
   ],
   "source": [
    "data_events = pd.read_csv('/datasets/logs_exp_us.csv', sep='\\t')\n",
    "\n",
    "data_events.columns = ['event_name', 'user_id', 'timestamp' , 'experiment_number']\n",
    "data_events.info()"
   ]
  },
  {
   "cell_type": "markdown",
   "metadata": {},
   "source": [
    "## Step one: preprocessing"
   ]
  },
  {
   "cell_type": "markdown",
   "metadata": {},
   "source": [
    "### Processessing and looking for duplicates.\n",
    "It would be interesting to know how much time the clients stayed on the site and if there are any outliers (a very long time spent on the site or way to many actions)."
   ]
  },
  {
   "cell_type": "code",
   "execution_count": 8,
   "metadata": {},
   "outputs": [
    {
     "data": {
      "text/html": [
       "<div>\n",
       "<style scoped>\n",
       "    .dataframe tbody tr th:only-of-type {\n",
       "        vertical-align: middle;\n",
       "    }\n",
       "\n",
       "    .dataframe tbody tr th {\n",
       "        vertical-align: top;\n",
       "    }\n",
       "\n",
       "    .dataframe thead th {\n",
       "        text-align: right;\n",
       "    }\n",
       "</style>\n",
       "<table border=\"1\" class=\"dataframe\">\n",
       "  <thead>\n",
       "    <tr style=\"text-align: right;\">\n",
       "      <th></th>\n",
       "      <th>user_id</th>\n",
       "      <th>timestamp</th>\n",
       "      <th>experiment_number</th>\n",
       "    </tr>\n",
       "  </thead>\n",
       "  <tbody>\n",
       "    <tr>\n",
       "      <td>count</td>\n",
       "      <td>2.441260e+05</td>\n",
       "      <td>2.441260e+05</td>\n",
       "      <td>244126.000000</td>\n",
       "    </tr>\n",
       "    <tr>\n",
       "      <td>mean</td>\n",
       "      <td>4.627568e+18</td>\n",
       "      <td>1.564914e+09</td>\n",
       "      <td>247.022296</td>\n",
       "    </tr>\n",
       "    <tr>\n",
       "      <td>std</td>\n",
       "      <td>2.642425e+18</td>\n",
       "      <td>1.771343e+05</td>\n",
       "      <td>0.824434</td>\n",
       "    </tr>\n",
       "    <tr>\n",
       "      <td>min</td>\n",
       "      <td>6.888747e+15</td>\n",
       "      <td>1.564030e+09</td>\n",
       "      <td>246.000000</td>\n",
       "    </tr>\n",
       "    <tr>\n",
       "      <td>25%</td>\n",
       "      <td>2.372212e+18</td>\n",
       "      <td>1.564757e+09</td>\n",
       "      <td>246.000000</td>\n",
       "    </tr>\n",
       "    <tr>\n",
       "      <td>50%</td>\n",
       "      <td>4.623192e+18</td>\n",
       "      <td>1.564919e+09</td>\n",
       "      <td>247.000000</td>\n",
       "    </tr>\n",
       "    <tr>\n",
       "      <td>75%</td>\n",
       "      <td>6.932517e+18</td>\n",
       "      <td>1.565075e+09</td>\n",
       "      <td>248.000000</td>\n",
       "    </tr>\n",
       "    <tr>\n",
       "      <td>max</td>\n",
       "      <td>9.222603e+18</td>\n",
       "      <td>1.565213e+09</td>\n",
       "      <td>248.000000</td>\n",
       "    </tr>\n",
       "  </tbody>\n",
       "</table>\n",
       "</div>"
      ],
      "text/plain": [
       "            user_id     timestamp  experiment_number\n",
       "count  2.441260e+05  2.441260e+05      244126.000000\n",
       "mean   4.627568e+18  1.564914e+09         247.022296\n",
       "std    2.642425e+18  1.771343e+05           0.824434\n",
       "min    6.888747e+15  1.564030e+09         246.000000\n",
       "25%    2.372212e+18  1.564757e+09         246.000000\n",
       "50%    4.623192e+18  1.564919e+09         247.000000\n",
       "75%    6.932517e+18  1.565075e+09         248.000000\n",
       "max    9.222603e+18  1.565213e+09         248.000000"
      ]
     },
     "execution_count": 8,
     "metadata": {},
     "output_type": "execute_result"
    }
   ],
   "source": [
    "data_events.describe()"
   ]
  },
  {
   "cell_type": "code",
   "execution_count": 9,
   "metadata": {},
   "outputs": [
    {
     "name": "stdout",
     "output_type": "stream",
     "text": [
      "event_name : 5\n",
      "user_id : 237\n",
      "timestamp : 352\n",
      "experiment_number : 3\n"
     ]
    }
   ],
   "source": [
    "#looking for duplicates: finding duplicates in each column.\n",
    "for i in data_events[data_events.duplicated()].columns:\n",
    "    print(i, ':', data_events[data_events.duplicated()][i].nunique())"
   ]
  },
  {
   "cell_type": "code",
   "execution_count": 10,
   "metadata": {},
   "outputs": [],
   "source": [
    "#changing datatypes where necessary. Adding a date and time column and a separate column for dates.\n",
    "data_events['datetime'] = pd.to_datetime(data_events['timestamp'], unit='s')    \n",
    "data_events['date'] = pd.to_datetime(data_events['datetime']).dt.date\n",
    "data_events['time'] = pd.to_datetime(data_events['datetime']).dt.time"
   ]
  },
  {
   "cell_type": "code",
   "execution_count": 11,
   "metadata": {},
   "outputs": [
    {
     "data": {
      "text/plain": [
       "array([datetime.date(2019, 7, 30), datetime.date(2019, 7, 31),\n",
       "       datetime.date(2019, 8, 1), datetime.date(2019, 8, 2),\n",
       "       datetime.date(2019, 8, 3), datetime.date(2019, 8, 4),\n",
       "       datetime.date(2019, 8, 5), datetime.date(2019, 8, 6),\n",
       "       datetime.date(2019, 8, 7)], dtype=object)"
      ]
     },
     "execution_count": 11,
     "metadata": {},
     "output_type": "execute_result"
    }
   ],
   "source": [
    "#continuing with duplicates\n",
    "data_events[data_events.duplicated()]['date'].unique()"
   ]
  },
  {
   "cell_type": "markdown",
   "metadata": {},
   "source": [
    "Duplicates exist for more than one week while the whole testing only took one week. This is a bad sign and would usually be addressed. In reality I would get back to my colleagues and ask for advise and also ask for more information on the dataset. However, since we don't know where the data came from, we have to just drop the duplicates."
   ]
  },
  {
   "cell_type": "code",
   "execution_count": 12,
   "metadata": {},
   "outputs": [
    {
     "data": {
      "text/plain": [
       "0"
      ]
     },
     "execution_count": 12,
     "metadata": {},
     "output_type": "execute_result"
    }
   ],
   "source": [
    "data_events = data_events.drop_duplicates()\n",
    "data_events.duplicated().sum()"
   ]
  },
  {
   "cell_type": "markdown",
   "metadata": {},
   "source": [
    "### looking for NaN"
   ]
  },
  {
   "cell_type": "code",
   "execution_count": 13,
   "metadata": {},
   "outputs": [
    {
     "data": {
      "text/plain": [
       "event_name           False\n",
       "user_id              False\n",
       "timestamp            False\n",
       "experiment_number    False\n",
       "datetime             False\n",
       "date                 False\n",
       "time                 False\n",
       "dtype: bool"
      ]
     },
     "execution_count": 13,
     "metadata": {},
     "output_type": "execute_result"
    }
   ],
   "source": [
    "#looking for NaN\n",
    "data_events.isna().any()\n",
    "data_events.isnull().any()"
   ]
  },
  {
   "cell_type": "code",
   "execution_count": 14,
   "metadata": {},
   "outputs": [
    {
     "data": {
      "text/plain": [
       "<matplotlib.axes._subplots.AxesSubplot at 0x7f4574fcf2d0>"
      ]
     },
     "execution_count": 14,
     "metadata": {},
     "output_type": "execute_result"
    },
    {
     "data": {
      "image/png": "[encoded data removed]",
      "text/plain": [
       "<Figure size 1800x720 with 2 Axes>"
      ]
     },
     "metadata": {
      "needs_background": "light"
     },
     "output_type": "display_data"
    }
   ],
   "source": [
    "msno.matrix(data_events) #As we can see - none!"
   ]
  },
  {
   "cell_type": "markdown",
   "metadata": {},
   "source": [
    "## Studying the data"
   ]
  },
  {
   "cell_type": "markdown",
   "metadata": {},
   "source": [
    "### finding the number of users and events\n",
    "Answering the questions \"how many events are in the logs?\" and \"How many users are there?\" below. We can also see that the most popular event is MainScreenAppear. This is probably the sign that it is the first event."
   ]
  },
  {
   "cell_type": "code",
   "execution_count": 9,
   "metadata": {},
   "outputs": [
    {
     "data": {
      "text/plain": [
       "MainScreenAppear           119101\n",
       "OffersScreenAppear          46808\n",
       "CartScreenAppear            42668\n",
       "PaymentScreenSuccessful     34118\n",
       "Tutorial                     1018\n",
       "Name: event_name, dtype: int64"
      ]
     },
     "execution_count": 9,
     "metadata": {},
     "output_type": "execute_result"
    }
   ],
   "source": [
    "data_events['event_name'].value_counts() #There are four events in total"
   ]
  },
  {
   "cell_type": "code",
   "execution_count": 10,
   "metadata": {},
   "outputs": [
    {
     "data": {
      "text/plain": [
       "count               243713\n",
       "unique                   5\n",
       "top       MainScreenAppear\n",
       "freq                119101\n",
       "Name: event_name, dtype: object"
      ]
     },
     "execution_count": 10,
     "metadata": {},
     "output_type": "execute_result"
    }
   ],
   "source": [
    "data_events['event_name'].describe()\n"
   ]
  },
  {
   "cell_type": "code",
   "execution_count": 11,
   "metadata": {},
   "outputs": [
    {
     "data": {
      "text/plain": [
       "6304868067479728361    2307\n",
       "197027893265565660     1998\n",
       "4623191541214045580    1768\n",
       "6932517045703054087    1439\n",
       "1754140665440434215    1221\n",
       "Name: user_id, dtype: int64"
      ]
     },
     "metadata": {},
     "output_type": "display_data"
    },
    {
     "data": {
      "text/plain": [
       "3336727186673646149    1\n",
       "1657967711232741323    1\n",
       "425817683219936619     1\n",
       "4089770943116790924    1\n",
       "1083512226259476085    1\n",
       "Name: user_id, dtype: int64"
      ]
     },
     "metadata": {},
     "output_type": "display_data"
    }
   ],
   "source": [
    "display(data_events['user_id'].value_counts().head())\n",
    "display(data_events['user_id'].value_counts().tail()) #we have 7551 users"
   ]
  },
  {
   "cell_type": "markdown",
   "metadata": {},
   "source": [
    "### Average number of events per user.\n",
    "Below I am answering the question \"What's the average number of events per user?\" I will also calculate number of unique events per user. This way we will see how many users stopped at the first stage and how many went all the way."
   ]
  },
  {
   "cell_type": "code",
   "execution_count": 12,
   "metadata": {},
   "outputs": [
    {
     "data": {
      "text/plain": [
       "count    7551.000000\n",
       "mean       32.275593\n",
       "std        65.154219\n",
       "min         1.000000\n",
       "25%         9.000000\n",
       "50%        20.000000\n",
       "75%        37.000000\n",
       "max      2307.000000\n",
       "Name: event_name, dtype: float64"
      ]
     },
     "metadata": {},
     "output_type": "display_data"
    }
   ],
   "source": [
    "events_per_user = data_events.groupby('user_id')['event_name'].count()\n",
    "events_per_user.sort_values(ascending=False).head()\n",
    "display(events_per_user.describe())"
   ]
  },
  {
   "cell_type": "code",
   "execution_count": 13,
   "metadata": {},
   "outputs": [
    {
     "data": {
      "text/plain": [
       "count    7551.000000\n",
       "mean       32.275593\n",
       "std        65.154219\n",
       "min         1.000000\n",
       "50%        20.000000\n",
       "90%        64.000000\n",
       "95%        89.000000\n",
       "99%       200.500000\n",
       "max      2307.000000\n",
       "Name: event_name, dtype: float64"
      ]
     },
     "execution_count": 13,
     "metadata": {},
     "output_type": "execute_result"
    }
   ],
   "source": [
    "events_per_user.describe(percentiles=[.90, .95, .99])"
   ]
  },
  {
   "cell_type": "code",
   "execution_count": 14,
   "metadata": {},
   "outputs": [
    {
     "data": {
      "text/plain": [
       "32.27559263673685"
      ]
     },
     "execution_count": 14,
     "metadata": {},
     "output_type": "execute_result"
    }
   ],
   "source": [
    "events_per_user.mean() #average number of events per user"
   ]
  },
  {
   "cell_type": "code",
   "execution_count": 15,
   "metadata": {},
   "outputs": [
    {
     "data": {
      "text/plain": [
       "20.0"
      ]
     },
     "execution_count": 15,
     "metadata": {},
     "output_type": "execute_result"
    }
   ],
   "source": [
    "events_per_user.median()"
   ]
  },
  {
   "cell_type": "code",
   "execution_count": 16,
   "metadata": {},
   "outputs": [
    {
     "data": {
      "image/png": "[encoded data removed]",
      "text/plain": [
       "<Figure size 432x288 with 1 Axes>"
      ]
     },
     "metadata": {
      "needs_background": "light"
     },
     "output_type": "display_data"
    }
   ],
   "source": [
    "plt.hist(events_per_user, bins=50) \n",
    "plt.xticks(rotation=90)\n",
    "plt.xlabel('events')\n",
    "plt.ylabel('users')\n",
    "plt.title('Average number of events per user')\n",
    "plt.show()"
   ]
  },
  {
   "cell_type": "markdown",
   "metadata": {},
   "source": [
    "We can see from the research above that while average number of events is 32. We can see that 75% of users have 37 events or less and 99% have 200 or less. That means the highest values are outliers and are probably skewing the mean to the right. In this case I think the median may be usefull to look at. The median is 20 and it may be closer to the actual average number of events per user if we don't count the outliers."
   ]
  },
  {
   "cell_type": "code",
   "execution_count": 17,
   "metadata": {},
   "outputs": [
    {
     "data": {
      "text/plain": [
       "event_name\n",
       "1    2707\n",
       "2    1021\n",
       "3     317\n",
       "4    3035\n",
       "5     471\n",
       "Name: user_id, dtype: int64"
      ]
     },
     "execution_count": 17,
     "metadata": {},
     "output_type": "execute_result"
    }
   ],
   "source": [
    "data_events.groupby('user_id')['event_name'].nunique().reset_index().groupby('event_name')['user_id'].nunique()\n",
    "#calculating number of unique events per user\n"
   ]
  },
  {
   "cell_type": "markdown",
   "metadata": {},
   "source": [
    "### Studying datetime column."
   ]
  },
  {
   "cell_type": "markdown",
   "metadata": {},
   "source": [
    "Below I am completing the task: \"Find period of time the data covers, the maximum and the minimum date. Plot a histogram by date and time.\""
   ]
  },
  {
   "cell_type": "code",
   "execution_count": 18,
   "metadata": {},
   "outputs": [
    {
     "data": {
      "text/plain": [
       "2019-08-01    36141\n",
       "2019-08-05    36058\n",
       "2019-08-06    35788\n",
       "2019-08-02    35554\n",
       "2019-08-03    33282\n",
       "2019-08-04    32968\n",
       "2019-08-07    31096\n",
       "2019-07-31     2030\n",
       "2019-07-30      412\n",
       "2019-07-29      184\n",
       "2019-07-28      105\n",
       "2019-07-27       55\n",
       "2019-07-26       31\n",
       "2019-07-25        9\n",
       "Name: date, dtype: int64"
      ]
     },
     "execution_count": 18,
     "metadata": {},
     "output_type": "execute_result"
    }
   ],
   "source": [
    "data_events['date'].value_counts() #max date is 2019-08-07 and min date is 2019-07-25 "
   ]
  },
  {
   "cell_type": "code",
   "execution_count": 19,
   "metadata": {},
   "outputs": [
    {
     "data": {
      "image/png": "[encoded data removed]",
      "text/plain": [
       "<Figure size 432x288 with 1 Axes>"
      ]
     },
     "metadata": {
      "needs_background": "light"
     },
     "output_type": "display_data"
    }
   ],
   "source": [
    "plt.hist(data_events['date'], bins=50) \n",
    "plt.xticks(rotation=90)\n",
    "plt.xlabel('date')\n",
    "plt.ylabel('frequency')\n",
    "plt.title('Histogram by date')\n",
    "plt.show()"
   ]
  },
  {
   "cell_type": "code",
   "execution_count": 20,
   "metadata": {},
   "outputs": [
    {
     "data": {
      "image/png": "[encoded data removed]",
      "text/plain": [
       "<Figure size 432x288 with 1 Axes>"
      ]
     },
     "metadata": {
      "needs_background": "light"
     },
     "output_type": "display_data"
    }
   ],
   "source": [
    "plt.hist(data_events['time'], bins=50) \n",
    "plt.xticks(rotation=90)\n",
    "plt.xlabel('time')\n",
    "plt.ylabel('frequency')\n",
    "plt.title('Histogram by time')\n",
    "plt.show()"
   ]
  },
  {
   "cell_type": "markdown",
   "metadata": {},
   "source": [
    "<div class=\"alert alert-warning\">\n",
    "<b>Reviewer's comment: </b> You can make your histograms more vivid with tuning <code>bins</code> parameter.\n",
    "</div>"
   ]
  },
  {
   "cell_type": "markdown",
   "metadata": {},
   "source": [
    "### Dropping irrelevant data."
   ]
  },
  {
   "cell_type": "markdown",
   "metadata": {},
   "source": [
    "From the graphs I would say that we should stop at 08.01 after looking at the datetime histogram. I thing we should drop the data before that, there is not enough data there."
   ]
  },
  {
   "cell_type": "code",
   "execution_count": 21,
   "metadata": {},
   "outputs": [
    {
     "data": {
      "image/png": "[encoded data removed]",
      "text/plain": [
       "<Figure size 432x288 with 1 Axes>"
      ]
     },
     "metadata": {
      "needs_background": "light"
     },
     "output_type": "display_data"
    }
   ],
   "source": [
    "plt.hist(data_events['datetime'], bins=50) #08.01 is where I would stop. We can clearly see it on the histogram\n",
    "plt.xticks(rotation=90)\n",
    "plt.xlabel('datetime')\n",
    "plt.ylabel('frequency')\n",
    "plt.title('Histogram by datetime')\n",
    "plt.show()"
   ]
  },
  {
   "cell_type": "code",
   "execution_count": 22,
   "metadata": {},
   "outputs": [
    {
     "data": {
      "text/plain": [
       "7551"
      ]
     },
     "metadata": {},
     "output_type": "display_data"
    },
    {
     "data": {
      "text/plain": [
       "248    85582\n",
       "246    80181\n",
       "247    77950\n",
       "Name: experiment_number, dtype: int64"
      ]
     },
     "metadata": {},
     "output_type": "display_data"
    },
    {
     "data": {
      "text/plain": [
       "MainScreenAppear           119101\n",
       "OffersScreenAppear          46808\n",
       "CartScreenAppear            42668\n",
       "PaymentScreenSuccessful     34118\n",
       "Tutorial                     1018\n",
       "Name: event_name, dtype: int64"
      ]
     },
     "metadata": {},
     "output_type": "display_data"
    }
   ],
   "source": [
    "display(data_events['user_id'].nunique())\n",
    "display(data_events['experiment_number'].value_counts())\n",
    "display(data_events['event_name'].value_counts())"
   ]
  },
  {
   "cell_type": "code",
   "execution_count": 23,
   "metadata": {},
   "outputs": [
    {
     "data": {
      "text/plain": [
       "7551"
      ]
     },
     "metadata": {},
     "output_type": "display_data"
    },
    {
     "data": {
      "text/plain": [
       "248    85582\n",
       "246    80181\n",
       "247    77950\n",
       "Name: experiment_number, dtype: int64"
      ]
     },
     "metadata": {},
     "output_type": "display_data"
    },
    {
     "data": {
      "text/plain": [
       "MainScreenAppear           119101\n",
       "OffersScreenAppear          46808\n",
       "CartScreenAppear            42668\n",
       "PaymentScreenSuccessful     34118\n",
       "Tutorial                     1018\n",
       "Name: event_name, dtype: int64"
      ]
     },
     "metadata": {},
     "output_type": "display_data"
    }
   ],
   "source": [
    "data_old = data_events\n",
    "\n",
    "\n",
    "display(data_old['user_id'].nunique())\n",
    "display(data_old['experiment_number'].value_counts())\n",
    "display(data_old['event_name'].value_counts())"
   ]
  },
  {
   "cell_type": "code",
   "execution_count": 24,
   "metadata": {},
   "outputs": [
    {
     "data": {
      "text/plain": [
       "85582"
      ]
     },
     "metadata": {},
     "output_type": "display_data"
    },
    {
     "data": {
      "text/plain": [
       "80181"
      ]
     },
     "metadata": {},
     "output_type": "display_data"
    },
    {
     "data": {
      "text/plain": [
       "77950"
      ]
     },
     "metadata": {},
     "output_type": "display_data"
    }
   ],
   "source": [
    "number_one_old = data_old.loc[data_old['experiment_number'] == 248, 'experiment_number'].count() #separating the data on each experiment number.\n",
    "display(number_one_old)\n",
    "\n",
    "number_two_old = data_old.loc[data_old['experiment_number'] == 246, 'experiment_number'].count()\n",
    "display(number_two_old)\n",
    "\n",
    "number_three_old = data_old.loc[data_old['experiment_number'] == 247, 'experiment_number'].count()\n",
    "display(number_three_old)\n"
   ]
  },
  {
   "cell_type": "code",
   "execution_count": 25,
   "metadata": {},
   "outputs": [
    {
     "data": {
      "text/plain": [
       "7551"
      ]
     },
     "metadata": {},
     "output_type": "display_data"
    }
   ],
   "source": [
    "user_id_old = data_old['user_id'].nunique() #separating data on user id\n",
    "display(user_id_old)\n"
   ]
  },
  {
   "cell_type": "code",
   "execution_count": 26,
   "metadata": {},
   "outputs": [
    {
     "data": {
      "text/plain": [
       "119101"
      ]
     },
     "metadata": {},
     "output_type": "display_data"
    },
    {
     "data": {
      "text/plain": [
       "46808"
      ]
     },
     "metadata": {},
     "output_type": "display_data"
    },
    {
     "data": {
      "text/plain": [
       "42668"
      ]
     },
     "metadata": {},
     "output_type": "display_data"
    },
    {
     "data": {
      "text/plain": [
       "34118"
      ]
     },
     "metadata": {},
     "output_type": "display_data"
    },
    {
     "data": {
      "text/plain": [
       "1018"
      ]
     },
     "metadata": {},
     "output_type": "display_data"
    }
   ],
   "source": [
    "MainScreen_old = data_old.loc[data_old['event_name'] == 'MainScreenAppear', 'event_name'].count() #separating the data on each event\n",
    "display(MainScreen_old)\n",
    "\n",
    "OffersScreen_old = data_old.loc[data_old['event_name'] == 'OffersScreenAppear', 'event_name'].count()\n",
    "display(OffersScreen_old)\n",
    "\n",
    "CartScreen_old = data_old.loc[data_old['event_name'] == 'CartScreenAppear', 'event_name'].count()\n",
    "display(CartScreen_old)\n",
    "\n",
    "PaymentScreen_old = data_old.loc[data_old['event_name'] == 'PaymentScreenSuccessful', 'event_name'].count()\n",
    "display(PaymentScreen_old)\n",
    "\n",
    "Tutorial_old = data_old.loc[data_old['event_name'] == 'Tutorial', 'event_name'].count()\n",
    "display(Tutorial_old)"
   ]
  },
  {
   "cell_type": "code",
   "execution_count": 27,
   "metadata": {},
   "outputs": [
    {
     "data": {
      "text/plain": [
       "2019-08-01    36141\n",
       "2019-08-05    36058\n",
       "2019-08-06    35788\n",
       "2019-08-02    35554\n",
       "2019-08-03    33282\n",
       "2019-08-04    32968\n",
       "2019-08-07    31096\n",
       "Name: date, dtype: int64"
      ]
     },
     "execution_count": 27,
     "metadata": {},
     "output_type": "execute_result"
    }
   ],
   "source": [
    "data_events['date_str'] = data_events['date'].astype(str)\n",
    "data_events.drop(data_events[data_events['date_str'].isin(['2019-07-25', '2019-07-26', '2019-07-27', '2019-07-28', '2019-07-29', '2019-07-30', '2019-07-31' ])].index, inplace=True) \n",
    "data_events['date'].value_counts()"
   ]
  },
  {
   "cell_type": "code",
   "execution_count": 28,
   "metadata": {},
   "outputs": [
    {
     "data": {
      "text/plain": [
       "7534"
      ]
     },
     "metadata": {},
     "output_type": "display_data"
    },
    {
     "data": {
      "text/plain": [
       "248    84563\n",
       "246    79302\n",
       "247    77022\n",
       "Name: experiment_number, dtype: int64"
      ]
     },
     "metadata": {},
     "output_type": "display_data"
    },
    {
     "data": {
      "text/plain": [
       "MainScreenAppear           117328\n",
       "OffersScreenAppear          46333\n",
       "CartScreenAppear            42303\n",
       "PaymentScreenSuccessful     33918\n",
       "Tutorial                     1005\n",
       "Name: event_name, dtype: int64"
      ]
     },
     "metadata": {},
     "output_type": "display_data"
    }
   ],
   "source": [
    "display(data_events['user_id'].nunique())\n",
    "display(data_events['experiment_number'].value_counts())\n",
    "display(data_events['event_name'].value_counts())"
   ]
  },
  {
   "cell_type": "code",
   "execution_count": 29,
   "metadata": {},
   "outputs": [
    {
     "data": {
      "text/plain": [
       "84563"
      ]
     },
     "metadata": {},
     "output_type": "display_data"
    },
    {
     "data": {
      "text/plain": [
       "79302"
      ]
     },
     "metadata": {},
     "output_type": "display_data"
    },
    {
     "data": {
      "text/plain": [
       "77022"
      ]
     },
     "metadata": {},
     "output_type": "display_data"
    }
   ],
   "source": [
    "number_one_new = data_events.loc[data_events['experiment_number'] == 248, 'experiment_number'].count()\n",
    "display(number_one_new)\n",
    "\n",
    "number_two_new = data_events.loc[data_events['experiment_number'] == 246, 'experiment_number'].count()\n",
    "display(number_two_new)\n",
    "\n",
    "number_three_new = data_events.loc[data_events['experiment_number'] == 247, 'experiment_number'].count()\n",
    "display(number_three_new)"
   ]
  },
  {
   "cell_type": "code",
   "execution_count": 30,
   "metadata": {},
   "outputs": [
    {
     "name": "stdout",
     "output_type": "stream",
     "text": [
      "1019 879 928\n",
      "1.1906709354770861 1.096269689826767 1.1905067350865939\n"
     ]
    }
   ],
   "source": [
    "Group_B_difference = number_one_old - number_one_new  #calculating the difference in numbers for each experiment number\n",
    "\n",
    "Group_A_one_difference = number_two_old - number_two_new\n",
    "\n",
    "Group_A_two_difference = number_three_old - number_three_new\n",
    "print(Group_B_difference, Group_A_one_difference, Group_A_two_difference)\n",
    "\n",
    "\n",
    "\n",
    "Group_B_difference_prcnt =  Group_B_difference/ (number_one_old/100)   #calculating the difference in percentages for each experiment number\n",
    "\n",
    "Group_A_one_difference_prcnt = Group_A_one_difference/ (number_two_old/100)\n",
    "\n",
    "Group_A_two_difference_prcnt = Group_A_two_difference/ (number_three_old/100)\n",
    "print(Group_B_difference_prcnt, Group_A_one_difference_prcnt, Group_A_two_difference_prcnt) "
   ]
  },
  {
   "cell_type": "markdown",
   "metadata": {},
   "source": [
    "We can see above that we only lost 1019, 879 and 928 rows and only 1,19% for the control group number 248, 1,09% for group number 246 and 1,19% for group number 247"
   ]
  },
  {
   "cell_type": "code",
   "execution_count": 31,
   "metadata": {},
   "outputs": [
    {
     "data": {
      "text/plain": [
       "7534"
      ]
     },
     "metadata": {},
     "output_type": "display_data"
    }
   ],
   "source": [
    "user_id_new = data_events['user_id'].nunique() \n",
    "display(user_id_new)"
   ]
  },
  {
   "cell_type": "code",
   "execution_count": 32,
   "metadata": {},
   "outputs": [
    {
     "data": {
      "text/plain": [
       "17"
      ]
     },
     "metadata": {},
     "output_type": "display_data"
    },
    {
     "data": {
      "text/plain": [
       "0.22513574361011784"
      ]
     },
     "metadata": {},
     "output_type": "display_data"
    }
   ],
   "source": [
    "user_id_change = user_id_old - user_id_new #calculating difference in numbers for user id\n",
    "user_id_change_prcnt = user_id_change/(user_id_old/100) #calculating difference in numbers for user id in percentages\n",
    "display(user_id_change)\n",
    "display(user_id_change_prcnt)"
   ]
  },
  {
   "cell_type": "markdown",
   "metadata": {},
   "source": [
    "We can see above that we only lost 17 rows and only 0,22% for user id column."
   ]
  },
  {
   "cell_type": "code",
   "execution_count": 33,
   "metadata": {},
   "outputs": [
    {
     "data": {
      "text/plain": [
       "117328"
      ]
     },
     "metadata": {},
     "output_type": "display_data"
    },
    {
     "data": {
      "text/plain": [
       "46333"
      ]
     },
     "metadata": {},
     "output_type": "display_data"
    },
    {
     "data": {
      "text/plain": [
       "42303"
      ]
     },
     "metadata": {},
     "output_type": "display_data"
    },
    {
     "data": {
      "text/plain": [
       "33918"
      ]
     },
     "metadata": {},
     "output_type": "display_data"
    },
    {
     "data": {
      "text/plain": [
       "1005"
      ]
     },
     "metadata": {},
     "output_type": "display_data"
    }
   ],
   "source": [
    "MainScreen_new = data_events.loc[data_events['event_name'] == 'MainScreenAppear', 'event_name'].count() #separating the data on each event\n",
    "display(MainScreen_new)\n",
    "\n",
    "OffersScreen_new = data_events.loc[data_events['event_name'] == 'OffersScreenAppear', 'event_name'].count()\n",
    "display(OffersScreen_new)\n",
    "\n",
    "CartScreen_new = data_events.loc[data_events['event_name'] == 'CartScreenAppear', 'event_name'].count()\n",
    "display(CartScreen_new)\n",
    "\n",
    "PaymentScreen_new = data_events.loc[data_events['event_name'] == 'PaymentScreenSuccessful', 'event_name'].count()\n",
    "display(PaymentScreen_new)\n",
    "\n",
    "Tutorial_new = data_events.loc[data_events['event_name'] == 'Tutorial', 'event_name'].count()\n",
    "display(Tutorial_new)"
   ]
  },
  {
   "cell_type": "code",
   "execution_count": 34,
   "metadata": {},
   "outputs": [
    {
     "name": "stdout",
     "output_type": "stream",
     "text": [
      "1773 475 365 200 13\n",
      "1.4886524882242802 1.014783797641429 0.855442017436955 0.586200832405182 1.2770137524557956\n"
     ]
    }
   ],
   "source": [
    "MainScreen_difference = MainScreen_old - MainScreen_new  #calculating the difference in numbers for each event\n",
    "\n",
    "OffersScreen_difference = OffersScreen_old - OffersScreen_new\n",
    "\n",
    "CartScreen_difference = CartScreen_old - CartScreen_new\n",
    "\n",
    "PaymentScreen_difference = PaymentScreen_old - PaymentScreen_new\n",
    "\n",
    "Tutorial_difference = Tutorial_old -  Tutorial_new\n",
    "\n",
    "print(MainScreen_difference, OffersScreen_difference, CartScreen_difference, PaymentScreen_difference, Tutorial_difference)\n",
    "\n",
    "\n",
    "\n",
    "\n",
    "\n",
    "MainScreen_difference_prcnt = MainScreen_difference/(MainScreen_old/100) #calculating the difference in numbers for each event in percentages\n",
    "\n",
    "OffersScreen_difference_prcnt = OffersScreen_difference/(OffersScreen_old/100)\n",
    "\n",
    "CartScreen_difference_prcnt = CartScreen_difference/(CartScreen_old/100)\n",
    "\n",
    "PaymentScreen_difference_prcnt = PaymentScreen_difference/(PaymentScreen_old/100)\n",
    "\n",
    "Tutorial_difference_prcnt = Tutorial_difference/(Tutorial_old/100)\n",
    "\n",
    "print(MainScreen_difference_prcnt, OffersScreen_difference_prcnt, CartScreen_difference_prcnt, PaymentScreen_difference_prcnt, Tutorial_difference_prcnt)\n",
    "\n",
    "\n"
   ]
  },
  {
   "cell_type": "markdown",
   "metadata": {},
   "source": [
    "We can see above that we only lost 1773, 475, 365, 200, 13 rows for each event. In percentages we lost only 1,48% for MainScreen, 1,014% for the OffersScreen, 0,85% for CartScreen, 0.58% for PaymentScreen and 1,27% for Tutorial."
   ]
  },
  {
   "cell_type": "markdown",
   "metadata": {},
   "source": [
    "### Calculating the loss of data."
   ]
  },
  {
   "cell_type": "markdown",
   "metadata": {},
   "source": [
    "I looked at user_id, event_name and experiment_number columns before and after dropping the rows.\n",
    "We went from 7551 to 7534 unique users which is very little, we only lost 17 rows. We lost only 0,2% of the users. \n",
    "\n",
    "For groups, we went from \n",
    "\n",
    "248    85582\n",
    "246    80181\n",
    "247    77950\n",
    "\n",
    "to\n",
    "\n",
    "248    84563\n",
    "246    79302\n",
    "247    77022\n",
    "\n",
    "We lost only 1019, 879 and 928 rows respectively.\n",
    "\n",
    "We lost this much data for each group: \n",
    "\n",
    "248: 1.19%\n",
    "246: 1.09%\n",
    "247: 1.19%\n",
    "\n",
    "For number of events we went from this: \n",
    "\n",
    "\n",
    "MainScreenAppear           119101\n",
    "OffersScreenAppear          46808\n",
    "CartScreenAppear            42668\n",
    "PaymentScreenSuccessful     34118\n",
    "Tutorial                     1018\n",
    "\n",
    "\n",
    "to this:\n",
    "\n",
    "MainScreenAppear           117328\n",
    "OffersScreenAppear          46333\n",
    "CartScreenAppear            42303\n",
    "PaymentScreenSuccessful     33918\n",
    "Tutorial                     1005\n",
    "\n",
    "This is the percentage we lost: \n",
    "\n",
    "MainScreenAppear           1.48%\n",
    "OffersScreenAppear         1.014%\n",
    "CartScreenAppear           0.85%\n",
    "PaymentScreenSuccessful    0.58%\n",
    "Tutorial                   1.27%\n",
    "\n",
    "\n",
    "\n",
    "\n",
    "Overall we lost very little data."
   ]
  },
  {
   "cell_type": "code",
   "execution_count": 35,
   "metadata": {},
   "outputs": [
    {
     "data": {
      "text/plain": [
       "248    84563\n",
       "246    79302\n",
       "247    77022\n",
       "Name: experiment_number, dtype: int64"
      ]
     },
     "execution_count": 35,
     "metadata": {},
     "output_type": "execute_result"
    }
   ],
   "source": [
    "data_events['experiment_number'].value_counts() #making sure we have data on all experimental groups."
   ]
  },
  {
   "cell_type": "markdown",
   "metadata": {},
   "source": [
    "## Studying the event funnel"
   ]
  },
  {
   "cell_type": "markdown",
   "metadata": {},
   "source": [
    "Studying event funnel and invewtigating user behaviour. Below we will see the events by frequency and then by the number of unique users. I also conclude that the tutorial is not a necessary step from this data. "
   ]
  },
  {
   "cell_type": "code",
   "execution_count": 36,
   "metadata": {},
   "outputs": [
    {
     "data": {
      "text/plain": [
       "MainScreenAppear           117328\n",
       "OffersScreenAppear          46333\n",
       "CartScreenAppear            42303\n",
       "PaymentScreenSuccessful     33918\n",
       "Tutorial                     1005\n",
       "Name: event_name, dtype: int64"
      ]
     },
     "execution_count": 36,
     "metadata": {},
     "output_type": "execute_result"
    }
   ],
   "source": [
    "data_events['event_name'].value_counts()"
   ]
  },
  {
   "cell_type": "markdown",
   "metadata": {},
   "source": [
    "### Researching user behavior by event"
   ]
  },
  {
   "cell_type": "code",
   "execution_count": 37,
   "metadata": {},
   "outputs": [
    {
     "data": {
      "text/plain": [
       "event_name\n",
       "MainScreenAppear           7419\n",
       "OffersScreenAppear         4593\n",
       "CartScreenAppear           3734\n",
       "PaymentScreenSuccessful    3539\n",
       "Tutorial                    840\n",
       "Name: user_id, dtype: int64"
      ]
     },
     "execution_count": 37,
     "metadata": {},
     "output_type": "execute_result"
    }
   ],
   "source": [
    "event_by_user = data_events.groupby('event_name')['user_id'].nunique() #Sort the events by the number of users\n",
    "event_by_user.sort_values(ascending=False)"
   ]
  },
  {
   "cell_type": "markdown",
   "metadata": {},
   "source": [
    "Below is the proportion of users who performed each action at least once:"
   ]
  },
  {
   "cell_type": "code",
   "execution_count": 38,
   "metadata": {},
   "outputs": [
    {
     "data": {
      "text/plain": [
       "event_name\n",
       "MainScreenAppear           0.984736\n",
       "OffersScreenAppear         0.609636\n",
       "CartScreenAppear           0.495620\n",
       "PaymentScreenSuccessful    0.469737\n",
       "Tutorial                   0.111495\n",
       "Name: user_id, dtype: float64"
      ]
     },
     "execution_count": 38,
     "metadata": {},
     "output_type": "execute_result"
    }
   ],
   "source": [
    "data_events.groupby('event_name')['user_id'].nunique().sort_values(ascending=False)/data_events['user_id'].nunique()\n"
   ]
  },
  {
   "cell_type": "markdown",
   "metadata": {},
   "source": [
    "Below I also calculate how many users completed each number of steps and how many completed all of them, how many users stopped at each event. Excluding tutorial, only 3036 users made completed payment. Looking at the proportion above, we see that there is approximately 47% conversion rate from visiting main screen to purchase. Below i will also reseach how many of the users made repeat purchase."
   ]
  },
  {
   "cell_type": "code",
   "execution_count": 39,
   "metadata": {},
   "outputs": [
    {
     "data": {
      "text/plain": [
       "event_name\n",
       "1    2717\n",
       "2    1004\n",
       "3     318\n",
       "4    3029\n",
       "5     466\n",
       "Name: user_id, dtype: int64"
      ]
     },
     "execution_count": 39,
     "metadata": {},
     "output_type": "execute_result"
    }
   ],
   "source": [
    "data_events.groupby('user_id')['event_name'].nunique().reset_index().groupby('event_name')['user_id'].nunique()"
   ]
  },
  {
   "cell_type": "markdown",
   "metadata": {},
   "source": [
    "Calculating repeated actions: how many of clients made a second purchase.\n"
   ]
  },
  {
   "cell_type": "code",
   "execution_count": 40,
   "metadata": {},
   "outputs": [
    {
     "data": {
      "text/html": [
       "<div>\n",
       "<style scoped>\n",
       "    .dataframe tbody tr th:only-of-type {\n",
       "        vertical-align: middle;\n",
       "    }\n",
       "\n",
       "    .dataframe tbody tr th {\n",
       "        vertical-align: top;\n",
       "    }\n",
       "\n",
       "    .dataframe thead th {\n",
       "        text-align: right;\n",
       "    }\n",
       "</style>\n",
       "<table border=\"1\" class=\"dataframe\">\n",
       "  <thead>\n",
       "    <tr style=\"text-align: right;\">\n",
       "      <th></th>\n",
       "      <th>user_id</th>\n",
       "      <th>event_name</th>\n",
       "      <th>datetime</th>\n",
       "    </tr>\n",
       "  </thead>\n",
       "  <tbody>\n",
       "    <tr>\n",
       "      <td>0</td>\n",
       "      <td>6888746892508752</td>\n",
       "      <td>MainScreenAppear</td>\n",
       "      <td>1</td>\n",
       "    </tr>\n",
       "    <tr>\n",
       "      <td>1</td>\n",
       "      <td>6909561520679493</td>\n",
       "      <td>CartScreenAppear</td>\n",
       "      <td>1</td>\n",
       "    </tr>\n",
       "    <tr>\n",
       "      <td>2</td>\n",
       "      <td>6909561520679493</td>\n",
       "      <td>MainScreenAppear</td>\n",
       "      <td>2</td>\n",
       "    </tr>\n",
       "    <tr>\n",
       "      <td>3</td>\n",
       "      <td>6909561520679493</td>\n",
       "      <td>OffersScreenAppear</td>\n",
       "      <td>1</td>\n",
       "    </tr>\n",
       "    <tr>\n",
       "      <td>4</td>\n",
       "      <td>6909561520679493</td>\n",
       "      <td>PaymentScreenSuccessful</td>\n",
       "      <td>1</td>\n",
       "    </tr>\n",
       "    <tr>\n",
       "      <td>...</td>\n",
       "      <td>...</td>\n",
       "      <td>...</td>\n",
       "      <td>...</td>\n",
       "    </tr>\n",
       "    <tr>\n",
       "      <td>20120</td>\n",
       "      <td>9220879493065341500</td>\n",
       "      <td>CartScreenAppear</td>\n",
       "      <td>1</td>\n",
       "    </tr>\n",
       "    <tr>\n",
       "      <td>20121</td>\n",
       "      <td>9220879493065341500</td>\n",
       "      <td>MainScreenAppear</td>\n",
       "      <td>4</td>\n",
       "    </tr>\n",
       "    <tr>\n",
       "      <td>20122</td>\n",
       "      <td>9220879493065341500</td>\n",
       "      <td>OffersScreenAppear</td>\n",
       "      <td>1</td>\n",
       "    </tr>\n",
       "    <tr>\n",
       "      <td>20123</td>\n",
       "      <td>9221926045299980007</td>\n",
       "      <td>MainScreenAppear</td>\n",
       "      <td>7</td>\n",
       "    </tr>\n",
       "    <tr>\n",
       "      <td>20124</td>\n",
       "      <td>9222603179720523844</td>\n",
       "      <td>MainScreenAppear</td>\n",
       "      <td>59</td>\n",
       "    </tr>\n",
       "  </tbody>\n",
       "</table>\n",
       "<p>20125 rows × 3 columns</p>\n",
       "</div>"
      ],
      "text/plain": [
       "                   user_id               event_name  datetime\n",
       "0         6888746892508752         MainScreenAppear         1\n",
       "1         6909561520679493         CartScreenAppear         1\n",
       "2         6909561520679493         MainScreenAppear         2\n",
       "3         6909561520679493       OffersScreenAppear         1\n",
       "4         6909561520679493  PaymentScreenSuccessful         1\n",
       "...                    ...                      ...       ...\n",
       "20120  9220879493065341500         CartScreenAppear         1\n",
       "20121  9220879493065341500         MainScreenAppear         4\n",
       "20122  9220879493065341500       OffersScreenAppear         1\n",
       "20123  9221926045299980007         MainScreenAppear         7\n",
       "20124  9222603179720523844         MainScreenAppear        59\n",
       "\n",
       "[20125 rows x 3 columns]"
      ]
     },
     "execution_count": 40,
     "metadata": {},
     "output_type": "execute_result"
    }
   ],
   "source": [
    "at_least_once = data_events.groupby(['user_id','event_name'])['datetime'].count().reset_index()\n",
    "at_least_once #looking at how many times each user performed each action."
   ]
  },
  {
   "cell_type": "code",
   "execution_count": 41,
   "metadata": {},
   "outputs": [],
   "source": [
    "main_screen = at_least_once.query('event_name == \"MainScreenAppear\"')\n",
    "cart_screen = at_least_once.query('event_name == \"CartScreenAppear\"')\n",
    "offers_screen = at_least_once.query('event_name == \"OffersScreenAppear\"')\n",
    "payment_screen = at_least_once.query('event_name == \"PaymentScreenSuccessful\"')\n",
    "tutorial = at_least_once.query('event_name == \"Tutorial\"')"
   ]
  },
  {
   "cell_type": "code",
   "execution_count": 42,
   "metadata": {},
   "outputs": [
    {
     "data": {
      "text/plain": [
       "6      411\n",
       "2      399\n",
       "4      396\n",
       "5      383\n",
       "3      378\n",
       "      ... \n",
       "164      1\n",
       "156      1\n",
       "144      1\n",
       "140      1\n",
       "157      1\n",
       "Name: datetime, Length: 120, dtype: int64"
      ]
     },
     "execution_count": 42,
     "metadata": {},
     "output_type": "execute_result"
    }
   ],
   "source": [
    "main_screen['datetime'].value_counts()"
   ]
  },
  {
   "cell_type": "code",
   "execution_count": 43,
   "metadata": {},
   "outputs": [
    {
     "data": {
      "text/plain": [
       "1      472\n",
       "2      433\n",
       "3      387\n",
       "4      362\n",
       "5      290\n",
       "      ... \n",
       "413      1\n",
       "527      1\n",
       "41       1\n",
       "53       1\n",
       "931      1\n",
       "Name: datetime, Length: 116, dtype: int64"
      ]
     },
     "execution_count": 43,
     "metadata": {},
     "output_type": "execute_result"
    }
   ],
   "source": [
    "cart_screen['datetime'].value_counts()"
   ]
  },
  {
   "cell_type": "code",
   "execution_count": 44,
   "metadata": {},
   "outputs": [
    {
     "data": {
      "text/plain": [
       "1      681\n",
       "2      447\n",
       "3      373\n",
       "4      338\n",
       "5      318\n",
       "      ... \n",
       "97       1\n",
       "89       1\n",
       "73       1\n",
       "69       1\n",
       "291      1\n",
       "Name: datetime, Length: 99, dtype: int64"
      ]
     },
     "execution_count": 44,
     "metadata": {},
     "output_type": "execute_result"
    }
   ],
   "source": [
    "offers_screen['datetime'].value_counts()"
   ]
  },
  {
   "cell_type": "code",
   "execution_count": 45,
   "metadata": {},
   "outputs": [
    {
     "data": {
      "text/plain": [
       "1      574\n",
       "2      498\n",
       "3      430\n",
       "4      361\n",
       "5      288\n",
       "      ... \n",
       "762      1\n",
       "33       1\n",
       "55       1\n",
       "59       1\n",
       "570      1\n",
       "Name: datetime, Length: 108, dtype: int64"
      ]
     },
     "execution_count": 45,
     "metadata": {},
     "output_type": "execute_result"
    }
   ],
   "source": [
    "payment_screen['datetime'].value_counts()"
   ]
  },
  {
   "cell_type": "code",
   "execution_count": 46,
   "metadata": {},
   "outputs": [
    {
     "data": {
      "text/plain": [
       "1     756\n",
       "2      56\n",
       "3      19\n",
       "5       3\n",
       "4       2\n",
       "27      1\n",
       "16      1\n",
       "8       1\n",
       "6       1\n",
       "Name: datetime, dtype: int64"
      ]
     },
     "execution_count": 46,
     "metadata": {},
     "output_type": "execute_result"
    }
   ],
   "source": [
    "tutorial['datetime'].value_counts()"
   ]
  },
  {
   "cell_type": "markdown",
   "metadata": {},
   "source": [
    "As is obvious from above, we se a lot of abnormal user behavior.First of all, it is weird that the majority of users saw the Main Screen page not one but from 2 to 6 times. There may be something wrong with this page, maybe it doesn't function properly. This needs to be addressed. Also we see abnormal values where people return to screens hundreds of times. This users' behavior also needs to be investigated separately. There is a possibility that they are spammers or have other malicious intentions, but there may also be something wrong with the way we collect the data (for example, maybe there is a bug that counts same actions multiple times). However, they make a big portion of data and i do not feel comfortable removing them as outliers since it is a high percentage of users.\n",
    "Let's see returning users compared to all users. Let's look at the users who repeated action more than once."
   ]
  },
  {
   "cell_type": "code",
   "execution_count": 47,
   "metadata": {},
   "outputs": [
    {
     "data": {
      "text/plain": [
       "event_name\n",
       "MainScreenAppear           7419\n",
       "OffersScreenAppear         4593\n",
       "CartScreenAppear           3734\n",
       "PaymentScreenSuccessful    3539\n",
       "Tutorial                    840\n",
       "Name: user_id, dtype: int64"
      ]
     },
     "execution_count": 47,
     "metadata": {},
     "output_type": "execute_result"
    }
   ],
   "source": [
    "data_events.groupby('event_name')['user_id'].nunique().sort_values(ascending=False)"
   ]
  },
  {
   "cell_type": "code",
   "execution_count": 48,
   "metadata": {},
   "outputs": [
    {
     "data": {
      "text/plain": [
       "event_name\n",
       "MainScreenAppear           7173\n",
       "OffersScreenAppear         3912\n",
       "CartScreenAppear           3262\n",
       "PaymentScreenSuccessful    2965\n",
       "Tutorial                     84\n",
       "Name: user_id, dtype: int64"
      ]
     },
     "execution_count": 48,
     "metadata": {},
     "output_type": "execute_result"
    }
   ],
   "source": [
    "at_least_once[at_least_once.datetime>=2].groupby('event_name')['user_id'].nunique().sort_values(ascending=False)"
   ]
  },
  {
   "cell_type": "markdown",
   "metadata": {},
   "source": [
    "### Finding return customers."
   ]
  },
  {
   "cell_type": "markdown",
   "metadata": {},
   "source": [
    "So,for exampleout of 7438 users that went to the main screen 7195 did it again. Now we will see % of return customers"
   ]
  },
  {
   "cell_type": "code",
   "execution_count": 49,
   "metadata": {},
   "outputs": [
    {
     "data": {
      "text/plain": [
       "event_name\n",
       "MainScreenAppear           0.966842\n",
       "OffersScreenAppear         0.851731\n",
       "CartScreenAppear           0.873594\n",
       "PaymentScreenSuccessful    0.837807\n",
       "Tutorial                   0.100000\n",
       "Name: user_id, dtype: float64"
      ]
     },
     "execution_count": 49,
     "metadata": {},
     "output_type": "execute_result"
    }
   ],
   "source": [
    "at_least_once[at_least_once.datetime>=2].groupby('event_name')['user_id'].nunique().sort_values(ascending=False)/data_events.groupby('event_name')['user_id'].nunique().sort_values(ascending=False)"
   ]
  },
  {
   "cell_type": "markdown",
   "metadata": {},
   "source": [
    "We can see above that the percentage of returning users is very high, especially for an online app!"
   ]
  },
  {
   "cell_type": "markdown",
   "metadata": {},
   "source": [
    "Sequence of events. It can be seen below. "
   ]
  },
  {
   "cell_type": "code",
   "execution_count": 50,
   "metadata": {},
   "outputs": [
    {
     "data": {
      "text/plain": [
       "event_name\n",
       "MainScreenAppear           7419\n",
       "OffersScreenAppear         4593\n",
       "CartScreenAppear           3734\n",
       "PaymentScreenSuccessful    3539\n",
       "Tutorial                    840\n",
       "Name: user_id, dtype: int64"
      ]
     },
     "execution_count": 50,
     "metadata": {},
     "output_type": "execute_result"
    }
   ],
   "source": [
    "data_events.groupby('event_name')['user_id'].nunique().sort_values(ascending=False)"
   ]
  },
  {
   "cell_type": "markdown",
   "metadata": {},
   "source": [
    "I think that the order is as we see drom highest to lowest. I do not think they are all part of a single sequence and it does not seem necessary to complete all to procede to payment. For example, someone could be sent a link directly to a specific screen, for example, payment. I assume that tutorial is not a necessary part of the funnel since many users proceded to payment without it. "
   ]
  },
  {
   "cell_type": "markdown",
   "metadata": {},
   "source": [
    "Use the event funnel to find the share of users that proceed from each stage to the next. (For instance, for the sequence of events A → B → C, calculate the ratio of users at stage B to the number of users at stage A and the ratio of users at stage C to the number at stage B.)\n",
    "Below I will calculate percentage change between stages. I will drop tutorial since it is redundant."
   ]
  },
  {
   "cell_type": "markdown",
   "metadata": {},
   "source": [
    "### Removing the redundant stage. "
   ]
  },
  {
   "cell_type": "code",
   "execution_count": 51,
   "metadata": {},
   "outputs": [
    {
     "data": {
      "text/html": [
       "<div>\n",
       "<style scoped>\n",
       "    .dataframe tbody tr th:only-of-type {\n",
       "        vertical-align: middle;\n",
       "    }\n",
       "\n",
       "    .dataframe tbody tr th {\n",
       "        vertical-align: top;\n",
       "    }\n",
       "\n",
       "    .dataframe thead th {\n",
       "        text-align: right;\n",
       "    }\n",
       "</style>\n",
       "<table border=\"1\" class=\"dataframe\">\n",
       "  <thead>\n",
       "    <tr style=\"text-align: right;\">\n",
       "      <th></th>\n",
       "      <th>event_name</th>\n",
       "      <th>user_id</th>\n",
       "      <th>timestamp</th>\n",
       "      <th>experiment_number</th>\n",
       "      <th>datetime</th>\n",
       "      <th>date</th>\n",
       "      <th>time</th>\n",
       "      <th>date_str</th>\n",
       "    </tr>\n",
       "  </thead>\n",
       "  <tbody>\n",
       "    <tr>\n",
       "      <td>2829</td>\n",
       "      <td>MainScreenAppear</td>\n",
       "      <td>3737462046622621720</td>\n",
       "      <td>1564618080</td>\n",
       "      <td>246</td>\n",
       "      <td>2019-08-01 00:08:00</td>\n",
       "      <td>2019-08-01</td>\n",
       "      <td>00:08:00</td>\n",
       "      <td>2019-08-01</td>\n",
       "    </tr>\n",
       "    <tr>\n",
       "      <td>2830</td>\n",
       "      <td>MainScreenAppear</td>\n",
       "      <td>3737462046622621720</td>\n",
       "      <td>1564618135</td>\n",
       "      <td>246</td>\n",
       "      <td>2019-08-01 00:08:55</td>\n",
       "      <td>2019-08-01</td>\n",
       "      <td>00:08:55</td>\n",
       "      <td>2019-08-01</td>\n",
       "    </tr>\n",
       "    <tr>\n",
       "      <td>2831</td>\n",
       "      <td>OffersScreenAppear</td>\n",
       "      <td>3737462046622621720</td>\n",
       "      <td>1564618138</td>\n",
       "      <td>246</td>\n",
       "      <td>2019-08-01 00:08:58</td>\n",
       "      <td>2019-08-01</td>\n",
       "      <td>00:08:58</td>\n",
       "      <td>2019-08-01</td>\n",
       "    </tr>\n",
       "    <tr>\n",
       "      <td>2832</td>\n",
       "      <td>MainScreenAppear</td>\n",
       "      <td>1433840883824088890</td>\n",
       "      <td>1564618139</td>\n",
       "      <td>247</td>\n",
       "      <td>2019-08-01 00:08:59</td>\n",
       "      <td>2019-08-01</td>\n",
       "      <td>00:08:59</td>\n",
       "      <td>2019-08-01</td>\n",
       "    </tr>\n",
       "    <tr>\n",
       "      <td>2833</td>\n",
       "      <td>MainScreenAppear</td>\n",
       "      <td>4899590676214355127</td>\n",
       "      <td>1564618215</td>\n",
       "      <td>247</td>\n",
       "      <td>2019-08-01 00:10:15</td>\n",
       "      <td>2019-08-01</td>\n",
       "      <td>00:10:15</td>\n",
       "      <td>2019-08-01</td>\n",
       "    </tr>\n",
       "    <tr>\n",
       "      <td>...</td>\n",
       "      <td>...</td>\n",
       "      <td>...</td>\n",
       "      <td>...</td>\n",
       "      <td>...</td>\n",
       "      <td>...</td>\n",
       "      <td>...</td>\n",
       "      <td>...</td>\n",
       "      <td>...</td>\n",
       "    </tr>\n",
       "    <tr>\n",
       "      <td>244121</td>\n",
       "      <td>MainScreenAppear</td>\n",
       "      <td>4599628364049201812</td>\n",
       "      <td>1565212345</td>\n",
       "      <td>247</td>\n",
       "      <td>2019-08-07 21:12:25</td>\n",
       "      <td>2019-08-07</td>\n",
       "      <td>21:12:25</td>\n",
       "      <td>2019-08-07</td>\n",
       "    </tr>\n",
       "    <tr>\n",
       "      <td>244122</td>\n",
       "      <td>MainScreenAppear</td>\n",
       "      <td>5849806612437486590</td>\n",
       "      <td>1565212439</td>\n",
       "      <td>246</td>\n",
       "      <td>2019-08-07 21:13:59</td>\n",
       "      <td>2019-08-07</td>\n",
       "      <td>21:13:59</td>\n",
       "      <td>2019-08-07</td>\n",
       "    </tr>\n",
       "    <tr>\n",
       "      <td>244123</td>\n",
       "      <td>MainScreenAppear</td>\n",
       "      <td>5746969938801999050</td>\n",
       "      <td>1565212483</td>\n",
       "      <td>246</td>\n",
       "      <td>2019-08-07 21:14:43</td>\n",
       "      <td>2019-08-07</td>\n",
       "      <td>21:14:43</td>\n",
       "      <td>2019-08-07</td>\n",
       "    </tr>\n",
       "    <tr>\n",
       "      <td>244124</td>\n",
       "      <td>MainScreenAppear</td>\n",
       "      <td>5746969938801999050</td>\n",
       "      <td>1565212498</td>\n",
       "      <td>246</td>\n",
       "      <td>2019-08-07 21:14:58</td>\n",
       "      <td>2019-08-07</td>\n",
       "      <td>21:14:58</td>\n",
       "      <td>2019-08-07</td>\n",
       "    </tr>\n",
       "    <tr>\n",
       "      <td>244125</td>\n",
       "      <td>OffersScreenAppear</td>\n",
       "      <td>5746969938801999050</td>\n",
       "      <td>1565212517</td>\n",
       "      <td>246</td>\n",
       "      <td>2019-08-07 21:15:17</td>\n",
       "      <td>2019-08-07</td>\n",
       "      <td>21:15:17</td>\n",
       "      <td>2019-08-07</td>\n",
       "    </tr>\n",
       "  </tbody>\n",
       "</table>\n",
       "<p>239882 rows × 8 columns</p>\n",
       "</div>"
      ],
      "text/plain": [
       "                event_name              user_id   timestamp  \\\n",
       "2829      MainScreenAppear  3737462046622621720  1564618080   \n",
       "2830      MainScreenAppear  3737462046622621720  1564618135   \n",
       "2831    OffersScreenAppear  3737462046622621720  1564618138   \n",
       "2832      MainScreenAppear  1433840883824088890  1564618139   \n",
       "2833      MainScreenAppear  4899590676214355127  1564618215   \n",
       "...                    ...                  ...         ...   \n",
       "244121    MainScreenAppear  4599628364049201812  1565212345   \n",
       "244122    MainScreenAppear  5849806612437486590  1565212439   \n",
       "244123    MainScreenAppear  5746969938801999050  1565212483   \n",
       "244124    MainScreenAppear  5746969938801999050  1565212498   \n",
       "244125  OffersScreenAppear  5746969938801999050  1565212517   \n",
       "\n",
       "        experiment_number            datetime        date      time  \\\n",
       "2829                  246 2019-08-01 00:08:00  2019-08-01  00:08:00   \n",
       "2830                  246 2019-08-01 00:08:55  2019-08-01  00:08:55   \n",
       "2831                  246 2019-08-01 00:08:58  2019-08-01  00:08:58   \n",
       "2832                  247 2019-08-01 00:08:59  2019-08-01  00:08:59   \n",
       "2833                  247 2019-08-01 00:10:15  2019-08-01  00:10:15   \n",
       "...                   ...                 ...         ...       ...   \n",
       "244121                247 2019-08-07 21:12:25  2019-08-07  21:12:25   \n",
       "244122                246 2019-08-07 21:13:59  2019-08-07  21:13:59   \n",
       "244123                246 2019-08-07 21:14:43  2019-08-07  21:14:43   \n",
       "244124                246 2019-08-07 21:14:58  2019-08-07  21:14:58   \n",
       "244125                246 2019-08-07 21:15:17  2019-08-07  21:15:17   \n",
       "\n",
       "          date_str  \n",
       "2829    2019-08-01  \n",
       "2830    2019-08-01  \n",
       "2831    2019-08-01  \n",
       "2832    2019-08-01  \n",
       "2833    2019-08-01  \n",
       "...            ...  \n",
       "244121  2019-08-07  \n",
       "244122  2019-08-07  \n",
       "244123  2019-08-07  \n",
       "244124  2019-08-07  \n",
       "244125  2019-08-07  \n",
       "\n",
       "[239882 rows x 8 columns]"
      ]
     },
     "execution_count": 51,
     "metadata": {},
     "output_type": "execute_result"
    }
   ],
   "source": [
    "\n",
    "funnel = data_events.groupby('event_name')['user_id'].nunique().sort_values(ascending=False).reset_index()\n",
    "funnel['event_name'] = funnel['event_name'].astype(str)\n",
    "funnel = data_events.query( 'event_name != \"Tutorial\" ')\n",
    "funnel"
   ]
  },
  {
   "cell_type": "code",
   "execution_count": 52,
   "metadata": {},
   "outputs": [
    {
     "name": "stderr",
     "output_type": "stream",
     "text": [
      "/opt/conda/lib/python3.7/site-packages/ipykernel_launcher.py:1: SettingWithCopyWarning:\n",
      "\n",
      "\n",
      "A value is trying to be set on a copy of a slice from a DataFrame.\n",
      "Try using .loc[row_indexer,col_indexer] = value instead\n",
      "\n",
      "See the caveats in the documentation: http://pandas.pydata.org/pandas-docs/stable/user_guide/indexing.html#returning-a-view-versus-a-copy\n",
      "\n"
     ]
    },
    {
     "data": {
      "text/html": [
       "<div>\n",
       "<style scoped>\n",
       "    .dataframe tbody tr th:only-of-type {\n",
       "        vertical-align: middle;\n",
       "    }\n",
       "\n",
       "    .dataframe tbody tr th {\n",
       "        vertical-align: top;\n",
       "    }\n",
       "\n",
       "    .dataframe thead th {\n",
       "        text-align: right;\n",
       "    }\n",
       "</style>\n",
       "<table border=\"1\" class=\"dataframe\">\n",
       "  <thead>\n",
       "    <tr style=\"text-align: right;\">\n",
       "      <th></th>\n",
       "      <th>event_name</th>\n",
       "      <th>user_id</th>\n",
       "      <th>timestamp</th>\n",
       "      <th>experiment_number</th>\n",
       "      <th>datetime</th>\n",
       "      <th>date</th>\n",
       "      <th>time</th>\n",
       "      <th>date_str</th>\n",
       "      <th>percentage_change</th>\n",
       "    </tr>\n",
       "  </thead>\n",
       "  <tbody>\n",
       "    <tr>\n",
       "      <td>2829</td>\n",
       "      <td>MainScreenAppear</td>\n",
       "      <td>3737462046622621720</td>\n",
       "      <td>1564618080</td>\n",
       "      <td>246</td>\n",
       "      <td>2019-08-01 00:08:00</td>\n",
       "      <td>2019-08-01</td>\n",
       "      <td>00:08:00</td>\n",
       "      <td>2019-08-01</td>\n",
       "      <td>NaN</td>\n",
       "    </tr>\n",
       "    <tr>\n",
       "      <td>2830</td>\n",
       "      <td>MainScreenAppear</td>\n",
       "      <td>3737462046622621720</td>\n",
       "      <td>1564618135</td>\n",
       "      <td>246</td>\n",
       "      <td>2019-08-01 00:08:55</td>\n",
       "      <td>2019-08-01</td>\n",
       "      <td>00:08:55</td>\n",
       "      <td>2019-08-01</td>\n",
       "      <td>0.000000</td>\n",
       "    </tr>\n",
       "    <tr>\n",
       "      <td>2831</td>\n",
       "      <td>OffersScreenAppear</td>\n",
       "      <td>3737462046622621720</td>\n",
       "      <td>1564618138</td>\n",
       "      <td>246</td>\n",
       "      <td>2019-08-01 00:08:58</td>\n",
       "      <td>2019-08-01</td>\n",
       "      <td>00:08:58</td>\n",
       "      <td>2019-08-01</td>\n",
       "      <td>0.000000</td>\n",
       "    </tr>\n",
       "    <tr>\n",
       "      <td>2832</td>\n",
       "      <td>MainScreenAppear</td>\n",
       "      <td>1433840883824088890</td>\n",
       "      <td>1564618139</td>\n",
       "      <td>247</td>\n",
       "      <td>2019-08-01 00:08:59</td>\n",
       "      <td>2019-08-01</td>\n",
       "      <td>00:08:59</td>\n",
       "      <td>2019-08-01</td>\n",
       "      <td>-0.616360</td>\n",
       "    </tr>\n",
       "    <tr>\n",
       "      <td>2833</td>\n",
       "      <td>MainScreenAppear</td>\n",
       "      <td>4899590676214355127</td>\n",
       "      <td>1564618215</td>\n",
       "      <td>247</td>\n",
       "      <td>2019-08-01 00:10:15</td>\n",
       "      <td>2019-08-01</td>\n",
       "      <td>00:10:15</td>\n",
       "      <td>2019-08-01</td>\n",
       "      <td>2.417109</td>\n",
       "    </tr>\n",
       "    <tr>\n",
       "      <td>...</td>\n",
       "      <td>...</td>\n",
       "      <td>...</td>\n",
       "      <td>...</td>\n",
       "      <td>...</td>\n",
       "      <td>...</td>\n",
       "      <td>...</td>\n",
       "      <td>...</td>\n",
       "      <td>...</td>\n",
       "      <td>...</td>\n",
       "    </tr>\n",
       "    <tr>\n",
       "      <td>244121</td>\n",
       "      <td>MainScreenAppear</td>\n",
       "      <td>4599628364049201812</td>\n",
       "      <td>1565212345</td>\n",
       "      <td>247</td>\n",
       "      <td>2019-08-07 21:12:25</td>\n",
       "      <td>2019-08-07</td>\n",
       "      <td>21:12:25</td>\n",
       "      <td>2019-08-07</td>\n",
       "      <td>-0.199643</td>\n",
       "    </tr>\n",
       "    <tr>\n",
       "      <td>244122</td>\n",
       "      <td>MainScreenAppear</td>\n",
       "      <td>5849806612437486590</td>\n",
       "      <td>1565212439</td>\n",
       "      <td>246</td>\n",
       "      <td>2019-08-07 21:13:59</td>\n",
       "      <td>2019-08-07</td>\n",
       "      <td>21:13:59</td>\n",
       "      <td>2019-08-07</td>\n",
       "      <td>0.271800</td>\n",
       "    </tr>\n",
       "    <tr>\n",
       "      <td>244123</td>\n",
       "      <td>MainScreenAppear</td>\n",
       "      <td>5746969938801999050</td>\n",
       "      <td>1565212483</td>\n",
       "      <td>246</td>\n",
       "      <td>2019-08-07 21:14:43</td>\n",
       "      <td>2019-08-07</td>\n",
       "      <td>21:14:43</td>\n",
       "      <td>2019-08-07</td>\n",
       "      <td>-0.017579</td>\n",
       "    </tr>\n",
       "    <tr>\n",
       "      <td>244124</td>\n",
       "      <td>MainScreenAppear</td>\n",
       "      <td>5746969938801999050</td>\n",
       "      <td>1565212498</td>\n",
       "      <td>246</td>\n",
       "      <td>2019-08-07 21:14:58</td>\n",
       "      <td>2019-08-07</td>\n",
       "      <td>21:14:58</td>\n",
       "      <td>2019-08-07</td>\n",
       "      <td>0.000000</td>\n",
       "    </tr>\n",
       "    <tr>\n",
       "      <td>244125</td>\n",
       "      <td>OffersScreenAppear</td>\n",
       "      <td>5746969938801999050</td>\n",
       "      <td>1565212517</td>\n",
       "      <td>246</td>\n",
       "      <td>2019-08-07 21:15:17</td>\n",
       "      <td>2019-08-07</td>\n",
       "      <td>21:15:17</td>\n",
       "      <td>2019-08-07</td>\n",
       "      <td>0.000000</td>\n",
       "    </tr>\n",
       "  </tbody>\n",
       "</table>\n",
       "<p>239882 rows × 9 columns</p>\n",
       "</div>"
      ],
      "text/plain": [
       "                event_name              user_id   timestamp  \\\n",
       "2829      MainScreenAppear  3737462046622621720  1564618080   \n",
       "2830      MainScreenAppear  3737462046622621720  1564618135   \n",
       "2831    OffersScreenAppear  3737462046622621720  1564618138   \n",
       "2832      MainScreenAppear  1433840883824088890  1564618139   \n",
       "2833      MainScreenAppear  4899590676214355127  1564618215   \n",
       "...                    ...                  ...         ...   \n",
       "244121    MainScreenAppear  4599628364049201812  1565212345   \n",
       "244122    MainScreenAppear  5849806612437486590  1565212439   \n",
       "244123    MainScreenAppear  5746969938801999050  1565212483   \n",
       "244124    MainScreenAppear  5746969938801999050  1565212498   \n",
       "244125  OffersScreenAppear  5746969938801999050  1565212517   \n",
       "\n",
       "        experiment_number            datetime        date      time  \\\n",
       "2829                  246 2019-08-01 00:08:00  2019-08-01  00:08:00   \n",
       "2830                  246 2019-08-01 00:08:55  2019-08-01  00:08:55   \n",
       "2831                  246 2019-08-01 00:08:58  2019-08-01  00:08:58   \n",
       "2832                  247 2019-08-01 00:08:59  2019-08-01  00:08:59   \n",
       "2833                  247 2019-08-01 00:10:15  2019-08-01  00:10:15   \n",
       "...                   ...                 ...         ...       ...   \n",
       "244121                247 2019-08-07 21:12:25  2019-08-07  21:12:25   \n",
       "244122                246 2019-08-07 21:13:59  2019-08-07  21:13:59   \n",
       "244123                246 2019-08-07 21:14:43  2019-08-07  21:14:43   \n",
       "244124                246 2019-08-07 21:14:58  2019-08-07  21:14:58   \n",
       "244125                246 2019-08-07 21:15:17  2019-08-07  21:15:17   \n",
       "\n",
       "          date_str  percentage_change  \n",
       "2829    2019-08-01                NaN  \n",
       "2830    2019-08-01           0.000000  \n",
       "2831    2019-08-01           0.000000  \n",
       "2832    2019-08-01          -0.616360  \n",
       "2833    2019-08-01           2.417109  \n",
       "...            ...                ...  \n",
       "244121  2019-08-07          -0.199643  \n",
       "244122  2019-08-07           0.271800  \n",
       "244123  2019-08-07          -0.017579  \n",
       "244124  2019-08-07           0.000000  \n",
       "244125  2019-08-07           0.000000  \n",
       "\n",
       "[239882 rows x 9 columns]"
      ]
     },
     "execution_count": 52,
     "metadata": {},
     "output_type": "execute_result"
    }
   ],
   "source": [
    "funnel['percentage_change'] = funnel['user_id'].pct_change() \n",
    "funnel"
   ]
  },
  {
   "cell_type": "code",
   "execution_count": 53,
   "metadata": {},
   "outputs": [
    {
     "data": {
      "text/plain": [
       "event_name\n",
       "MainScreenAppear           0.984736\n",
       "OffersScreenAppear         0.609636\n",
       "CartScreenAppear           0.495620\n",
       "PaymentScreenSuccessful    0.469737\n",
       "Tutorial                   0.111495\n",
       "Name: user_id, dtype: float64"
      ]
     },
     "execution_count": 53,
     "metadata": {},
     "output_type": "execute_result"
    }
   ],
   "source": [
    "data_events.groupby('event_name')['user_id'].nunique().sort_values(ascending=False)/data_events['user_id'].nunique()"
   ]
  },
  {
   "cell_type": "markdown",
   "metadata": {},
   "source": [
    "As we can see, we lose most users at the OffersScreenAppear stage. We lose almost 38% of clients there. There is something wrong with this page, we should report it to the site developpment team.\n",
    "Overall 47 % of users make the entire journey from mainscreen to payment. I exclude tutorial since it is clearly rarely used."
   ]
  },
  {
   "cell_type": "markdown",
   "metadata": {},
   "source": [
    "### Studying funnel by group."
   ]
  },
  {
   "cell_type": "markdown",
   "metadata": {},
   "source": [
    "Below I split data by group and make some more calculations I find useful. "
   ]
  },
  {
   "cell_type": "code",
   "execution_count": 54,
   "metadata": {},
   "outputs": [
    {
     "data": {
      "text/html": [
       "<div>\n",
       "<style scoped>\n",
       "    .dataframe tbody tr th:only-of-type {\n",
       "        vertical-align: middle;\n",
       "    }\n",
       "\n",
       "    .dataframe tbody tr th {\n",
       "        vertical-align: top;\n",
       "    }\n",
       "\n",
       "    .dataframe thead th {\n",
       "        text-align: right;\n",
       "    }\n",
       "</style>\n",
       "<table border=\"1\" class=\"dataframe\">\n",
       "  <thead>\n",
       "    <tr style=\"text-align: right;\">\n",
       "      <th></th>\n",
       "      <th>event_name</th>\n",
       "      <th>experiment_number</th>\n",
       "      <th>user_id</th>\n",
       "    </tr>\n",
       "  </thead>\n",
       "  <tbody>\n",
       "    <tr>\n",
       "      <td>1</td>\n",
       "      <td>MainScreenAppear</td>\n",
       "      <td>246</td>\n",
       "      <td>2450</td>\n",
       "    </tr>\n",
       "    <tr>\n",
       "      <td>2</td>\n",
       "      <td>OffersScreenAppear</td>\n",
       "      <td>246</td>\n",
       "      <td>1542</td>\n",
       "    </tr>\n",
       "    <tr>\n",
       "      <td>0</td>\n",
       "      <td>CartScreenAppear</td>\n",
       "      <td>246</td>\n",
       "      <td>1266</td>\n",
       "    </tr>\n",
       "    <tr>\n",
       "      <td>3</td>\n",
       "      <td>PaymentScreenSuccessful</td>\n",
       "      <td>246</td>\n",
       "      <td>1200</td>\n",
       "    </tr>\n",
       "    <tr>\n",
       "      <td>4</td>\n",
       "      <td>Tutorial</td>\n",
       "      <td>246</td>\n",
       "      <td>278</td>\n",
       "    </tr>\n",
       "  </tbody>\n",
       "</table>\n",
       "</div>"
      ],
      "text/plain": [
       "                event_name  experiment_number  user_id\n",
       "1         MainScreenAppear                246     2450\n",
       "2       OffersScreenAppear                246     1542\n",
       "0         CartScreenAppear                246     1266\n",
       "3  PaymentScreenSuccessful                246     1200\n",
       "4                 Tutorial                246      278"
      ]
     },
     "metadata": {},
     "output_type": "display_data"
    },
    {
     "data": {
      "text/html": [
       "<div>\n",
       "<style scoped>\n",
       "    .dataframe tbody tr th:only-of-type {\n",
       "        vertical-align: middle;\n",
       "    }\n",
       "\n",
       "    .dataframe tbody tr th {\n",
       "        vertical-align: top;\n",
       "    }\n",
       "\n",
       "    .dataframe thead th {\n",
       "        text-align: right;\n",
       "    }\n",
       "</style>\n",
       "<table border=\"1\" class=\"dataframe\">\n",
       "  <thead>\n",
       "    <tr style=\"text-align: right;\">\n",
       "      <th></th>\n",
       "      <th>event_name</th>\n",
       "      <th>experiment_number</th>\n",
       "      <th>user_id</th>\n",
       "    </tr>\n",
       "  </thead>\n",
       "  <tbody>\n",
       "    <tr>\n",
       "      <td>1</td>\n",
       "      <td>MainScreenAppear</td>\n",
       "      <td>247</td>\n",
       "      <td>2476</td>\n",
       "    </tr>\n",
       "    <tr>\n",
       "      <td>2</td>\n",
       "      <td>OffersScreenAppear</td>\n",
       "      <td>247</td>\n",
       "      <td>1520</td>\n",
       "    </tr>\n",
       "    <tr>\n",
       "      <td>0</td>\n",
       "      <td>CartScreenAppear</td>\n",
       "      <td>247</td>\n",
       "      <td>1238</td>\n",
       "    </tr>\n",
       "    <tr>\n",
       "      <td>3</td>\n",
       "      <td>PaymentScreenSuccessful</td>\n",
       "      <td>247</td>\n",
       "      <td>1158</td>\n",
       "    </tr>\n",
       "    <tr>\n",
       "      <td>4</td>\n",
       "      <td>Tutorial</td>\n",
       "      <td>247</td>\n",
       "      <td>283</td>\n",
       "    </tr>\n",
       "  </tbody>\n",
       "</table>\n",
       "</div>"
      ],
      "text/plain": [
       "                event_name  experiment_number  user_id\n",
       "1         MainScreenAppear                247     2476\n",
       "2       OffersScreenAppear                247     1520\n",
       "0         CartScreenAppear                247     1238\n",
       "3  PaymentScreenSuccessful                247     1158\n",
       "4                 Tutorial                247      283"
      ]
     },
     "metadata": {},
     "output_type": "display_data"
    },
    {
     "data": {
      "text/html": [
       "<div>\n",
       "<style scoped>\n",
       "    .dataframe tbody tr th:only-of-type {\n",
       "        vertical-align: middle;\n",
       "    }\n",
       "\n",
       "    .dataframe tbody tr th {\n",
       "        vertical-align: top;\n",
       "    }\n",
       "\n",
       "    .dataframe thead th {\n",
       "        text-align: right;\n",
       "    }\n",
       "</style>\n",
       "<table border=\"1\" class=\"dataframe\">\n",
       "  <thead>\n",
       "    <tr style=\"text-align: right;\">\n",
       "      <th></th>\n",
       "      <th>event_name</th>\n",
       "      <th>experiment_number</th>\n",
       "      <th>user_id</th>\n",
       "    </tr>\n",
       "  </thead>\n",
       "  <tbody>\n",
       "    <tr>\n",
       "      <td>1</td>\n",
       "      <td>MainScreenAppear</td>\n",
       "      <td>248</td>\n",
       "      <td>2493</td>\n",
       "    </tr>\n",
       "    <tr>\n",
       "      <td>2</td>\n",
       "      <td>OffersScreenAppear</td>\n",
       "      <td>248</td>\n",
       "      <td>1531</td>\n",
       "    </tr>\n",
       "    <tr>\n",
       "      <td>0</td>\n",
       "      <td>CartScreenAppear</td>\n",
       "      <td>248</td>\n",
       "      <td>1230</td>\n",
       "    </tr>\n",
       "    <tr>\n",
       "      <td>3</td>\n",
       "      <td>PaymentScreenSuccessful</td>\n",
       "      <td>248</td>\n",
       "      <td>1181</td>\n",
       "    </tr>\n",
       "    <tr>\n",
       "      <td>4</td>\n",
       "      <td>Tutorial</td>\n",
       "      <td>248</td>\n",
       "      <td>279</td>\n",
       "    </tr>\n",
       "  </tbody>\n",
       "</table>\n",
       "</div>"
      ],
      "text/plain": [
       "                event_name  experiment_number  user_id\n",
       "1         MainScreenAppear                248     2493\n",
       "2       OffersScreenAppear                248     1531\n",
       "0         CartScreenAppear                248     1230\n",
       "3  PaymentScreenSuccessful                248     1181\n",
       "4                 Tutorial                248      279"
      ]
     },
     "metadata": {},
     "output_type": "display_data"
    }
   ],
   "source": [
    "funnel_by_groups = []\n",
    "for i in data_events.experiment_number.unique():\n",
    "    group = data_events[data_events.experiment_number == i].groupby(['event_name', 'experiment_number'])['user_id'].nunique().reset_index().sort_values(by='user_id', ascending=False)\n",
    "    display(group)\n",
    "    funnel_by_groups.append(group)\n"
   ]
  },
  {
   "cell_type": "markdown",
   "metadata": {},
   "source": [
    "Above we see funnel for each group."
   ]
  },
  {
   "cell_type": "code",
   "execution_count": 55,
   "metadata": {},
   "outputs": [],
   "source": [
    "funnel_by_groups = pd.concat(funnel_by_groups)\n"
   ]
  },
  {
   "cell_type": "code",
   "execution_count": 56,
   "metadata": {},
   "outputs": [
    {
     "data": {
      "text/html": [
       "<div>\n",
       "<style scoped>\n",
       "    .dataframe tbody tr th:only-of-type {\n",
       "        vertical-align: middle;\n",
       "    }\n",
       "\n",
       "    .dataframe tbody tr th {\n",
       "        vertical-align: top;\n",
       "    }\n",
       "\n",
       "    .dataframe thead th {\n",
       "        text-align: right;\n",
       "    }\n",
       "</style>\n",
       "<table border=\"1\" class=\"dataframe\">\n",
       "  <thead>\n",
       "    <tr style=\"text-align: right;\">\n",
       "      <th>event_name</th>\n",
       "      <th>CartScreenAppear</th>\n",
       "      <th>MainScreenAppear</th>\n",
       "      <th>OffersScreenAppear</th>\n",
       "      <th>PaymentScreenSuccessful</th>\n",
       "    </tr>\n",
       "    <tr>\n",
       "      <th>user_id</th>\n",
       "      <th></th>\n",
       "      <th></th>\n",
       "      <th></th>\n",
       "      <th></th>\n",
       "    </tr>\n",
       "  </thead>\n",
       "  <tbody>\n",
       "    <tr>\n",
       "      <td>6888746892508752</td>\n",
       "      <td>NaT</td>\n",
       "      <td>2019-08-06 14:06:34</td>\n",
       "      <td>NaT</td>\n",
       "      <td>NaT</td>\n",
       "    </tr>\n",
       "    <tr>\n",
       "      <td>6909561520679493</td>\n",
       "      <td>2019-08-06 18:52:58</td>\n",
       "      <td>2019-08-06 18:52:54</td>\n",
       "      <td>2019-08-06 18:53:04</td>\n",
       "      <td>2019-08-06 18:52:58</td>\n",
       "    </tr>\n",
       "    <tr>\n",
       "      <td>6922444491712477</td>\n",
       "      <td>2019-08-04 14:19:40</td>\n",
       "      <td>2019-08-04 14:19:33</td>\n",
       "      <td>2019-08-04 14:19:46</td>\n",
       "      <td>2019-08-04 14:19:40</td>\n",
       "    </tr>\n",
       "    <tr>\n",
       "      <td>7435777799948366</td>\n",
       "      <td>NaT</td>\n",
       "      <td>2019-08-05 08:06:34</td>\n",
       "      <td>NaT</td>\n",
       "      <td>NaT</td>\n",
       "    </tr>\n",
       "    <tr>\n",
       "      <td>7702139951469979</td>\n",
       "      <td>2019-08-02 14:28:45</td>\n",
       "      <td>2019-08-01 04:29:54</td>\n",
       "      <td>2019-08-01 04:29:56</td>\n",
       "      <td>2019-08-02 14:28:45</td>\n",
       "    </tr>\n",
       "    <tr>\n",
       "      <td>...</td>\n",
       "      <td>...</td>\n",
       "      <td>...</td>\n",
       "      <td>...</td>\n",
       "      <td>...</td>\n",
       "    </tr>\n",
       "    <tr>\n",
       "      <td>9217594193087726423</td>\n",
       "      <td>2019-08-02 09:00:58</td>\n",
       "      <td>NaT</td>\n",
       "      <td>2019-08-02 09:01:08</td>\n",
       "      <td>2019-08-02 09:00:57</td>\n",
       "    </tr>\n",
       "    <tr>\n",
       "      <td>9219463515465815368</td>\n",
       "      <td>2019-08-06 16:49:40</td>\n",
       "      <td>2019-08-05 05:26:26</td>\n",
       "      <td>2019-08-06 16:48:57</td>\n",
       "      <td>2019-08-06 16:52:16</td>\n",
       "    </tr>\n",
       "    <tr>\n",
       "      <td>9220879493065341500</td>\n",
       "      <td>2019-08-02 17:59:16</td>\n",
       "      <td>2019-08-02 17:58:48</td>\n",
       "      <td>2019-08-02 17:59:00</td>\n",
       "      <td>NaT</td>\n",
       "    </tr>\n",
       "    <tr>\n",
       "      <td>9221926045299980007</td>\n",
       "      <td>NaT</td>\n",
       "      <td>2019-08-01 17:30:27</td>\n",
       "      <td>NaT</td>\n",
       "      <td>NaT</td>\n",
       "    </tr>\n",
       "    <tr>\n",
       "      <td>9222603179720523844</td>\n",
       "      <td>NaT</td>\n",
       "      <td>2019-08-01 06:52:13</td>\n",
       "      <td>NaT</td>\n",
       "      <td>NaT</td>\n",
       "    </tr>\n",
       "  </tbody>\n",
       "</table>\n",
       "<p>7530 rows × 4 columns</p>\n",
       "</div>"
      ],
      "text/plain": [
       "event_name             CartScreenAppear    MainScreenAppear  \\\n",
       "user_id                                                       \n",
       "6888746892508752                    NaT 2019-08-06 14:06:34   \n",
       "6909561520679493    2019-08-06 18:52:58 2019-08-06 18:52:54   \n",
       "6922444491712477    2019-08-04 14:19:40 2019-08-04 14:19:33   \n",
       "7435777799948366                    NaT 2019-08-05 08:06:34   \n",
       "7702139951469979    2019-08-02 14:28:45 2019-08-01 04:29:54   \n",
       "...                                 ...                 ...   \n",
       "9217594193087726423 2019-08-02 09:00:58                 NaT   \n",
       "9219463515465815368 2019-08-06 16:49:40 2019-08-05 05:26:26   \n",
       "9220879493065341500 2019-08-02 17:59:16 2019-08-02 17:58:48   \n",
       "9221926045299980007                 NaT 2019-08-01 17:30:27   \n",
       "9222603179720523844                 NaT 2019-08-01 06:52:13   \n",
       "\n",
       "event_name           OffersScreenAppear PaymentScreenSuccessful  \n",
       "user_id                                                          \n",
       "6888746892508752                    NaT                     NaT  \n",
       "6909561520679493    2019-08-06 18:53:04     2019-08-06 18:52:58  \n",
       "6922444491712477    2019-08-04 14:19:46     2019-08-04 14:19:40  \n",
       "7435777799948366                    NaT                     NaT  \n",
       "7702139951469979    2019-08-01 04:29:56     2019-08-02 14:28:45  \n",
       "...                                 ...                     ...  \n",
       "9217594193087726423 2019-08-02 09:01:08     2019-08-02 09:00:57  \n",
       "9219463515465815368 2019-08-06 16:48:57     2019-08-06 16:52:16  \n",
       "9220879493065341500 2019-08-02 17:59:00                     NaT  \n",
       "9221926045299980007                 NaT                     NaT  \n",
       "9222603179720523844                 NaT                     NaT  \n",
       "\n",
       "[7530 rows x 4 columns]"
      ]
     },
     "execution_count": 56,
     "metadata": {},
     "output_type": "execute_result"
    }
   ],
   "source": [
    "min_time = pd.pivot_table(data_events[data_events['event_name'] != 'Tutorial'], index = ['user_id'], columns = ['event_name'], values = ['datetime'], aggfunc=min)['datetime']\n",
    "min_time"
   ]
  },
  {
   "cell_type": "code",
   "execution_count": 57,
   "metadata": {},
   "outputs": [],
   "source": [
    "min_time_new_order = min_time[['MainScreenAppear','PaymentScreenSuccessful']]"
   ]
  },
  {
   "cell_type": "code",
   "execution_count": 58,
   "metadata": {},
   "outputs": [
    {
     "data": {
      "text/html": [
       "<div>\n",
       "<style scoped>\n",
       "    .dataframe tbody tr th:only-of-type {\n",
       "        vertical-align: middle;\n",
       "    }\n",
       "\n",
       "    .dataframe tbody tr th {\n",
       "        vertical-align: top;\n",
       "    }\n",
       "\n",
       "    .dataframe thead th {\n",
       "        text-align: right;\n",
       "    }\n",
       "</style>\n",
       "<table border=\"1\" class=\"dataframe\">\n",
       "  <thead>\n",
       "    <tr style=\"text-align: right;\">\n",
       "      <th>event_name</th>\n",
       "      <th>MainScreenAppear</th>\n",
       "      <th>PaymentScreenSuccessful</th>\n",
       "    </tr>\n",
       "    <tr>\n",
       "      <th>user_id</th>\n",
       "      <th></th>\n",
       "      <th></th>\n",
       "    </tr>\n",
       "  </thead>\n",
       "  <tbody>\n",
       "    <tr>\n",
       "      <td>6888746892508752</td>\n",
       "      <td>NaT</td>\n",
       "      <td>NaT</td>\n",
       "    </tr>\n",
       "    <tr>\n",
       "      <td>6909561520679493</td>\n",
       "      <td>NaT</td>\n",
       "      <td>0 days 00:00:04</td>\n",
       "    </tr>\n",
       "    <tr>\n",
       "      <td>6922444491712477</td>\n",
       "      <td>NaT</td>\n",
       "      <td>0 days 00:00:07</td>\n",
       "    </tr>\n",
       "    <tr>\n",
       "      <td>7435777799948366</td>\n",
       "      <td>NaT</td>\n",
       "      <td>NaT</td>\n",
       "    </tr>\n",
       "    <tr>\n",
       "      <td>7702139951469979</td>\n",
       "      <td>NaT</td>\n",
       "      <td>1 days 09:58:51</td>\n",
       "    </tr>\n",
       "    <tr>\n",
       "      <td>...</td>\n",
       "      <td>...</td>\n",
       "      <td>...</td>\n",
       "    </tr>\n",
       "    <tr>\n",
       "      <td>9217594193087726423</td>\n",
       "      <td>NaT</td>\n",
       "      <td>NaT</td>\n",
       "    </tr>\n",
       "    <tr>\n",
       "      <td>9219463515465815368</td>\n",
       "      <td>NaT</td>\n",
       "      <td>1 days 11:25:50</td>\n",
       "    </tr>\n",
       "    <tr>\n",
       "      <td>9220879493065341500</td>\n",
       "      <td>NaT</td>\n",
       "      <td>NaT</td>\n",
       "    </tr>\n",
       "    <tr>\n",
       "      <td>9221926045299980007</td>\n",
       "      <td>NaT</td>\n",
       "      <td>NaT</td>\n",
       "    </tr>\n",
       "    <tr>\n",
       "      <td>9222603179720523844</td>\n",
       "      <td>NaT</td>\n",
       "      <td>NaT</td>\n",
       "    </tr>\n",
       "  </tbody>\n",
       "</table>\n",
       "<p>7530 rows × 2 columns</p>\n",
       "</div>"
      ],
      "text/plain": [
       "event_name          MainScreenAppear PaymentScreenSuccessful\n",
       "user_id                                                     \n",
       "6888746892508752                 NaT                     NaT\n",
       "6909561520679493                 NaT         0 days 00:00:04\n",
       "6922444491712477                 NaT         0 days 00:00:07\n",
       "7435777799948366                 NaT                     NaT\n",
       "7702139951469979                 NaT         1 days 09:58:51\n",
       "...                              ...                     ...\n",
       "9217594193087726423              NaT                     NaT\n",
       "9219463515465815368              NaT         1 days 11:25:50\n",
       "9220879493065341500              NaT                     NaT\n",
       "9221926045299980007              NaT                     NaT\n",
       "9222603179720523844              NaT                     NaT\n",
       "\n",
       "[7530 rows x 2 columns]"
      ]
     },
     "execution_count": 58,
     "metadata": {},
     "output_type": "execute_result"
    }
   ],
   "source": [
    "# Here we can also see the time difference between first and last steps.\n",
    "\n",
    "min_time_diff = min_time_new_order - min_time_new_order.shift(+1, axis=1)\n",
    "min_time_diff"
   ]
  },
  {
   "cell_type": "code",
   "execution_count": 59,
   "metadata": {},
   "outputs": [
    {
     "data": {
      "text/plain": [
       "0 days 00:00:02      145\n",
       "0 days 00:00:03      144\n",
       "0 days 00:00:04      134\n",
       "0 days 00:00:05      107\n",
       "0 days 00:00:06       82\n",
       "                    ... \n",
       "-2 days +22:57:40      1\n",
       "1 days 07:10:06        1\n",
       "0 days 11:38:06        1\n",
       "4 days 09:44:05        1\n",
       "0 days 00:05:11        1\n",
       "Name: PaymentScreenSuccessful, Length: 2035, dtype: int64"
      ]
     },
     "execution_count": 59,
     "metadata": {},
     "output_type": "execute_result"
    }
   ],
   "source": [
    "min_time_diff['PaymentScreenSuccessful'].value_counts().sort_values(ascending=False)"
   ]
  },
  {
   "cell_type": "code",
   "execution_count": 60,
   "metadata": {},
   "outputs": [
    {
     "data": {
      "text/plain": [
       "Timedelta('0 days 12:30:56.080209')"
      ]
     },
     "execution_count": 60,
     "metadata": {},
     "output_type": "execute_result"
    }
   ],
   "source": [
    "min_time_diff['PaymentScreenSuccessful'].mean() #average time it takes for users to get from main to the payment screen. "
   ]
  },
  {
   "cell_type": "code",
   "execution_count": 61,
   "metadata": {},
   "outputs": [
    {
     "data": {
      "text/plain": [
       "Timedelta('0 days 00:03:27')"
      ]
     },
     "execution_count": 61,
     "metadata": {},
     "output_type": "execute_result"
    }
   ],
   "source": [
    "min_time_diff['PaymentScreenSuccessful'].median() "
   ]
  },
  {
   "cell_type": "code",
   "execution_count": 62,
   "metadata": {},
   "outputs": [
    {
     "data": {
      "text/plain": [
       "Timedelta('0 days 07:40:04.275100')"
      ]
     },
     "metadata": {},
     "output_type": "display_data"
    },
    {
     "data": {
      "text/plain": [
       "Timedelta('0 days 00:00:19')"
      ]
     },
     "metadata": {},
     "output_type": "display_data"
    }
   ],
   "source": [
    "min_time_new_order = min_time[['MainScreenAppear','OffersScreenAppear']]\n",
    "min_time_diff = min_time_new_order - min_time_new_order.shift(+1, axis=1)\n",
    "display(min_time_diff['OffersScreenAppear'].mean()) #average time it takes for users to get from main to the offers screen. \n",
    "display(min_time_diff['OffersScreenAppear'].median())"
   ]
  },
  {
   "cell_type": "code",
   "execution_count": 63,
   "metadata": {},
   "outputs": [
    {
     "data": {
      "text/plain": [
       "Timedelta('0 days 10:35:12.408253')"
      ]
     },
     "metadata": {},
     "output_type": "display_data"
    },
    {
     "data": {
      "text/plain": [
       "Timedelta('0 days 00:01:01')"
      ]
     },
     "metadata": {},
     "output_type": "display_data"
    }
   ],
   "source": [
    "min_time_new_order = min_time[['MainScreenAppear','CartScreenAppear']]\n",
    "min_time_diff = min_time_new_order - min_time_new_order.shift(+1, axis=1)\n",
    "display(min_time_diff['CartScreenAppear'].mean()) #average time it takes for users to get from main to the cart screen. \n",
    "display(min_time_diff['CartScreenAppear'].median())"
   ]
  },
  {
   "cell_type": "code",
   "execution_count": 64,
   "metadata": {},
   "outputs": [
    {
     "data": {
      "text/plain": [
       "Timedelta('0 days 07:39:18.228866')"
      ]
     },
     "metadata": {},
     "output_type": "display_data"
    },
    {
     "data": {
      "text/plain": [
       "Timedelta('0 days 00:00:07')"
      ]
     },
     "metadata": {},
     "output_type": "display_data"
    }
   ],
   "source": [
    "min_time_new_order = min_time[['OffersScreenAppear','CartScreenAppear']]\n",
    "min_time_diff = min_time_new_order - min_time_new_order.shift(+1, axis=1)\n",
    "display(min_time_diff['CartScreenAppear'].mean()) #average time it takes for users to get from offers to the cart screen. \n",
    "display(min_time_diff['CartScreenAppear'].median())"
   ]
  },
  {
   "cell_type": "code",
   "execution_count": 65,
   "metadata": {},
   "outputs": [
    {
     "data": {
      "text/plain": [
       "Timedelta('0 days 10:03:50.189977')"
      ]
     },
     "metadata": {},
     "output_type": "display_data"
    },
    {
     "data": {
      "text/plain": [
       "Timedelta('0 days 00:00:22')"
      ]
     },
     "metadata": {},
     "output_type": "display_data"
    }
   ],
   "source": [
    "min_time_new_order = min_time[['OffersScreenAppear','PaymentScreenSuccessful']]\n",
    "min_time_diff = min_time_new_order - min_time_new_order.shift(+1, axis=1)\n",
    "display(min_time_diff['PaymentScreenSuccessful'].mean()) #average time it takes for users to get from offers to the payment screen. \n",
    "display(min_time_diff['PaymentScreenSuccessful'].median())"
   ]
  },
  {
   "cell_type": "code",
   "execution_count": 66,
   "metadata": {},
   "outputs": [
    {
     "data": {
      "text/plain": [
       "Timedelta('0 days 02:32:25.174872')"
      ]
     },
     "metadata": {},
     "output_type": "display_data"
    },
    {
     "data": {
      "text/plain": [
       "Timedelta('0 days 00:00:00')"
      ]
     },
     "metadata": {},
     "output_type": "display_data"
    }
   ],
   "source": [
    "min_time_new_order = min_time[['CartScreenAppear','PaymentScreenSuccessful']]\n",
    "min_time_diff = min_time_new_order - min_time_new_order.shift(+1, axis=1)\n",
    "display(min_time_diff['PaymentScreenSuccessful'].mean()) #average time it takes for users to get from cart to the payment screen. \n",
    "display(min_time_diff['PaymentScreenSuccessful'].median())"
   ]
  },
  {
   "cell_type": "markdown",
   "metadata": {},
   "source": [
    "### Conclusion for this section of research\n",
    "Above we have looked at the time it took to get from each step to each. I used median as well as mean to account for possibility of abnormaly large numbers skewing the mean. If we look at the median we see that it takes comparatively long time to get from main to offers. 21 second is a lot for two consecutive steps; this may be the reason the users quit most often at this step, since 21 seconds is a long time for a next page to load, the users may have clicked off."
   ]
  },
  {
   "cell_type": "markdown",
   "metadata": {},
   "source": [
    "## Studying the results of the experiment"
   ]
  },
  {
   "cell_type": "markdown",
   "metadata": {},
   "source": [
    "Below I study the results of the experiment"
   ]
  },
  {
   "cell_type": "markdown",
   "metadata": {},
   "source": [
    "### Checking that there is equal number of users for each group and no repetition.\n",
    "How many users are there in each group? We see below that the distribution is more or less equal. "
   ]
  },
  {
   "cell_type": "code",
   "execution_count": 67,
   "metadata": {},
   "outputs": [
    {
     "data": {
      "text/plain": [
       "experiment_number\n",
       "246    2484\n",
       "247    2513\n",
       "248    2537\n",
       "Name: user_id, dtype: int64"
      ]
     },
     "execution_count": 67,
     "metadata": {},
     "output_type": "execute_result"
    }
   ],
   "source": [
    "data_events.groupby('experiment_number')['user_id'].nunique() "
   ]
  },
  {
   "cell_type": "markdown",
   "metadata": {},
   "source": [
    "Now we will check that no users appear in two groups at the same time. We can see from code below that there is none!"
   ]
  },
  {
   "cell_type": "code",
   "execution_count": 68,
   "metadata": {},
   "outputs": [
    {
     "data": {
      "text/html": [
       "<div>\n",
       "<style scoped>\n",
       "    .dataframe tbody tr th:only-of-type {\n",
       "        vertical-align: middle;\n",
       "    }\n",
       "\n",
       "    .dataframe tbody tr th {\n",
       "        vertical-align: top;\n",
       "    }\n",
       "\n",
       "    .dataframe thead th {\n",
       "        text-align: right;\n",
       "    }\n",
       "</style>\n",
       "<table border=\"1\" class=\"dataframe\">\n",
       "  <thead>\n",
       "    <tr style=\"text-align: right;\">\n",
       "      <th></th>\n",
       "      <th>user_id</th>\n",
       "      <th>experiment_number</th>\n",
       "    </tr>\n",
       "  </thead>\n",
       "  <tbody>\n",
       "  </tbody>\n",
       "</table>\n",
       "</div>"
      ],
      "text/plain": [
       "Empty DataFrame\n",
       "Columns: [user_id, experiment_number]\n",
       "Index: []"
      ]
     },
     "execution_count": 68,
     "metadata": {},
     "output_type": "execute_result"
    }
   ],
   "source": [
    "data_events.groupby('user_id')['experiment_number'].nunique().reset_index().query('experiment_number>1')"
   ]
  },
  {
   "cell_type": "markdown",
   "metadata": {},
   "source": [
    "### A/A testing\n",
    "We have two control groups in the A/A test, where we check our mechanisms and calculations. Below we will research if there is a statistically significant difference between samples 246 and 247. To find which group is most profitable it makes sence to compare the number of users that proceded to each step, so, find user conversion between events for all groups. The most popular event would be Main Screen, however, I will write one function and run it not just for that but for all events and all groups. I will use proportions test for this since our data fits all requirements. "
   ]
  },
  {
   "cell_type": "code",
   "execution_count": 69,
   "metadata": {},
   "outputs": [],
   "source": [
    "test_1 = data_events[data_events.experiment_number==246]['user_id'].nunique()\n",
    "test_2 = data_events[data_events.experiment_number==247]['user_id'].nunique()\n",
    "control = data_events[data_events.experiment_number==248]['user_id'].nunique() #trials - all users in the group\n",
    "test_1_2 = data_events[data_events.experiment_number!=248]['user_id'].nunique()"
   ]
  },
  {
   "cell_type": "code",
   "execution_count": 70,
   "metadata": {},
   "outputs": [
    {
     "data": {
      "text/html": [
       "<div>\n",
       "<style scoped>\n",
       "    .dataframe tbody tr th:only-of-type {\n",
       "        vertical-align: middle;\n",
       "    }\n",
       "\n",
       "    .dataframe tbody tr th {\n",
       "        vertical-align: top;\n",
       "    }\n",
       "\n",
       "    .dataframe thead th {\n",
       "        text-align: right;\n",
       "    }\n",
       "</style>\n",
       "<table border=\"1\" class=\"dataframe\">\n",
       "  <thead>\n",
       "    <tr style=\"text-align: right;\">\n",
       "      <th>experiment_number</th>\n",
       "      <th>event_name</th>\n",
       "      <th>246</th>\n",
       "      <th>247</th>\n",
       "      <th>248</th>\n",
       "    </tr>\n",
       "  </thead>\n",
       "  <tbody>\n",
       "    <tr>\n",
       "      <td>0</td>\n",
       "      <td>CartScreenAppear</td>\n",
       "      <td>1266</td>\n",
       "      <td>1238</td>\n",
       "      <td>1230</td>\n",
       "    </tr>\n",
       "    <tr>\n",
       "      <td>1</td>\n",
       "      <td>MainScreenAppear</td>\n",
       "      <td>2450</td>\n",
       "      <td>2476</td>\n",
       "      <td>2493</td>\n",
       "    </tr>\n",
       "    <tr>\n",
       "      <td>2</td>\n",
       "      <td>OffersScreenAppear</td>\n",
       "      <td>1542</td>\n",
       "      <td>1520</td>\n",
       "      <td>1531</td>\n",
       "    </tr>\n",
       "    <tr>\n",
       "      <td>3</td>\n",
       "      <td>PaymentScreenSuccessful</td>\n",
       "      <td>1200</td>\n",
       "      <td>1158</td>\n",
       "      <td>1181</td>\n",
       "    </tr>\n",
       "    <tr>\n",
       "      <td>4</td>\n",
       "      <td>Tutorial</td>\n",
       "      <td>278</td>\n",
       "      <td>283</td>\n",
       "      <td>279</td>\n",
       "    </tr>\n",
       "  </tbody>\n",
       "</table>\n",
       "</div>"
      ],
      "text/plain": [
       "experiment_number               event_name   246   247   248\n",
       "0                         CartScreenAppear  1266  1238  1230\n",
       "1                         MainScreenAppear  2450  2476  2493\n",
       "2                       OffersScreenAppear  1542  1520  1531\n",
       "3                  PaymentScreenSuccessful  1200  1158  1181\n",
       "4                                 Tutorial   278   283   279"
      ]
     },
     "execution_count": 70,
     "metadata": {},
     "output_type": "execute_result"
    }
   ],
   "source": [
    "pivot = data_events.pivot_table(index='event_name', columns = 'experiment_number', values='user_id', aggfunc=lambda x: x.nunique()).reset_index()\n",
    "pivot #successes - number of users converted at each stage"
   ]
  },
  {
   "cell_type": "markdown",
   "metadata": {},
   "source": [
    "### Formulating the hypotheses that will be used in all the testing for all groups and events.\n",
    "The H0 is that there IS a significant difference between number of users performing the event (user converstion) for the  two control groups. The H1 is that there is no reason to consider the difference for the  two control groups significant. So, I will test for significant difference between groups on each stage."
   ]
  },
  {
   "cell_type": "code",
   "execution_count": 71,
   "metadata": {},
   "outputs": [],
   "source": [
    "def check_hypothesis(group1, group2, event, alpha=0.5):\n",
    "    success1 = pivot[pivot.event_name==event][group1].iloc[0]\n",
    "    success2 = pivot[pivot.event_name==event][group2].iloc[0]\n",
    "    \n",
    "    trials1 = data_events[data_events.experiment_number==group1]['user_id'].nunique()\n",
    "    trials2 = data_events[data_events.experiment_number==group2]['user_id'].nunique()\n",
    "    \n",
    "    p1 = success1/trials1\n",
    "\n",
    "    p2 = success2/trials2\n",
    "\n",
    "    p_combined = (success1 +  success2) / (trials1 + trials2)\n",
    "\n",
    "    difference = p1 - p2 \n",
    "\n",
    "    z_value = difference / mth.sqrt(p_combined + (1 - p_combined) * (1/trials1 + 1/trials2))\n",
    "\n",
    "    distr = st.norm(0, 1)\n",
    "\n",
    "    p_value = ( 1 - distr.cdf(abs(z_value))) * 2\n",
    "    \n",
    "    print('p_value:' , p_value)\n",
    "    \n",
    "    if (p_value < alpha):\n",
    "        print(\"Rejecting the null hypothesis: there IS a significant difference between proportions for the  two control groups for\", event, \"between groups\", group1, group2)\n",
    "    else:\n",
    "        print(\"Failed to reject the null hypothesis: there is no reason to consider the difference between proportions for the\", event, \"between groups\", group1, group2, \"significant\")\n"
   ]
  },
  {
   "cell_type": "markdown",
   "metadata": {},
   "source": [
    "For each of the events the alpha level is 0.05. Each time, for each event, the H0 is that there IS a significant difference between number of users performing the event (user converstion) for the two control groups. The H1 is that there is no reason to consider the difference for the two control groups significant. We will see for each event first the comparison between users from the two A groups, then between each A group and B group, and then we add the two A groups together and compare these results with the results for the B group."
   ]
  },
  {
   "cell_type": "markdown",
   "metadata": {},
   "source": [
    "Below I am performing the test for the two A groups."
   ]
  },
  {
   "cell_type": "code",
   "execution_count": 72,
   "metadata": {},
   "outputs": [
    {
     "name": "stdout",
     "output_type": "stream",
     "text": [
      "CartScreenAppear\n",
      "p_value: 0.9808215720223084\n",
      "Failed to reject the null hypothesis: there is no reason to consider the difference between proportions for the CartScreenAppear between groups 246 247 significant\n",
      "MainScreenAppear\n",
      "p_value: 0.9991675913808951\n",
      "Failed to reject the null hypothesis: there is no reason to consider the difference between proportions for the MainScreenAppear between groups 246 247 significant\n",
      "OffersScreenAppear\n",
      "p_value: 0.9837801761211138\n",
      "Failed to reject the null hypothesis: there is no reason to consider the difference between proportions for the OffersScreenAppear between groups 246 247 significant\n",
      "PaymentScreenSuccessful\n",
      "p_value: 0.9741284339349139\n",
      "Failed to reject the null hypothesis: there is no reason to consider the difference between proportions for the PaymentScreenSuccessful between groups 246 247 significant\n",
      "Tutorial\n",
      "p_value: 0.9983427578903803\n",
      "Failed to reject the null hypothesis: there is no reason to consider the difference between proportions for the Tutorial between groups 246 247 significant\n"
     ]
    }
   ],
   "source": [
    "for i in pivot.event_name.unique():\n",
    "    print(i)\n",
    "    check_hypothesis(246 ,247 ,i, alpha=0.05)\n"
   ]
  },
  {
   "cell_type": "markdown",
   "metadata": {},
   "source": [
    "We failed to reject the hypothesis for each event for teo A groups. This means we can compare group B (control group) to any of the A groups, the difference is not significant. This means that we can trust the A/B test. Below I will use the same function to perform A/B testing."
   ]
  },
  {
   "cell_type": "code",
   "execution_count": 73,
   "metadata": {},
   "outputs": [
    {
     "name": "stdout",
     "output_type": "stream",
     "text": [
      "CartScreenAppear\n",
      "p_value: 0.971910014269989\n",
      "Failed to reject the null hypothesis: there is no reason to consider the difference between proportions for the CartScreenAppear between groups 246 248 significant\n",
      "MainScreenAppear\n",
      "p_value: 0.9970602603534895\n",
      "Failed to reject the null hypothesis: there is no reason to consider the difference between proportions for the MainScreenAppear between groups 246 248 significant\n",
      "OffersScreenAppear\n",
      "p_value: 0.982357405037253\n",
      "Failed to reject the null hypothesis: there is no reason to consider the difference between proportions for the OffersScreenAppear between groups 246 248 significant\n",
      "PaymentScreenSuccessful\n",
      "p_value: 0.9796404293864218\n",
      "Failed to reject the null hypothesis: there is no reason to consider the difference between proportions for the PaymentScreenSuccessful between groups 246 248 significant\n",
      "Tutorial\n",
      "p_value: 0.9953581939103768\n",
      "Failed to reject the null hypothesis: there is no reason to consider the difference between proportions for the Tutorial between groups 246 248 significant\n"
     ]
    }
   ],
   "source": [
    "for i in pivot.event_name.unique():\n",
    "    print(i)\n",
    "    check_hypothesis(246 ,248 ,i, alpha=0.05)"
   ]
  },
  {
   "cell_type": "code",
   "execution_count": 74,
   "metadata": {},
   "outputs": [
    {
     "name": "stdout",
     "output_type": "stream",
     "text": [
      "CartScreenAppear\n",
      "p_value: 0.9910858453847207\n",
      "Failed to reject the null hypothesis: there is no reason to consider the difference between proportions for the CartScreenAppear between groups 247 248 significant\n",
      "MainScreenAppear\n",
      "p_value: 0.9978926849501784\n",
      "Failed to reject the null hypothesis: there is no reason to consider the difference between proportions for the MainScreenAppear between groups 247 248 significant\n",
      "OffersScreenAppear\n",
      "p_value: 0.9985775282491278\n",
      "Failed to reject the null hypothesis: there is no reason to consider the difference between proportions for the OffersScreenAppear between groups 247 248 significant\n",
      "PaymentScreenSuccessful\n",
      "p_value: 0.994484593360293\n",
      "Failed to reject the null hypothesis: there is no reason to consider the difference between proportions for the PaymentScreenSuccessful between groups 247 248 significant\n",
      "Tutorial\n",
      "p_value: 0.993700934575513\n",
      "Failed to reject the null hypothesis: there is no reason to consider the difference between proportions for the Tutorial between groups 247 248 significant\n"
     ]
    }
   ],
   "source": [
    "for i in pivot.event_name.unique():\n",
    "    print(i)\n",
    "    check_hypothesis(247 ,248 ,i, alpha=0.05)"
   ]
  },
  {
   "cell_type": "markdown",
   "metadata": {},
   "source": [
    "As we can see, the difference between fonts is not significant for each event, it seems that the change of fonts does not change much. "
   ]
  },
  {
   "cell_type": "markdown",
   "metadata": {},
   "source": [
    "### Working with the combined results for the control groups"
   ]
  },
  {
   "cell_type": "code",
   "execution_count": 75,
   "metadata": {},
   "outputs": [
    {
     "name": "stderr",
     "output_type": "stream",
     "text": [
      "/opt/conda/lib/python3.7/site-packages/pandas/core/frame.py:7123: FutureWarning:\n",
      "\n",
      "Sorting because non-concatenation axis is not aligned. A future version\n",
      "of pandas will change to not sort by default.\n",
      "\n",
      "To accept the future behavior, pass 'sort=False'.\n",
      "\n",
      "To retain the current behavior and silence the warning, pass 'sort=True'.\n",
      "\n",
      "\n"
     ]
    },
    {
     "data": {
      "text/html": [
       "<div>\n",
       "<style scoped>\n",
       "    .dataframe tbody tr th:only-of-type {\n",
       "        vertical-align: middle;\n",
       "    }\n",
       "\n",
       "    .dataframe tbody tr th {\n",
       "        vertical-align: top;\n",
       "    }\n",
       "\n",
       "    .dataframe thead th {\n",
       "        text-align: right;\n",
       "    }\n",
       "</style>\n",
       "<table border=\"1\" class=\"dataframe\">\n",
       "  <thead>\n",
       "    <tr style=\"text-align: right;\">\n",
       "      <th>experiment_number</th>\n",
       "      <th>event_name</th>\n",
       "      <th>248</th>\n",
       "      <th>249</th>\n",
       "    </tr>\n",
       "  </thead>\n",
       "  <tbody>\n",
       "    <tr>\n",
       "      <td>0</td>\n",
       "      <td>CartScreenAppear</td>\n",
       "      <td>1230</td>\n",
       "      <td>2504</td>\n",
       "    </tr>\n",
       "    <tr>\n",
       "      <td>1</td>\n",
       "      <td>MainScreenAppear</td>\n",
       "      <td>2493</td>\n",
       "      <td>4926</td>\n",
       "    </tr>\n",
       "    <tr>\n",
       "      <td>2</td>\n",
       "      <td>OffersScreenAppear</td>\n",
       "      <td>1531</td>\n",
       "      <td>3062</td>\n",
       "    </tr>\n",
       "    <tr>\n",
       "      <td>3</td>\n",
       "      <td>PaymentScreenSuccessful</td>\n",
       "      <td>1181</td>\n",
       "      <td>2358</td>\n",
       "    </tr>\n",
       "    <tr>\n",
       "      <td>4</td>\n",
       "      <td>Tutorial</td>\n",
       "      <td>279</td>\n",
       "      <td>561</td>\n",
       "    </tr>\n",
       "  </tbody>\n",
       "</table>\n",
       "</div>"
      ],
      "text/plain": [
       "experiment_number               event_name   248   249\n",
       "0                         CartScreenAppear  1230  2504\n",
       "1                         MainScreenAppear  2493  4926\n",
       "2                       OffersScreenAppear  1531  3062\n",
       "3                  PaymentScreenSuccessful  1181  2358\n",
       "4                                 Tutorial   279   561"
      ]
     },
     "execution_count": 75,
     "metadata": {},
     "output_type": "execute_result"
    }
   ],
   "source": [
    "df2 = {\n",
    "    'experiment_number' : 249,\n",
    "     'user_id' : data_events[data_events.experiment_number!=248]['user_id'],\n",
    "     'event_name' : data_events[data_events.experiment_number!=248]['event_name']\n",
    "    \n",
    "}\n",
    "\n",
    "df_2 = pd.DataFrame(df2)\n",
    "df_2\n",
    "\n",
    "data_new = data_events.append(df_2, ignore_index=True)\n",
    "\n",
    "\n",
    "data_new.drop(data_new[data_new['experiment_number'].isin(['246', '247'])].index, inplace=True) \n",
    "\n",
    "\n",
    "pivot2 = data_new.pivot_table(index='event_name', columns = 'experiment_number', values='user_id', aggfunc=lambda x: x.nunique()).reset_index()\n",
    "pivot2"
   ]
  },
  {
   "cell_type": "code",
   "execution_count": 76,
   "metadata": {},
   "outputs": [],
   "source": [
    "def check_hypothesis_new(group1, group2, event, alpha=0.5):\n",
    "    success1 = pivot2[pivot2.event_name==event][group1].iloc[0]\n",
    "    success2 = pivot2[pivot2.event_name==event][group2].iloc[0]\n",
    "    \n",
    "    trials1 = data_new[data_new.experiment_number==group1]['user_id'].nunique()\n",
    "    trials2 = data_new[data_new.experiment_number==group2]['user_id'].nunique()\n",
    "    \n",
    "    p1 = success1/trials1\n",
    "\n",
    "    p2 = success2/trials2\n",
    "\n",
    "    p_combined = (success1 +  success2) / (trials1 + trials2)\n",
    "\n",
    "    difference = p1 - p2 \n",
    "\n",
    "    z_value = difference / mth.sqrt(p_combined + (1 - p_combined) * (1/trials1 + 1/trials2))\n",
    "\n",
    "    distr = st.norm(0, 1)\n",
    "\n",
    "    p_value = ( 1 - distr.cdf(abs(z_value))) * 2\n",
    "    \n",
    "    print('p_value:' , p_value)\n",
    "    \n",
    "    if (p_value < alpha):\n",
    "        print(\"Rejecting the null hypothesis: there IS a significant difference between proportions for the  two control groups for\", event, \"between groups\", group1, group2)\n",
    "    else:\n",
    "        print(\"Failed to reject the null hypothesis: there is no reason to consider the difference between proportions for the\", event, \"between groups\", group1, group2, \"significant\")"
   ]
  },
  {
   "cell_type": "code",
   "execution_count": 77,
   "metadata": {},
   "outputs": [
    {
     "name": "stdout",
     "output_type": "stream",
     "text": [
      "CartScreenAppear\n",
      "p_value: 0.9815606690192729\n",
      "Failed to reject the null hypothesis: there is no reason to consider the difference between proportions for the CartScreenAppear between groups 248 249 significant\n",
      "MainScreenAppear\n",
      "p_value: 0.9974795015447504\n",
      "Failed to reject the null hypothesis: there is no reason to consider the difference between proportions for the MainScreenAppear between groups 248 249 significant\n",
      "OffersScreenAppear\n",
      "p_value: 0.990499469275973\n",
      "Failed to reject the null hypothesis: there is no reason to consider the difference between proportions for the OffersScreenAppear between groups 248 249 significant\n",
      "PaymentScreenSuccessful\n",
      "p_value: 0.9925837711337862\n",
      "Failed to reject the null hypothesis: there is no reason to consider the difference between proportions for the PaymentScreenSuccessful between groups 248 249 significant\n",
      "Tutorial\n",
      "p_value: 0.9945291163114705\n",
      "Failed to reject the null hypothesis: there is no reason to consider the difference between proportions for the Tutorial between groups 248 249 significant\n"
     ]
    }
   ],
   "source": [
    "for i in pivot2.event_name.unique():\n",
    "    print(i)\n",
    "    check_hypothesis_new(248 ,249 ,i, alpha=0.05)"
   ]
  },
  {
   "cell_type": "markdown",
   "metadata": {},
   "source": [
    "Above I did the test for the combined results for the control groups. We can see from the results of the test for the two groups combined and the control group. We can see from the result of the tests for each event that adding the two groups together did not change the results of the test; they are the same as for the two groups separately. I draw the conclusion that change in fonts did not make a big difference for the site. "
   ]
  },
  {
   "cell_type": "markdown",
   "metadata": {},
   "source": [
    "### Discussing the alpha level and Bolnferroni correction."
   ]
  },
  {
   "cell_type": "markdown",
   "metadata": {},
   "source": [
    "Now to the last question. Here we should use the Bolnferroni correction because we are dealing with the multiple comparison problem. We need to delete alpha by the number of tests :  {\\displaystyle p_{i}\\leq {\\frac {\\alpha }{m}}}{\\displaystyle p_{i}\\leq {\\frac {\\alpha }{m}}}\n",
    "\n",
    "Since we have 5 events and 3 comparisons between groups, we would need to divide it by 15. However, we know that where one error decreaces, the other increases. "
   ]
  },
  {
   "cell_type": "markdown",
   "metadata": {},
   "source": [
    "However. The Bolnferroni correction decereaces possibility of type one error: a chance to reject a true H0. But, when the chance of one error type decreaces, the chance of error 2 increases: a chance to accept a false H0. \n",
    "In our case the 2type error is more important. If we make the type 1 error, everything will stay the same; however, with the type 2 error we will potentially not see the difference between groups and can miss a chance to improve(for example, if the new font is better). Overall, the higher type 2 error would be worse for us in this situation. At the same time, even with higher alpha value of 0.05 we failed to reject all null hypothesis for each event and all groups. With even lower alpha level thanks to the Bolnferroni correction the p-value would not go below alpha and the result would be the same.\n",
    "\n",
    "Another thing to consider is: the Bolnferroni correction is usually used for the same types of tests and same sampling, but here we are not doing any sampling. Sampling increase chance of error and we are not working with samples, there is no chance to sample same users by accident. Overall my conclusion is that it is not necessary to perform the Bolnferroni correction in this specuphic case. "
   ]
  },
  {
   "cell_type": "markdown",
   "metadata": {},
   "source": [
    "## Conclusion"
   ]
  },
  {
   "cell_type": "markdown",
   "metadata": {},
   "source": [
    "Generall conclusion:\n",
    "\n",
    "From the overall analysis I make the following conclusions:\n",
    "Firstly, the data is corrupted: there are many duplicates, there are many cases of abnormal user behavior. WE need more information to explain this to make the data more reliable. \n",
    "Secondly, from what I can see, the Tutorial event was not really significant for the analysis since only a marginal part of users completed it. \n",
    "Third, and most important conclusion, in my opinion is this. We saw that we lose 38% of users between the main screen and offers screen steps, much higher than between any other steps. After looking at the averag time between all steps and accounting for potential abnormalities I would assume that there is definitely something wrong here, since it took on average 21 seconds (even not counting abnormally long sessions) to move between these consecutive steps.\n",
    "Fourth conclusion is made using the previous ones: there is no reason to believe that there is any difference between two test groups and between any of them and the control group. That is, in my opinion, in line with the previous findings: if the issue is between certain steps, the font change wont help.\n",
    "At the same time, even with high user loss, 47% of users still arrived at the payment. It is still high, especially for an online app. Thus, if we work on the issues described above and find an explanation for abnormalities, we can even increase profit. However, we will need more data for that."
   ]
  },
  {
   "cell_type": "code",
   "execution_count": null,
   "metadata": {},
   "outputs": [],
   "source": []
  }
 ],
 "metadata": {
  "kernelspec": {
   "display_name": "Python 3",
   "language": "python",
   "name": "python3"
  },
  "language_info": {
   "codemirror_mode": {
    "name": "ipython",
    "version": 3
   },
   "file_extension": ".py",
   "mimetype": "text/x-python",
   "name": "python",
   "nbconvert_exporter": "python",
   "pygments_lexer": "ipython3",
   "version": "3.7.8"
  },
  "toc": {
   "base_numbering": 1,
   "nav_menu": {},
   "number_sections": true,
   "sideBar": true,
   "skip_h1_title": false,
   "title_cell": "Table of Contents",
   "title_sidebar": "Contents",
   "toc_cell": false,
   "toc_position": {},
   "toc_section_display": true,
   "toc_window_display": false
  }
 },
 "nbformat": 4,
 "nbformat_minor": 2
}
