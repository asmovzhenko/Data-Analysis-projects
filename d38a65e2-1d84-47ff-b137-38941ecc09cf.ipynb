{
 "cells": [
  {
   "cell_type": "markdown",
   "metadata": {},
   "source": [
    "# The goal of the project:\n",
    "\n",
    "The goal of the project is to process and analyze given data, study regarding customer behavior and test two hypotheses concerning profit. \n",
    "Hypothesis number one is that profits differ between two mobile plans given in the dataset named plans. \n",
    "Hypothesis number two is that profit from users from NY NJ area differs from profit from the other areas.\n",
    "\n",
    "Table of contents:\n",
    "\n",
    "Data preprocessing, change of datatypes and column names.\n",
    "\n",
    "Study of the data using methods info(), value_counts(), describe() etc.\n",
    "\n",
    "Merge of the first 3 dataframes and grouping it by month and user id.\n",
    "\n",
    "Finding outliers.\n",
    "\n",
    "Removing outliers\n",
    "\n",
    "Merge with the 5-th df (users)\n",
    "\n",
    "More datatype changes\n",
    "\n",
    "Studying the new merged database and doing more processing with it\n",
    "\n",
    "Calculating the profit for both plans\n",
    "\n",
    "Finding the minutes, texts, and volume of data the users of each plan require per month. \n",
    "\n",
    "Making histograms for each relevant column. Finding variance, mean and std for each.\n",
    "\n",
    "Splitting data by plan\n",
    "\n",
    "Making histograms for each relevant column for each plan. Finding variance, mean and std for each.\n",
    "\n",
    "Formulating Hypothesis number one.\n",
    "Testing Hypothesis number one.\n",
    "Describing results, making a conclusion. \n",
    "\n",
    "Formulating Hypothesis number two.\n",
    "Testing Hypothesis number two.\n",
    "Describing results, making a conclusion. \n",
    "\n",
    "Analysing customer behavior after studying all the data together and separated by plan.\n",
    "\n",
    "Making the general conclusion."
   ]
  },
  {
   "cell_type": "code",
   "execution_count": null,
   "metadata": {},
   "outputs": [],
   "source": [
    "Data used:\n",
    "/datasets/megaline_calls.csv\n",
    "\n",
    "/datasets/megaline_internet.csv\n",
    "\n",
    "/datasets/megaline_messages.csv\n",
    "\n",
    "/datasets/megaline_plans.csv\n",
    "\n",
    "/datasets/megaline_users.csv\n"
   ]
  },
  {
   "cell_type": "markdown",
   "metadata": {},
   "source": [
    "# Description of the data.\n",
    "\n",
    "## The users table (data on users):\n",
    "\n",
    "user_id — unique user identifier\n",
    "\n",
    "first_name — user's name\n",
    "\n",
    "last_name — user's last name\n",
    "\n",
    "age — user's age (years)\n",
    "\n",
    "reg_date — subscription date (dd, mm, yy)\n",
    "\n",
    "churn_date — the date the user stopped using the service (if the value is missing, the calling plan was being used when this data was retrieved)\n",
    "\n",
    "city — user's city of residence\n",
    "\n",
    "plan — calling plan name\n",
    "\n",
    "## The calls table (data on calls):\n",
    "\n",
    "id — unique call identifier\n",
    "\n",
    "call_date — call date\n",
    "\n",
    "duration — call duration (in minutes)\n",
    "\n",
    "user_id — the identifier of the user making the call\n",
    "\n",
    "## The messages table (data on texts):\n",
    "\n",
    "id — unique text message identifier\n",
    "\n",
    "message_date — text message date\n",
    "\n",
    "user_id — the identifier of the user sending the text\n",
    "\n",
    "## The internet table (data on web sessions):\n",
    "\n",
    "id — unique session identifier\n",
    "\n",
    "mb_used — the volume of data spent during the session (in megabytes)\n",
    "\n",
    "session_date — web session date\n",
    "\n",
    "user_id — user identifier\n",
    "\n",
    "## The plans table (data on the plans):\n",
    "\n",
    "plan_name — calling plan name\n",
    "\n",
    "usd_monthly_fee — monthly charge in US dollars\n",
    "\n",
    "minutes_included — monthly minute allowance\n",
    "\n",
    "messages_included — monthly text allowance\n",
    "\n",
    "mb_per_month_included — data volume allowance (in megabytes)\n",
    "\n",
    "usd_per_minute — price per minute after exceeding the package limits (e.g., if the package includes 100 minutes, the 101st minute will be charged)\n",
    "\n",
    "usd_per_message — price per text after exceeding the package limits\n",
    "\n",
    "usd_per_gb — price per extra gigabyte of data after exceeding the package limits (1 GB = 1024 megabytes)"
   ]
  },
  {
   "cell_type": "code",
   "execution_count": 1,
   "metadata": {},
   "outputs": [],
   "source": [
    "import pandas as pd\n",
    "import numpy as np\n",
    "from functools import reduce\n",
    "from scipy import stats as st\n",
    "from numpy import random\n",
    "import matplotlib.pyplot as plt\n",
    "import seaborn as sns\n",
    "\n",
    "#Step 1. Open the data file and study the general information\n",
    "\n",
    "df1 = pd.read_csv('/datasets/megaline_calls.csv')\n",
    "df2 = pd.read_csv('/datasets/megaline_internet.csv')\n",
    "df3 = pd.read_csv('/datasets/megaline_messages.csv')\n",
    "df4 = pd.read_csv('/datasets/megaline_plans.csv')\n",
    "df5 = pd.read_csv('/datasets/megaline_users.csv')\n",
    "\n",
    "#Step 2. Prepare the data\n",
    "\n",
    "\n",
    "df1.drop_duplicates(keep=False,inplace=True)\n",
    "df2.drop_duplicates(keep=False,inplace=True)\n",
    "df3.drop_duplicates(keep=False,inplace=True)\n",
    "df4.drop_duplicates(keep=False,inplace=True)\n",
    "df5.drop_duplicates(keep=False,inplace=True)\n",
    "\n",
    "\n",
    "\n",
    "df1['call_id'] = df1['id']\n",
    "df2['internet_id'] = df2['id']\n",
    "df3['message_id'] = df3['id']\n",
    "\n",
    "\n",
    "df1['call_date'] = pd.to_datetime(df1['call_date']) \n",
    "df1['month'] = df1['call_date'].dt.month\n",
    "\n",
    "\n",
    "df2['session_date'] = pd.to_datetime(df2['session_date']) \n",
    "df2['month'] = df2['session_date'].dt.month\n",
    "\n",
    "\n",
    "df3['message_date'] = pd.to_datetime(df3['message_date']) \n",
    "df3['month'] = df3['message_date'].dt.month\n",
    "\n",
    "\n"
   ]
  },
  {
   "cell_type": "markdown",
   "metadata": {},
   "source": [
    "I changed the datatypes where necessary.\n",
    "There are 2 possible reasons for data having 0 calls: first,  it can be missed calls, meaning, they technically lasted 0 seconds. Then in may be that the client's didn't use calls this month at all and only used messages and/or internet..\n",
    "\n",
    "I decided not to drop 0.0 from calls, messages and internet since it won't change the profit anyway, even if we count it in, and also because there's so many of them, on average we shouldn't drop more than 10% of data.\n",
    "Some users were using services after churn date, I decided to keep it as profit still, since they are still using the services and still paying for them."
   ]
  },
  {
   "cell_type": "markdown",
   "metadata": {},
   "source": [
    "Here I am again preparing the data and changing the relevant datatypes"
   ]
  },
  {
   "cell_type": "code",
   "execution_count": 2,
   "metadata": {},
   "outputs": [],
   "source": [
    "\n",
    "df5['reg_date'] = pd.to_datetime(df5['reg_date']) \n",
    "df5['churn_date'] = pd.to_datetime(df5['churn_date']) "
   ]
  },
  {
   "cell_type": "code",
   "execution_count": 3,
   "metadata": {},
   "outputs": [
    {
     "data": {
      "text/plain": [
       "12    30614\n",
       "11    24651\n",
       "10    21064\n",
       "9     16523\n",
       "8     13590\n",
       "7     11105\n",
       "6      8221\n",
       "5      5959\n",
       "4      3442\n",
       "3      1620\n",
       "2       774\n",
       "1       172\n",
       "Name: month, dtype: int64"
      ]
     },
     "execution_count": 3,
     "metadata": {},
     "output_type": "execute_result"
    }
   ],
   "source": [
    "df1.describe()\n",
    "df1['user_id'].value_counts()\n",
    "df1['duration'].value_counts() #we can see there is quite a lot of 0's\n",
    "df1['month'].value_counts() #we can see that the number of entrances gets higher every month"
   ]
  },
  {
   "cell_type": "code",
   "execution_count": 4,
   "metadata": {},
   "outputs": [
    {
     "name": "stdout",
     "output_type": "stream",
     "text": [
      "<class 'pandas.core.frame.DataFrame'>\n",
      "Int64Index: 104825 entries, 0 to 104824\n",
      "Data columns (total 6 columns):\n",
      "id              104825 non-null object\n",
      "user_id         104825 non-null int64\n",
      "session_date    104825 non-null datetime64[ns]\n",
      "mb_used         104825 non-null float64\n",
      "internet_id     104825 non-null object\n",
      "month           104825 non-null int64\n",
      "dtypes: datetime64[ns](1), float64(1), int64(2), object(2)\n",
      "memory usage: 5.6+ MB\n"
     ]
    },
    {
     "data": {
      "text/plain": [
       "2018-12-24    851\n",
       "2018-12-30    845\n",
       "2018-12-27    830\n",
       "2018-12-21    826\n",
       "2018-12-31    823\n",
       "             ... \n",
       "2018-01-23      3\n",
       "2018-01-20      2\n",
       "2018-01-16      2\n",
       "2018-01-18      2\n",
       "2018-01-15      2\n",
       "Name: session_date, Length: 351, dtype: int64"
      ]
     },
     "execution_count": 4,
     "metadata": {},
     "output_type": "execute_result"
    }
   ],
   "source": [
    "df2.info()\n",
    "df2['session_date'].value_counts()#number of entrances gets higher every month again"
   ]
  },
  {
   "cell_type": "code",
   "execution_count": 5,
   "metadata": {},
   "outputs": [
    {
     "name": "stdout",
     "output_type": "stream",
     "text": [
      "<class 'pandas.core.frame.DataFrame'>\n",
      "Int64Index: 76051 entries, 0 to 76050\n",
      "Data columns (total 5 columns):\n",
      "id              76051 non-null object\n",
      "user_id         76051 non-null int64\n",
      "message_date    76051 non-null datetime64[ns]\n",
      "message_id      76051 non-null object\n",
      "month           76051 non-null int64\n",
      "dtypes: datetime64[ns](1), int64(2), object(2)\n",
      "memory usage: 3.5+ MB\n"
     ]
    },
    {
     "data": {
      "text/plain": [
       "2018-12-28    702\n",
       "2018-12-27    701\n",
       "2018-12-31    699\n",
       "2018-12-25    699\n",
       "2018-12-18    688\n",
       "             ... \n",
       "2018-01-28      3\n",
       "2018-02-18      2\n",
       "2018-01-24      2\n",
       "2018-01-15      2\n",
       "2018-01-19      1\n",
       "Name: message_date, Length: 351, dtype: int64"
      ]
     },
     "execution_count": 5,
     "metadata": {},
     "output_type": "execute_result"
    }
   ],
   "source": [
    "df3.info()\n",
    "df3['message_date'].value_counts()#we can again see the trend of customers using the services more close to the end of the year"
   ]
  },
  {
   "cell_type": "code",
   "execution_count": 6,
   "metadata": {},
   "outputs": [],
   "source": [
    "#more preprocessing\n",
    "df1['duration'] = df1['duration'].round()"
   ]
  },
  {
   "cell_type": "code",
   "execution_count": 7,
   "metadata": {},
   "outputs": [],
   "source": [
    "rr = df1.groupby(['user_id', 'month']).sum().round()\n",
    "rr.head()\n",
    "rr1 = df1.groupby(['user_id', 'month']).count().round()\n",
    "rr1 = rr1.drop(['call_date', 'id','duration'], axis=1)\n",
    "rr1 = rr1.rename(columns={\"call_id\": \"number_of_calls\"})\n",
    "rr1.head()\n",
    "rr2 = df2.groupby(['user_id', 'month']).sum().round()\n",
    "rr2.head()\n",
    "rr3 = df3.groupby(['user_id','month']).count().round()\n",
    "rr3 = rr3.drop(['message_date', 'id'], axis=1)\n",
    "rr3 = rr3.rename(columns={\"message_id\": \"number_of_messages\"})\n",
    "rr3.head()\n",
    "\n",
    "data_frames = [rr, rr2, rr3,rr1]\n",
    "\n"
   ]
  },
  {
   "cell_type": "code",
   "execution_count": 8,
   "metadata": {},
   "outputs": [],
   "source": [
    "df_merged = reduce(lambda left,right: pd.merge(left,right,on=['user_id','month'],how='outer'), data_frames).fillna(0)\n",
    "#merging the first 3 dataframes and grouping it by month and user id.\n"
   ]
  },
  {
   "cell_type": "code",
   "execution_count": 9,
   "metadata": {},
   "outputs": [
    {
     "data": {
      "image/png": "[encoded data removed]",
      "text/plain": [
       "<Figure size 432x288 with 1 Axes>"
      ]
     },
     "metadata": {
      "needs_background": "light"
     },
     "output_type": "display_data"
    }
   ],
   "source": [
    "#looking for outliers\n",
    "sns.boxplot(x=df_merged['duration'])\n",
    "plt.show()"
   ]
  },
  {
   "cell_type": "code",
   "execution_count": 10,
   "metadata": {},
   "outputs": [
    {
     "data": {
      "image/png": "[encoded data removed]",
      "text/plain": [
       "<Figure size 432x288 with 1 Axes>"
      ]
     },
     "metadata": {
      "needs_background": "light"
     },
     "output_type": "display_data"
    }
   ],
   "source": [
    "sns.boxplot(x=df_merged['number_of_calls'])\n",
    "plt.show()"
   ]
  },
  {
   "cell_type": "code",
   "execution_count": 11,
   "metadata": {},
   "outputs": [
    {
     "data": {
      "image/png": "[encoded data removed]",
      "text/plain": [
       "<Figure size 432x288 with 1 Axes>"
      ]
     },
     "metadata": {
      "needs_background": "light"
     },
     "output_type": "display_data"
    }
   ],
   "source": [
    "sns.boxplot(x=df_merged['number_of_messages'])\n",
    "plt.show()"
   ]
  },
  {
   "cell_type": "code",
   "execution_count": 12,
   "metadata": {},
   "outputs": [
    {
     "data": {
      "image/png": "[encoded data removed]",
      "text/plain": [
       "<Figure size 432x288 with 1 Axes>"
      ]
     },
     "metadata": {
      "needs_background": "light"
     },
     "output_type": "display_data"
    }
   ],
   "source": [
    "sns.boxplot(x=df_merged['mb_used'])\n",
    "plt.show()"
   ]
  },
  {
   "cell_type": "markdown",
   "metadata": {},
   "source": [
    "I decided to remove outliers based on IQR, but I believe that z-score would have yielded the same results."
   ]
  },
  {
   "cell_type": "code",
   "execution_count": 13,
   "metadata": {},
   "outputs": [
    {
     "name": "stdout",
     "output_type": "stream",
     "text": [
      "<class 'pandas.core.frame.DataFrame'>\n",
      "MultiIndex: 2137 entries, (1000, 12) to (1482, 10)\n",
      "Data columns (total 4 columns):\n",
      "duration              2137 non-null float64\n",
      "mb_used               2137 non-null float64\n",
      "number_of_messages    2137 non-null float64\n",
      "number_of_calls       2137 non-null float64\n",
      "dtypes: float64(4)\n",
      "memory usage: 77.1 KB\n"
     ]
    }
   ],
   "source": [
    "#Removing outliers from all 4 columns in the database:\n",
    "df_merged.describe()\n",
    "Q1 = df_merged.quantile(0.25)\n",
    "Q3 = df_merged.quantile(0.75)\n",
    "IQR = Q3 - Q1\n",
    "\n",
    "df_merged = df_merged[~((df_merged < (Q1 - 1.5 * IQR)) |(df_merged > (Q3 + 1.5 * IQR))).any(axis=1)]\n",
    "\n",
    "df_merged.info()\n"
   ]
  },
  {
   "cell_type": "markdown",
   "metadata": {},
   "source": [
    "Something went very wrong when I was removing outliers below column by column, so I decided not to overcomplicate things and remove them here, since it should, essentially, yield the same results."
   ]
  },
  {
   "cell_type": "code",
   "execution_count": 14,
   "metadata": {},
   "outputs": [],
   "source": [
    "df_merged2 = pd.merge(left = df_merged.reset_index(), right = df5, how='left',on=['user_id'])\n",
    "#merging our data with the 5-th dataframe. "
   ]
  },
  {
   "cell_type": "markdown",
   "metadata": {},
   "source": [
    "I decided not to merge with the plan dataframe because it would be confusing and we can use information from that dataframe as reference still, there is very little data."
   ]
  },
  {
   "cell_type": "code",
   "execution_count": 15,
   "metadata": {},
   "outputs": [
    {
     "data": {
      "text/html": [
       "<div>\n",
       "<style scoped>\n",
       "    .dataframe tbody tr th:only-of-type {\n",
       "        vertical-align: middle;\n",
       "    }\n",
       "\n",
       "    .dataframe tbody tr th {\n",
       "        vertical-align: top;\n",
       "    }\n",
       "\n",
       "    .dataframe thead th {\n",
       "        text-align: right;\n",
       "    }\n",
       "</style>\n",
       "<table border=\"1\" class=\"dataframe\">\n",
       "  <thead>\n",
       "    <tr style=\"text-align: right;\">\n",
       "      <th></th>\n",
       "      <th>user_id</th>\n",
       "      <th>month</th>\n",
       "      <th>duration</th>\n",
       "      <th>mb_used</th>\n",
       "      <th>number_of_messages</th>\n",
       "      <th>number_of_calls</th>\n",
       "      <th>first_name</th>\n",
       "      <th>last_name</th>\n",
       "      <th>age</th>\n",
       "      <th>city</th>\n",
       "      <th>reg_date</th>\n",
       "      <th>plan</th>\n",
       "      <th>churn_date</th>\n",
       "    </tr>\n",
       "  </thead>\n",
       "  <tbody>\n",
       "    <tr>\n",
       "      <td>0</td>\n",
       "      <td>1000</td>\n",
       "      <td>12.0</td>\n",
       "      <td>117.0</td>\n",
       "      <td>1901.0</td>\n",
       "      <td>11.0</td>\n",
       "      <td>16.0</td>\n",
       "      <td>Anamaria</td>\n",
       "      <td>Bauer</td>\n",
       "      <td>45</td>\n",
       "      <td>Atlanta-Sandy Springs-Roswell, GA MSA</td>\n",
       "      <td>2018-12-24</td>\n",
       "      <td>ultimate</td>\n",
       "      <td>NaT</td>\n",
       "    </tr>\n",
       "    <tr>\n",
       "      <td>1</td>\n",
       "      <td>1001</td>\n",
       "      <td>8.0</td>\n",
       "      <td>173.0</td>\n",
       "      <td>6919.0</td>\n",
       "      <td>30.0</td>\n",
       "      <td>27.0</td>\n",
       "      <td>Mickey</td>\n",
       "      <td>Wilkerson</td>\n",
       "      <td>28</td>\n",
       "      <td>Seattle-Tacoma-Bellevue, WA MSA</td>\n",
       "      <td>2018-08-13</td>\n",
       "      <td>surf</td>\n",
       "      <td>NaT</td>\n",
       "    </tr>\n",
       "    <tr>\n",
       "      <td>2</td>\n",
       "      <td>1001</td>\n",
       "      <td>9.0</td>\n",
       "      <td>297.0</td>\n",
       "      <td>13315.0</td>\n",
       "      <td>44.0</td>\n",
       "      <td>49.0</td>\n",
       "      <td>Mickey</td>\n",
       "      <td>Wilkerson</td>\n",
       "      <td>28</td>\n",
       "      <td>Seattle-Tacoma-Bellevue, WA MSA</td>\n",
       "      <td>2018-08-13</td>\n",
       "      <td>surf</td>\n",
       "      <td>NaT</td>\n",
       "    </tr>\n",
       "    <tr>\n",
       "      <td>3</td>\n",
       "      <td>1001</td>\n",
       "      <td>10.0</td>\n",
       "      <td>374.0</td>\n",
       "      <td>22330.0</td>\n",
       "      <td>53.0</td>\n",
       "      <td>65.0</td>\n",
       "      <td>Mickey</td>\n",
       "      <td>Wilkerson</td>\n",
       "      <td>28</td>\n",
       "      <td>Seattle-Tacoma-Bellevue, WA MSA</td>\n",
       "      <td>2018-08-13</td>\n",
       "      <td>surf</td>\n",
       "      <td>NaT</td>\n",
       "    </tr>\n",
       "    <tr>\n",
       "      <td>4</td>\n",
       "      <td>1001</td>\n",
       "      <td>11.0</td>\n",
       "      <td>404.0</td>\n",
       "      <td>18504.0</td>\n",
       "      <td>36.0</td>\n",
       "      <td>64.0</td>\n",
       "      <td>Mickey</td>\n",
       "      <td>Wilkerson</td>\n",
       "      <td>28</td>\n",
       "      <td>Seattle-Tacoma-Bellevue, WA MSA</td>\n",
       "      <td>2018-08-13</td>\n",
       "      <td>surf</td>\n",
       "      <td>NaT</td>\n",
       "    </tr>\n",
       "  </tbody>\n",
       "</table>\n",
       "</div>"
      ],
      "text/plain": [
       "   user_id  month  duration  mb_used  number_of_messages  number_of_calls  \\\n",
       "0     1000   12.0     117.0   1901.0                11.0             16.0   \n",
       "1     1001    8.0     173.0   6919.0                30.0             27.0   \n",
       "2     1001    9.0     297.0  13315.0                44.0             49.0   \n",
       "3     1001   10.0     374.0  22330.0                53.0             65.0   \n",
       "4     1001   11.0     404.0  18504.0                36.0             64.0   \n",
       "\n",
       "  first_name  last_name  age                                   city  \\\n",
       "0   Anamaria      Bauer   45  Atlanta-Sandy Springs-Roswell, GA MSA   \n",
       "1     Mickey  Wilkerson   28        Seattle-Tacoma-Bellevue, WA MSA   \n",
       "2     Mickey  Wilkerson   28        Seattle-Tacoma-Bellevue, WA MSA   \n",
       "3     Mickey  Wilkerson   28        Seattle-Tacoma-Bellevue, WA MSA   \n",
       "4     Mickey  Wilkerson   28        Seattle-Tacoma-Bellevue, WA MSA   \n",
       "\n",
       "    reg_date      plan churn_date  \n",
       "0 2018-12-24  ultimate        NaT  \n",
       "1 2018-08-13      surf        NaT  \n",
       "2 2018-08-13      surf        NaT  \n",
       "3 2018-08-13      surf        NaT  \n",
       "4 2018-08-13      surf        NaT  "
      ]
     },
     "execution_count": 15,
     "metadata": {},
     "output_type": "execute_result"
    }
   ],
   "source": [
    "cols = ['month', 'duration', 'mb_used', 'number_of_messages', 'number_of_calls']\n",
    "for c in cols:\n",
    "    df_merged2[c] = df_merged2[c].apply(lambda x: float(x))\n",
    "df_merged2.head()  #more change to datatypes!"
   ]
  },
  {
   "cell_type": "markdown",
   "metadata": {},
   "source": [
    "Here I plot histograms and pivot tables to study consumer behavior. "
   ]
  },
  {
   "cell_type": "code",
   "execution_count": 17,
   "metadata": {},
   "outputs": [
    {
     "data": {
      "text/html": [
       "<div>\n",
       "<style scoped>\n",
       "    .dataframe tbody tr th:only-of-type {\n",
       "        vertical-align: middle;\n",
       "    }\n",
       "\n",
       "    .dataframe tbody tr th {\n",
       "        vertical-align: top;\n",
       "    }\n",
       "\n",
       "    .dataframe thead th {\n",
       "        text-align: right;\n",
       "    }\n",
       "</style>\n",
       "<table border=\"1\" class=\"dataframe\">\n",
       "  <thead>\n",
       "    <tr style=\"text-align: right;\">\n",
       "      <th></th>\n",
       "      <th></th>\n",
       "      <th>duration</th>\n",
       "      <th>mb_used</th>\n",
       "      <th>number_of_calls</th>\n",
       "      <th>number_of_messages</th>\n",
       "    </tr>\n",
       "    <tr>\n",
       "      <th>user_id</th>\n",
       "      <th>month</th>\n",
       "      <th></th>\n",
       "      <th></th>\n",
       "      <th></th>\n",
       "      <th></th>\n",
       "    </tr>\n",
       "  </thead>\n",
       "  <tbody>\n",
       "    <tr>\n",
       "      <td>1000</td>\n",
       "      <td>12.0</td>\n",
       "      <td>117.0</td>\n",
       "      <td>1901.0</td>\n",
       "      <td>16.0</td>\n",
       "      <td>11.0</td>\n",
       "    </tr>\n",
       "    <tr>\n",
       "      <td rowspan=\"4\" valign=\"top\">1001</td>\n",
       "      <td>8.0</td>\n",
       "      <td>173.0</td>\n",
       "      <td>6919.0</td>\n",
       "      <td>27.0</td>\n",
       "      <td>30.0</td>\n",
       "    </tr>\n",
       "    <tr>\n",
       "      <td>9.0</td>\n",
       "      <td>297.0</td>\n",
       "      <td>13315.0</td>\n",
       "      <td>49.0</td>\n",
       "      <td>44.0</td>\n",
       "    </tr>\n",
       "    <tr>\n",
       "      <td>10.0</td>\n",
       "      <td>374.0</td>\n",
       "      <td>22330.0</td>\n",
       "      <td>65.0</td>\n",
       "      <td>53.0</td>\n",
       "    </tr>\n",
       "    <tr>\n",
       "      <td>11.0</td>\n",
       "      <td>404.0</td>\n",
       "      <td>18504.0</td>\n",
       "      <td>64.0</td>\n",
       "      <td>36.0</td>\n",
       "    </tr>\n",
       "    <tr>\n",
       "      <td>...</td>\n",
       "      <td>...</td>\n",
       "      <td>...</td>\n",
       "      <td>...</td>\n",
       "      <td>...</td>\n",
       "      <td>...</td>\n",
       "    </tr>\n",
       "    <tr>\n",
       "      <td>1498</td>\n",
       "      <td>12.0</td>\n",
       "      <td>326.0</td>\n",
       "      <td>23138.0</td>\n",
       "      <td>39.0</td>\n",
       "      <td>0.0</td>\n",
       "    </tr>\n",
       "    <tr>\n",
       "      <td rowspan=\"4\" valign=\"top\">1499</td>\n",
       "      <td>9.0</td>\n",
       "      <td>328.0</td>\n",
       "      <td>12985.0</td>\n",
       "      <td>41.0</td>\n",
       "      <td>0.0</td>\n",
       "    </tr>\n",
       "    <tr>\n",
       "      <td>10.0</td>\n",
       "      <td>361.0</td>\n",
       "      <td>19492.0</td>\n",
       "      <td>53.0</td>\n",
       "      <td>0.0</td>\n",
       "    </tr>\n",
       "    <tr>\n",
       "      <td>11.0</td>\n",
       "      <td>287.0</td>\n",
       "      <td>16814.0</td>\n",
       "      <td>45.0</td>\n",
       "      <td>0.0</td>\n",
       "    </tr>\n",
       "    <tr>\n",
       "      <td>12.0</td>\n",
       "      <td>463.0</td>\n",
       "      <td>22059.0</td>\n",
       "      <td>65.0</td>\n",
       "      <td>0.0</td>\n",
       "    </tr>\n",
       "  </tbody>\n",
       "</table>\n",
       "<p>2137 rows × 4 columns</p>\n",
       "</div>"
      ],
      "text/plain": [
       "               duration  mb_used  number_of_calls  number_of_messages\n",
       "user_id month                                                        \n",
       "1000    12.0      117.0   1901.0             16.0                11.0\n",
       "1001    8.0       173.0   6919.0             27.0                30.0\n",
       "        9.0       297.0  13315.0             49.0                44.0\n",
       "        10.0      374.0  22330.0             65.0                53.0\n",
       "        11.0      404.0  18504.0             64.0                36.0\n",
       "...                 ...      ...              ...                 ...\n",
       "1498    12.0      326.0  23138.0             39.0                 0.0\n",
       "1499    9.0       328.0  12985.0             41.0                 0.0\n",
       "        10.0      361.0  19492.0             53.0                 0.0\n",
       "        11.0      287.0  16814.0             45.0                 0.0\n",
       "        12.0      463.0  22059.0             65.0                 0.0\n",
       "\n",
       "[2137 rows x 4 columns]"
      ]
     },
     "execution_count": 17,
     "metadata": {},
     "output_type": "execute_result"
    }
   ],
   "source": [
    "pd.pivot_table(df_merged2,index=['user_id','month'],values=['mb_used', 'duration', 'number_of_messages', 'number_of_calls'])\n"
   ]
  },
  {
   "cell_type": "code",
   "execution_count": 18,
   "metadata": {},
   "outputs": [],
   "source": [
    " \n",
    "df_merged2['number_of_calls'] = df_merged2['number_of_calls'].round()\n",
    "df_merged2['number_of_messages'] = df_merged2['number_of_messages'].round()\n"
   ]
  },
  {
   "cell_type": "code",
   "execution_count": 19,
   "metadata": {},
   "outputs": [],
   "source": [
    "df_merged2['gb_used'] = df_merged2['mb_used']/1024\n",
    "#making a column for gigabites used"
   ]
  },
  {
   "cell_type": "code",
   "execution_count": 20,
   "metadata": {},
   "outputs": [
    {
     "data": {
      "text/plain": [
       "0     2.0\n",
       "1     7.0\n",
       "2    13.0\n",
       "3    22.0\n",
       "4    18.0\n",
       "5    19.0\n",
       "6     6.0\n",
       "7    19.0\n",
       "8    14.0\n",
       "9     6.0\n",
       "Name: gb_used, dtype: float64"
      ]
     },
     "execution_count": 20,
     "metadata": {},
     "output_type": "execute_result"
    }
   ],
   "source": [
    "df_merged2['gb_used'] = df_merged2['gb_used'].round()\n",
    "df_merged2['gb_used'].head(10)\n"
   ]
  },
  {
   "cell_type": "code",
   "execution_count": 21,
   "metadata": {},
   "outputs": [
    {
     "data": {
      "text/html": [
       "<div>\n",
       "<style scoped>\n",
       "    .dataframe tbody tr th:only-of-type {\n",
       "        vertical-align: middle;\n",
       "    }\n",
       "\n",
       "    .dataframe tbody tr th {\n",
       "        vertical-align: top;\n",
       "    }\n",
       "\n",
       "    .dataframe thead th {\n",
       "        text-align: right;\n",
       "    }\n",
       "</style>\n",
       "<table border=\"1\" class=\"dataframe\">\n",
       "  <thead>\n",
       "    <tr style=\"text-align: right;\">\n",
       "      <th></th>\n",
       "      <th>user_id</th>\n",
       "      <th>month</th>\n",
       "      <th>duration</th>\n",
       "      <th>mb_used</th>\n",
       "      <th>number_of_messages</th>\n",
       "      <th>number_of_calls</th>\n",
       "      <th>first_name</th>\n",
       "      <th>last_name</th>\n",
       "      <th>age</th>\n",
       "      <th>city</th>\n",
       "      <th>reg_date</th>\n",
       "      <th>plan</th>\n",
       "      <th>churn_date</th>\n",
       "      <th>gb_used</th>\n",
       "    </tr>\n",
       "  </thead>\n",
       "  <tbody>\n",
       "    <tr>\n",
       "      <td>0</td>\n",
       "      <td>1000</td>\n",
       "      <td>12.0</td>\n",
       "      <td>117.0</td>\n",
       "      <td>1901.0</td>\n",
       "      <td>11.0</td>\n",
       "      <td>16.0</td>\n",
       "      <td>Anamaria</td>\n",
       "      <td>Bauer</td>\n",
       "      <td>45</td>\n",
       "      <td>Atlanta-Sandy Springs-Roswell, GA MSA</td>\n",
       "      <td>2018-12-24</td>\n",
       "      <td>ultimate</td>\n",
       "      <td>NaT</td>\n",
       "      <td>2.0</td>\n",
       "    </tr>\n",
       "    <tr>\n",
       "      <td>1</td>\n",
       "      <td>1001</td>\n",
       "      <td>8.0</td>\n",
       "      <td>173.0</td>\n",
       "      <td>6919.0</td>\n",
       "      <td>30.0</td>\n",
       "      <td>27.0</td>\n",
       "      <td>Mickey</td>\n",
       "      <td>Wilkerson</td>\n",
       "      <td>28</td>\n",
       "      <td>Seattle-Tacoma-Bellevue, WA MSA</td>\n",
       "      <td>2018-08-13</td>\n",
       "      <td>surf</td>\n",
       "      <td>NaT</td>\n",
       "      <td>7.0</td>\n",
       "    </tr>\n",
       "    <tr>\n",
       "      <td>2</td>\n",
       "      <td>1001</td>\n",
       "      <td>9.0</td>\n",
       "      <td>297.0</td>\n",
       "      <td>13315.0</td>\n",
       "      <td>44.0</td>\n",
       "      <td>49.0</td>\n",
       "      <td>Mickey</td>\n",
       "      <td>Wilkerson</td>\n",
       "      <td>28</td>\n",
       "      <td>Seattle-Tacoma-Bellevue, WA MSA</td>\n",
       "      <td>2018-08-13</td>\n",
       "      <td>surf</td>\n",
       "      <td>NaT</td>\n",
       "      <td>13.0</td>\n",
       "    </tr>\n",
       "    <tr>\n",
       "      <td>3</td>\n",
       "      <td>1001</td>\n",
       "      <td>10.0</td>\n",
       "      <td>374.0</td>\n",
       "      <td>22330.0</td>\n",
       "      <td>53.0</td>\n",
       "      <td>65.0</td>\n",
       "      <td>Mickey</td>\n",
       "      <td>Wilkerson</td>\n",
       "      <td>28</td>\n",
       "      <td>Seattle-Tacoma-Bellevue, WA MSA</td>\n",
       "      <td>2018-08-13</td>\n",
       "      <td>surf</td>\n",
       "      <td>NaT</td>\n",
       "      <td>22.0</td>\n",
       "    </tr>\n",
       "    <tr>\n",
       "      <td>4</td>\n",
       "      <td>1001</td>\n",
       "      <td>11.0</td>\n",
       "      <td>404.0</td>\n",
       "      <td>18504.0</td>\n",
       "      <td>36.0</td>\n",
       "      <td>64.0</td>\n",
       "      <td>Mickey</td>\n",
       "      <td>Wilkerson</td>\n",
       "      <td>28</td>\n",
       "      <td>Seattle-Tacoma-Bellevue, WA MSA</td>\n",
       "      <td>2018-08-13</td>\n",
       "      <td>surf</td>\n",
       "      <td>NaT</td>\n",
       "      <td>18.0</td>\n",
       "    </tr>\n",
       "  </tbody>\n",
       "</table>\n",
       "</div>"
      ],
      "text/plain": [
       "   user_id  month  duration  mb_used  number_of_messages  number_of_calls  \\\n",
       "0     1000   12.0     117.0   1901.0                11.0             16.0   \n",
       "1     1001    8.0     173.0   6919.0                30.0             27.0   \n",
       "2     1001    9.0     297.0  13315.0                44.0             49.0   \n",
       "3     1001   10.0     374.0  22330.0                53.0             65.0   \n",
       "4     1001   11.0     404.0  18504.0                36.0             64.0   \n",
       "\n",
       "  first_name  last_name  age                                   city  \\\n",
       "0   Anamaria      Bauer   45  Atlanta-Sandy Springs-Roswell, GA MSA   \n",
       "1     Mickey  Wilkerson   28        Seattle-Tacoma-Bellevue, WA MSA   \n",
       "2     Mickey  Wilkerson   28        Seattle-Tacoma-Bellevue, WA MSA   \n",
       "3     Mickey  Wilkerson   28        Seattle-Tacoma-Bellevue, WA MSA   \n",
       "4     Mickey  Wilkerson   28        Seattle-Tacoma-Bellevue, WA MSA   \n",
       "\n",
       "    reg_date      plan churn_date  gb_used  \n",
       "0 2018-12-24  ultimate        NaT      2.0  \n",
       "1 2018-08-13      surf        NaT      7.0  \n",
       "2 2018-08-13      surf        NaT     13.0  \n",
       "3 2018-08-13      surf        NaT     22.0  \n",
       "4 2018-08-13      surf        NaT     18.0  "
      ]
     },
     "execution_count": 21,
     "metadata": {},
     "output_type": "execute_result"
    }
   ],
   "source": [
    "df_merged2.head()"
   ]
  },
  {
   "cell_type": "code",
   "execution_count": 22,
   "metadata": {},
   "outputs": [],
   "source": [
    "#function to calculate the profit for both plans\n",
    "\n",
    "def cost(row):\n",
    "    duration = row['duration']\n",
    "    gb_used = row['gb_used']\n",
    "    number_of_calls = row['number_of_calls']\n",
    "    number_of_messages = row['number_of_messages']\n",
    "    plan = row['plan']\n",
    "    \n",
    "    if plan =='surf':\n",
    "        monthly_profit = 20\n",
    "        if duration <= 500:\n",
    "            call_duration_profit = 0\n",
    "        else:\n",
    "            call_duration_profit = 0.03*(duration - 500)\n",
    "        if number_of_messages <= 50:\n",
    "            message_profit = 0\n",
    "        else:\n",
    "            message_profit = 0.03*(number_of_messages - 50)\n",
    "        if gb_used <= 15:\n",
    "            internet_profit = 0\n",
    "        else:\n",
    "            internet_profit = 10*(gb_used - 15)\n",
    "        \n",
    "    else:\n",
    "        monthly_profit = 70\n",
    "        if duration <= 3000:\n",
    "            call_duration_profit = 0\n",
    "        else:\n",
    "            call_duration_profit = 0.01*(duration - 3000)\n",
    "        if number_of_messages <= 1000:\n",
    "            message_profit = 0\n",
    "        else:\n",
    "            message_profit = 0.01*(number_of_messages - 1000)\n",
    "        if gb_used <= 30:\n",
    "            internet_profit = 0\n",
    "        else:\n",
    "            internet_profit = 7*(gb_used - 30)\n",
    "            \n",
    "    total_profit = monthly_profit + call_duration_profit + message_profit + internet_profit\n",
    "    return total_profit\n",
    "\n",
    "df_merged2['profit'] = df_merged2.apply(cost,axis=1) \n",
    "            \n"
   ]
  },
  {
   "cell_type": "code",
   "execution_count": 23,
   "metadata": {},
   "outputs": [
    {
     "name": "stdout",
     "output_type": "stream",
     "text": [
      "0       70.00\n",
      "1       20.00\n",
      "2       20.00\n",
      "3       90.09\n",
      "4       50.00\n",
      "        ...  \n",
      "2132    20.78\n",
      "2133    40.66\n",
      "2134    20.33\n",
      "2135    20.00\n",
      "2136    70.00\n",
      "Name: profit, Length: 2137, dtype: float64\n"
     ]
    }
   ],
   "source": [
    "print(df_merged2['profit'])"
   ]
  },
  {
   "cell_type": "code",
   "execution_count": 24,
   "metadata": {},
   "outputs": [
    {
     "data": {
      "text/html": [
       "<div>\n",
       "<style scoped>\n",
       "    .dataframe tbody tr th:only-of-type {\n",
       "        vertical-align: middle;\n",
       "    }\n",
       "\n",
       "    .dataframe tbody tr th {\n",
       "        vertical-align: top;\n",
       "    }\n",
       "\n",
       "    .dataframe thead th {\n",
       "        text-align: right;\n",
       "    }\n",
       "</style>\n",
       "<table border=\"1\" class=\"dataframe\">\n",
       "  <thead>\n",
       "    <tr style=\"text-align: right;\">\n",
       "      <th></th>\n",
       "      <th></th>\n",
       "      <th></th>\n",
       "      <th></th>\n",
       "      <th>duration</th>\n",
       "      <th>number_of_calls</th>\n",
       "    </tr>\n",
       "    <tr>\n",
       "      <th>user_id</th>\n",
       "      <th>first_name</th>\n",
       "      <th>last_name</th>\n",
       "      <th>month</th>\n",
       "      <th></th>\n",
       "      <th></th>\n",
       "    </tr>\n",
       "  </thead>\n",
       "  <tbody>\n",
       "    <tr>\n",
       "      <td>1000</td>\n",
       "      <td>Anamaria</td>\n",
       "      <td>Bauer</td>\n",
       "      <td>12.0</td>\n",
       "      <td>117.0</td>\n",
       "      <td>16.0</td>\n",
       "    </tr>\n",
       "    <tr>\n",
       "      <td rowspan=\"4\" valign=\"top\">1001</td>\n",
       "      <td rowspan=\"4\" valign=\"top\">Mickey</td>\n",
       "      <td rowspan=\"4\" valign=\"top\">Wilkerson</td>\n",
       "      <td>8.0</td>\n",
       "      <td>173.0</td>\n",
       "      <td>27.0</td>\n",
       "    </tr>\n",
       "    <tr>\n",
       "      <td>9.0</td>\n",
       "      <td>297.0</td>\n",
       "      <td>49.0</td>\n",
       "    </tr>\n",
       "    <tr>\n",
       "      <td>10.0</td>\n",
       "      <td>374.0</td>\n",
       "      <td>65.0</td>\n",
       "    </tr>\n",
       "    <tr>\n",
       "      <td>11.0</td>\n",
       "      <td>404.0</td>\n",
       "      <td>64.0</td>\n",
       "    </tr>\n",
       "    <tr>\n",
       "      <td>...</td>\n",
       "      <td>...</td>\n",
       "      <td>...</td>\n",
       "      <td>...</td>\n",
       "      <td>...</td>\n",
       "      <td>...</td>\n",
       "    </tr>\n",
       "    <tr>\n",
       "      <td>1498</td>\n",
       "      <td>Scot</td>\n",
       "      <td>Williamson</td>\n",
       "      <td>12.0</td>\n",
       "      <td>326.0</td>\n",
       "      <td>39.0</td>\n",
       "    </tr>\n",
       "    <tr>\n",
       "      <td rowspan=\"4\" valign=\"top\">1499</td>\n",
       "      <td rowspan=\"4\" valign=\"top\">Shena</td>\n",
       "      <td rowspan=\"4\" valign=\"top\">Dickson</td>\n",
       "      <td>9.0</td>\n",
       "      <td>328.0</td>\n",
       "      <td>41.0</td>\n",
       "    </tr>\n",
       "    <tr>\n",
       "      <td>10.0</td>\n",
       "      <td>361.0</td>\n",
       "      <td>53.0</td>\n",
       "    </tr>\n",
       "    <tr>\n",
       "      <td>11.0</td>\n",
       "      <td>287.0</td>\n",
       "      <td>45.0</td>\n",
       "    </tr>\n",
       "    <tr>\n",
       "      <td>12.0</td>\n",
       "      <td>463.0</td>\n",
       "      <td>65.0</td>\n",
       "    </tr>\n",
       "  </tbody>\n",
       "</table>\n",
       "<p>2137 rows × 2 columns</p>\n",
       "</div>"
      ],
      "text/plain": [
       "                                     duration  number_of_calls\n",
       "user_id first_name last_name  month                           \n",
       "1000    Anamaria   Bauer      12.0      117.0             16.0\n",
       "1001    Mickey     Wilkerson  8.0       173.0             27.0\n",
       "                              9.0       297.0             49.0\n",
       "                              10.0      374.0             65.0\n",
       "                              11.0      404.0             64.0\n",
       "...                                       ...              ...\n",
       "1498    Scot       Williamson 12.0      326.0             39.0\n",
       "1499    Shena      Dickson    9.0       328.0             41.0\n",
       "                              10.0      361.0             53.0\n",
       "                              11.0      287.0             45.0\n",
       "                              12.0      463.0             65.0\n",
       "\n",
       "[2137 rows x 2 columns]"
      ]
     },
     "execution_count": 24,
     "metadata": {},
     "output_type": "execute_result"
    }
   ],
   "source": [
    "#number of calls per user for each month\n",
    "pd.pivot_table(df_merged2,index=['user_id', 'first_name', 'last_name', 'month'],values=['number_of_calls', 'duration'])\n"
   ]
  },
  {
   "cell_type": "code",
   "execution_count": 25,
   "metadata": {},
   "outputs": [
    {
     "data": {
      "text/html": [
       "<div>\n",
       "<style scoped>\n",
       "    .dataframe tbody tr th:only-of-type {\n",
       "        vertical-align: middle;\n",
       "    }\n",
       "\n",
       "    .dataframe tbody tr th {\n",
       "        vertical-align: top;\n",
       "    }\n",
       "\n",
       "    .dataframe thead th {\n",
       "        text-align: right;\n",
       "    }\n",
       "</style>\n",
       "<table border=\"1\" class=\"dataframe\">\n",
       "  <thead>\n",
       "    <tr style=\"text-align: right;\">\n",
       "      <th></th>\n",
       "      <th></th>\n",
       "      <th></th>\n",
       "      <th>number_of_messages</th>\n",
       "    </tr>\n",
       "    <tr>\n",
       "      <th>user_id</th>\n",
       "      <th>first_name</th>\n",
       "      <th>last_name</th>\n",
       "      <th></th>\n",
       "    </tr>\n",
       "  </thead>\n",
       "  <tbody>\n",
       "    <tr>\n",
       "      <td>1000</td>\n",
       "      <td>Anamaria</td>\n",
       "      <td>Bauer</td>\n",
       "      <td>11.000000</td>\n",
       "    </tr>\n",
       "    <tr>\n",
       "      <td>1001</td>\n",
       "      <td>Mickey</td>\n",
       "      <td>Wilkerson</td>\n",
       "      <td>41.400000</td>\n",
       "    </tr>\n",
       "    <tr>\n",
       "      <td>1002</td>\n",
       "      <td>Carlee</td>\n",
       "      <td>Hoffman</td>\n",
       "      <td>29.333333</td>\n",
       "    </tr>\n",
       "    <tr>\n",
       "      <td>1004</td>\n",
       "      <td>Leonila</td>\n",
       "      <td>Thompson</td>\n",
       "      <td>22.125000</td>\n",
       "    </tr>\n",
       "    <tr>\n",
       "      <td>1005</td>\n",
       "      <td>Livia</td>\n",
       "      <td>Shields</td>\n",
       "      <td>11.000000</td>\n",
       "    </tr>\n",
       "    <tr>\n",
       "      <td>...</td>\n",
       "      <td>...</td>\n",
       "      <td>...</td>\n",
       "      <td>...</td>\n",
       "    </tr>\n",
       "    <tr>\n",
       "      <td>1495</td>\n",
       "      <td>Fidel</td>\n",
       "      <td>Sharpe</td>\n",
       "      <td>0.000000</td>\n",
       "    </tr>\n",
       "    <tr>\n",
       "      <td>1496</td>\n",
       "      <td>Ariel</td>\n",
       "      <td>Shepherd</td>\n",
       "      <td>13.000000</td>\n",
       "    </tr>\n",
       "    <tr>\n",
       "      <td>1497</td>\n",
       "      <td>Donte</td>\n",
       "      <td>Barrera</td>\n",
       "      <td>50.000000</td>\n",
       "    </tr>\n",
       "    <tr>\n",
       "      <td>1498</td>\n",
       "      <td>Scot</td>\n",
       "      <td>Williamson</td>\n",
       "      <td>0.000000</td>\n",
       "    </tr>\n",
       "    <tr>\n",
       "      <td>1499</td>\n",
       "      <td>Shena</td>\n",
       "      <td>Dickson</td>\n",
       "      <td>0.000000</td>\n",
       "    </tr>\n",
       "  </tbody>\n",
       "</table>\n",
       "<p>486 rows × 1 columns</p>\n",
       "</div>"
      ],
      "text/plain": [
       "                               number_of_messages\n",
       "user_id first_name last_name                     \n",
       "1000    Anamaria   Bauer                11.000000\n",
       "1001    Mickey     Wilkerson            41.400000\n",
       "1002    Carlee     Hoffman              29.333333\n",
       "1004    Leonila    Thompson             22.125000\n",
       "1005    Livia      Shields              11.000000\n",
       "...                                           ...\n",
       "1495    Fidel      Sharpe                0.000000\n",
       "1496    Ariel      Shepherd             13.000000\n",
       "1497    Donte      Barrera              50.000000\n",
       "1498    Scot       Williamson            0.000000\n",
       "1499    Shena      Dickson               0.000000\n",
       "\n",
       "[486 rows x 1 columns]"
      ]
     },
     "execution_count": 25,
     "metadata": {},
     "output_type": "execute_result"
    }
   ],
   "source": [
    "\n",
    "pd.pivot_table(df_merged2,index=['user_id', 'first_name', 'last_name'],values=['number_of_messages'])\n"
   ]
  },
  {
   "cell_type": "code",
   "execution_count": 26,
   "metadata": {},
   "outputs": [
    {
     "data": {
      "text/html": [
       "<div>\n",
       "<style scoped>\n",
       "    .dataframe tbody tr th:only-of-type {\n",
       "        vertical-align: middle;\n",
       "    }\n",
       "\n",
       "    .dataframe tbody tr th {\n",
       "        vertical-align: top;\n",
       "    }\n",
       "\n",
       "    .dataframe thead th {\n",
       "        text-align: right;\n",
       "    }\n",
       "</style>\n",
       "<table border=\"1\" class=\"dataframe\">\n",
       "  <thead>\n",
       "    <tr style=\"text-align: right;\">\n",
       "      <th></th>\n",
       "      <th></th>\n",
       "      <th></th>\n",
       "      <th>gb_used</th>\n",
       "    </tr>\n",
       "    <tr>\n",
       "      <th>user_id</th>\n",
       "      <th>first_name</th>\n",
       "      <th>last_name</th>\n",
       "      <th></th>\n",
       "    </tr>\n",
       "  </thead>\n",
       "  <tbody>\n",
       "    <tr>\n",
       "      <td>1000</td>\n",
       "      <td>Anamaria</td>\n",
       "      <td>Bauer</td>\n",
       "      <td>2.000000</td>\n",
       "    </tr>\n",
       "    <tr>\n",
       "      <td>1001</td>\n",
       "      <td>Mickey</td>\n",
       "      <td>Wilkerson</td>\n",
       "      <td>15.800000</td>\n",
       "    </tr>\n",
       "    <tr>\n",
       "      <td>1002</td>\n",
       "      <td>Carlee</td>\n",
       "      <td>Hoffman</td>\n",
       "      <td>13.000000</td>\n",
       "    </tr>\n",
       "    <tr>\n",
       "      <td>1004</td>\n",
       "      <td>Leonila</td>\n",
       "      <td>Thompson</td>\n",
       "      <td>18.875000</td>\n",
       "    </tr>\n",
       "    <tr>\n",
       "      <td>1005</td>\n",
       "      <td>Livia</td>\n",
       "      <td>Shields</td>\n",
       "      <td>17.000000</td>\n",
       "    </tr>\n",
       "    <tr>\n",
       "      <td>...</td>\n",
       "      <td>...</td>\n",
       "      <td>...</td>\n",
       "      <td>...</td>\n",
       "    </tr>\n",
       "    <tr>\n",
       "      <td>1495</td>\n",
       "      <td>Fidel</td>\n",
       "      <td>Sharpe</td>\n",
       "      <td>24.000000</td>\n",
       "    </tr>\n",
       "    <tr>\n",
       "      <td>1496</td>\n",
       "      <td>Ariel</td>\n",
       "      <td>Shepherd</td>\n",
       "      <td>12.400000</td>\n",
       "    </tr>\n",
       "    <tr>\n",
       "      <td>1497</td>\n",
       "      <td>Donte</td>\n",
       "      <td>Barrera</td>\n",
       "      <td>11.000000</td>\n",
       "    </tr>\n",
       "    <tr>\n",
       "      <td>1498</td>\n",
       "      <td>Scot</td>\n",
       "      <td>Williamson</td>\n",
       "      <td>20.090909</td>\n",
       "    </tr>\n",
       "    <tr>\n",
       "      <td>1499</td>\n",
       "      <td>Shena</td>\n",
       "      <td>Dickson</td>\n",
       "      <td>17.500000</td>\n",
       "    </tr>\n",
       "  </tbody>\n",
       "</table>\n",
       "<p>486 rows × 1 columns</p>\n",
       "</div>"
      ],
      "text/plain": [
       "                                 gb_used\n",
       "user_id first_name last_name            \n",
       "1000    Anamaria   Bauer        2.000000\n",
       "1001    Mickey     Wilkerson   15.800000\n",
       "1002    Carlee     Hoffman     13.000000\n",
       "1004    Leonila    Thompson    18.875000\n",
       "1005    Livia      Shields     17.000000\n",
       "...                                  ...\n",
       "1495    Fidel      Sharpe      24.000000\n",
       "1496    Ariel      Shepherd    12.400000\n",
       "1497    Donte      Barrera     11.000000\n",
       "1498    Scot       Williamson  20.090909\n",
       "1499    Shena      Dickson     17.500000\n",
       "\n",
       "[486 rows x 1 columns]"
      ]
     },
     "execution_count": 26,
     "metadata": {},
     "output_type": "execute_result"
    }
   ],
   "source": [
    "pd.pivot_table(df_merged2,index=['user_id', 'first_name', 'last_name'],values=['gb_used'])\n"
   ]
  },
  {
   "cell_type": "code",
   "execution_count": 27,
   "metadata": {},
   "outputs": [
    {
     "data": {
      "text/html": [
       "<div>\n",
       "<style scoped>\n",
       "    .dataframe tbody tr th:only-of-type {\n",
       "        vertical-align: middle;\n",
       "    }\n",
       "\n",
       "    .dataframe tbody tr th {\n",
       "        vertical-align: top;\n",
       "    }\n",
       "\n",
       "    .dataframe thead th {\n",
       "        text-align: right;\n",
       "    }\n",
       "</style>\n",
       "<table border=\"1\" class=\"dataframe\">\n",
       "  <thead>\n",
       "    <tr style=\"text-align: right;\">\n",
       "      <th></th>\n",
       "      <th></th>\n",
       "      <th></th>\n",
       "      <th>profit</th>\n",
       "    </tr>\n",
       "    <tr>\n",
       "      <th>user_id</th>\n",
       "      <th>first_name</th>\n",
       "      <th>last_name</th>\n",
       "      <th></th>\n",
       "    </tr>\n",
       "  </thead>\n",
       "  <tbody>\n",
       "    <tr>\n",
       "      <td>1000</td>\n",
       "      <td>Anamaria</td>\n",
       "      <td>Bauer</td>\n",
       "      <td>70.000000</td>\n",
       "    </tr>\n",
       "    <tr>\n",
       "      <td>1001</td>\n",
       "      <td>Mickey</td>\n",
       "      <td>Wilkerson</td>\n",
       "      <td>48.018000</td>\n",
       "    </tr>\n",
       "    <tr>\n",
       "      <td>1002</td>\n",
       "      <td>Carlee</td>\n",
       "      <td>Hoffman</td>\n",
       "      <td>33.333333</td>\n",
       "    </tr>\n",
       "    <tr>\n",
       "      <td>1004</td>\n",
       "      <td>Leonila</td>\n",
       "      <td>Thompson</td>\n",
       "      <td>71.250000</td>\n",
       "    </tr>\n",
       "    <tr>\n",
       "      <td>1005</td>\n",
       "      <td>Livia</td>\n",
       "      <td>Shields</td>\n",
       "      <td>40.000000</td>\n",
       "    </tr>\n",
       "    <tr>\n",
       "      <td>...</td>\n",
       "      <td>...</td>\n",
       "      <td>...</td>\n",
       "      <td>...</td>\n",
       "    </tr>\n",
       "    <tr>\n",
       "      <td>1495</td>\n",
       "      <td>Fidel</td>\n",
       "      <td>Sharpe</td>\n",
       "      <td>110.630000</td>\n",
       "    </tr>\n",
       "    <tr>\n",
       "      <td>1496</td>\n",
       "      <td>Ariel</td>\n",
       "      <td>Shepherd</td>\n",
       "      <td>24.000000</td>\n",
       "    </tr>\n",
       "    <tr>\n",
       "      <td>1497</td>\n",
       "      <td>Donte</td>\n",
       "      <td>Barrera</td>\n",
       "      <td>70.000000</td>\n",
       "    </tr>\n",
       "    <tr>\n",
       "      <td>1498</td>\n",
       "      <td>Scot</td>\n",
       "      <td>Williamson</td>\n",
       "      <td>71.818182</td>\n",
       "    </tr>\n",
       "    <tr>\n",
       "      <td>1499</td>\n",
       "      <td>Shena</td>\n",
       "      <td>Dickson</td>\n",
       "      <td>50.000000</td>\n",
       "    </tr>\n",
       "  </tbody>\n",
       "</table>\n",
       "<p>486 rows × 1 columns</p>\n",
       "</div>"
      ],
      "text/plain": [
       "                                   profit\n",
       "user_id first_name last_name             \n",
       "1000    Anamaria   Bauer        70.000000\n",
       "1001    Mickey     Wilkerson    48.018000\n",
       "1002    Carlee     Hoffman      33.333333\n",
       "1004    Leonila    Thompson     71.250000\n",
       "1005    Livia      Shields      40.000000\n",
       "...                                   ...\n",
       "1495    Fidel      Sharpe      110.630000\n",
       "1496    Ariel      Shepherd     24.000000\n",
       "1497    Donte      Barrera      70.000000\n",
       "1498    Scot       Williamson   71.818182\n",
       "1499    Shena      Dickson      50.000000\n",
       "\n",
       "[486 rows x 1 columns]"
      ]
     },
     "execution_count": 27,
     "metadata": {},
     "output_type": "execute_result"
    }
   ],
   "source": [
    "pd.pivot_table(df_merged2,index=['user_id', 'first_name', 'last_name'],values=['profit'])\n"
   ]
  },
  {
   "cell_type": "code",
   "execution_count": 28,
   "metadata": {},
   "outputs": [
    {
     "data": {
      "text/html": [
       "<div>\n",
       "<style scoped>\n",
       "    .dataframe tbody tr th:only-of-type {\n",
       "        vertical-align: middle;\n",
       "    }\n",
       "\n",
       "    .dataframe tbody tr th {\n",
       "        vertical-align: top;\n",
       "    }\n",
       "\n",
       "    .dataframe thead th {\n",
       "        text-align: right;\n",
       "    }\n",
       "</style>\n",
       "<table border=\"1\" class=\"dataframe\">\n",
       "  <thead>\n",
       "    <tr style=\"text-align: right;\">\n",
       "      <th></th>\n",
       "      <th>profit</th>\n",
       "    </tr>\n",
       "    <tr>\n",
       "      <th>plan</th>\n",
       "      <th></th>\n",
       "    </tr>\n",
       "  </thead>\n",
       "  <tbody>\n",
       "    <tr>\n",
       "      <td>surf</td>\n",
       "      <td>50.927788</td>\n",
       "    </tr>\n",
       "    <tr>\n",
       "      <td>ultimate</td>\n",
       "      <td>70.201821</td>\n",
       "    </tr>\n",
       "  </tbody>\n",
       "</table>\n",
       "</div>"
      ],
      "text/plain": [
       "             profit\n",
       "plan               \n",
       "surf      50.927788\n",
       "ultimate  70.201821"
      ]
     },
     "execution_count": 28,
     "metadata": {},
     "output_type": "execute_result"
    }
   ],
   "source": [
    "pd.pivot_table(df_merged2,index=['plan'],values=['profit']) #overall profit is higher from ultimate plan users. Also, as we see below, there's twice as much users on surf plan, but there's still more profit from the ultimate plan!"
   ]
  },
  {
   "cell_type": "markdown",
   "metadata": {},
   "source": [
    "Overall profit is higher from ultimate plan users. Also, as we see above, there's twice as much users on surf plan, but there's still more profit from the ultimate plan!"
   ]
  },
  {
   "cell_type": "markdown",
   "metadata": {},
   "source": [
    "<div class=\"alert alert-success\" role=\"alert\">\n",
    "Reviewer's comment v. 1:\n",
    "    \n",
    "Yes, it is so :)\n",
    "</div>"
   ]
  },
  {
   "cell_type": "code",
   "execution_count": 29,
   "metadata": {},
   "outputs": [
    {
     "data": {
      "text/plain": [
       "surf        1478\n",
       "ultimate     659\n",
       "Name: plan, dtype: int64"
      ]
     },
     "execution_count": 29,
     "metadata": {},
     "output_type": "execute_result"
    }
   ],
   "source": [
    "df_merged2['plan'].value_counts()#same conclusion as above"
   ]
  },
  {
   "cell_type": "code",
   "execution_count": 30,
   "metadata": {},
   "outputs": [
    {
     "data": {
      "text/html": [
       "<div>\n",
       "<style scoped>\n",
       "    .dataframe tbody tr th:only-of-type {\n",
       "        vertical-align: middle;\n",
       "    }\n",
       "\n",
       "    .dataframe tbody tr th {\n",
       "        vertical-align: top;\n",
       "    }\n",
       "\n",
       "    .dataframe thead tr th {\n",
       "        text-align: left;\n",
       "    }\n",
       "</style>\n",
       "<table border=\"1\" class=\"dataframe\">\n",
       "  <thead>\n",
       "    <tr>\n",
       "      <th></th>\n",
       "      <th>user_id</th>\n",
       "      <th colspan=\"8\" halign=\"left\">duration</th>\n",
       "      <th colspan=\"4\" halign=\"left\">number_of_messages</th>\n",
       "      <th colspan=\"8\" halign=\"left\">gb_used</th>\n",
       "    </tr>\n",
       "    <tr>\n",
       "      <th></th>\n",
       "      <th></th>\n",
       "      <th>count</th>\n",
       "      <th>mean</th>\n",
       "      <th>std</th>\n",
       "      <th>min</th>\n",
       "      <th>25%</th>\n",
       "      <th>50%</th>\n",
       "      <th>75%</th>\n",
       "      <th>max</th>\n",
       "      <th>count</th>\n",
       "      <th>...</th>\n",
       "      <th>75%</th>\n",
       "      <th>max</th>\n",
       "      <th>count</th>\n",
       "      <th>mean</th>\n",
       "      <th>std</th>\n",
       "      <th>min</th>\n",
       "      <th>25%</th>\n",
       "      <th>50%</th>\n",
       "      <th>75%</th>\n",
       "      <th>max</th>\n",
       "    </tr>\n",
       "  </thead>\n",
       "  <tbody>\n",
       "    <tr>\n",
       "      <td>0</td>\n",
       "      <td>1000</td>\n",
       "      <td>1.0</td>\n",
       "      <td>117.000000</td>\n",
       "      <td>NaN</td>\n",
       "      <td>117.0</td>\n",
       "      <td>117.00</td>\n",
       "      <td>117.0</td>\n",
       "      <td>117.00</td>\n",
       "      <td>117.0</td>\n",
       "      <td>1.0</td>\n",
       "      <td>...</td>\n",
       "      <td>11.00</td>\n",
       "      <td>11.0</td>\n",
       "      <td>1.0</td>\n",
       "      <td>2.000000</td>\n",
       "      <td>NaN</td>\n",
       "      <td>2.0</td>\n",
       "      <td>2.00</td>\n",
       "      <td>2.0</td>\n",
       "      <td>2.00</td>\n",
       "      <td>2.0</td>\n",
       "    </tr>\n",
       "    <tr>\n",
       "      <td>1</td>\n",
       "      <td>1001</td>\n",
       "      <td>5.0</td>\n",
       "      <td>328.400000</td>\n",
       "      <td>96.479532</td>\n",
       "      <td>173.0</td>\n",
       "      <td>297.00</td>\n",
       "      <td>374.0</td>\n",
       "      <td>394.00</td>\n",
       "      <td>404.0</td>\n",
       "      <td>5.0</td>\n",
       "      <td>...</td>\n",
       "      <td>44.00</td>\n",
       "      <td>53.0</td>\n",
       "      <td>5.0</td>\n",
       "      <td>15.800000</td>\n",
       "      <td>5.890671</td>\n",
       "      <td>7.0</td>\n",
       "      <td>13.00</td>\n",
       "      <td>18.0</td>\n",
       "      <td>19.00</td>\n",
       "      <td>22.0</td>\n",
       "    </tr>\n",
       "    <tr>\n",
       "      <td>2</td>\n",
       "      <td>1002</td>\n",
       "      <td>3.0</td>\n",
       "      <td>258.000000</td>\n",
       "      <td>177.541544</td>\n",
       "      <td>53.0</td>\n",
       "      <td>206.00</td>\n",
       "      <td>359.0</td>\n",
       "      <td>360.50</td>\n",
       "      <td>362.0</td>\n",
       "      <td>3.0</td>\n",
       "      <td>...</td>\n",
       "      <td>36.50</td>\n",
       "      <td>41.0</td>\n",
       "      <td>3.0</td>\n",
       "      <td>13.000000</td>\n",
       "      <td>6.557439</td>\n",
       "      <td>6.0</td>\n",
       "      <td>10.00</td>\n",
       "      <td>14.0</td>\n",
       "      <td>16.50</td>\n",
       "      <td>19.0</td>\n",
       "    </tr>\n",
       "    <tr>\n",
       "      <td>3</td>\n",
       "      <td>1004</td>\n",
       "      <td>8.0</td>\n",
       "      <td>326.500000</td>\n",
       "      <td>84.351306</td>\n",
       "      <td>181.0</td>\n",
       "      <td>278.00</td>\n",
       "      <td>337.0</td>\n",
       "      <td>367.75</td>\n",
       "      <td>452.0</td>\n",
       "      <td>8.0</td>\n",
       "      <td>...</td>\n",
       "      <td>25.25</td>\n",
       "      <td>31.0</td>\n",
       "      <td>8.0</td>\n",
       "      <td>18.875000</td>\n",
       "      <td>6.468329</td>\n",
       "      <td>6.0</td>\n",
       "      <td>17.00</td>\n",
       "      <td>20.5</td>\n",
       "      <td>21.75</td>\n",
       "      <td>27.0</td>\n",
       "    </tr>\n",
       "    <tr>\n",
       "      <td>4</td>\n",
       "      <td>1005</td>\n",
       "      <td>1.0</td>\n",
       "      <td>471.000000</td>\n",
       "      <td>NaN</td>\n",
       "      <td>471.0</td>\n",
       "      <td>471.00</td>\n",
       "      <td>471.0</td>\n",
       "      <td>471.00</td>\n",
       "      <td>471.0</td>\n",
       "      <td>1.0</td>\n",
       "      <td>...</td>\n",
       "      <td>11.00</td>\n",
       "      <td>11.0</td>\n",
       "      <td>1.0</td>\n",
       "      <td>17.000000</td>\n",
       "      <td>NaN</td>\n",
       "      <td>17.0</td>\n",
       "      <td>17.00</td>\n",
       "      <td>17.0</td>\n",
       "      <td>17.00</td>\n",
       "      <td>17.0</td>\n",
       "    </tr>\n",
       "    <tr>\n",
       "      <td>...</td>\n",
       "      <td>...</td>\n",
       "      <td>...</td>\n",
       "      <td>...</td>\n",
       "      <td>...</td>\n",
       "      <td>...</td>\n",
       "      <td>...</td>\n",
       "      <td>...</td>\n",
       "      <td>...</td>\n",
       "      <td>...</td>\n",
       "      <td>...</td>\n",
       "      <td>...</td>\n",
       "      <td>...</td>\n",
       "      <td>...</td>\n",
       "      <td>...</td>\n",
       "      <td>...</td>\n",
       "      <td>...</td>\n",
       "      <td>...</td>\n",
       "      <td>...</td>\n",
       "      <td>...</td>\n",
       "      <td>...</td>\n",
       "      <td>...</td>\n",
       "    </tr>\n",
       "    <tr>\n",
       "      <td>481</td>\n",
       "      <td>1495</td>\n",
       "      <td>4.0</td>\n",
       "      <td>418.250000</td>\n",
       "      <td>134.420671</td>\n",
       "      <td>285.0</td>\n",
       "      <td>324.00</td>\n",
       "      <td>402.0</td>\n",
       "      <td>496.25</td>\n",
       "      <td>584.0</td>\n",
       "      <td>4.0</td>\n",
       "      <td>...</td>\n",
       "      <td>0.00</td>\n",
       "      <td>0.0</td>\n",
       "      <td>4.0</td>\n",
       "      <td>24.000000</td>\n",
       "      <td>1.632993</td>\n",
       "      <td>22.0</td>\n",
       "      <td>23.50</td>\n",
       "      <td>24.0</td>\n",
       "      <td>24.50</td>\n",
       "      <td>26.0</td>\n",
       "    </tr>\n",
       "    <tr>\n",
       "      <td>482</td>\n",
       "      <td>1496</td>\n",
       "      <td>5.0</td>\n",
       "      <td>275.200000</td>\n",
       "      <td>100.055984</td>\n",
       "      <td>115.0</td>\n",
       "      <td>277.00</td>\n",
       "      <td>291.0</td>\n",
       "      <td>302.00</td>\n",
       "      <td>391.0</td>\n",
       "      <td>5.0</td>\n",
       "      <td>...</td>\n",
       "      <td>18.00</td>\n",
       "      <td>21.0</td>\n",
       "      <td>5.0</td>\n",
       "      <td>12.400000</td>\n",
       "      <td>4.098780</td>\n",
       "      <td>8.0</td>\n",
       "      <td>8.00</td>\n",
       "      <td>14.0</td>\n",
       "      <td>16.00</td>\n",
       "      <td>16.0</td>\n",
       "    </tr>\n",
       "    <tr>\n",
       "      <td>483</td>\n",
       "      <td>1497</td>\n",
       "      <td>1.0</td>\n",
       "      <td>276.000000</td>\n",
       "      <td>NaN</td>\n",
       "      <td>276.0</td>\n",
       "      <td>276.00</td>\n",
       "      <td>276.0</td>\n",
       "      <td>276.00</td>\n",
       "      <td>276.0</td>\n",
       "      <td>1.0</td>\n",
       "      <td>...</td>\n",
       "      <td>50.00</td>\n",
       "      <td>50.0</td>\n",
       "      <td>1.0</td>\n",
       "      <td>11.000000</td>\n",
       "      <td>NaN</td>\n",
       "      <td>11.0</td>\n",
       "      <td>11.00</td>\n",
       "      <td>11.0</td>\n",
       "      <td>11.00</td>\n",
       "      <td>11.0</td>\n",
       "    </tr>\n",
       "    <tr>\n",
       "      <td>484</td>\n",
       "      <td>1498</td>\n",
       "      <td>11.0</td>\n",
       "      <td>275.363636</td>\n",
       "      <td>49.145239</td>\n",
       "      <td>209.0</td>\n",
       "      <td>238.50</td>\n",
       "      <td>275.0</td>\n",
       "      <td>316.00</td>\n",
       "      <td>346.0</td>\n",
       "      <td>11.0</td>\n",
       "      <td>...</td>\n",
       "      <td>0.00</td>\n",
       "      <td>0.0</td>\n",
       "      <td>11.0</td>\n",
       "      <td>20.090909</td>\n",
       "      <td>2.700168</td>\n",
       "      <td>14.0</td>\n",
       "      <td>19.00</td>\n",
       "      <td>20.0</td>\n",
       "      <td>22.00</td>\n",
       "      <td>24.0</td>\n",
       "    </tr>\n",
       "    <tr>\n",
       "      <td>485</td>\n",
       "      <td>1499</td>\n",
       "      <td>4.0</td>\n",
       "      <td>359.750000</td>\n",
       "      <td>75.194747</td>\n",
       "      <td>287.0</td>\n",
       "      <td>317.75</td>\n",
       "      <td>344.5</td>\n",
       "      <td>386.50</td>\n",
       "      <td>463.0</td>\n",
       "      <td>4.0</td>\n",
       "      <td>...</td>\n",
       "      <td>0.00</td>\n",
       "      <td>0.0</td>\n",
       "      <td>4.0</td>\n",
       "      <td>17.500000</td>\n",
       "      <td>3.872983</td>\n",
       "      <td>13.0</td>\n",
       "      <td>15.25</td>\n",
       "      <td>17.5</td>\n",
       "      <td>19.75</td>\n",
       "      <td>22.0</td>\n",
       "    </tr>\n",
       "  </tbody>\n",
       "</table>\n",
       "<p>486 rows × 25 columns</p>\n",
       "</div>"
      ],
      "text/plain": [
       "    user_id duration                                                        \\\n",
       "               count        mean         std    min     25%    50%     75%   \n",
       "0      1000      1.0  117.000000         NaN  117.0  117.00  117.0  117.00   \n",
       "1      1001      5.0  328.400000   96.479532  173.0  297.00  374.0  394.00   \n",
       "2      1002      3.0  258.000000  177.541544   53.0  206.00  359.0  360.50   \n",
       "3      1004      8.0  326.500000   84.351306  181.0  278.00  337.0  367.75   \n",
       "4      1005      1.0  471.000000         NaN  471.0  471.00  471.0  471.00   \n",
       "..      ...      ...         ...         ...    ...     ...    ...     ...   \n",
       "481    1495      4.0  418.250000  134.420671  285.0  324.00  402.0  496.25   \n",
       "482    1496      5.0  275.200000  100.055984  115.0  277.00  291.0  302.00   \n",
       "483    1497      1.0  276.000000         NaN  276.0  276.00  276.0  276.00   \n",
       "484    1498     11.0  275.363636   49.145239  209.0  238.50  275.0  316.00   \n",
       "485    1499      4.0  359.750000   75.194747  287.0  317.75  344.5  386.50   \n",
       "\n",
       "           number_of_messages  ...              gb_used                       \\\n",
       "       max              count  ...    75%   max   count       mean       std   \n",
       "0    117.0                1.0  ...  11.00  11.0     1.0   2.000000       NaN   \n",
       "1    404.0                5.0  ...  44.00  53.0     5.0  15.800000  5.890671   \n",
       "2    362.0                3.0  ...  36.50  41.0     3.0  13.000000  6.557439   \n",
       "3    452.0                8.0  ...  25.25  31.0     8.0  18.875000  6.468329   \n",
       "4    471.0                1.0  ...  11.00  11.0     1.0  17.000000       NaN   \n",
       "..     ...                ...  ...    ...   ...     ...        ...       ...   \n",
       "481  584.0                4.0  ...   0.00   0.0     4.0  24.000000  1.632993   \n",
       "482  391.0                5.0  ...  18.00  21.0     5.0  12.400000  4.098780   \n",
       "483  276.0                1.0  ...  50.00  50.0     1.0  11.000000       NaN   \n",
       "484  346.0               11.0  ...   0.00   0.0    11.0  20.090909  2.700168   \n",
       "485  463.0                4.0  ...   0.00   0.0     4.0  17.500000  3.872983   \n",
       "\n",
       "                                     \n",
       "      min    25%   50%    75%   max  \n",
       "0     2.0   2.00   2.0   2.00   2.0  \n",
       "1     7.0  13.00  18.0  19.00  22.0  \n",
       "2     6.0  10.00  14.0  16.50  19.0  \n",
       "3     6.0  17.00  20.5  21.75  27.0  \n",
       "4    17.0  17.00  17.0  17.00  17.0  \n",
       "..    ...    ...   ...    ...   ...  \n",
       "481  22.0  23.50  24.0  24.50  26.0  \n",
       "482   8.0   8.00  14.0  16.00  16.0  \n",
       "483  11.0  11.00  11.0  11.00  11.0  \n",
       "484  14.0  19.00  20.0  22.00  24.0  \n",
       "485  13.0  15.25  17.5  19.75  22.0  \n",
       "\n",
       "[486 rows x 25 columns]"
      ]
     },
     "execution_count": 30,
     "metadata": {},
     "output_type": "execute_result"
    }
   ],
   "source": [
    "df_merged2.groupby(['user_id'])['duration','number_of_messages','gb_used'].describe().reset_index() "
   ]
  },
  {
   "cell_type": "code",
   "execution_count": 31,
   "metadata": {},
   "outputs": [
    {
     "data": {
      "text/html": [
       "<div>\n",
       "<style scoped>\n",
       "    .dataframe tbody tr th:only-of-type {\n",
       "        vertical-align: middle;\n",
       "    }\n",
       "\n",
       "    .dataframe tbody tr th {\n",
       "        vertical-align: top;\n",
       "    }\n",
       "\n",
       "    .dataframe thead th {\n",
       "        text-align: right;\n",
       "    }\n",
       "</style>\n",
       "<table border=\"1\" class=\"dataframe\">\n",
       "  <thead>\n",
       "    <tr style=\"text-align: right;\">\n",
       "      <th></th>\n",
       "      <th></th>\n",
       "      <th>duration</th>\n",
       "      <th>number_of_calls</th>\n",
       "    </tr>\n",
       "    <tr>\n",
       "      <th>user_id</th>\n",
       "      <th>month</th>\n",
       "      <th></th>\n",
       "      <th></th>\n",
       "    </tr>\n",
       "  </thead>\n",
       "  <tbody>\n",
       "    <tr>\n",
       "      <td>1000</td>\n",
       "      <td>12.0</td>\n",
       "      <td>117.0</td>\n",
       "      <td>16.0</td>\n",
       "    </tr>\n",
       "    <tr>\n",
       "      <td rowspan=\"4\" valign=\"top\">1001</td>\n",
       "      <td>8.0</td>\n",
       "      <td>173.0</td>\n",
       "      <td>27.0</td>\n",
       "    </tr>\n",
       "    <tr>\n",
       "      <td>9.0</td>\n",
       "      <td>297.0</td>\n",
       "      <td>49.0</td>\n",
       "    </tr>\n",
       "    <tr>\n",
       "      <td>10.0</td>\n",
       "      <td>374.0</td>\n",
       "      <td>65.0</td>\n",
       "    </tr>\n",
       "    <tr>\n",
       "      <td>11.0</td>\n",
       "      <td>404.0</td>\n",
       "      <td>64.0</td>\n",
       "    </tr>\n",
       "    <tr>\n",
       "      <td>...</td>\n",
       "      <td>...</td>\n",
       "      <td>...</td>\n",
       "      <td>...</td>\n",
       "    </tr>\n",
       "    <tr>\n",
       "      <td>1498</td>\n",
       "      <td>12.0</td>\n",
       "      <td>326.0</td>\n",
       "      <td>39.0</td>\n",
       "    </tr>\n",
       "    <tr>\n",
       "      <td rowspan=\"4\" valign=\"top\">1499</td>\n",
       "      <td>9.0</td>\n",
       "      <td>328.0</td>\n",
       "      <td>41.0</td>\n",
       "    </tr>\n",
       "    <tr>\n",
       "      <td>10.0</td>\n",
       "      <td>361.0</td>\n",
       "      <td>53.0</td>\n",
       "    </tr>\n",
       "    <tr>\n",
       "      <td>11.0</td>\n",
       "      <td>287.0</td>\n",
       "      <td>45.0</td>\n",
       "    </tr>\n",
       "    <tr>\n",
       "      <td>12.0</td>\n",
       "      <td>463.0</td>\n",
       "      <td>65.0</td>\n",
       "    </tr>\n",
       "  </tbody>\n",
       "</table>\n",
       "<p>2137 rows × 2 columns</p>\n",
       "</div>"
      ],
      "text/plain": [
       "               duration  number_of_calls\n",
       "user_id month                           \n",
       "1000    12.0      117.0             16.0\n",
       "1001    8.0       173.0             27.0\n",
       "        9.0       297.0             49.0\n",
       "        10.0      374.0             65.0\n",
       "        11.0      404.0             64.0\n",
       "...                 ...              ...\n",
       "1498    12.0      326.0             39.0\n",
       "1499    9.0       328.0             41.0\n",
       "        10.0      361.0             53.0\n",
       "        11.0      287.0             45.0\n",
       "        12.0      463.0             65.0\n",
       "\n",
       "[2137 rows x 2 columns]"
      ]
     },
     "execution_count": 31,
     "metadata": {},
     "output_type": "execute_result"
    }
   ],
   "source": [
    "pd.pivot_table(df_merged2, index=['user_id', 'month'], values=['duration', 'number_of_calls'])"
   ]
  },
  {
   "cell_type": "code",
   "execution_count": 32,
   "metadata": {},
   "outputs": [
    {
     "data": {
      "text/html": [
       "<div>\n",
       "<style scoped>\n",
       "    .dataframe tbody tr th:only-of-type {\n",
       "        vertical-align: middle;\n",
       "    }\n",
       "\n",
       "    .dataframe tbody tr th {\n",
       "        vertical-align: top;\n",
       "    }\n",
       "\n",
       "    .dataframe thead th {\n",
       "        text-align: right;\n",
       "    }\n",
       "</style>\n",
       "<table border=\"1\" class=\"dataframe\">\n",
       "  <thead>\n",
       "    <tr style=\"text-align: right;\">\n",
       "      <th></th>\n",
       "      <th>duration</th>\n",
       "      <th>number_of_calls</th>\n",
       "      <th>number_of_messages</th>\n",
       "      <th>gb_used</th>\n",
       "    </tr>\n",
       "    <tr>\n",
       "      <th>user_id</th>\n",
       "      <th></th>\n",
       "      <th></th>\n",
       "      <th></th>\n",
       "      <th></th>\n",
       "    </tr>\n",
       "  </thead>\n",
       "  <tbody>\n",
       "    <tr>\n",
       "      <td>1000</td>\n",
       "      <td>117.000000</td>\n",
       "      <td>16.000000</td>\n",
       "      <td>11.000000</td>\n",
       "      <td>2.000000</td>\n",
       "    </tr>\n",
       "    <tr>\n",
       "      <td>1001</td>\n",
       "      <td>328.400000</td>\n",
       "      <td>52.200000</td>\n",
       "      <td>41.400000</td>\n",
       "      <td>15.800000</td>\n",
       "    </tr>\n",
       "    <tr>\n",
       "      <td>1002</td>\n",
       "      <td>258.000000</td>\n",
       "      <td>37.666667</td>\n",
       "      <td>29.333333</td>\n",
       "      <td>13.000000</td>\n",
       "    </tr>\n",
       "    <tr>\n",
       "      <td>1004</td>\n",
       "      <td>326.500000</td>\n",
       "      <td>46.250000</td>\n",
       "      <td>22.125000</td>\n",
       "      <td>18.875000</td>\n",
       "    </tr>\n",
       "    <tr>\n",
       "      <td>1005</td>\n",
       "      <td>471.000000</td>\n",
       "      <td>59.000000</td>\n",
       "      <td>11.000000</td>\n",
       "      <td>17.000000</td>\n",
       "    </tr>\n",
       "    <tr>\n",
       "      <td>...</td>\n",
       "      <td>...</td>\n",
       "      <td>...</td>\n",
       "      <td>...</td>\n",
       "      <td>...</td>\n",
       "    </tr>\n",
       "    <tr>\n",
       "      <td>1495</td>\n",
       "      <td>418.250000</td>\n",
       "      <td>63.250000</td>\n",
       "      <td>0.000000</td>\n",
       "      <td>24.000000</td>\n",
       "    </tr>\n",
       "    <tr>\n",
       "      <td>1496</td>\n",
       "      <td>275.200000</td>\n",
       "      <td>39.000000</td>\n",
       "      <td>13.000000</td>\n",
       "      <td>12.400000</td>\n",
       "    </tr>\n",
       "    <tr>\n",
       "      <td>1497</td>\n",
       "      <td>276.000000</td>\n",
       "      <td>54.000000</td>\n",
       "      <td>50.000000</td>\n",
       "      <td>11.000000</td>\n",
       "    </tr>\n",
       "    <tr>\n",
       "      <td>1498</td>\n",
       "      <td>275.363636</td>\n",
       "      <td>41.000000</td>\n",
       "      <td>0.000000</td>\n",
       "      <td>20.090909</td>\n",
       "    </tr>\n",
       "    <tr>\n",
       "      <td>1499</td>\n",
       "      <td>359.750000</td>\n",
       "      <td>51.000000</td>\n",
       "      <td>0.000000</td>\n",
       "      <td>17.500000</td>\n",
       "    </tr>\n",
       "  </tbody>\n",
       "</table>\n",
       "<p>486 rows × 4 columns</p>\n",
       "</div>"
      ],
      "text/plain": [
       "           duration  number_of_calls  number_of_messages    gb_used\n",
       "user_id                                                            \n",
       "1000     117.000000        16.000000           11.000000   2.000000\n",
       "1001     328.400000        52.200000           41.400000  15.800000\n",
       "1002     258.000000        37.666667           29.333333  13.000000\n",
       "1004     326.500000        46.250000           22.125000  18.875000\n",
       "1005     471.000000        59.000000           11.000000  17.000000\n",
       "...             ...              ...                 ...        ...\n",
       "1495     418.250000        63.250000            0.000000  24.000000\n",
       "1496     275.200000        39.000000           13.000000  12.400000\n",
       "1497     276.000000        54.000000           50.000000  11.000000\n",
       "1498     275.363636        41.000000            0.000000  20.090909\n",
       "1499     359.750000        51.000000            0.000000  17.500000\n",
       "\n",
       "[486 rows x 4 columns]"
      ]
     },
     "execution_count": 32,
     "metadata": {},
     "output_type": "execute_result"
    }
   ],
   "source": [
    "df_merged2.groupby(['user_id'])['duration', 'number_of_calls', 'number_of_messages', 'gb_used'].mean()"
   ]
  },
  {
   "cell_type": "markdown",
   "metadata": {},
   "source": [
    "#Find the minutes, texts, and volume of data the users of each plan require per month. The table above shows that information; the table was already grouped by month"
   ]
  },
  {
   "cell_type": "code",
   "execution_count": 33,
   "metadata": {},
   "outputs": [
    {
     "data": {
      "text/plain": [
       "0.0      33\n",
       "444.0    13\n",
       "329.0    10\n",
       "374.0     9\n",
       "480.0     9\n",
       "         ..\n",
       "895.0     1\n",
       "405.0     1\n",
       "801.0     1\n",
       "265.0     1\n",
       "333.0     1\n",
       "Name: duration, Length: 728, dtype: int64"
      ]
     },
     "execution_count": 33,
     "metadata": {},
     "output_type": "execute_result"
    }
   ],
   "source": [
    "df_merged2['duration'].value_counts()"
   ]
  },
  {
   "cell_type": "code",
   "execution_count": 34,
   "metadata": {},
   "outputs": [
    {
     "data": {
      "image/png": "[encoded data removed]",
      "text/plain": [
       "<Figure size 432x288 with 1 Axes>"
      ]
     },
     "metadata": {
      "needs_background": "light"
     },
     "output_type": "display_data"
    },
    {
     "data": {
      "text/plain": [
       "387.1693963500234"
      ]
     },
     "metadata": {},
     "output_type": "display_data"
    },
    {
     "data": {
      "text/plain": [
       "392.0"
      ]
     },
     "metadata": {},
     "output_type": "display_data"
    }
   ],
   "source": [
    "#df_merged2[['month', 'duration']].hist() \n",
    "df_merged2['duration'].hist() \n",
    "#plt.hist(df_merged2['month', 'duration'], bins = 20)\n",
    "plt.title('duration')\n",
    "plt.xlabel('values')\n",
    "plt.ylabel('frequency')\n",
    "plt.show()\n",
    "display(df_merged2['duration'].mean())\n",
    "display(df_merged2['duration'].median())"
   ]
  },
  {
   "cell_type": "markdown",
   "metadata": {},
   "source": [
    "On the histogram above frequency(y axis) shows the number of data values in the corresponding group in the value column (x axis). This dataset is right skewed and we can clearly see some outliers to the right. This means we have have nonnormal data and the median is probably less than mean, which indicates presence of outliers. I check in the next line of code, and I was right: median is less, although not by much."
   ]
  },
  {
   "cell_type": "code",
   "execution_count": 35,
   "metadata": {},
   "outputs": [
    {
     "data": {
      "image/png": "[encoded data removed]",
      "text/plain": [
       "<Figure size 432x288 with 1 Axes>"
      ]
     },
     "metadata": {
      "needs_background": "light"
     },
     "output_type": "display_data"
    },
    {
     "data": {
      "text/plain": [
       "57.45999064108563"
      ]
     },
     "metadata": {},
     "output_type": "display_data"
    },
    {
     "data": {
      "text/plain": [
       "59.0"
      ]
     },
     "metadata": {},
     "output_type": "display_data"
    }
   ],
   "source": [
    "#df_merged2[['number_of_calls', 'month']].hist() \n",
    "df_merged2['number_of_calls'].hist() \n",
    "#plt.hist(df_merged2['month', 'duration'], bins = 20)\n",
    "plt.title('number_of_calls')\n",
    "plt.xlabel('values')\n",
    "plt.ylabel('frequency')\n",
    "plt.show()\n",
    "display(df_merged2['number_of_calls'].mean())\n",
    "display(df_merged2['number_of_calls'].median())"
   ]
  },
  {
   "cell_type": "markdown",
   "metadata": {},
   "source": [
    "I ccome to the same conclusion for this histogram: the data is right skewed, there are probably ourliers and the median is less than the mean, although only marginally so."
   ]
  },
  {
   "cell_type": "code",
   "execution_count": 36,
   "metadata": {},
   "outputs": [
    {
     "data": {
      "image/png": "[encoded data removed]",
      "text/plain": [
       "<Figure size 432x288 with 1 Axes>"
      ]
     },
     "metadata": {
      "needs_background": "light"
     },
     "output_type": "display_data"
    },
    {
     "data": {
      "text/plain": [
       "29.18437061300889"
      ]
     },
     "metadata": {},
     "output_type": "display_data"
    },
    {
     "data": {
      "text/plain": [
       "24.0"
      ]
     },
     "metadata": {},
     "output_type": "display_data"
    }
   ],
   "source": [
    "#df_merged2[['number_of_messages', 'month']].hist() \n",
    "df_merged2['number_of_messages'].hist() \n",
    "#plt.hist(df_merged2['month', 'duration'], bins = 20)\n",
    "plt.title('number_of_messages')\n",
    "plt.xlabel('values')\n",
    "plt.ylabel('frequency')\n",
    "plt.show()\n",
    "display(df_merged2['number_of_messages'].mean())\n",
    "display(df_merged2['number_of_messages'].median())"
   ]
  },
  {
   "cell_type": "markdown",
   "metadata": {},
   "source": [
    "we can clearly see from the histogram above that there is a huge number of clienrs who didn't use messages at all. I will address this interesting fact later in the conclusion. It seems that messages are the least popular service.\n",
    "The data is also right skewed and severely so, much more than the data on calls. We will also have to work with outliers here. Median is again less than the mean, this time by larger percent than before which could be predicted from the fact that data is more skewed. "
   ]
  },
  {
   "cell_type": "code",
   "execution_count": 37,
   "metadata": {},
   "outputs": [
    {
     "data": {
      "image/png": "[encoded data removed]",
      "text/plain": [
       "<Figure size 432x288 with 1 Axes>"
      ]
     },
     "metadata": {
      "needs_background": "light"
     },
     "output_type": "display_data"
    },
    {
     "data": {
      "text/plain": [
       "15.62096396817969"
      ]
     },
     "metadata": {},
     "output_type": "display_data"
    },
    {
     "data": {
      "text/plain": [
       "16.0"
      ]
     },
     "metadata": {},
     "output_type": "display_data"
    }
   ],
   "source": [
    "\n",
    "df_merged2['gb_used'].hist() \n",
    "\n",
    "plt.title('gb_used')\n",
    "plt.xlabel('values')\n",
    "plt.ylabel('frequency')\n",
    "plt.show()\n",
    "display(df_merged2['gb_used'].mean())\n",
    "display(df_merged2['gb_used'].median())"
   ]
  },
  {
   "cell_type": "markdown",
   "metadata": {},
   "source": [
    "Data is still skewed to the right and median is marginally less than the mean. "
   ]
  },
  {
   "cell_type": "markdown",
   "metadata": {},
   "source": [
    "Analyze customer behavior.\n",
    "We can see that the number of messages and calls and the internet usage steadily increases over the months and drasticly increases in the last month of the year. \n",
    "From the histograms above we can also  infer the following:\n",
    "The majority of users sent zero messages over the year; a huge percentage of them, it seems, don't use messages at all.\n",
    "More than one third of users don't use calls. \n",
    "Around 25 percent of users don't use internet. \n",
    "From this we can infer that mobile internet is the most used service. "
   ]
  },
  {
   "cell_type": "code",
   "execution_count": 38,
   "metadata": {},
   "outputs": [
    {
     "data": {
      "text/plain": [
       "count    2137.000000\n",
       "mean      387.169396\n",
       "std       198.993192\n",
       "min         0.000000\n",
       "25%       245.000000\n",
       "50%       392.000000\n",
       "75%       523.000000\n",
       "max       977.000000\n",
       "Name: duration, dtype: float64"
      ]
     },
     "execution_count": 38,
     "metadata": {},
     "output_type": "execute_result"
    }
   ],
   "source": [
    "df_merged2['duration'].describe()\n"
   ]
  },
  {
   "cell_type": "code",
   "execution_count": 39,
   "metadata": {},
   "outputs": [
    {
     "data": {
      "text/plain": [
       "count    2137.000000\n",
       "mean       57.459991\n",
       "std        28.872563\n",
       "min         0.000000\n",
       "25%        37.000000\n",
       "50%        59.000000\n",
       "75%        78.000000\n",
       "max       140.000000\n",
       "Name: number_of_calls, dtype: float64"
      ]
     },
     "execution_count": 39,
     "metadata": {},
     "output_type": "execute_result"
    }
   ],
   "source": [
    "df_merged2['number_of_calls'].describe()"
   ]
  },
  {
   "cell_type": "code",
   "execution_count": 40,
   "metadata": {},
   "outputs": [
    {
     "data": {
      "text/plain": [
       "count    2137.000000\n",
       "mean       29.184371\n",
       "std        28.221746\n",
       "min         0.000000\n",
       "25%         3.000000\n",
       "50%        24.000000\n",
       "75%        47.000000\n",
       "max       123.000000\n",
       "Name: number_of_messages, dtype: float64"
      ]
     },
     "execution_count": 40,
     "metadata": {},
     "output_type": "execute_result"
    }
   ],
   "source": [
    "df_merged2['number_of_messages'].describe()\n"
   ]
  },
  {
   "cell_type": "code",
   "execution_count": 41,
   "metadata": {},
   "outputs": [
    {
     "data": {
      "text/plain": [
       "count    2137.000000\n",
       "mean       15.620964\n",
       "std         6.681455\n",
       "min         0.000000\n",
       "25%        12.000000\n",
       "50%        16.000000\n",
       "75%        20.000000\n",
       "max        33.000000\n",
       "Name: gb_used, dtype: float64"
      ]
     },
     "execution_count": 41,
     "metadata": {},
     "output_type": "execute_result"
    }
   ],
   "source": [
    "df_merged2['gb_used'].describe()"
   ]
  },
  {
   "cell_type": "code",
   "execution_count": 42,
   "metadata": {},
   "outputs": [
    {
     "data": {
      "text/plain": [
       "39598.29057983207"
      ]
     },
     "execution_count": 42,
     "metadata": {},
     "output_type": "execute_result"
    }
   ],
   "source": [
    "df_merged2['duration'].var()"
   ]
  },
  {
   "cell_type": "code",
   "execution_count": 43,
   "metadata": {},
   "outputs": [
    {
     "data": {
      "text/plain": [
       "833.6249200373655"
      ]
     },
     "execution_count": 43,
     "metadata": {},
     "output_type": "execute_result"
    }
   ],
   "source": [
    "df_merged2['number_of_calls'].var()"
   ]
  },
  {
   "cell_type": "code",
   "execution_count": 44,
   "metadata": {},
   "outputs": [
    {
     "data": {
      "text/plain": [
       "796.4669278925442"
      ]
     },
     "execution_count": 44,
     "metadata": {},
     "output_type": "execute_result"
    }
   ],
   "source": [
    "df_merged2['number_of_messages'].var()"
   ]
  },
  {
   "cell_type": "code",
   "execution_count": 45,
   "metadata": {},
   "outputs": [
    {
     "data": {
      "text/plain": [
       "44.641844950480134"
      ]
     },
     "execution_count": 45,
     "metadata": {},
     "output_type": "execute_result"
    }
   ],
   "source": [
    "df_merged2['gb_used'].var()"
   ]
  },
  {
   "cell_type": "markdown",
   "metadata": {},
   "source": [
    "The code above shows variance mean and std for each relevant column in the merged dataframe"
   ]
  },
  {
   "cell_type": "markdown",
   "metadata": {},
   "source": [
    "# in 4 cells above we see dispersion (variance) for each relevant column"
   ]
  },
  {
   "cell_type": "code",
   "execution_count": 46,
   "metadata": {},
   "outputs": [],
   "source": [
    "dataSurf = df_merged2.query('plan == \"surf\"').reset_index()"
   ]
  },
  {
   "cell_type": "code",
   "execution_count": 47,
   "metadata": {},
   "outputs": [],
   "source": [
    "dataUlt = df_merged2.query('plan == \"ultimate\"').reset_index()"
   ]
  },
  {
   "cell_type": "markdown",
   "metadata": {},
   "source": [
    "In the cells above we separate the data by the plan to compare plans later."
   ]
  },
  {
   "cell_type": "code",
   "execution_count": 48,
   "metadata": {},
   "outputs": [
    {
     "name": "stdout",
     "output_type": "stream",
     "text": [
      "<class 'pandas.core.frame.DataFrame'>\n",
      "RangeIndex: 659 entries, 0 to 658\n",
      "Data columns (total 16 columns):\n",
      "index                 659 non-null int64\n",
      "user_id               659 non-null int64\n",
      "month                 659 non-null float64\n",
      "duration              659 non-null float64\n",
      "mb_used               659 non-null float64\n",
      "number_of_messages    659 non-null float64\n",
      "number_of_calls       659 non-null float64\n",
      "first_name            659 non-null object\n",
      "last_name             659 non-null object\n",
      "age                   659 non-null int64\n",
      "city                  659 non-null object\n",
      "reg_date              659 non-null datetime64[ns]\n",
      "plan                  659 non-null object\n",
      "churn_date            51 non-null datetime64[ns]\n",
      "gb_used               659 non-null float64\n",
      "profit                659 non-null float64\n",
      "dtypes: datetime64[ns](2), float64(7), int64(3), object(4)\n",
      "memory usage: 82.5+ KB\n"
     ]
    }
   ],
   "source": [
    "dataUlt.info()"
   ]
  },
  {
   "cell_type": "markdown",
   "metadata": {},
   "source": [
    "In the code below we put mean and sdt for both plans side to side for each category."
   ]
  },
  {
   "cell_type": "code",
   "execution_count": 49,
   "metadata": {},
   "outputs": [
    {
     "data": {
      "text/plain": [
       "count    1478.000000\n",
       "mean      386.774019\n",
       "std       200.791374\n",
       "min         0.000000\n",
       "25%       245.000000\n",
       "50%       390.500000\n",
       "75%       530.000000\n",
       "max       977.000000\n",
       "Name: duration, dtype: float64"
      ]
     },
     "metadata": {},
     "output_type": "display_data"
    },
    {
     "data": {
      "text/plain": [
       "40317.17570909104"
      ]
     },
     "metadata": {},
     "output_type": "display_data"
    },
    {
     "data": {
      "text/plain": [
       "count    659.000000\n",
       "mean     388.056146\n",
       "std      195.047851\n",
       "min        0.000000\n",
       "25%      247.000000\n",
       "50%      396.000000\n",
       "75%      509.000000\n",
       "max      926.000000\n",
       "Name: duration, dtype: float64"
      ]
     },
     "metadata": {},
     "output_type": "display_data"
    },
    {
     "data": {
      "text/plain": [
       "38043.66401612464"
      ]
     },
     "metadata": {},
     "output_type": "display_data"
    }
   ],
   "source": [
    "display(dataSurf['duration'].describe())\n",
    "display(dataSurf['duration'].var())\n",
    "display(dataUlt['duration'].describe())\n",
    "display(dataUlt['duration'].var())"
   ]
  },
  {
   "cell_type": "code",
   "execution_count": 50,
   "metadata": {},
   "outputs": [
    {
     "data": {
      "text/plain": [
       "count    1478.000000\n",
       "mean       57.211773\n",
       "std        29.030681\n",
       "min         0.000000\n",
       "25%        37.250000\n",
       "50%        58.000000\n",
       "75%        78.000000\n",
       "max       140.000000\n",
       "Name: number_of_calls, dtype: float64"
      ]
     },
     "metadata": {},
     "output_type": "display_data"
    },
    {
     "data": {
      "text/plain": [
       "842.7804435718452"
      ]
     },
     "metadata": {},
     "output_type": "display_data"
    },
    {
     "data": {
      "text/plain": [
       "count    659.000000\n",
       "mean      58.016692\n",
       "std       28.528789\n",
       "min        0.000000\n",
       "25%       36.000000\n",
       "50%       60.000000\n",
       "75%       77.000000\n",
       "max      140.000000\n",
       "Name: number_of_calls, dtype: float64"
      ]
     },
     "metadata": {},
     "output_type": "display_data"
    },
    {
     "data": {
      "text/plain": [
       "813.8918182195554"
      ]
     },
     "metadata": {},
     "output_type": "display_data"
    }
   ],
   "source": [
    "display(dataSurf['number_of_calls'].describe())\n",
    "display(dataSurf['number_of_calls'].var())\n",
    "display(dataUlt['number_of_calls'].describe())\n",
    "display(dataUlt['number_of_calls'].var())"
   ]
  },
  {
   "cell_type": "code",
   "execution_count": 51,
   "metadata": {},
   "outputs": [
    {
     "data": {
      "text/plain": [
       "count    1478.000000\n",
       "mean       27.612991\n",
       "std        27.522215\n",
       "min         0.000000\n",
       "25%         2.000000\n",
       "50%        22.500000\n",
       "75%        43.000000\n",
       "max       123.000000\n",
       "Name: number_of_messages, dtype: float64"
      ]
     },
     "metadata": {},
     "output_type": "display_data"
    },
    {
     "data": {
      "text/plain": [
       "757.4723294393144"
      ]
     },
     "metadata": {},
     "output_type": "display_data"
    },
    {
     "data": {
      "text/plain": [
       "count    659.000000\n",
       "mean      32.708649\n",
       "std       29.448633\n",
       "min        0.000000\n",
       "25%        5.000000\n",
       "50%       28.000000\n",
       "75%       54.000000\n",
       "max      123.000000\n",
       "Name: number_of_messages, dtype: float64"
      ]
     },
     "metadata": {},
     "output_type": "display_data"
    },
    {
     "data": {
      "text/plain": [
       "867.2219767447223"
      ]
     },
     "metadata": {},
     "output_type": "display_data"
    }
   ],
   "source": [
    "display(dataSurf['number_of_messages'].describe())\n",
    "display(dataSurf['number_of_messages'].var())\n",
    "display(dataUlt['number_of_messages'].describe())\n",
    "display(dataUlt['number_of_messages'].var())"
   ]
  },
  {
   "cell_type": "code",
   "execution_count": 52,
   "metadata": {},
   "outputs": [
    {
     "data": {
      "text/plain": [
       "count    1478.000000\n",
       "mean       15.567659\n",
       "std         6.746033\n",
       "min         0.000000\n",
       "25%        12.000000\n",
       "50%        16.000000\n",
       "75%        20.000000\n",
       "max        33.000000\n",
       "Name: gb_used, dtype: float64"
      ]
     },
     "metadata": {},
     "output_type": "display_data"
    },
    {
     "data": {
      "text/plain": [
       "45.50896012196027"
      ]
     },
     "metadata": {},
     "output_type": "display_data"
    },
    {
     "data": {
      "text/plain": [
       "count    659.000000\n",
       "mean      15.740516\n",
       "std        6.537782\n",
       "min        0.000000\n",
       "25%       12.000000\n",
       "50%       16.000000\n",
       "75%       20.000000\n",
       "max       33.000000\n",
       "Name: gb_used, dtype: float64"
      ]
     },
     "metadata": {},
     "output_type": "display_data"
    },
    {
     "data": {
      "text/plain": [
       "42.74259608599195"
      ]
     },
     "metadata": {},
     "output_type": "display_data"
    }
   ],
   "source": [
    "display(dataSurf['gb_used'].describe())\n",
    "display(dataSurf['gb_used'].var())\n",
    "display(dataUlt['gb_used'].describe())\n",
    "display(dataUlt['gb_used'].var())"
   ]
  },
  {
   "cell_type": "markdown",
   "metadata": {},
   "source": [
    "We can see from the histograms below that the maximum duration of calls was longer for the users of the surf plan,but there were also more missed calls. There's much more users who didn't use messages in the surf column. There's also more people who didn't use internet in the surf column. There's more 0's overall from this column."
   ]
  },
  {
   "cell_type": "code",
   "execution_count": 53,
   "metadata": {},
   "outputs": [
    {
     "data": {
      "text/plain": [
       "array([[<matplotlib.axes._subplots.AxesSubplot object at 0x7ff40547f610>]],\n",
       "      dtype=object)"
      ]
     },
     "metadata": {},
     "output_type": "display_data"
    },
    {
     "data": {
      "image/png": "[encoded data removed]",
      "text/plain": [
       "<Figure size 432x288 with 1 Axes>"
      ]
     },
     "metadata": {
      "needs_background": "light"
     },
     "output_type": "display_data"
    },
    {
     "data": {
      "text/plain": [
       "array([[<matplotlib.axes._subplots.AxesSubplot object at 0x7ff405369ad0>]],\n",
       "      dtype=object)"
      ]
     },
     "metadata": {},
     "output_type": "display_data"
    },
    {
     "data": {
      "image/png": "[encoded data removed]",
      "text/plain": [
       "<Figure size 432x288 with 1 Axes>"
      ]
     },
     "metadata": {
      "needs_background": "light"
     },
     "output_type": "display_data"
    }
   ],
   "source": [
    "display(dataSurf.hist('duration'))\n",
    "plt.xlabel('values')\n",
    "plt.ylabel('frequency')\n",
    "plt.show()\n",
    "display(dataUlt.hist('duration'))\n",
    "plt.xlabel('values')\n",
    "plt.ylabel('frequency')\n",
    "plt.show()"
   ]
  },
  {
   "cell_type": "code",
   "execution_count": 54,
   "metadata": {},
   "outputs": [
    {
     "data": {
      "text/plain": [
       "386.77401894451964"
      ]
     },
     "metadata": {},
     "output_type": "display_data"
    },
    {
     "data": {
      "text/plain": [
       "390.5"
      ]
     },
     "metadata": {},
     "output_type": "display_data"
    },
    {
     "data": {
      "text/plain": [
       "388.05614567526555"
      ]
     },
     "metadata": {},
     "output_type": "display_data"
    },
    {
     "data": {
      "text/plain": [
       "396.0"
      ]
     },
     "metadata": {},
     "output_type": "display_data"
    }
   ],
   "source": [
    "display(dataSurf['duration'].mean())\n",
    "display(dataSurf['duration'].median())\n",
    "display(dataUlt['duration'].mean())\n",
    "display(dataUlt['duration'].median())"
   ]
  },
  {
   "cell_type": "code",
   "execution_count": 55,
   "metadata": {},
   "outputs": [
    {
     "data": {
      "text/plain": [
       "array([[<matplotlib.axes._subplots.AxesSubplot object at 0x7ff4052a4b10>]],\n",
       "      dtype=object)"
      ]
     },
     "metadata": {},
     "output_type": "display_data"
    },
    {
     "data": {
      "image/png": "[encoded data removed]",
      "text/plain": [
       "<Figure size 432x288 with 1 Axes>"
      ]
     },
     "metadata": {
      "needs_background": "light"
     },
     "output_type": "display_data"
    },
    {
     "data": {
      "text/plain": [
       "array([[<matplotlib.axes._subplots.AxesSubplot object at 0x7ff405266c50>]],\n",
       "      dtype=object)"
      ]
     },
     "metadata": {},
     "output_type": "display_data"
    },
    {
     "data": {
      "image/png": "[encoded data removed]",
      "text/plain": [
       "<Figure size 432x288 with 1 Axes>"
      ]
     },
     "metadata": {
      "needs_background": "light"
     },
     "output_type": "display_data"
    }
   ],
   "source": [
    "display(dataSurf.hist('number_of_calls'))\n",
    "plt.xlabel('values')\n",
    "plt.ylabel('frequency')\n",
    "plt.show()\n",
    "display(dataUlt.hist('number_of_calls'))\n",
    "plt.xlabel('values')\n",
    "plt.ylabel('frequency')\n",
    "plt.show()"
   ]
  },
  {
   "cell_type": "code",
   "execution_count": 56,
   "metadata": {},
   "outputs": [
    {
     "data": {
      "text/plain": [
       "57.21177266576455"
      ]
     },
     "metadata": {},
     "output_type": "display_data"
    },
    {
     "data": {
      "text/plain": [
       "58.0"
      ]
     },
     "metadata": {},
     "output_type": "display_data"
    },
    {
     "data": {
      "text/plain": [
       "58.016691957511384"
      ]
     },
     "metadata": {},
     "output_type": "display_data"
    },
    {
     "data": {
      "text/plain": [
       "60.0"
      ]
     },
     "metadata": {},
     "output_type": "display_data"
    }
   ],
   "source": [
    "display(dataSurf['number_of_calls'].mean())\n",
    "display(dataSurf['number_of_calls'].median())\n",
    "display(dataUlt['number_of_calls'].mean())\n",
    "display(dataUlt['number_of_calls'].median())"
   ]
  },
  {
   "cell_type": "markdown",
   "metadata": {},
   "source": [
    "Here it is interesting: we see there's still more 0's in the surf database, so the theory that these clients call less stands. However, mean is less than median, even though data is still slightly skewed to the right. That's an esception to the mean-median rule, shows that while median is typically less than mean in right skewed data, it's not always the case."
   ]
  },
  {
   "cell_type": "code",
   "execution_count": 57,
   "metadata": {},
   "outputs": [
    {
     "data": {
      "text/plain": [
       "array([[<matplotlib.axes._subplots.AxesSubplot object at 0x7ff4051ce390>]],\n",
       "      dtype=object)"
      ]
     },
     "metadata": {},
     "output_type": "display_data"
    },
    {
     "data": {
      "image/png": "[encoded data removed]",
      "text/plain": [
       "<Figure size 432x288 with 1 Axes>"
      ]
     },
     "metadata": {
      "needs_background": "light"
     },
     "output_type": "display_data"
    },
    {
     "data": {
      "text/plain": [
       "array([[<matplotlib.axes._subplots.AxesSubplot object at 0x7ff40517ed50>]],\n",
       "      dtype=object)"
      ]
     },
     "metadata": {},
     "output_type": "display_data"
    },
    {
     "data": {
      "image/png": "[encoded data removed]",
      "text/plain": [
       "<Figure size 432x288 with 1 Axes>"
      ]
     },
     "metadata": {
      "needs_background": "light"
     },
     "output_type": "display_data"
    }
   ],
   "source": [
    "display(dataSurf.hist('number_of_messages'))\n",
    "plt.xlabel('values')\n",
    "plt.ylabel('frequency')\n",
    "plt.show()\n",
    "display(dataUlt.hist('number_of_messages'))\n",
    "plt.xlabel('values')\n",
    "plt.ylabel('frequency')\n",
    "plt.show()"
   ]
  },
  {
   "cell_type": "code",
   "execution_count": 58,
   "metadata": {},
   "outputs": [
    {
     "data": {
      "text/plain": [
       "27.61299052774019"
      ]
     },
     "metadata": {},
     "output_type": "display_data"
    },
    {
     "data": {
      "text/plain": [
       "22.5"
      ]
     },
     "metadata": {},
     "output_type": "display_data"
    },
    {
     "data": {
      "text/plain": [
       "32.70864946889226"
      ]
     },
     "metadata": {},
     "output_type": "display_data"
    },
    {
     "data": {
      "text/plain": [
       "28.0"
      ]
     },
     "metadata": {},
     "output_type": "display_data"
    }
   ],
   "source": [
    "display(dataSurf['number_of_messages'].mean())\n",
    "display(dataSurf['number_of_messages'].median())\n",
    "display(dataUlt['number_of_messages'].mean())\n",
    "display(dataUlt['number_of_messages'].median())"
   ]
  },
  {
   "cell_type": "markdown",
   "metadata": {},
   "source": [
    "We can see that for both plans data is almost equally skewed to the right, but the means differ significantly. There's again more 0's for the surf plan users."
   ]
  },
  {
   "cell_type": "code",
   "execution_count": 59,
   "metadata": {},
   "outputs": [
    {
     "data": {
      "text/plain": [
       "array([[<matplotlib.axes._subplots.AxesSubplot object at 0x7ff4050ab650>]],\n",
       "      dtype=object)"
      ]
     },
     "metadata": {},
     "output_type": "display_data"
    },
    {
     "data": {
      "image/png": "[encoded data removed]",
      "text/plain": [
       "<Figure size 432x288 with 1 Axes>"
      ]
     },
     "metadata": {
      "needs_background": "light"
     },
     "output_type": "display_data"
    },
    {
     "data": {
      "text/plain": [
       "array([[<matplotlib.axes._subplots.AxesSubplot object at 0x7ff40501ec10>]],\n",
       "      dtype=object)"
      ]
     },
     "metadata": {},
     "output_type": "display_data"
    },
    {
     "data": {
      "image/png": "[encoded data removed]",
      "text/plain": [
       "<Figure size 432x288 with 1 Axes>"
      ]
     },
     "metadata": {
      "needs_background": "light"
     },
     "output_type": "display_data"
    }
   ],
   "source": [
    "display(dataSurf.hist('gb_used'))\n",
    "plt.xlabel('values')\n",
    "plt.ylabel('frequency')\n",
    "plt.show()\n",
    "display(dataUlt.hist('gb_used'))\n",
    "plt.xlabel('values')\n",
    "plt.ylabel('frequency')\n",
    "plt.show()"
   ]
  },
  {
   "cell_type": "code",
   "execution_count": 60,
   "metadata": {},
   "outputs": [
    {
     "data": {
      "text/plain": [
       "15.56765899864682"
      ]
     },
     "metadata": {},
     "output_type": "display_data"
    },
    {
     "data": {
      "text/plain": [
       "16.0"
      ]
     },
     "metadata": {},
     "output_type": "display_data"
    },
    {
     "data": {
      "text/plain": [
       "15.74051593323217"
      ]
     },
     "metadata": {},
     "output_type": "display_data"
    },
    {
     "data": {
      "text/plain": [
       "16.0"
      ]
     },
     "metadata": {},
     "output_type": "display_data"
    }
   ],
   "source": [
    "display(dataSurf['gb_used'].mean())\n",
    "display(dataSurf['gb_used'].median())\n",
    "display(dataUlt['gb_used'].mean())\n",
    "display(dataUlt['gb_used'].median())"
   ]
  },
  {
   "cell_type": "markdown",
   "metadata": {},
   "source": [
    "These histograms are very interesting. We see that this time the data for one of the plans is skewed more heavily to the right, but at the same time they have almost the same mean and median. I can make an assumption that perhaps profit from this particular service was similar for both plans since, as we have seen earlier after using describe() method, std for them is also almost the same."
   ]
  },
  {
   "cell_type": "markdown",
   "metadata": {},
   "source": []
  },
  {
   "cell_type": "code",
   "execution_count": 61,
   "metadata": {},
   "outputs": [
    {
     "name": "stdout",
     "output_type": "stream",
     "text": [
      "<class 'pandas.core.frame.DataFrame'>\n",
      "RangeIndex: 659 entries, 0 to 658\n",
      "Data columns (total 16 columns):\n",
      "index                 659 non-null int64\n",
      "user_id               659 non-null int64\n",
      "month                 659 non-null float64\n",
      "duration              659 non-null float64\n",
      "mb_used               659 non-null float64\n",
      "number_of_messages    659 non-null float64\n",
      "number_of_calls       659 non-null float64\n",
      "first_name            659 non-null object\n",
      "last_name             659 non-null object\n",
      "age                   659 non-null int64\n",
      "city                  659 non-null object\n",
      "reg_date              659 non-null datetime64[ns]\n",
      "plan                  659 non-null object\n",
      "churn_date            51 non-null datetime64[ns]\n",
      "gb_used               659 non-null float64\n",
      "profit                659 non-null float64\n",
      "dtypes: datetime64[ns](2), float64(7), int64(3), object(4)\n",
      "memory usage: 82.5+ KB\n"
     ]
    },
    {
     "data": {
      "text/plain": [
       "None"
      ]
     },
     "metadata": {},
     "output_type": "display_data"
    },
    {
     "name": "stdout",
     "output_type": "stream",
     "text": [
      "<class 'pandas.core.frame.DataFrame'>\n",
      "RangeIndex: 1478 entries, 0 to 1477\n",
      "Data columns (total 16 columns):\n",
      "index                 1478 non-null int64\n",
      "user_id               1478 non-null int64\n",
      "month                 1478 non-null float64\n",
      "duration              1478 non-null float64\n",
      "mb_used               1478 non-null float64\n",
      "number_of_messages    1478 non-null float64\n",
      "number_of_calls       1478 non-null float64\n",
      "first_name            1478 non-null object\n",
      "last_name             1478 non-null object\n",
      "age                   1478 non-null int64\n",
      "city                  1478 non-null object\n",
      "reg_date              1478 non-null datetime64[ns]\n",
      "plan                  1478 non-null object\n",
      "churn_date            104 non-null datetime64[ns]\n",
      "gb_used               1478 non-null float64\n",
      "profit                1478 non-null float64\n",
      "dtypes: datetime64[ns](2), float64(7), int64(3), object(4)\n",
      "memory usage: 184.9+ KB\n"
     ]
    },
    {
     "data": {
      "text/plain": [
       "None"
      ]
     },
     "metadata": {},
     "output_type": "display_data"
    }
   ],
   "source": [
    "display(dataUlt.info())\n",
    "display(dataSurf.info())"
   ]
  },
  {
   "cell_type": "code",
   "execution_count": 62,
   "metadata": {},
   "outputs": [
    {
     "name": "stdout",
     "output_type": "stream",
     "text": [
      "p-value: 8.535046795683882e-34\n"
     ]
    }
   ],
   "source": [
    "surfArr = dataSurf['profit'].sample(n=659, random_state=1)\n",
    "ultArr = dataUlt['profit'].sample(n=659, random_state=1)\n",
    "alpha = .05\n",
    "results = st.ttest_ind(\n",
    "        surfArr, \n",
    "        ultArr,\n",
    "equal_var = False)\n",
    "print('p-value:', results.pvalue)"
   ]
  },
  {
   "cell_type": "markdown",
   "metadata": {},
   "source": [
    "Conclusion:\n",
    "As we can see,the p-value is much, much lower than alpha so we have to reject the zero hypothesis. We have seen it also when using describe()method, the means were very different there too. That means the average profit definitely differs between the two plans."
   ]
  },
  {
   "cell_type": "code",
   "execution_count": 63,
   "metadata": {},
   "outputs": [
    {
     "data": {
      "text/plain": [
       "New York-Newark-Jersey City, NY-NJ-PA MSA          364\n",
       "Los Angeles-Long Beach-Anaheim, CA MSA             131\n",
       "Chicago-Naperville-Elgin, IL-IN-WI MSA              90\n",
       "Dallas-Fort Worth-Arlington, TX MSA                 84\n",
       "Philadelphia-Camden-Wilmington, PA-NJ-DE-MD MSA     71\n",
       "                                                  ... \n",
       "Omaha-Council Bluffs, NE-IA MSA                      3\n",
       "El Paso, TX MSA                                      2\n",
       "Raleigh-Cary, NC MSA                                 2\n",
       "Jacksonville, FL MSA                                 1\n",
       "Cape Coral-Fort Myers, FL MSA                        1\n",
       "Name: city, Length: 73, dtype: int64"
      ]
     },
     "execution_count": 63,
     "metadata": {},
     "output_type": "execute_result"
    }
   ],
   "source": [
    "df_merged2['city'].value_counts()"
   ]
  },
  {
   "cell_type": "code",
   "execution_count": 64,
   "metadata": {},
   "outputs": [],
   "source": [
    "dataNY = df_merged2[df_merged2.city.str.contains('NY-NJ')]"
   ]
  },
  {
   "cell_type": "code",
   "execution_count": 65,
   "metadata": {},
   "outputs": [],
   "source": [
    "dataElse = df_merged2.query('city != \"New York-Newark-Jersey City, NY-NJ-PA MSA\"').reset_index()"
   ]
  },
  {
   "cell_type": "markdown",
   "metadata": {},
   "source": [
    "I separate the data by the city."
   ]
  },
  {
   "cell_type": "code",
   "execution_count": 66,
   "metadata": {},
   "outputs": [
    {
     "name": "stdout",
     "output_type": "stream",
     "text": [
      "<class 'pandas.core.frame.DataFrame'>\n",
      "Int64Index: 364 entries, 53 to 2136\n",
      "Data columns (total 15 columns):\n",
      "user_id               364 non-null int64\n",
      "month                 364 non-null float64\n",
      "duration              364 non-null float64\n",
      "mb_used               364 non-null float64\n",
      "number_of_messages    364 non-null float64\n",
      "number_of_calls       364 non-null float64\n",
      "first_name            364 non-null object\n",
      "last_name             364 non-null object\n",
      "age                   364 non-null int64\n",
      "city                  364 non-null object\n",
      "reg_date              364 non-null datetime64[ns]\n",
      "plan                  364 non-null object\n",
      "churn_date            33 non-null datetime64[ns]\n",
      "gb_used               364 non-null float64\n",
      "profit                364 non-null float64\n",
      "dtypes: datetime64[ns](2), float64(7), int64(2), object(4)\n",
      "memory usage: 45.5+ KB\n"
     ]
    }
   ],
   "source": [
    "dataNY.info()"
   ]
  },
  {
   "cell_type": "code",
   "execution_count": 67,
   "metadata": {},
   "outputs": [
    {
     "data": {
      "text/plain": [
       "Los Angeles-Long Beach-Anaheim, CA MSA             131\n",
       "Chicago-Naperville-Elgin, IL-IN-WI MSA              90\n",
       "Dallas-Fort Worth-Arlington, TX MSA                 84\n",
       "Philadelphia-Camden-Wilmington, PA-NJ-DE-MD MSA     71\n",
       "Boston-Cambridge-Newton, MA-NH MSA                  69\n",
       "                                                  ... \n",
       "Omaha-Council Bluffs, NE-IA MSA                      3\n",
       "El Paso, TX MSA                                      2\n",
       "Raleigh-Cary, NC MSA                                 2\n",
       "Jacksonville, FL MSA                                 1\n",
       "Cape Coral-Fort Myers, FL MSA                        1\n",
       "Name: city, Length: 72, dtype: int64"
      ]
     },
     "execution_count": 67,
     "metadata": {},
     "output_type": "execute_result"
    }
   ],
   "source": [
    "dataElse['city'].value_counts()"
   ]
  },
  {
   "cell_type": "markdown",
   "metadata": {},
   "source": [
    "I decided to check if the means of 'profit' column for NY and other areas are different, since we are testing if the average profit differs for NY and other areas.I chose 377 as it is the number of clients in the NY. The zero hypothesis(H0) is that the means are the same.\n",
    "H0 is that the means of the profit columns of dataNY and dataElse are equal. Alternative hypothesis H1 is that the the means are not equal. "
   ]
  },
  {
   "cell_type": "code",
   "execution_count": 68,
   "metadata": {
    "scrolled": true
   },
   "outputs": [
    {
     "name": "stdout",
     "output_type": "stream",
     "text": [
      "<class 'pandas.core.frame.DataFrame'>\n",
      "RangeIndex: 1773 entries, 0 to 1772\n",
      "Data columns (total 16 columns):\n",
      "index                 1773 non-null int64\n",
      "user_id               1773 non-null int64\n",
      "month                 1773 non-null float64\n",
      "duration              1773 non-null float64\n",
      "mb_used               1773 non-null float64\n",
      "number_of_messages    1773 non-null float64\n",
      "number_of_calls       1773 non-null float64\n",
      "first_name            1773 non-null object\n",
      "last_name             1773 non-null object\n",
      "age                   1773 non-null int64\n",
      "city                  1773 non-null object\n",
      "reg_date              1773 non-null datetime64[ns]\n",
      "plan                  1773 non-null object\n",
      "churn_date            122 non-null datetime64[ns]\n",
      "gb_used               1773 non-null float64\n",
      "profit                1773 non-null float64\n",
      "dtypes: datetime64[ns](2), float64(7), int64(3), object(4)\n",
      "memory usage: 221.8+ KB\n"
     ]
    }
   ],
   "source": [
    "dataElse.info()"
   ]
  },
  {
   "cell_type": "code",
   "execution_count": 69,
   "metadata": {},
   "outputs": [
    {
     "name": "stdout",
     "output_type": "stream",
     "text": [
      "p-value: 0.09976632324409263\n"
     ]
    }
   ],
   "source": [
    "NYArr = dataNY['profit'].sample(n=364, random_state=1)\n",
    "ELSEArr = dataElse['profit'].sample(n=364, random_state=1)\n",
    "alpha = .05\n",
    "results = st.ttest_ind(\n",
    "        NYArr, \n",
    "        ELSEArr,\n",
    "equal_var = False)\n",
    "print('p-value:', results.pvalue)"
   ]
  },
  {
   "cell_type": "markdown",
   "metadata": {},
   "source": [
    "Conclusion:\n",
    "We can see that the p-value is higher than alpha value, so we can't reject the zero hypothesis. That means, we can't be sure that the means of two profit columns are different.  "
   ]
  },
  {
   "cell_type": "markdown",
   "metadata": {},
   "source": [
    "General conclusion:\n",
    "We can infer from the analysis above several things. First of all, in both plans the most popular service is mobile internet. There are still clients who don't use it for both plans, in the surf plan more. However, it is still the most used service. The least popular service, by a large margin, is messages. Thus, it would be beneficial to the company to advertise heavily the low prices for messages, since the clients tend to not use it that much. \n",
    "Another obvious trend, noticeable from the start, is that the clients tend to use the services more closer to the end of the year, especially in the last month. \n",
    "We can see also after testing the both hypothesis that we can't be sure profit in NY NJ is higher or lower than in other areas. However, we can confidently say that there's difference in profit between two plans. I would make an assumption from the information I got from looking at the mean, std, variance of the relevant columns and at the profit column that the more profitable plan is \"Ultimate\"."
   ]
  }
 ],
 "metadata": {
  "kernelspec": {
   "display_name": "Python 3",
   "language": "python",
   "name": "python3"
  },
  "language_info": {
   "codemirror_mode": {
    "name": "ipython",
    "version": 3
   },
   "file_extension": ".py",
   "mimetype": "text/x-python",
   "name": "python",
   "nbconvert_exporter": "python",
   "pygments_lexer": "ipython3",
   "version": "3.7.8"
  },
  "toc": {
   "base_numbering": 1,
   "nav_menu": {},
   "number_sections": true,
   "sideBar": true,
   "skip_h1_title": true,
   "title_cell": "Table of Contents",
   "title_sidebar": "Contents",
   "toc_cell": false,
   "toc_position": {},
   "toc_section_display": true,
   "toc_window_display": false
  }
 },
 "nbformat": 4,
 "nbformat_minor": 2
}
