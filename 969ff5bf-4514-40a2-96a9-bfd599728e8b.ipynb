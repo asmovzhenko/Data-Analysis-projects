{
 "cells": [
  {
   "cell_type": "markdown",
   "metadata": {
    "colab_type": "text",
    "deletable": false,
    "id": "QWh8pkqyAO_p",
    "tags": [
     "55236c03-64a5-4f38-92fc-dc6c523363e7"
    ]
   },
   "source": [
    "## Task 1. What are projects in Jupyter?"
   ]
  },
  {
   "cell_type": "markdown",
   "metadata": {
    "colab_type": "text",
    "deletable": false,
    "id": "TFzUs-AVhI_F"
   },
   "source": [
    "Projects in Jupyter are designed as ***Jupyter Notebook* notebooks**. A notebook is a mix of text and Python code. You are reading an example of a notebook now.\n",
    "\n",
    "It’s time to execute the code. Go to the cell under this sentence and press **Shift+Enter**, or click the **( ▶| Run )** button above."
   ]
  },
  {
   "cell_type": "code",
   "execution_count": 3,
   "metadata": {
    "colab": {
     "base_uri": "https://localhost:8080/",
     "height": 51
    },
    "colab_type": "code",
    "deletable": false,
    "id": "b1s4BP1jAZ09",
    "outputId": "3750177d-1736-4a19-eedc-fc1d572af2b1"
   },
   "outputs": [
    {
     "name": "stdout",
     "output_type": "stream",
     "text": [
      "I’m a data analyst! 😎\n",
      "I can add numbers, a + b = 5\n"
     ]
    }
   ],
   "source": [
    "print(\"I’m a data analyst! 😎\")\n",
    "a = 2\n",
    "b = 3\n",
    "sum = a + b\n",
    "print(\"I can add numbers, a + b =\", sum)"
   ]
  },
  {
   "cell_type": "markdown",
   "metadata": {
    "colab_type": "text",
    "deletable": false,
    "id": "uSZfGOVWnTOb"
   },
   "source": [
    "Cells can contain any Python code. It’s almost like the interactive platform you’re already familiar with."
   ]
  },
  {
   "cell_type": "markdown",
   "metadata": {
    "colab_type": "text",
    "deletable": false,
    "id": "UzudmkNHioX9",
    "tags": [
     "a5af25ed-ec68-4904-9263-e3369dfdb0e3"
    ]
   },
   "source": [
    "## Task 2. How to execute code in Jupyter Notebook cells\n"
   ]
  },
  {
   "cell_type": "markdown",
   "metadata": {
    "colab_type": "text",
    "deletable": false,
    "id": "gd-aDGxvoPMU"
   },
   "source": [
    "The results of executing code are displayed right below the code. You don’t have to write `print()`—the value of the last expression calculated will be displayed. Verify this by executing the following code:"
   ]
  },
  {
   "cell_type": "code",
   "execution_count": 4,
   "metadata": {
    "colab": {
     "base_uri": "https://localhost:8080/",
     "height": 34
    },
    "colab_type": "code",
    "deletable": false,
    "id": "jmynmlUykb7B",
    "outputId": "7067f884-bd29-493b-8751-a1ff0ad72a5d"
   },
   "outputs": [
    {
     "data": {
      "text/plain": [
       "13"
      ]
     },
     "execution_count": 4,
     "metadata": {},
     "output_type": "execute_result"
    }
   ],
   "source": [
    "def SumSquare(x, y):\n",
    "  return x*x + y*y;\n",
    "\n",
    "SumSquare(a, b)\n"
   ]
  },
  {
   "cell_type": "markdown",
   "metadata": {
    "colab_type": "text",
    "deletable": false,
    "id": "YeakwhJJsxa0"
   },
   "source": [
    "It came out to 13. That’s because the values of the variables a and b were saved after executing the code in the previous cells.\n",
    "\n",
    "The code in each cell is part of the overall program. Since you control the execution of the cells manually, you can execute them in any order. You can even edit the order or restart the list. When you do this, you are influencing the values of the variables that are saved from cell to cell.\n",
    "\n",
    "We recommend executing the code in order so we get the predicted results. If you click **( Cell / Run All )** in the menu, all cells will be executed in order from first to current.\n",
    "\n",
    "You can get rid of the values of the variables saved after executing the code. To do this, click **( Kernel / Restart )** in the menu or click **( ⟳ Restart )** in the top panel.\n",
    "\n",
    "**Exercise.** Fill in the blanks in the cells so that when the code is executed the value of the variable `c` is `8`. Check your solution by executing the code in the cell."
   ]
  },
  {
   "cell_type": "code",
   "execution_count": 6,
   "metadata": {
    "colab": {
     "base_uri": "https://localhost:8080/",
     "height": 34
    },
    "colab_type": "code",
    "deletable": false,
    "id": "A6d4NvHn2c3f",
    "outputId": "47388131-09ff-48ab-cfcd-51b5e3ded4ce"
   },
   "outputs": [
    {
     "data": {
      "text/plain": [
       "8"
      ]
     },
     "execution_count": 6,
     "metadata": {},
     "output_type": "execute_result"
    }
   ],
   "source": [
    "z = 2 # fill in the blank here\n",
    "c = SumSquare(z, a)\n",
    "c"
   ]
  },
  {
   "cell_type": "markdown",
   "metadata": {
    "colab_type": "text",
    "deletable": false,
    "id": "T4NnlzPSSEzD",
    "tags": [
     "18cad61c-fdcf-404a-92e0-63ef7814ea3d"
    ]
   },
   "source": [
    "##  Task 3. Nicely formatted text in notebooks"
   ]
  },
  {
   "cell_type": "markdown",
   "metadata": {
    "colab_type": "text",
    "deletable": false,
    "id": "X4I2mgFnpDgb"
   },
   "source": [
    "Jupyter lets you format text. As an example, the table from the beginning of the course will look like this:\n",
    "\n",
    "| Language                     | Share of websites in the top 10 mil. | Native speakers, mil. | Speakers, mil. |\n",
    "|--------------------------|-----------------|--------------------|-------------|\n",
    "| English               | 53.90%          | 378.2              | 1121        |\n",
    "| Russian                  | 6.10%           | 153.9              | 264.3       |\n",
    "| German                 | 6.00%           | 76                 | 132         |\n",
    "| Spanish                | 4.90%           | 442.3              | 512.9       |\n",
    "| French              | 4.00%           | 76.7               | 284.9       |\n",
    "| Japanese                 | 3.40%           | 128.2              | 128.3       |\n",
    "| Portuguese            | 2.90%           | 222.7              | 236.5       |\n",
    "| Italian              | 2.40%           | 64.8               | 67.8        |\n",
    "| Persian               | 2.00%           | 60                 | 110         |\n",
    "| Polish                 | 1.80%           | 39.6               | 40.3        |\n",
    "| Chinese | 1.70%           | 908.7              | 1.107       |\n",
    "| Danish                  | 1.20%           | 22                 | 28          |\n",
    "| Turkish                 | 1.20%           | 78.5               | 78.9        |\n",
    "| Czech                  | 1.00%           | 10.4               | 10.6        |\n",
    "\n",
    "Here’s how the tables from the *.csv* files uploaded to the pandas library look in Jupyter Notebook:"
   ]
  },
  {
   "cell_type": "code",
   "execution_count": 7,
   "metadata": {
    "colab": {
     "base_uri": "https://localhost:8080/",
     "height": 390
    },
    "colab_type": "code",
    "deletable": false,
    "id": "l06wg-rdZalt",
    "outputId": "4fa04f50-d392-4964-b46b-aee749b4acc8"
   },
   "outputs": [
    {
     "data": {
      "text/html": [
       "<div>\n",
       "<style scoped>\n",
       "    .dataframe tbody tr th:only-of-type {\n",
       "        vertical-align: middle;\n",
       "    }\n",
       "\n",
       "    .dataframe tbody tr th {\n",
       "        vertical-align: top;\n",
       "    }\n",
       "\n",
       "    .dataframe thead th {\n",
       "        text-align: right;\n",
       "    }\n",
       "</style>\n",
       "<table border=\"1\" class=\"dataframe\">\n",
       "  <thead>\n",
       "    <tr style=\"text-align: right;\">\n",
       "      <th></th>\n",
       "      <th>Модель</th>\n",
       "      <th>Категория</th>\n",
       "      <th>Количество</th>\n",
       "      <th>Стоимость за минуту</th>\n",
       "    </tr>\n",
       "  </thead>\n",
       "  <tbody>\n",
       "    <tr>\n",
       "      <td>0</td>\n",
       "      <td>Renault Kaptur</td>\n",
       "      <td>эконом</td>\n",
       "      <td>200</td>\n",
       "      <td>5.0</td>\n",
       "    </tr>\n",
       "    <tr>\n",
       "      <td>1</td>\n",
       "      <td>Kia Rio</td>\n",
       "      <td>эконом</td>\n",
       "      <td>300</td>\n",
       "      <td>5.0</td>\n",
       "    </tr>\n",
       "    <tr>\n",
       "      <td>2</td>\n",
       "      <td>Skoda Rapid</td>\n",
       "      <td>эконом</td>\n",
       "      <td>150</td>\n",
       "      <td>5.0</td>\n",
       "    </tr>\n",
       "    <tr>\n",
       "      <td>3</td>\n",
       "      <td>VW Polo</td>\n",
       "      <td>эконом</td>\n",
       "      <td>100</td>\n",
       "      <td>5.0</td>\n",
       "    </tr>\n",
       "    <tr>\n",
       "      <td>4</td>\n",
       "      <td>Audi Q3</td>\n",
       "      <td>комфорт</td>\n",
       "      <td>30</td>\n",
       "      <td>7.1</td>\n",
       "    </tr>\n",
       "    <tr>\n",
       "      <td>5</td>\n",
       "      <td>Audi A3</td>\n",
       "      <td>комфорт</td>\n",
       "      <td>15</td>\n",
       "      <td>7.1</td>\n",
       "    </tr>\n",
       "    <tr>\n",
       "      <td>6</td>\n",
       "      <td>Genesis G70</td>\n",
       "      <td>комфорт</td>\n",
       "      <td>50</td>\n",
       "      <td>8.5</td>\n",
       "    </tr>\n",
       "    <tr>\n",
       "      <td>7</td>\n",
       "      <td>Mercedes E200</td>\n",
       "      <td>бизнес</td>\n",
       "      <td>90</td>\n",
       "      <td>12.9</td>\n",
       "    </tr>\n",
       "    <tr>\n",
       "      <td>8</td>\n",
       "      <td>BMW 520i</td>\n",
       "      <td>бизнес</td>\n",
       "      <td>60</td>\n",
       "      <td>12.9</td>\n",
       "    </tr>\n",
       "    <tr>\n",
       "      <td>9</td>\n",
       "      <td>Porsche Macan</td>\n",
       "      <td>огонь</td>\n",
       "      <td>5</td>\n",
       "      <td>35.0</td>\n",
       "    </tr>\n",
       "    <tr>\n",
       "      <td>10</td>\n",
       "      <td>Porsche Carrera</td>\n",
       "      <td>огонь</td>\n",
       "      <td>2</td>\n",
       "      <td>60.0</td>\n",
       "    </tr>\n",
       "  </tbody>\n",
       "</table>\n",
       "</div>"
      ],
      "text/plain": [
       "             Модель Категория  Количество  Стоимость за минуту\n",
       "0    Renault Kaptur    эконом         200                  5.0\n",
       "1           Kia Rio    эконом         300                  5.0\n",
       "2       Skoda Rapid    эконом         150                  5.0\n",
       "3           VW Polo    эконом         100                  5.0\n",
       "4           Audi Q3   комфорт          30                  7.1\n",
       "5           Audi A3   комфорт          15                  7.1\n",
       "6       Genesis G70   комфорт          50                  8.5\n",
       "7     Mercedes E200    бизнес          90                 12.9\n",
       "8          BMW 520i    бизнес          60                 12.9\n",
       "9     Porsche Macan     огонь           5                 35.0\n",
       "10  Porsche Carrera     огонь           2                 60.0"
      ]
     },
     "execution_count": 7,
     "metadata": {},
     "output_type": "execute_result"
    }
   ],
   "source": [
    "import pandas as pd\n",
    "df = pd.read_csv('/datasets/drive-data.csv')\n",
    "df"
   ]
  },
  {
   "cell_type": "markdown",
   "metadata": {
    "colab_type": "text",
    "deletable": false,
    "id": "TNCZkFTymIsU"
   },
   "source": [
    "We purposely didn’t call the `print(df)` function here. The table looks nicer without calling this function.\n",
    "\n",
    "Jupyter Notebook can also show very large tables. Let’s see how it looks:"
   ]
  },
  {
   "cell_type": "code",
   "execution_count": 8,
   "metadata": {
    "colab": {},
    "colab_type": "code",
    "deletable": false,
    "id": "7A31h5LvtktL"
   },
   "outputs": [
    {
     "data": {
      "text/html": [
       "<div>\n",
       "<style scoped>\n",
       "    .dataframe tbody tr th:only-of-type {\n",
       "        vertical-align: middle;\n",
       "    }\n",
       "\n",
       "    .dataframe tbody tr th {\n",
       "        vertical-align: top;\n",
       "    }\n",
       "\n",
       "    .dataframe thead th {\n",
       "        text-align: right;\n",
       "    }\n",
       "</style>\n",
       "<table border=\"1\" class=\"dataframe\">\n",
       "  <thead>\n",
       "    <tr style=\"text-align: right;\">\n",
       "      <th></th>\n",
       "      <th>ID</th>\n",
       "      <th>total play</th>\n",
       "      <th>artist</th>\n",
       "      <th>genre</th>\n",
       "      <th>track</th>\n",
       "    </tr>\n",
       "  </thead>\n",
       "  <tbody>\n",
       "    <tr>\n",
       "      <td>0</td>\n",
       "      <td>BF6EA5AF</td>\n",
       "      <td>92.851388</td>\n",
       "      <td>Marina Rei</td>\n",
       "      <td>pop</td>\n",
       "      <td>Musica</td>\n",
       "    </tr>\n",
       "    <tr>\n",
       "      <td>1</td>\n",
       "      <td>FB1E568E</td>\n",
       "      <td>282.981000</td>\n",
       "      <td>Stive Morgan</td>\n",
       "      <td>ambient</td>\n",
       "      <td>Love Planet</td>\n",
       "    </tr>\n",
       "    <tr>\n",
       "      <td>2</td>\n",
       "      <td>FB1E568E</td>\n",
       "      <td>282.981000</td>\n",
       "      <td>Stive Morgan</td>\n",
       "      <td>ambient</td>\n",
       "      <td>Love Planet</td>\n",
       "    </tr>\n",
       "    <tr>\n",
       "      <td>3</td>\n",
       "      <td>EF15C7BA</td>\n",
       "      <td>8.966000</td>\n",
       "      <td>NaN</td>\n",
       "      <td>dance</td>\n",
       "      <td>Loving Every Minute</td>\n",
       "    </tr>\n",
       "    <tr>\n",
       "      <td>4</td>\n",
       "      <td>82F52E69</td>\n",
       "      <td>193.776327</td>\n",
       "      <td>Rixton</td>\n",
       "      <td>pop</td>\n",
       "      <td>Me And My Broken Heart</td>\n",
       "    </tr>\n",
       "    <tr>\n",
       "      <td>...</td>\n",
       "      <td>...</td>\n",
       "      <td>...</td>\n",
       "      <td>...</td>\n",
       "      <td>...</td>\n",
       "      <td>...</td>\n",
       "    </tr>\n",
       "    <tr>\n",
       "      <td>994</td>\n",
       "      <td>5C9F8629</td>\n",
       "      <td>63.000000</td>\n",
       "      <td>NaN</td>\n",
       "      <td>electronic</td>\n",
       "      <td>Feeling Liberty</td>\n",
       "    </tr>\n",
       "    <tr>\n",
       "      <td>995</td>\n",
       "      <td>DDF57113</td>\n",
       "      <td>255.582041</td>\n",
       "      <td>X-Tralounge</td>\n",
       "      <td>electronic</td>\n",
       "      <td>Lizard</td>\n",
       "    </tr>\n",
       "    <tr>\n",
       "      <td>996</td>\n",
       "      <td>A3308EC5</td>\n",
       "      <td>146.442188</td>\n",
       "      <td>Andy Hunt</td>\n",
       "      <td>hard</td>\n",
       "      <td>Reconciliation</td>\n",
       "    </tr>\n",
       "    <tr>\n",
       "      <td>997</td>\n",
       "      <td>F80EF638</td>\n",
       "      <td>438.883265</td>\n",
       "      <td>NaN</td>\n",
       "      <td>psy</td>\n",
       "      <td>Inside the Mind</td>\n",
       "    </tr>\n",
       "    <tr>\n",
       "      <td>998</td>\n",
       "      <td>97D3BB0F</td>\n",
       "      <td>0.100000</td>\n",
       "      <td>Duceman</td>\n",
       "      <td>hiphop</td>\n",
       "      <td>Under Pressure</td>\n",
       "    </tr>\n",
       "  </tbody>\n",
       "</table>\n",
       "<p>999 rows × 5 columns</p>\n",
       "</div>"
      ],
      "text/plain": [
       "           ID  total play        artist       genre                   track\n",
       "0    BF6EA5AF   92.851388    Marina Rei         pop                  Musica\n",
       "1    FB1E568E  282.981000  Stive Morgan     ambient             Love Planet\n",
       "2    FB1E568E  282.981000  Stive Morgan     ambient             Love Planet\n",
       "3    EF15C7BA    8.966000           NaN       dance     Loving Every Minute\n",
       "4    82F52E69  193.776327        Rixton         pop  Me And My Broken Heart\n",
       "..        ...         ...           ...         ...                     ...\n",
       "994  5C9F8629   63.000000           NaN  electronic         Feeling Liberty\n",
       "995  DDF57113  255.582041   X-Tralounge  electronic                  Lizard\n",
       "996  A3308EC5  146.442188     Andy Hunt        hard          Reconciliation\n",
       "997  F80EF638  438.883265           NaN         psy         Inside the Mind\n",
       "998  97D3BB0F    0.100000       Duceman      hiphop          Under Pressure\n",
       "\n",
       "[999 rows x 5 columns]"
      ]
     },
     "execution_count": 8,
     "metadata": {},
     "output_type": "execute_result"
    }
   ],
   "source": [
    "big_df = pd.read_csv('/datasets/music-data-2.csv')\n",
    "big_df"
   ]
  },
  {
   "cell_type": "markdown",
   "metadata": {
    "colab_type": "text",
    "deletable": false,
    "id": "l8o-ofLp2-St"
   },
   "source": [
    "Jupyter Notebook uses markdown to format text [Markdown](https://en.wikipedia.org/wiki/Markdown). For example, you can list the column names like this:\n",
    "- `Model`\n",
    "- `Category`\n",
    "- `Quantity`\n",
    "- `Cost per minute`"
   ]
  },
  {
   "cell_type": "markdown",
   "metadata": {
    "colab_type": "text",
    "deletable": false,
    "id": "gosx5TBQhpdB",
    "tags": [
     "4b32cb40-262d-449a-b610-655148ec7972"
    ]
   },
   "source": [
    "## Task 4. How data analysts use Jupyter Notebook"
   ]
  },
  {
   "cell_type": "markdown",
   "metadata": {
    "colab_type": "text",
    "deletable": false,
    "id": "IYhwEdxjp4G6"
   },
   "source": [
    "Once you’ve completed a project, you can save the notebook to a *.ipynb* file. Then you can open it in Jupyter on a different computer, share it with your colleagues, or put it in your portfolio. To save a notebook, click **( File / Download as… )**.\n",
    "\n",
    "Jupyter is so popular because it makes it easy to view code and results. With Jupyter it’s also easy to demonstrate your work for your colleagues."
   ]
  }
 ],
 "metadata": {
  "kernelspec": {
   "display_name": "Python 3",
   "language": "python",
   "name": "python3"
  },
  "language_info": {
   "codemirror_mode": {
    "name": "ipython",
    "version": 3
   },
   "file_extension": ".py",
   "mimetype": "text/x-python",
   "name": "python",
   "nbconvert_exporter": "python",
   "pygments_lexer": "ipython3",
   "version": "3.7.4"
  }
 },
 "nbformat": 4,
 "nbformat_minor": 1
}
